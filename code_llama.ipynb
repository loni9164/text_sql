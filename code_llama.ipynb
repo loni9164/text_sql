{
  "cells": [
    {
      "cell_type": "markdown",
      "metadata": {
        "id": "view-in-github",
        "colab_type": "text"
      },
      "source": [
        "<a href=\"https://colab.research.google.com/github/loni9164/text_sql/blob/main/code_llama.ipynb\" target=\"_parent\"><img src=\"https://colab.research.google.com/assets/colab-badge.svg\" alt=\"Open In Colab\"/></a>"
      ]
    },
    {
      "cell_type": "code",
      "source": [
        "!git clone https://github.com/loni9164/text_sql.git"
      ],
      "metadata": {
        "id": "bGsqirfH2SX_",
        "outputId": "687cb49c-a36a-4169-ef34-2c83b511d69c",
        "colab": {
          "base_uri": "https://localhost:8080/"
        }
      },
      "id": "bGsqirfH2SX_",
      "execution_count": 4,
      "outputs": [
        {
          "output_type": "stream",
          "name": "stdout",
          "text": [
            "fatal: destination path 'text_sql' already exists and is not an empty directory.\n"
          ]
        }
      ]
    },
    {
      "cell_type": "code",
      "execution_count": 5,
      "id": "RD0eiLQSVUhq",
      "metadata": {
        "id": "RD0eiLQSVUhq"
      },
      "outputs": [],
      "source": [
        "!pip install langchain langchain-experimental\n",
        "!pip install -q ctransformers langchain"
      ]
    },
    {
      "cell_type": "code",
      "execution_count": 6,
      "id": "171Elegbh0nm",
      "metadata": {
        "id": "171Elegbh0nm"
      },
      "outputs": [],
      "source": [
        "from langchain.llms import CTransformers\n",
        "from langchain import PromptTemplate, LLMChain\n",
        "from langchain.callbacks.streaming_stdout import StreamingStdOutCallbackHandler"
      ]
    },
    {
      "cell_type": "code",
      "execution_count": null,
      "id": "f48fbb53",
      "metadata": {
        "id": "f48fbb53"
      },
      "outputs": [],
      "source": [
        "from langchain.utilities import SQLDatabase\n",
        "from langchain_experimental.sql import SQLDatabaseChain"
      ]
    },
    {
      "cell_type": "code",
      "execution_count": 10,
      "id": "23f9ae16",
      "metadata": {
        "id": "23f9ae16"
      },
      "outputs": [],
      "source": [
        "db = SQLDatabase.from_uri(\"sqlite:///text_sql/credit_card_system.db\")\n",
        "table_info = db.table_info\n",
        "# print(table_info)"
      ]
    },
    {
      "cell_type": "code",
      "execution_count": null,
      "id": "1lK2mvOF28us",
      "metadata": {
        "id": "1lK2mvOF28us"
      },
      "outputs": [],
      "source": [
        "# !pip install llama-cpp-python"
      ]
    },
    {
      "cell_type": "code",
      "execution_count": 11,
      "id": "RB5DnvE_rCjF",
      "metadata": {
        "colab": {
          "base_uri": "https://localhost:8080/"
        },
        "id": "RB5DnvE_rCjF",
        "outputId": "9cd93207-3fe9-4b15-eef4-004c1bcc32fd"
      },
      "outputs": [
        {
          "output_type": "stream",
          "name": "stdout",
          "text": [
            "Collecting llama-cpp-python\n",
            "  Downloading llama_cpp_python-0.2.23.tar.gz (8.8 MB)\n",
            "\u001b[2K     \u001b[90m━━━━━━━━━━━━━━━━━━━━━━━━━━━━━━━━━━━━━━━━\u001b[0m \u001b[32m8.8/8.8 MB\u001b[0m \u001b[31m24.5 MB/s\u001b[0m eta \u001b[36m0:00:00\u001b[0m\n",
            "\u001b[?25h  Installing build dependencies ... \u001b[?25l\u001b[?25hdone\n",
            "  Getting requirements to build wheel ... \u001b[?25l\u001b[?25hdone\n",
            "  Installing backend dependencies ... \u001b[?25l\u001b[?25hdone\n",
            "  Preparing metadata (pyproject.toml) ... \u001b[?25l\u001b[?25hdone\n",
            "Requirement already satisfied: typing-extensions>=4.5.0 in /usr/local/lib/python3.10/dist-packages (from llama-cpp-python) (4.5.0)\n",
            "Requirement already satisfied: numpy>=1.20.0 in /usr/local/lib/python3.10/dist-packages (from llama-cpp-python) (1.23.5)\n",
            "Requirement already satisfied: diskcache>=5.6.1 in /usr/local/lib/python3.10/dist-packages (from llama-cpp-python) (5.6.3)\n",
            "Building wheels for collected packages: llama-cpp-python\n",
            "  Building wheel for llama-cpp-python (pyproject.toml) ... \u001b[?25l\u001b[?25hdone\n",
            "  Created wheel for llama-cpp-python: filename=llama_cpp_python-0.2.23-cp310-cp310-manylinux_2_35_x86_64.whl size=2070214 sha256=3db86f886d391bbc438a24b1a40de3278e63b0b1b3a519ae4f529c987ff3c116\n",
            "  Stored in directory: /root/.cache/pip/wheels/8b/7c/23/5851b51f3b9088d6f7a5ba6d27b3494aa4940bf291b43ee04d\n",
            "Successfully built llama-cpp-python\n",
            "Installing collected packages: llama-cpp-python\n",
            "Successfully installed llama-cpp-python-0.2.23\n"
          ]
        }
      ],
      "source": [
        "!CMAKE_ARGS=\"-DLLAMA_BLAS=ON -DLLAMA_BLAS_VENDOR=OpenBLAS\" pip install llama-cpp-python"
      ]
    },
    {
      "cell_type": "code",
      "execution_count": null,
      "id": "WBTBAxLe28rT",
      "metadata": {
        "id": "WBTBAxLe28rT"
      },
      "outputs": [],
      "source": [
        "from langchain.callbacks.manager import CallbackManager\n",
        "from langchain.callbacks.streaming_stdout import StreamingStdOutCallbackHandler\n",
        "from langchain.chains import LLMChain\n",
        "from langchain.llms import LlamaCpp\n",
        "from langchain.prompts import PromptTemplate"
      ]
    },
    {
      "cell_type": "code",
      "execution_count": null,
      "id": "WXZtIV9n4Gqk",
      "metadata": {
        "colab": {
          "base_uri": "https://localhost:8080/"
        },
        "id": "WXZtIV9n4Gqk",
        "outputId": "f8fc3700-b20d-4112-ab60-b2131fca80f8"
      },
      "outputs": [
        {
          "name": "stdout",
          "output_type": "stream",
          "text": [
            "--2023-12-08 04:27:55--  https://huggingface.co/TheBloke/CodeLlama-7B-Instruct-GGUF/resolve/main/codellama-7b-instruct.Q4_K_M.gguf\n",
            "Resolving huggingface.co (huggingface.co)... 54.230.18.84, 54.230.18.95, 54.230.18.110, ...\n",
            "Connecting to huggingface.co (huggingface.co)|54.230.18.84|:443... connected.\n",
            "HTTP request sent, awaiting response... 302 Found\n",
            "Location: https://cdn-lfs.huggingface.co/repos/b7/f6/b7f68e1c7abee7ca052604f565465a073f450bb16d60428836f9cca7677ddeb1/0701500c591c2c1b910516658e58044cdfa07b2e8b5a2e3b6808d983441daf1a?response-content-disposition=attachment%3B+filename*%3DUTF-8%27%27codellama-7b-instruct.Q4_K_M.gguf%3B+filename%3D%22codellama-7b-instruct.Q4_K_M.gguf%22%3B&Expires=1702263474&Policy=eyJTdGF0ZW1lbnQiOlt7IkNvbmRpdGlvbiI6eyJEYXRlTGVzc1RoYW4iOnsiQVdTOkVwb2NoVGltZSI6MTcwMjI2MzQ3NH19LCJSZXNvdXJjZSI6Imh0dHBzOi8vY2RuLWxmcy5odWdnaW5nZmFjZS5jby9yZXBvcy9iNy9mNi9iN2Y2OGUxYzdhYmVlN2NhMDUyNjA0ZjU2NTQ2NWEwNzNmNDUwYmIxNmQ2MDQyODgzNmY5Y2NhNzY3N2RkZWIxLzA3MDE1MDBjNTkxYzJjMWI5MTA1MTY2NThlNTgwNDRjZGZhMDdiMmU4YjVhMmUzYjY4MDhkOTgzNDQxZGFmMWE%7EcmVzcG9uc2UtY29udGVudC1kaXNwb3NpdGlvbj0qIn1dfQ__&Signature=b62vt7aqDDWiKO7cL1SKS2zmWNj7q9hmjh8%7EZ13esKpaRwqGQTUQ3EjKk8l5p1l7cNcpQ0PcHvTfiWnFXgoAYPPBqjEWZ02fgFnYtldXmynUACSS7D9Izyn-2-MZOShneGdeQHSRrSoSEZs6Fm-yQMwD0uEWHr6JX-h9LMrBFtqqnasdvYGDZ2LQU48cEkbDEqrryaDDrHHc-OW3dAtmSsmUia-Tlavvq2d4h8HTwvz7iWbtC%7EIwD1IwyRBEJ64nydK%7E7CmwP9Qr0jFA4fqhl0nVwuqxO-MmrlxmYFkUsXHb5mkiWDVxjm%7EivhTohOCP2xxMzb5fC956vIXsvoXntw__&Key-Pair-Id=KVTP0A1DKRTAX [following]\n",
            "--2023-12-08 04:27:55--  https://cdn-lfs.huggingface.co/repos/b7/f6/b7f68e1c7abee7ca052604f565465a073f450bb16d60428836f9cca7677ddeb1/0701500c591c2c1b910516658e58044cdfa07b2e8b5a2e3b6808d983441daf1a?response-content-disposition=attachment%3B+filename*%3DUTF-8%27%27codellama-7b-instruct.Q4_K_M.gguf%3B+filename%3D%22codellama-7b-instruct.Q4_K_M.gguf%22%3B&Expires=1702263474&Policy=eyJTdGF0ZW1lbnQiOlt7IkNvbmRpdGlvbiI6eyJEYXRlTGVzc1RoYW4iOnsiQVdTOkVwb2NoVGltZSI6MTcwMjI2MzQ3NH19LCJSZXNvdXJjZSI6Imh0dHBzOi8vY2RuLWxmcy5odWdnaW5nZmFjZS5jby9yZXBvcy9iNy9mNi9iN2Y2OGUxYzdhYmVlN2NhMDUyNjA0ZjU2NTQ2NWEwNzNmNDUwYmIxNmQ2MDQyODgzNmY5Y2NhNzY3N2RkZWIxLzA3MDE1MDBjNTkxYzJjMWI5MTA1MTY2NThlNTgwNDRjZGZhMDdiMmU4YjVhMmUzYjY4MDhkOTgzNDQxZGFmMWE%7EcmVzcG9uc2UtY29udGVudC1kaXNwb3NpdGlvbj0qIn1dfQ__&Signature=b62vt7aqDDWiKO7cL1SKS2zmWNj7q9hmjh8%7EZ13esKpaRwqGQTUQ3EjKk8l5p1l7cNcpQ0PcHvTfiWnFXgoAYPPBqjEWZ02fgFnYtldXmynUACSS7D9Izyn-2-MZOShneGdeQHSRrSoSEZs6Fm-yQMwD0uEWHr6JX-h9LMrBFtqqnasdvYGDZ2LQU48cEkbDEqrryaDDrHHc-OW3dAtmSsmUia-Tlavvq2d4h8HTwvz7iWbtC%7EIwD1IwyRBEJ64nydK%7E7CmwP9Qr0jFA4fqhl0nVwuqxO-MmrlxmYFkUsXHb5mkiWDVxjm%7EivhTohOCP2xxMzb5fC956vIXsvoXntw__&Key-Pair-Id=KVTP0A1DKRTAX\n",
            "Resolving cdn-lfs.huggingface.co (cdn-lfs.huggingface.co)... 18.164.116.111, 18.164.116.15, 18.164.116.66, ...\n",
            "Connecting to cdn-lfs.huggingface.co (cdn-lfs.huggingface.co)|18.164.116.111|:443... connected.\n",
            "HTTP request sent, awaiting response... 200 OK\n",
            "Length: 4081095360 (3.8G) [binary/octet-stream]\n",
            "Saving to: ‘codellama-7b-instruct.Q4_K_M.gguf’\n",
            "\n",
            "codellama-7b-instru 100%[===================>]   3.80G  39.8MB/s    in 99s     \n",
            "\n",
            "2023-12-08 04:29:35 (39.3 MB/s) - ‘codellama-7b-instruct.Q4_K_M.gguf’ saved [4081095360/4081095360]\n",
            "\n"
          ]
        }
      ],
      "source": [
        "# !wget https://huggingface.co/TheBloke/CodeLlama-7B-Instruct-GGUF/resolve/main/codellama-7b-instruct.Q4_K_M.gguf"
      ]
    },
    {
      "cell_type": "code",
      "execution_count": null,
      "id": "s-ctNTRM28i6",
      "metadata": {
        "colab": {
          "base_uri": "https://localhost:8080/"
        },
        "id": "s-ctNTRM28i6",
        "outputId": "229d2a82-ace5-404f-93c1-7361be05d415"
      },
      "outputs": [
        {
          "name": "stderr",
          "output_type": "stream",
          "text": [
            "AVX = 1 | AVX2 = 1 | AVX512 = 0 | AVX512_VBMI = 0 | AVX512_VNNI = 0 | FMA = 1 | NEON = 0 | ARM_FMA = 0 | F16C = 1 | FP16_VA = 0 | WASM_SIMD = 0 | BLAS = 1 | SSE3 = 1 | SSSE3 = 1 | VSX = 0 | \n"
          ]
        }
      ],
      "source": [
        "# Callbacks support token-wise streaming\n",
        "callback_manager = CallbackManager([StreamingStdOutCallbackHandler()])\n",
        "n_gpu_layers = 100  # Change this value based on your model and your GPU VRAM pool.\n",
        "n_batch = 1000  # Should be between 1 and n_ctx, consider the amount of VRAM in your GPU.\n",
        "\n",
        "\n",
        "# Make sure the model path is correct for your system!\n",
        "llm = LlamaCpp(model_path=\"/content/codellama-7b-instruct.Q4_K_M.gguf\",\n",
        "              temperature=0,\n",
        "              max_tokens=2000,\n",
        "              top_p=1,\n",
        "              n_gpu_layers=n_gpu_layers,\n",
        "              n_batch=n_batch,\n",
        "              n_ctx = 3000,\n",
        "              callback_manager=callback_manager,\n",
        "              verbose=True,  # Verbose is required to pass to the callback manager\n",
        "          )"
      ]
    },
    {
      "cell_type": "code",
      "execution_count": null,
      "id": "6v7xBxEDy8K2",
      "metadata": {
        "id": "6v7xBxEDy8K2"
      },
      "outputs": [],
      "source": [
        "llm('python code to add 2 number')"
      ]
    },
    {
      "cell_type": "code",
      "execution_count": null,
      "id": "xKR-QZKtOgPP",
      "metadata": {
        "id": "xKR-QZKtOgPP"
      },
      "outputs": [],
      "source": [
        "# [INST] Generate a SQL query to answer the following prompt. Please wrap your code answer using ```:\n",
        "template = '''\n",
        "[INST] Generate a SQL query to answer the following prompt:\n",
        "{prompt}\n",
        "\n",
        "### Refer below database Schema for columns name\n",
        "CREATE TABLE branch (\n",
        "\t\"BranchId\" INTEGER,\n",
        "\t\"BranchName\" TEXT,\n",
        "\t\"BranchAddress\" TEXT,\n",
        "\t\"BranchPhone\" TEXT,\n",
        "\t\"BranchManager\" TEXT,\n",
        "\t\"BranchEmail\" TEXT,\n",
        "\t\"EstablishedDate\" DATE,\n",
        "\t\"NumberOfEmployees\" INTEGER,\n",
        "\tPRIMARY KEY (\"BranchId\")\n",
        ")\n",
        "\n",
        "\n",
        "CREATE TABLE category (\n",
        "\t\"CategoryId\" INTEGER,\n",
        "\t\"CategoryName\" TEXT,\n",
        "\tPRIMARY KEY (\"CategoryId\")\n",
        ")\n",
        "\n",
        "\n",
        "CREATE TABLE credit_card (\n",
        "\t\"CardId\" INTEGER,\n",
        "\t\"UserId\" INTEGER,\n",
        "\t\"CardNumber\" TEXT,\n",
        "\t\"CardType\" TEXT,\n",
        "\t\"ExpiryDate\" DATE,\n",
        "\t\"CVV\" INTEGER,\n",
        "\t\"IssueDate\" DATE,\n",
        "\t\"CreditLimit\" REAL,\n",
        "\t\"CurrentBalance\" REAL,\n",
        "\t\"StatementBalance\" REAL,\n",
        "\tPRIMARY KEY (\"CardId\"),\n",
        "\tFOREIGN KEY(\"UserId\") REFERENCES user (\"UserId\")\n",
        ")\n",
        "\n",
        "\n",
        "CREATE TABLE credit_card_financial (\n",
        "\t\"FinancialId\" INTEGER,\n",
        "\t\"CardId\" INTEGER,\n",
        "\t\"OverdueCharges\" REAL,\n",
        "\t\"LoanAmount\" REAL,\n",
        "\t\"EMIAmount\" REAL,\n",
        "\t\"EMIDueDate\" DATE,\n",
        "\t\"InterestRate\" REAL,\n",
        "\t\"PaymentDueDate\" DATE,\n",
        "\t\"MinimumPayment\" REAL,\n",
        "\tPRIMARY KEY (\"FinancialId\"),\n",
        "\tFOREIGN KEY(\"CardId\") REFERENCES credit_card (\"CardId\")\n",
        ")\n",
        "\n",
        "\n",
        "CREATE TABLE reward (\n",
        "\t\"RewardId\" INTEGER,\n",
        "\t\"TransactionId\" INTEGER,\n",
        "\t\"PointsEarned\" INTEGER,\n",
        "\t\"PointsRedeemed\" INTEGER,\n",
        "\t\"CurrentBalance\" INTEGER,\n",
        "\tPRIMARY KEY (\"RewardId\"),\n",
        "\tFOREIGN KEY(\"TransactionId\") REFERENCES transactions (\"TransactionId\")\n",
        ")\n",
        "\n",
        "\n",
        "CREATE TABLE transactions (\n",
        "\t\"TransactionId\" INTEGER,\n",
        "\t\"CardId\" INTEGER,\n",
        "\t\"TransactionDate\" DATE,\n",
        "\t\"Amount\" REAL,\n",
        "\t\"Merchant\" TEXT,\n",
        "\t\"CategoryId\" INTEGER,\n",
        "\t\"TransactionType\" TEXT,\n",
        "\t\"TransactionStatus\" TEXT,\n",
        "\t\"Description\" TEXT,\n",
        "\tPRIMARY KEY (\"TransactionId\"),\n",
        "\tFOREIGN KEY(\"CardId\") REFERENCES credit_card (\"CardId\"),\n",
        "\tFOREIGN KEY(\"CategoryId\") REFERENCES category (\"CategoryId\")\n",
        ")\n",
        "\n",
        "\n",
        "CREATE TABLE user (\n",
        "\t\"UserId\" INTEGER,\n",
        "\t\"UserName\" TEXT,\n",
        "\t\"UserEmail\" TEXT,\n",
        "\t\"UserAddress\" TEXT,\n",
        "\t\"UserPhone\" TEXT,\n",
        "\t\"DateOfBirth\" DATE,\n",
        "\t\"RegistrationDate\" DATE,\n",
        "\t\"Status\" TEXT,\n",
        "\t\"BranchId\" INTEGER,\n",
        "\tPRIMARY KEY (\"UserId\"),\n",
        "\tFOREIGN KEY(\"BranchId\") REFERENCES branch (\"BranchId\")\n",
        ")\n",
        "\n",
        "Return only the sql query\n",
        "[/INST]\n",
        "'''"
      ]
    },
    {
      "cell_type": "code",
      "execution_count": null,
      "id": "RuY5YLyCyxs4",
      "metadata": {
        "id": "RuY5YLyCyxs4"
      },
      "outputs": [],
      "source": [
        "prompt = PromptTemplate(template=template, input_variables=[\"prompt\"])\n",
        "llm_chain = LLMChain(prompt=prompt, llm=llm)"
      ]
    },
    {
      "cell_type": "code",
      "execution_count": null,
      "id": "ZJFohkVOKwnY",
      "metadata": {
        "colab": {
          "base_uri": "https://localhost:8080/"
        },
        "id": "ZJFohkVOKwnY",
        "outputId": "28e06724-8cab-4c29-e284-0a741a39298c"
      },
      "outputs": [
        {
          "name": "stderr",
          "output_type": "stream",
          "text": [
            "Llama.generate: prefix-match hit\n"
          ]
        },
        {
          "name": "stdout",
          "output_type": "stream",
          "text": [
            "SELECT \"ManagerName\" FROM \"branch\" WHERE \"BranchId\" = ?;"
          ]
        }
      ],
      "source": [
        "resp = llm_chain.run('what is the manger name for branch 1')"
      ]
    },
    {
      "cell_type": "code",
      "execution_count": null,
      "id": "oybb9abgEcGa",
      "metadata": {
        "colab": {
          "base_uri": "https://localhost:8080/"
        },
        "id": "oybb9abgEcGa",
        "outputId": "ae1054b5-e537-400e-e658-47972b29aadc"
      },
      "outputs": [
        {
          "name": "stdout",
          "output_type": "stream",
          "text": [
            "\n",
            "\n",
            "\u001b[1m> Entering new SQLDatabaseChain chain...\u001b[0m\n",
            "How many categories do we have\n",
            "SQLQuery:"
          ]
        },
        {
          "name": "stderr",
          "output_type": "stream",
          "text": [
            "Llama.generate: prefix-match hit\n"
          ]
        }
      ],
      "source": [
        "db_chain = SQLDatabaseChain.from_llm(llm, db, verbose=True)\n",
        "db_chain.run(\"How many categories do we have\")"
      ]
    },
    {
      "cell_type": "code",
      "execution_count": null,
      "id": "8RPfN7ZLqDda",
      "metadata": {
        "id": "8RPfN7ZLqDda"
      },
      "outputs": [],
      "source": [
        "qns1 = \"List all the cards going to expire by sep 2026\"\n",
        "sql1 = \"SELECT CardNumber FROM credit_card WHERE ExpiryDate <= '2026-09-30';\"\n",
        "ans1 = db_chain.run(sql1)\n",
        "ans1"
      ]
    },
    {
      "cell_type": "code",
      "execution_count": null,
      "id": "_7_l7AX-gurV",
      "metadata": {
        "id": "_7_l7AX-gurV"
      },
      "outputs": [],
      "source": [
        "from langchain import PromptTemplate,  LLMChain\n",
        "\n",
        "template = '''\n",
        "## Task\n",
        "Generate a SQL query to answer the following question:\n",
        "`{prompt}`\n",
        "\n",
        "### Database Schema\n",
        "This query will run on a database whose schema is represented in this string:\n",
        "CREATE TABLE products (\n",
        "  product_id INTEGER PRIMARY KEY, -- Unique ID for each product\n",
        "  name VARCHAR(50), -- Name of the product\n",
        "  price DECIMAL(10,2), -- Price of each unit of the product\n",
        "  quantity INTEGER  -- Current quantity in stock\n",
        ");\n",
        "\n",
        "CREATE TABLE sales (\n",
        "  sale_id INTEGER PRIMARY KEY, -- Unique ID for each sale\n",
        "  product_id INTEGER, -- ID of product sold\n",
        "  customer_id INTEGER,  -- ID of customer who made purchase\n",
        "  salesperson_id INTEGER, -- ID of salesperson who made the sale\n",
        "  sale_date DATE, -- Date the sale occurred\n",
        "  quantity INTEGER -- Quantity of product sold\n",
        ");\n",
        "\n",
        "-- sales.product_id can be joined with products.product_id\n",
        "\n",
        "### SQL\n",
        "Given the database schema, here is the SQL query that answers `{prompt}`:\n",
        "```sql\n",
        "'''\n",
        "\n",
        "prompt = PromptTemplate(template=template, input_variables=[\"text\"])\n",
        "\n",
        "llm_chain = LLMChain(prompt=prompt, llm=llm)"
      ]
    },
    {
      "cell_type": "code",
      "execution_count": null,
      "id": "H_lCJCiDi-5J",
      "metadata": {
        "colab": {
          "base_uri": "https://localhost:8080/",
          "height": 55
        },
        "id": "H_lCJCiDi-5J",
        "outputId": "bef4e5cb-58ce-4b8f-a0ee-09bcb3bb4b5f"
      },
      "outputs": [
        {
          "name": "stdout",
          "output_type": "stream",
          "text": [
            "SELECT COUNT(DISTINCT product_id) FROM products;\n",
            "```"
          ]
        },
        {
          "data": {
            "application/vnd.google.colaboratory.intrinsic+json": {
              "type": "string"
            },
            "text/plain": [
              "'SELECT COUNT(DISTINCT product_id) FROM products;\\n```'"
            ]
          },
          "execution_count": 7,
          "metadata": {},
          "output_type": "execute_result"
        }
      ],
      "source": [
        "llm_chain.run(\"how many products do we have\")"
      ]
    },
    {
      "cell_type": "code",
      "execution_count": null,
      "id": "v0u8yLiBoL_r",
      "metadata": {
        "id": "v0u8yLiBoL_r"
      },
      "outputs": [],
      "source": [
        "prompt = PromptTemplate(template=sql_prompt, input_variables=[\"prompt\"])"
      ]
    },
    {
      "cell_type": "code",
      "execution_count": null,
      "id": "xyEt_o98W6ZK",
      "metadata": {
        "id": "xyEt_o98W6ZK"
      },
      "outputs": [],
      "source": [
        "template = \"\"\"Question: {question}\n",
        "\n",
        "Answer: Let's work this out in a step by step way to be sure we have the right answer.\"\"\"\n",
        "\n",
        "prompt = PromptTemplate(template=template, input_variables=[\"question\"])"
      ]
    },
    {
      "cell_type": "code",
      "execution_count": null,
      "id": "q_AfG6UEXfmH",
      "metadata": {
        "colab": {
          "base_uri": "https://localhost:8080/",
          "height": 36
        },
        "id": "q_AfG6UEXfmH",
        "outputId": "a71fe00d-9d02-4342-cfaf-8f120198273a"
      },
      "outputs": [
        {
          "name": "stdout",
          "output_type": "stream",
          "text": [
            "<0x0A><br><0x0A><0x0A><0x0A><0x0A>---<0x0A>"
          ]
        },
        {
          "data": {
            "application/vnd.google.colaboratory.intrinsic+json": {
              "type": "string"
            },
            "text/plain": [
              "'<0x0A><br><0x0A><0x0A><0x0A><0x0A>---<0x0A>'"
            ]
          },
          "execution_count": 28,
          "metadata": {},
          "output_type": "execute_result"
        }
      ],
      "source": [
        "prompt = \"\"\"\n",
        "Question: A rap battle between Stephen Colbert and John Oliver\n",
        "\"\"\"\n",
        "llm(prompt)"
      ]
    },
    {
      "cell_type": "code",
      "execution_count": null,
      "id": "0aO8PY7kWOJ-",
      "metadata": {
        "id": "0aO8PY7kWOJ-"
      },
      "outputs": [],
      "source": [
        "prompt = PromptTemplate(template=template, input_variables=[\"prompt\"])"
      ]
    },
    {
      "cell_type": "code",
      "execution_count": null,
      "id": "5Up06ctlr21v",
      "metadata": {
        "id": "5Up06ctlr21v"
      },
      "outputs": [],
      "source": [
        "llm_chain = LLMChain(prompt=prompt, llm=llm)"
      ]
    },
    {
      "cell_type": "code",
      "execution_count": null,
      "id": "kwrWVBtXrZs1",
      "metadata": {
        "id": "kwrWVBtXrZs1"
      },
      "outputs": [],
      "source": [
        "response = llm_chain.run(\"What is the total number of active credit cards?\")"
      ]
    },
    {
      "cell_type": "code",
      "execution_count": null,
      "id": "b0c86dce",
      "metadata": {
        "id": "b0c86dce"
      },
      "outputs": [],
      "source": [
        " db_chain = SQLDatabaseChain.from_llm(llm, db, verbose=True)"
      ]
    },
    {
      "cell_type": "code",
      "execution_count": null,
      "id": "xiOJU21OF6qs",
      "metadata": {
        "id": "xiOJU21OF6qs"
      },
      "outputs": [],
      "source": [
        "!pip install accelerate"
      ]
    },
    {
      "cell_type": "code",
      "execution_count": null,
      "id": "x23p_IcjsnPV",
      "metadata": {
        "colab": {
          "base_uri": "https://localhost:8080/"
        },
        "id": "x23p_IcjsnPV",
        "outputId": "7c296644-c339-4363-99ca-3f2032c82356"
      },
      "outputs": [
        {
          "name": "stderr",
          "output_type": "stream",
          "text": [
            "WARNING:ctransformers:Number of tokens (2546) exceeded maximum context length (512).\n"
          ]
        },
        {
          "name": "stdout",
          "output_type": "stream",
          "text": [
            "\n",
            "\n",
            "\u001b[1m> Entering new SQLDatabaseChain chain...\u001b[0m\n",
            "List all the cards going to expire by sep 2026\n",
            "SQLQuery:"
          ]
        }
      ],
      "source": [
        "qns1 = \"List all the cards going to expire by sep 2026\"\n",
        "sql1 = \"SELECT CardNumber FROM credit_card WHERE ExpiryDate <= '2026-09-30';\"\n",
        "ans1 = db_chain.run(qns1)\n",
        "ans1"
      ]
    },
    {
      "cell_type": "code",
      "execution_count": null,
      "id": "nrn6AgRJcAmS",
      "metadata": {
        "colab": {
          "base_uri": "https://localhost:8080/",
          "height": 36
        },
        "id": "nrn6AgRJcAmS",
        "outputId": "a9a37eff-601c-4c1f-da7b-2381152bd5c0"
      },
      "outputs": [
        {
          "data": {
            "application/vnd.google.colaboratory.intrinsic+json": {
              "type": "string"
            },
            "text/plain": [
              "'5040000000001, 35300000000000000, 52300000000000000'"
            ]
          },
          "execution_count": 17,
          "metadata": {},
          "output_type": "execute_result"
        }
      ],
      "source": [
        "qns1 = \"List all the cards going to expire by sep 2026\"\n",
        "sql1 = \"SELECT CardNumber FROM credit_card WHERE ExpiryDate <= '2026-09-30';\"\n",
        "ans1 = db_chain.run(sql1)\n",
        "ans1"
      ]
    },
    {
      "cell_type": "code",
      "execution_count": null,
      "id": "URen4CtTb8dt",
      "metadata": {
        "colab": {
          "base_uri": "https://localhost:8080/",
          "height": 36
        },
        "id": "URen4CtTb8dt",
        "outputId": "93ac8586-b7be-447e-cc75-768558af41c8"
      },
      "outputs": [
        {
          "data": {
            "application/vnd.google.colaboratory.intrinsic+json": {
              "type": "string"
            },
            "text/plain": [
              "'11718.4'"
            ]
          },
          "execution_count": 18,
          "metadata": {},
          "output_type": "execute_result"
        }
      ],
      "source": [
        "qns2 = \"what is the total amount spent by user 2 for food and groceries?\"\n",
        "sql2 = \"SELECT SUM(Amount) FROM transactions WHERE CategoryId = (SELECT CategoryId FROM category WHERE CategoryName = 'Food and Groceries') AND CardId IN (SELECT CardId FROM credit_card` WHERE UserId=2);\"\n",
        "ans2 = db_chain.run(sql2)\n",
        "ans2"
      ]
    },
    {
      "cell_type": "code",
      "execution_count": null,
      "id": "ovo-_t-2b8aC",
      "metadata": {
        "colab": {
          "base_uri": "https://localhost:8080/",
          "height": 36
        },
        "id": "ovo-_t-2b8aC",
        "outputId": "2eedc665-90eb-4dec-aaf1-4a98713c660f"
      },
      "outputs": [
        {
          "data": {
            "application/vnd.google.colaboratory.intrinsic+json": {
              "type": "string"
            },
            "text/plain": [
              "'2'"
            ]
          },
          "execution_count": 19,
          "metadata": {},
          "output_type": "execute_result"
        }
      ],
      "source": [
        "qns3 = \"How many unique users do we have in transactions\"\n",
        "sql3 = \"SELECT COUNT(DISTINCT UserId) FROM credit_card WHERE CardId IN (SELECT DISTINCT CardId FROM transactions);\"\n",
        "ans3 = db_chain.run(sql3)\n",
        "ans3"
      ]
    },
    {
      "cell_type": "code",
      "execution_count": null,
      "id": "DqeKgBEzb8W7",
      "metadata": {
        "colab": {
          "base_uri": "https://localhost:8080/",
          "height": 36
        },
        "id": "DqeKgBEzb8W7",
        "outputId": "68256024-6cab-480f-fa32-19fe9e2e6637"
      },
      "outputs": [
        {
          "data": {
            "application/vnd.google.colaboratory.intrinsic+json": {
              "type": "string"
            },
            "text/plain": [
              "'27493.36'"
            ]
          },
          "execution_count": 20,
          "metadata": {},
          "output_type": "execute_result"
        }
      ],
      "source": [
        "qns4 = \"What is the total amount lended to the user 1\"\n",
        "sql4 = \"SELECT SUM(LoanAmount) FROM credit_card_financial WHERE CardId IN (SELECT CardId FROM credit_card WHERE UserId=1);\"\n",
        "ans4 = db_chain.run(sql4)\n",
        "ans4"
      ]
    },
    {
      "cell_type": "code",
      "execution_count": null,
      "id": "dMQBs-txgH4a",
      "metadata": {
        "colab": {
          "base_uri": "https://localhost:8080/",
          "height": 36
        },
        "id": "dMQBs-txgH4a",
        "outputId": "42015e87-b32d-40dd-fc4a-bb3912d2b81c"
      },
      "outputs": [
        {
          "data": {
            "application/vnd.google.colaboratory.intrinsic+json": {
              "type": "string"
            },
            "text/plain": [
              "'245701'"
            ]
          },
          "execution_count": 21,
          "metadata": {},
          "output_type": "execute_result"
        }
      ],
      "source": [
        "qns5 = \"Total reward points earned by user2\"\n",
        "sql5 = \"SELECT SUM(RewardId) FROM reward WHERE TransactionId IN (SELECT TransactionId FROM transactions WHERE CardId IN (SELECT CardId FROM credit_card WHERE UserId=2));\"\n",
        "ans5 = db_chain.run(sql5)\n",
        "ans5"
      ]
    },
    {
      "cell_type": "markdown",
      "id": "afe780d9",
      "metadata": {
        "id": "afe780d9"
      },
      "source": [
        "# Few shot learning\n",
        "\n",
        "We will use few shot learning to fix issues we have seen so far"
      ]
    },
    {
      "cell_type": "code",
      "execution_count": null,
      "id": "O7JjF46uiCiM",
      "metadata": {
        "id": "O7JjF46uiCiM"
      },
      "outputs": [],
      "source": [
        "few_shots = []\n",
        "\n",
        "for i in list(range(1,6)):\n",
        "  data = {'Question' : globals()[f'qns{i}'],\n",
        "        'SQLQuery' : globals()[f'sql{i}'],\n",
        "        'SQLResult': \"Result of the SQL query\",\n",
        "        'Answer' : globals()[f'ans{i}']}\n",
        "  few_shots.append(data)\n"
      ]
    },
    {
      "cell_type": "code",
      "execution_count": null,
      "id": "IOF3Xdkxl5Rn",
      "metadata": {
        "colab": {
          "base_uri": "https://localhost:8080/"
        },
        "id": "IOF3Xdkxl5Rn",
        "outputId": "e422764a-d31f-4bd0-aff2-ad647b9787bc"
      },
      "outputs": [
        {
          "data": {
            "text/plain": [
              "[{'Question': 'List all the cards going to expire by sep 2026',\n",
              "  'SQLQuery': \"SELECT CardNumber FROM credit_card WHERE ExpiryDate <= '2026-09-30';\",\n",
              "  'SQLResult': 'Result of the SQL query',\n",
              "  'Answer': '5040000000001, 35300000000000000, 52300000000000000'},\n",
              " {'Question': 'what is the total amount spent by user 2 for food and groceries?',\n",
              "  'SQLQuery': \"SELECT SUM(Amount) FROM transactions WHERE CategoryId = (SELECT CategoryId FROM category WHERE CategoryName = 'Food and Groceries') AND CardId IN (SELECT CardId FROM credit_card` WHERE UserId=2);\",\n",
              "  'SQLResult': 'Result of the SQL query',\n",
              "  'Answer': '11718.4'},\n",
              " {'Question': 'How many unique users do we have in transactions',\n",
              "  'SQLQuery': 'SELECT COUNT(DISTINCT UserId) FROM credit_card WHERE CardId IN (SELECT DISTINCT CardId FROM transactions);',\n",
              "  'SQLResult': 'Result of the SQL query',\n",
              "  'Answer': '2'},\n",
              " {'Question': 'What is the total amount lended to the user 1',\n",
              "  'SQLQuery': 'SELECT SUM(LoanAmount) FROM credit_card_financial WHERE CardId IN (SELECT CardId FROM credit_card WHERE UserId=1);',\n",
              "  'SQLResult': 'Result of the SQL query',\n",
              "  'Answer': '27493.36'},\n",
              " {'Question': 'Total reward points earned by user2',\n",
              "  'SQLQuery': 'SELECT SUM(RewardId) FROM reward WHERE TransactionId IN (SELECT TransactionId FROM transactions WHERE CardId IN (SELECT CardId FROM credit_card WHERE UserId=2));',\n",
              "  'SQLResult': 'Result of the SQL query',\n",
              "  'Answer': '245701'}]"
            ]
          },
          "execution_count": 23,
          "metadata": {},
          "output_type": "execute_result"
        }
      ],
      "source": [
        "few_shots"
      ]
    },
    {
      "cell_type": "code",
      "execution_count": null,
      "id": "hVLshqkjPCwa",
      "metadata": {
        "id": "hVLshqkjPCwa"
      },
      "outputs": [],
      "source": [
        "sql_questions = [\n",
        "    {'Question': \"List all branches established after 2010.\",\n",
        "     'SQLQuery': \"SELECT * FROM branch WHERE EstablishedDate > '2010-01-01';\",\n",
        "     'SQLResult': \"Result of the SQL query\",\n",
        "     'Answer': 'List of branches established after 2010'},\n",
        "    {'Question': \"Find the total number of transactions in the 'Food and Groceries' category.\",\n",
        "     'SQLQuery': \"SELECT COUNT(*) FROM transactions WHERE CategoryId = (SELECT CategoryId FROM category WHERE CategoryName = 'Food and Groceries');\",\n",
        "     'SQLResult': \"Result of the SQL query\",\n",
        "     'Answer': 'Total number of transactions in Food and Groceries'},\n",
        "    {'Question': \"What is the highest credit limit among all credit cards?\",\n",
        "     'SQLQuery': \"SELECT MAX(CreditLimit) FROM credit_card;\",\n",
        "     'SQLResult': \"Result of the SQL query\",\n",
        "     'Answer': 'Highest credit limit'},\n",
        "    {'Question': \"How many users are associated with Branch 1?\",\n",
        "     'SQLQuery': \"SELECT COUNT(*) FROM user WHERE BranchId = 1;\",\n",
        "     'SQLResult': \"Result of the SQL query\",\n",
        "     'Answer': 'Number of users in Branch 1'},\n",
        "    {'Question': \"List the user names and total reward points earned by each user.\",\n",
        "     'SQLQuery': \"SELECT u.UserName, SUM(r.RewardId) FROM user u JOIN credit_card cc ON u.UserId = cc.UserId JOIN transactions t ON cc.CardId = t.CardId JOIN reward r ON t.TransactionId = r.TransactionId GROUP BY u.UserName;\",\n",
        "     'SQLResult': \"Result of the SQL query\",\n",
        "     'Answer': 'User names and their total reward points'},\n",
        "    {'Question': \"Find the average balance of credit cards issued by Branch 2.\",\n",
        "     'SQLQuery': \"SELECT AVG(CurrentBalance) FROM credit_card WHERE CardId IN (SELECT CardId FROM user WHERE BranchId = 2);\",\n",
        "     'SQLResult': \"Result of the SQL query\",\n",
        "     'Answer': 'Average balance of credit cards from Branch 2'},\n",
        "    {'Question': \"Which category has the highest number of transactions?\",\n",
        "     'SQLQuery': \"SELECT CategoryId, COUNT(*) as NumberOfTransactions FROM transactions GROUP BY CategoryId ORDER BY NumberOfTransactions DESC LIMIT 1;\",\n",
        "     'SQLResult': \"Result of the SQL query\",\n",
        "     'Answer': 'Category with the highest number of transactions'},\n",
        "    {'Question': \"List all users who have a credit card expiring in 2024.\",\n",
        "     'SQLQuery': \"SELECT u.UserName FROM user u JOIN credit_card cc ON u.UserId = cc.UserId WHERE strftime('%Y', cc.ExpiryDate) = 2024;\",\n",
        "     'SQLResult': \"Result of the SQL query\",\n",
        "     'Answer': 'List of users with credit cards expiring in 2024'},\n",
        "    {'Question': \"Find the total amount spent in 'Movies and Entertainment' category by User 1.\",\n",
        "     'SQLQuery': \"SELECT SUM(Amount) FROM transactions WHERE CategoryId = (SELECT CategoryId FROM category WHERE CategoryName = 'Movies and Entertainment') AND CardId IN (SELECT CardId FROM credit_card WHERE UserId=1);\",\n",
        "     'SQLResult': \"Result of the SQL query\",\n",
        "     'Answer': 'Total amount spent by User 1 in Movies and Entertainment'},\n",
        "    {'Question': \"What is the total loan amount issued to users of Branch 3?\",\n",
        "     'SQLQuery': \"SELECT SUM(LoanAmount) FROM credit_card_financial WHERE CardId IN (SELECT CardId FROM user WHERE BranchId = 3);\",\n",
        "     'SQLResult': \"Result of the SQL query\",\n",
        "     'Answer': 'Total loan amount for users of Branch 3'},\n",
        "    {'Question': \"List all transactions made in the 'Shopping' category.\",\n",
        "     'SQLQuery': \"SELECT * FROM transactions WHERE CategoryId = (SELECT CategoryId FROM category WHERE CategoryName = 'Shopping');\",\n",
        "     'SQLResult': \"Result of the SQL query\",\n",
        "     'Answer': 'List of transactions in Shopping category'},\n",
        "    # {'Question': \"Find the average loan amount given to users under 30 years of age.\",\n",
        "    #  'SQLQuery': \"SELECT AVG(LoanAmount) FROM credit_card_financial WHERE CardId IN (SELECT CardId FROM user WHERE (strftime('%Y', 'now') - strftime('%Y', DateOfBirth)) - (strftime('%m-%d', 'now') < strftime('%m-%d', DateOfBirth)) < 30;\",\n",
        "    #  'SQLResult': \"Result of the SQL query\",\n",
        "    #  'Answer': 'Average loan amount for users under 30'},\n",
        "    {'Question': \"How many credit cards have a balance over $10,000?\",\n",
        "     'SQLQuery': \"SELECT COUNT(*) FROM credit_card WHERE CurrentBalance > 10000;\",\n",
        "     'SQLResult': \"Result of the SQL query\",\n",
        "     'Answer': 'Number of credit cards with balance over $10,000'},\n",
        "    {'Question': \"What is the total amount of transactions completed in the last month?\",\n",
        "     'SQLQuery': \"SELECT SUM(Amount) FROM transactions WHERE TransactionStatus = 'Completed' AND TransactionDate >= date('now', '-1 month');\",\n",
        "     'SQLResult': \"Result of the SQL query\",\n",
        "     'Answer': 'Total amount of transactions last month'}\n",
        "]\n"
      ]
    },
    {
      "cell_type": "code",
      "execution_count": null,
      "id": "Y1wMm9Dymuwe",
      "metadata": {
        "colab": {
          "base_uri": "https://localhost:8080/"
        },
        "id": "Y1wMm9Dymuwe",
        "outputId": "6378c6c5-22ec-4ca5-da1c-860e30afca49"
      },
      "outputs": [
        {
          "data": {
            "text/plain": [
              "13"
            ]
          },
          "execution_count": 25,
          "metadata": {},
          "output_type": "execute_result"
        }
      ],
      "source": [
        "len(sql_questions)"
      ]
    },
    {
      "cell_type": "code",
      "execution_count": null,
      "id": "XZyANJZrqvIb",
      "metadata": {
        "id": "XZyANJZrqvIb"
      },
      "outputs": [],
      "source": [
        "for item in sql_questions:\n",
        "  sql = item['SQLQuery']\n",
        "  ans = db_chain.run(sql)\n",
        "  item['Answer'] = ans\n",
        "  few_shots.append(item)\n",
        "  # print('-----------------------------')"
      ]
    },
    {
      "cell_type": "code",
      "execution_count": null,
      "id": "kaZOXprjvx5B",
      "metadata": {
        "colab": {
          "base_uri": "https://localhost:8080/"
        },
        "id": "kaZOXprjvx5B",
        "outputId": "abfa1660-cada-4931-ccf4-189f5fd50c23"
      },
      "outputs": [
        {
          "data": {
            "text/plain": [
              "18"
            ]
          },
          "execution_count": 27,
          "metadata": {},
          "output_type": "execute_result"
        }
      ],
      "source": [
        "len(few_shots)"
      ]
    },
    {
      "cell_type": "code",
      "execution_count": null,
      "id": "i-6g1mH8DCek",
      "metadata": {
        "colab": {
          "base_uri": "https://localhost:8080/"
        },
        "id": "i-6g1mH8DCek",
        "outputId": "e9334303-0639-498f-f2f1-fa51df28c949"
      },
      "outputs": [
        {
          "data": {
            "text/plain": [
              "[{'Question': 'List all the cards going to expire by sep 2026',\n",
              "  'SQLQuery': \"SELECT CardNumber FROM credit_card WHERE ExpiryDate <= '2026-09-30';\",\n",
              "  'SQLResult': 'Result of the SQL query',\n",
              "  'Answer': '5040000000001, 35300000000000000, 52300000000000000'},\n",
              " {'Question': 'what is the total amount spent by user 2 for food and groceries?',\n",
              "  'SQLQuery': \"SELECT SUM(Amount) FROM transactions WHERE CategoryId = (SELECT CategoryId FROM category WHERE CategoryName = 'Food and Groceries') AND CardId IN (SELECT CardId FROM credit_card` WHERE UserId=2);\",\n",
              "  'SQLResult': 'Result of the SQL query',\n",
              "  'Answer': '11718.4'},\n",
              " {'Question': 'How many unique users do we have in transactions',\n",
              "  'SQLQuery': 'SELECT COUNT(DISTINCT UserId) FROM credit_card WHERE CardId IN (SELECT DISTINCT CardId FROM transactions);',\n",
              "  'SQLResult': 'Result of the SQL query',\n",
              "  'Answer': '2'},\n",
              " {'Question': 'What is the total amount lended to the user 1',\n",
              "  'SQLQuery': 'SELECT SUM(LoanAmount) FROM credit_card_financial WHERE CardId IN (SELECT CardId FROM credit_card WHERE UserId=1);',\n",
              "  'SQLResult': 'Result of the SQL query',\n",
              "  'Answer': '27493.36'},\n",
              " {'Question': 'Total reward points earned by user2',\n",
              "  'SQLQuery': 'SELECT SUM(RewardId) FROM reward WHERE TransactionId IN (SELECT TransactionId FROM transactions WHERE CardId IN (SELECT CardId FROM credit_card WHERE UserId=2));',\n",
              "  'SQLResult': 'Result of the SQL query',\n",
              "  'Answer': '245701'},\n",
              " {'Question': 'List all branches established after 2010.',\n",
              "  'SQLQuery': \"SELECT * FROM branch WHERE EstablishedDate > '2010-01-01';\",\n",
              "  'SQLResult': 'Result of the SQL query',\n",
              "  'Answer': 'Branch 2, Branch 4, Branch 5'},\n",
              " {'Question': \"Find the total number of transactions in the 'Food and Groceries' category.\",\n",
              "  'SQLQuery': \"SELECT COUNT(*) FROM transactions WHERE CategoryId = (SELECT CategoryId FROM category WHERE CategoryName = 'Food and Groceries');\",\n",
              "  'SQLResult': 'Result of the SQL query',\n",
              "  'Answer': '84'},\n",
              " {'Question': 'What is the highest credit limit among all credit cards?',\n",
              "  'SQLQuery': 'SELECT MAX(CreditLimit) FROM credit_card;',\n",
              "  'SQLResult': 'Result of the SQL query',\n",
              "  'Answer': '20000.0'},\n",
              " {'Question': 'How many users are associated with Branch 1?',\n",
              "  'SQLQuery': 'SELECT COUNT(*) FROM user WHERE BranchId = 1;',\n",
              "  'SQLResult': 'Result of the SQL query',\n",
              "  'Answer': '320'},\n",
              " {'Question': 'List the user names and total reward points earned by each user.',\n",
              "  'SQLQuery': 'SELECT u.UserName, SUM(r.RewardId) FROM user u JOIN credit_card cc ON u.UserId = cc.UserId JOIN transactions t ON cc.CardId = t.CardId JOIN reward r ON t.TransactionId = r.TransactionId GROUP BY u.UserName;',\n",
              "  'SQLResult': 'Result of the SQL query',\n",
              "  'Answer': 'Gabrielle Anderson, Michael Baldwin'},\n",
              " {'Question': 'Find the average balance of credit cards issued by Branch 2.',\n",
              "  'SQLQuery': 'SELECT AVG(CurrentBalance) FROM credit_card WHERE CardId IN (SELECT CardId FROM user WHERE BranchId = 2);',\n",
              "  'SQLResult': 'Result of the SQL query',\n",
              "  'Answer': '2348.3716088666665'},\n",
              " {'Question': 'Which category has the highest number of transactions?',\n",
              "  'SQLQuery': 'SELECT CategoryId, COUNT(*) as NumberOfTransactions FROM transactions GROUP BY CategoryId ORDER BY NumberOfTransactions DESC LIMIT 1;',\n",
              "  'SQLResult': 'Result of the SQL query',\n",
              "  'Answer': '5'},\n",
              " {'Question': 'List all users who have a credit card expiring in 2024.',\n",
              "  'SQLQuery': \"SELECT u.UserName FROM user u JOIN credit_card cc ON u.UserId = cc.UserId WHERE strftime('%Y', cc.ExpiryDate) = 2024;\",\n",
              "  'SQLResult': 'Result of the SQL query',\n",
              "  'Answer': 'Gabrielle Anderson'},\n",
              " {'Question': \"Find the total amount spent in 'Movies and Entertainment' category by User 1.\",\n",
              "  'SQLQuery': \"SELECT SUM(Amount) FROM transactions WHERE CategoryId = (SELECT CategoryId FROM category WHERE CategoryName = 'Movies and Entertainment') AND CardId IN (SELECT CardId FROM credit_card WHERE UserId=1);\",\n",
              "  'SQLResult': 'Result of the SQL query',\n",
              "  'Answer': '11754.93'},\n",
              " {'Question': 'What is the total loan amount issued to users of Branch 3?',\n",
              "  'SQLQuery': 'SELECT SUM(LoanAmount) FROM credit_card_financial WHERE CardId IN (SELECT CardId FROM user WHERE BranchId = 3);',\n",
              "  'SQLResult': 'Result of the SQL query',\n",
              "  'Answer': '47744.87'},\n",
              " {'Question': \"List all transactions made in the 'Shopping' category.\",\n",
              "  'SQLQuery': \"SELECT * FROM transactions WHERE CategoryId = (SELECT CategoryId FROM category WHERE CategoryName = 'Shopping');\",\n",
              "  'SQLResult': 'Result of the SQL query',\n",
              "  'Answer': \"1994, 2, '2023-07-15', 118.21, 'Nelson, Joseph and Jones', 2, 'Debit', 'Completed', 'But fine follow garden education floor serious by.'\"},\n",
              " {'Question': 'How many credit cards have a balance over $10,000?',\n",
              "  'SQLQuery': 'SELECT COUNT(*) FROM credit_card WHERE CurrentBalance > 10000;',\n",
              "  'SQLResult': 'Result of the SQL query',\n",
              "  'Answer': '0'},\n",
              " {'Question': 'What is the total amount of transactions completed in the last month?',\n",
              "  'SQLQuery': \"SELECT SUM(Amount) FROM transactions WHERE TransactionStatus = 'Completed' AND TransactionDate >= date('now', '-1 month');\",\n",
              "  'SQLResult': 'Result of the SQL query',\n",
              "  'Answer': '3508.62'}]"
            ]
          },
          "execution_count": 28,
          "metadata": {},
          "output_type": "execute_result"
        }
      ],
      "source": [
        "few_shots"
      ]
    },
    {
      "cell_type": "markdown",
      "id": "30f7b3c9",
      "metadata": {
        "id": "30f7b3c9"
      },
      "source": [
        "### Creating Semantic Similarity Based example selector\n",
        "\n",
        "- create embedding on the few_shots\n",
        "- Store the embeddings in Chroma DB\n",
        "- Retrieve the the top most Semantically close example from the vector store"
      ]
    },
    {
      "cell_type": "code",
      "execution_count": null,
      "id": "7xai-NaonFoL",
      "metadata": {
        "id": "7xai-NaonFoL"
      },
      "outputs": [],
      "source": [
        "!pip install sentence-transformers\n",
        "!pip install chromadb"
      ]
    },
    {
      "cell_type": "code",
      "execution_count": null,
      "id": "54306b8d",
      "metadata": {
        "colab": {
          "base_uri": "https://localhost:8080/",
          "height": 465,
          "referenced_widgets": [
            "fa5690c118f94a8b8934aa156353524b",
            "f3bcb91417ad4a7cb3bd41c3707ef4ba",
            "4bb3820c05294d7c8d381d03922f0424",
            "d87eaae8cedb481d92c407d401d71737",
            "61d5987dcf0c4ddfbe0067e0072ecc84",
            "35be898b1fb840aca00022e19507b6fd",
            "f870aaf512094520a9839aa43c3c5fe8",
            "7ce23a8af3344a2991d06549eb989d92",
            "8ad04a208ad94073aafde1af4b4d4e30",
            "a93df95cb2464cef8cecd982656c728b",
            "cc036817a4f14b65862a747fd0d2c765",
            "0464efbe6c7642799a1fde8a324225d2",
            "cce9f737109f4b5283e3f63c90ba7ee2",
            "8c052b5217504a8ca43842bc3955cb84",
            "c67eac60aeb44a638bb0ee130a7571ef",
            "56cbb527382c4f2896a64c8ab61c0a00",
            "2812734328564bf39c93704ffebdbd1e",
            "b8c173bd8d4b4436894c27d08a53177b",
            "4592e1db3ddd41adb7794afd52701a81",
            "d5eab2d0966b4860a9bf98b028096aaa",
            "9e337694f3714c809df99b43e66e2d78",
            "8c47d5ba053a410eac57474e6cd3222e",
            "44e4f240cd88463886a6a4634d55aea9",
            "8b39e110030b4a459ed677813aa1adca",
            "38330bd953d94ca28f046506314c3ea6",
            "8220a60800594fe5a78d03217328f8ad",
            "9c7186ff18f14f588b4ef57387a5acfe",
            "458dbb9721114795a520fba44e0a8c67",
            "88f621234a5746ffb771dedbf4a3a466",
            "c868215241e64d36afb8e2427c86a83e",
            "286cb036067c4f2a82003f6bca9f7a9c",
            "91da48686de84571a2a98b94f6c298a8",
            "ae6fdb135e3644699259ef3a93515259",
            "4d0a88caebad4927a1b3262b74040a62",
            "64b8ee8776de462dbdf77cfa91208a7f",
            "7cfe3b9fed6e43449c180028dea07342",
            "9d675271d88d4b76923402caaf898237",
            "8f7dc43515a547c18a58f7062de1090b",
            "4b9b406d61e7404397e8b3f8e8479616",
            "cbc386706f984af9a52132a8a06570fe",
            "b77a949e4b3b415c93e89d69b1274cf8",
            "0226b49d19484ee8b0af9ac3f2e187dd",
            "d9d66cf1f1ef447499b95166c8c94a6a",
            "7f271f4ce2e04186afcdef9395d7907c",
            "0d4407404422414482a39b322f07f2c0",
            "b2e75a37fc8b4dfdb1e9570d01025e31",
            "98dd6fa0177147088e07781136623b6d",
            "1ea4eb47d1914a34ba9ca5f1fa67228e",
            "b1cf0ada9e024ac48f111ee47dcfa491",
            "3272fb529b47425b9c3b6cb8ba5e29fe",
            "a958b277d4e147e8a0ccd0cfdd0c85d7",
            "592b7088b7094c0aa2f2402fb4633ee0",
            "35b6dfb64b624546bbd493352d08e92d",
            "ad4340896c8c455e8dda883e262555a9",
            "ed8b54cd29d549b1bb67bd75ccaff610",
            "30cb17f2076e4d50be159b2e91f7640e",
            "d8124d64004b4d20bf5594cb95840620",
            "7ae97bb1446245639a8ac882b26a7cc1",
            "4e72cd050a75431ab4ce1e9cff2b490c",
            "8fc29a2859cd40d2939d5ffeb29d1842",
            "dab626bd930e4ea0b6d8a3d2049bacbb",
            "3daae254359a4572b85514eeb5919c7a",
            "df21d99ac106499d80228e19fa997ffd",
            "c98a76e2ddef49afa6cab45e36be0454",
            "58c02bdfedfc407fa6e5f771b7bc81d7",
            "cc647bdbe9a24dbb9be0bb1406bb7f9e",
            "ad9c592bfa3145dbb285af141197d7ca",
            "71230f8262204eebaccaf7848a2ad840",
            "5b2b327b56054848a811f19ff366fcb5",
            "4748646fe8344b4b9e7410a4330f0c64",
            "005627b3dbb04309afd054fdfe015c02",
            "40b3637e44c048db8d1d005a45be1103",
            "0f49a126b6244329a810604ed39f8c49",
            "51cee484a73f40b7820677a3ed0ae95e",
            "14cfc38c1fa74abcac9b6564f64ca26e",
            "81b3877f467a436083266a6b75a7fd38",
            "787632a365dd4646ad8c86cd428ed6a2",
            "5bdb57fd3c9947de813a4c1362b41a58",
            "da73bb64eb3844e4bd2a29bb6163839c",
            "13b0f9d0239147e381b5344e585ba1d0",
            "ffb594d3154044ac9e0bc87a71d37d72",
            "27e8d4cc16e0470ba19fba2777922b98",
            "c2ee38850c924a3497709013393a327a",
            "25d2564543234fb49cb964542671bb00",
            "14fcab20dbc14059815d5cba58b9fd6a",
            "2515c48bef3b41ca9c2bafcba7441bd7",
            "c703538419fb42008cfd529d8f6a825b",
            "242b25244c0c4f738d6d34f56b6bef51",
            "788142774c3a4d8ab669523d6070442e",
            "26404e80d8234498a52aa55b01b802b2",
            "eade587365ea47298ccb4b2f578e8f3d",
            "e651989f136242a49d5917fc78945184",
            "84d61d8f433f4e2895aab65cb0da0eed",
            "012609a3b8004ad1ac41297e8bca8e75",
            "8a6d76c9b6484d13a09569acee7d766e",
            "cf91dbfca8484c4f97ae02103f255a50",
            "d3d400c6e48b4785a2b82316835bfe93",
            "1f7fa54e2f154dac9e89df278cbdf997",
            "6b4ad65007b24cba99fda38667eb3591",
            "ae2036b967554c1895e6e54ea717dbbd",
            "8a843579657f49f2a7424d819bea0508",
            "5353996399914670bd70fccbce053f47",
            "9b183285a05b4c89badf98dd3123654f",
            "e7030989fc3d41399b71309a250855ed",
            "7054e7a7d35c47db88246cc58fa2c60c",
            "6646ea094cfd4bd4a8a0a4eb42eda71e",
            "a6b4b1acb4024592bc470c640308549e",
            "de893060ee724df7b2728f5e8c519406",
            "b7e644790cb34fe790f16f4b5444f6e3",
            "a4b708b1864a4938aba628af6ce09798",
            "ba65d04fbd134374ae21ded77cf5fd9f",
            "f56eafa431f14c73a359ec035ee6c27b",
            "aa34db447cd348be8fcece4e2115f4cb",
            "dc98da264870473696dac455415ce969",
            "b631968c9900419c809b4f863164a7f7",
            "5f7498300d60408caad30a85292a6c0f",
            "21531a4a3e6e49a9bb790790aecf174b",
            "6a78a4098aa34b8cbc071f5fb67487e9",
            "3f960db72a4b4bb5b5a6e51ff63d8e44",
            "5796cd66451c4ab9aa24f8d8b7d54716",
            "c38ecfdff81144e18ab1fdb286564130",
            "2b94a3618e10477e975c690be469762b",
            "73b9f66f78944dfc96b9b953ace8048a",
            "29d466c5097344a2a259f585d0dc8515",
            "c48ac009a7c443ed9ecc9c4ea98a707d",
            "36d8eb9bb12a4964b5699c06ad7aee2a",
            "7eff6079eff74e22bca9b6752c5f2778",
            "7b56efa0852b4f86a09a5ee662642c48",
            "8ab387a20d4a42d0941ed267fccf4e34",
            "147e92146b8f40f9983c2e856ab027e6",
            "ef245d6208444b7895fbc213c9516e2e",
            "cedf9583cb8b4709929ebd5396bedcd3",
            "56362f7040224bc1979eeb9fae6529de",
            "41367d3c92f44769a379fc69c0b92f21",
            "20a8d79fcbd84cda9dd6031858608522",
            "b25f060c414b4ff6ac1c5f7139079c23",
            "cc40dc0e801948b887ba0a6789df6996",
            "310fe1316ecf4cd4a1849f043cc717d4",
            "285190df382c4723b8ca5c41b5ada50d",
            "cfe8f8374d69450380fa0378f324da64",
            "1b6ea22da1c44d0aae93956690295955",
            "82988507d10a4cedbe90a036c44dec30",
            "1ec5ba162fd145a38221cdb71d5bf4fe",
            "85fbd3d3d11c4f11b95835cb0b4f8268",
            "493eb301e0c34049af8143dd6c9e642e",
            "23281a9831284ac5b93d9dc2f99ff08f",
            "650a2f068fb442388c20e2c0a646d3aa",
            "567c71c8627f419eb6bf02ca87486fbc",
            "97c9560652d44b039049c0eed81fe5db",
            "07d56c398aa8450b980d9bb6a556f226",
            "cb22bb21cc274f43a011aff9a8d4dbea",
            "957b6a17dc7e452fad64c7a05f965bf0",
            "074dc698db094771b24f242c5d17d400",
            "7ec8457c7f6e4710839de89a40fb8bfe"
          ]
        },
        "id": "54306b8d",
        "outputId": "0d366486-2a2e-4a79-ffc9-6b0acc489063"
      },
      "outputs": [
        {
          "data": {
            "application/vnd.jupyter.widget-view+json": {
              "model_id": "fa5690c118f94a8b8934aa156353524b",
              "version_major": 2,
              "version_minor": 0
            },
            "text/plain": [
              ".gitattributes:   0%|          | 0.00/1.18k [00:00<?, ?B/s]"
            ]
          },
          "metadata": {},
          "output_type": "display_data"
        },
        {
          "data": {
            "application/vnd.jupyter.widget-view+json": {
              "model_id": "0464efbe6c7642799a1fde8a324225d2",
              "version_major": 2,
              "version_minor": 0
            },
            "text/plain": [
              "1_Pooling/config.json:   0%|          | 0.00/190 [00:00<?, ?B/s]"
            ]
          },
          "metadata": {},
          "output_type": "display_data"
        },
        {
          "data": {
            "application/vnd.jupyter.widget-view+json": {
              "model_id": "44e4f240cd88463886a6a4634d55aea9",
              "version_major": 2,
              "version_minor": 0
            },
            "text/plain": [
              "README.md:   0%|          | 0.00/10.6k [00:00<?, ?B/s]"
            ]
          },
          "metadata": {},
          "output_type": "display_data"
        },
        {
          "data": {
            "application/vnd.jupyter.widget-view+json": {
              "model_id": "4d0a88caebad4927a1b3262b74040a62",
              "version_major": 2,
              "version_minor": 0
            },
            "text/plain": [
              "config.json:   0%|          | 0.00/612 [00:00<?, ?B/s]"
            ]
          },
          "metadata": {},
          "output_type": "display_data"
        },
        {
          "data": {
            "application/vnd.jupyter.widget-view+json": {
              "model_id": "0d4407404422414482a39b322f07f2c0",
              "version_major": 2,
              "version_minor": 0
            },
            "text/plain": [
              "config_sentence_transformers.json:   0%|          | 0.00/116 [00:00<?, ?B/s]"
            ]
          },
          "metadata": {},
          "output_type": "display_data"
        },
        {
          "data": {
            "application/vnd.jupyter.widget-view+json": {
              "model_id": "30cb17f2076e4d50be159b2e91f7640e",
              "version_major": 2,
              "version_minor": 0
            },
            "text/plain": [
              "data_config.json:   0%|          | 0.00/39.3k [00:00<?, ?B/s]"
            ]
          },
          "metadata": {},
          "output_type": "display_data"
        },
        {
          "data": {
            "application/vnd.jupyter.widget-view+json": {
              "model_id": "ad9c592bfa3145dbb285af141197d7ca",
              "version_major": 2,
              "version_minor": 0
            },
            "text/plain": [
              "pytorch_model.bin:   0%|          | 0.00/90.9M [00:00<?, ?B/s]"
            ]
          },
          "metadata": {},
          "output_type": "display_data"
        },
        {
          "data": {
            "application/vnd.jupyter.widget-view+json": {
              "model_id": "5bdb57fd3c9947de813a4c1362b41a58",
              "version_major": 2,
              "version_minor": 0
            },
            "text/plain": [
              "sentence_bert_config.json:   0%|          | 0.00/53.0 [00:00<?, ?B/s]"
            ]
          },
          "metadata": {},
          "output_type": "display_data"
        },
        {
          "data": {
            "application/vnd.jupyter.widget-view+json": {
              "model_id": "788142774c3a4d8ab669523d6070442e",
              "version_major": 2,
              "version_minor": 0
            },
            "text/plain": [
              "special_tokens_map.json:   0%|          | 0.00/112 [00:00<?, ?B/s]"
            ]
          },
          "metadata": {},
          "output_type": "display_data"
        },
        {
          "data": {
            "application/vnd.jupyter.widget-view+json": {
              "model_id": "ae2036b967554c1895e6e54ea717dbbd",
              "version_major": 2,
              "version_minor": 0
            },
            "text/plain": [
              "tokenizer.json:   0%|          | 0.00/466k [00:00<?, ?B/s]"
            ]
          },
          "metadata": {},
          "output_type": "display_data"
        },
        {
          "data": {
            "application/vnd.jupyter.widget-view+json": {
              "model_id": "ba65d04fbd134374ae21ded77cf5fd9f",
              "version_major": 2,
              "version_minor": 0
            },
            "text/plain": [
              "tokenizer_config.json:   0%|          | 0.00/350 [00:00<?, ?B/s]"
            ]
          },
          "metadata": {},
          "output_type": "display_data"
        },
        {
          "data": {
            "application/vnd.jupyter.widget-view+json": {
              "model_id": "2b94a3618e10477e975c690be469762b",
              "version_major": 2,
              "version_minor": 0
            },
            "text/plain": [
              "train_script.py:   0%|          | 0.00/13.2k [00:00<?, ?B/s]"
            ]
          },
          "metadata": {},
          "output_type": "display_data"
        },
        {
          "data": {
            "application/vnd.jupyter.widget-view+json": {
              "model_id": "56362f7040224bc1979eeb9fae6529de",
              "version_major": 2,
              "version_minor": 0
            },
            "text/plain": [
              "vocab.txt:   0%|          | 0.00/232k [00:00<?, ?B/s]"
            ]
          },
          "metadata": {},
          "output_type": "display_data"
        },
        {
          "data": {
            "application/vnd.jupyter.widget-view+json": {
              "model_id": "85fbd3d3d11c4f11b95835cb0b4f8268",
              "version_major": 2,
              "version_minor": 0
            },
            "text/plain": [
              "modules.json:   0%|          | 0.00/349 [00:00<?, ?B/s]"
            ]
          },
          "metadata": {},
          "output_type": "display_data"
        }
      ],
      "source": [
        "from langchain.embeddings import HuggingFaceEmbeddings\n",
        "\n",
        "embeddings = HuggingFaceEmbeddings(model_name='sentence-transformers/all-MiniLM-L6-v2')\n",
        "\n",
        "to_vectorize = [\" \".join(example.values()) for example in few_shots]"
      ]
    },
    {
      "cell_type": "code",
      "execution_count": null,
      "id": "95513027",
      "metadata": {
        "colab": {
          "base_uri": "https://localhost:8080/"
        },
        "id": "95513027",
        "outputId": "d96b3855-2820-4b69-9d15-ccc411554143"
      },
      "outputs": [
        {
          "data": {
            "text/plain": [
              "[\"List all the cards going to expire by sep 2026 SELECT CardNumber FROM credit_card WHERE ExpiryDate <= '2026-09-30'; Result of the SQL query 5040000000001, 35300000000000000, 52300000000000000\",\n",
              " \"what is the total amount spent by user 2 for food and groceries? SELECT SUM(Amount) FROM transactions WHERE CategoryId = (SELECT CategoryId FROM category WHERE CategoryName = 'Food and Groceries') AND CardId IN (SELECT CardId FROM credit_card` WHERE UserId=2); Result of the SQL query 11718.4\",\n",
              " 'How many unique users do we have in transactions SELECT COUNT(DISTINCT UserId) FROM credit_card WHERE CardId IN (SELECT DISTINCT CardId FROM transactions); Result of the SQL query 2',\n",
              " 'What is the total amount lended to the user 1 SELECT SUM(LoanAmount) FROM credit_card_financial WHERE CardId IN (SELECT CardId FROM credit_card WHERE UserId=1); Result of the SQL query 27493.36',\n",
              " 'Total reward points earned by user2 SELECT SUM(RewardId) FROM reward WHERE TransactionId IN (SELECT TransactionId FROM transactions WHERE CardId IN (SELECT CardId FROM credit_card WHERE UserId=2)); Result of the SQL query 245701',\n",
              " \"List all branches established after 2010. SELECT * FROM branch WHERE EstablishedDate > '2010-01-01'; Result of the SQL query Branch 2, Branch 4, Branch 5\",\n",
              " \"Find the total number of transactions in the 'Food and Groceries' category. SELECT COUNT(*) FROM transactions WHERE CategoryId = (SELECT CategoryId FROM category WHERE CategoryName = 'Food and Groceries'); Result of the SQL query 84\",\n",
              " 'What is the highest credit limit among all credit cards? SELECT MAX(CreditLimit) FROM credit_card; Result of the SQL query 20000.0',\n",
              " 'How many users are associated with Branch 1? SELECT COUNT(*) FROM user WHERE BranchId = 1; Result of the SQL query 320',\n",
              " 'List the user names and total reward points earned by each user. SELECT u.UserName, SUM(r.RewardId) FROM user u JOIN credit_card cc ON u.UserId = cc.UserId JOIN transactions t ON cc.CardId = t.CardId JOIN reward r ON t.TransactionId = r.TransactionId GROUP BY u.UserName; Result of the SQL query Gabrielle Anderson, Michael Baldwin',\n",
              " 'Find the average balance of credit cards issued by Branch 2. SELECT AVG(CurrentBalance) FROM credit_card WHERE CardId IN (SELECT CardId FROM user WHERE BranchId = 2); Result of the SQL query 2348.3716088666665',\n",
              " 'Which category has the highest number of transactions? SELECT CategoryId, COUNT(*) as NumberOfTransactions FROM transactions GROUP BY CategoryId ORDER BY NumberOfTransactions DESC LIMIT 1; Result of the SQL query 5',\n",
              " \"List all users who have a credit card expiring in 2024. SELECT u.UserName FROM user u JOIN credit_card cc ON u.UserId = cc.UserId WHERE strftime('%Y', cc.ExpiryDate) = 2024; Result of the SQL query Gabrielle Anderson\",\n",
              " \"Find the total amount spent in 'Movies and Entertainment' category by User 1. SELECT SUM(Amount) FROM transactions WHERE CategoryId = (SELECT CategoryId FROM category WHERE CategoryName = 'Movies and Entertainment') AND CardId IN (SELECT CardId FROM credit_card WHERE UserId=1); Result of the SQL query 11754.93\",\n",
              " 'What is the total loan amount issued to users of Branch 3? SELECT SUM(LoanAmount) FROM credit_card_financial WHERE CardId IN (SELECT CardId FROM user WHERE BranchId = 3); Result of the SQL query 47744.87',\n",
              " \"List all transactions made in the 'Shopping' category. SELECT * FROM transactions WHERE CategoryId = (SELECT CategoryId FROM category WHERE CategoryName = 'Shopping'); Result of the SQL query 1994, 2, '2023-07-15', 118.21, 'Nelson, Joseph and Jones', 2, 'Debit', 'Completed', 'But fine follow garden education floor serious by.'\",\n",
              " 'How many credit cards have a balance over $10,000? SELECT COUNT(*) FROM credit_card WHERE CurrentBalance > 10000; Result of the SQL query 0',\n",
              " \"What is the total amount of transactions completed in the last month? SELECT SUM(Amount) FROM transactions WHERE TransactionStatus = 'Completed' AND TransactionDate >= date('now', '-1 month'); Result of the SQL query 3508.62\"]"
            ]
          },
          "execution_count": 31,
          "metadata": {},
          "output_type": "execute_result"
        }
      ],
      "source": [
        "to_vectorize"
      ]
    },
    {
      "cell_type": "code",
      "execution_count": null,
      "id": "d806f39b",
      "metadata": {
        "id": "d806f39b"
      },
      "outputs": [],
      "source": [
        "from langchain.vectorstores import Chroma\n",
        "vectorstore = Chroma.from_texts(to_vectorize, embeddings, metadatas=few_shots)"
      ]
    },
    {
      "cell_type": "code",
      "execution_count": null,
      "id": "f9cc4b0e",
      "metadata": {
        "colab": {
          "base_uri": "https://localhost:8080/"
        },
        "id": "f9cc4b0e",
        "outputId": "92cfbe10-d1f4-46ea-ff36-6c5dc8298391"
      },
      "outputs": [
        {
          "data": {
            "text/plain": [
              "[{'Answer': '245701',\n",
              "  'Question': 'Total reward points earned by user2',\n",
              "  'SQLQuery': 'SELECT SUM(RewardId) FROM reward WHERE TransactionId IN (SELECT TransactionId FROM transactions WHERE CardId IN (SELECT CardId FROM credit_card WHERE UserId=2));',\n",
              "  'SQLResult': 'Result of the SQL query'},\n",
              " {'Answer': 'Gabrielle Anderson, Michael Baldwin',\n",
              "  'Question': 'List the user names and total reward points earned by each user.',\n",
              "  'SQLQuery': 'SELECT u.UserName, SUM(r.RewardId) FROM user u JOIN credit_card cc ON u.UserId = cc.UserId JOIN transactions t ON cc.CardId = t.CardId JOIN reward r ON t.TransactionId = r.TransactionId GROUP BY u.UserName;',\n",
              "  'SQLResult': 'Result of the SQL query'}]"
            ]
          },
          "execution_count": 33,
          "metadata": {},
          "output_type": "execute_result"
        }
      ],
      "source": [
        "from langchain.prompts import SemanticSimilarityExampleSelector\n",
        "\n",
        "example_selector = SemanticSimilarityExampleSelector(\n",
        "    vectorstore=vectorstore,\n",
        "    k=2,\n",
        ")\n",
        "\n",
        "example_selector.select_examples({\"Question\": \"How many total rewards do we have\"})"
      ]
    },
    {
      "cell_type": "code",
      "execution_count": null,
      "id": "kvfu97OFysC0",
      "metadata": {
        "id": "kvfu97OFysC0"
      },
      "outputs": [],
      "source": [
        "sqlite_prompt = \"\"\"You are a SQLite expert. Given an input question, first create a syntactically correct SQLite query to run, then look at the results of the query and return the answer to the input question.\n",
        "Unless the user specifies in the question a specific number of examples to obtain, query for at most {top_k} results using the LIMIT clause as per SQLite. You can order the results to return the most informative data in the database.\n",
        "Never query for all columns from a table. You must query only the columns that are needed to answer the question. Wrap each column name in double quotes (\") to denote them as delimited identifiers.\n",
        "Pay attention to use only the column names you can see in the tables below. Be careful to not query for columns that do not exist. Also, pay attention to which column is in which table.\n",
        "Pay attention to use date('now') function to get the current date, if the question involves \"today\".\n",
        "\n",
        "Use the following format:\n",
        "\n",
        "Question: Question here\n",
        "SQLQuery: SQL Query to run\n",
        "SQLResult: Result of the SQLQuery\n",
        "Answer: Final answer here\"\"\""
      ]
    },
    {
      "cell_type": "code",
      "execution_count": null,
      "id": "357ca60f",
      "metadata": {
        "id": "357ca60f",
        "scrolled": true
      },
      "outputs": [],
      "source": [
        "from langchain.prompts import FewShotPromptTemplate\n",
        "from langchain.chains.sql_database.prompt import PROMPT_SUFFIX\n",
        "# print(PROMPT_SUFFIX)"
      ]
    },
    {
      "cell_type": "code",
      "execution_count": null,
      "id": "1_AG7yfgR3DR",
      "metadata": {
        "id": "1_AG7yfgR3DR"
      },
      "outputs": [],
      "source": [
        "# from langchain.chains.sql_database import prompt, SQLITE_PROMPT"
      ]
    },
    {
      "cell_type": "code",
      "execution_count": null,
      "id": "dCxdBkYeR-2_",
      "metadata": {
        "id": "dCxdBkYeR-2_"
      },
      "outputs": [],
      "source": [
        "# dir(prompt)"
      ]
    },
    {
      "cell_type": "code",
      "execution_count": null,
      "id": "nmAcutISSbNP",
      "metadata": {
        "id": "nmAcutISSbNP"
      },
      "outputs": [],
      "source": [
        "# from langchain.chains.sql_database.prompt import SQLITE_PROMPT"
      ]
    },
    {
      "cell_type": "markdown",
      "id": "20224496",
      "metadata": {
        "id": "20224496"
      },
      "source": [
        "### Setting up PromptTemplete using input variables"
      ]
    },
    {
      "cell_type": "code",
      "execution_count": null,
      "id": "3337e4a0",
      "metadata": {
        "id": "3337e4a0"
      },
      "outputs": [],
      "source": [
        "from langchain.prompts.prompt import PromptTemplate\n",
        "\n",
        "example_prompt = PromptTemplate(\n",
        "    input_variables=[\"Question\", \"SQLQuery\", \"SQLResult\",\"Answer\",],\n",
        "    template=\"\\nQuestion: {Question}\\nSQLQuery: {SQLQuery}\\nSQLResult: {SQLResult}\\nAnswer: {Answer}\",\n",
        ")"
      ]
    },
    {
      "cell_type": "code",
      "execution_count": null,
      "id": "70wOX8OE0gmS",
      "metadata": {
        "colab": {
          "base_uri": "https://localhost:8080/"
        },
        "id": "70wOX8OE0gmS",
        "outputId": "f638fa12-fd47-4a30-9444-5e035be5469a"
      },
      "outputs": [
        {
          "name": "stdout",
          "output_type": "stream",
          "text": [
            "Only use the following tables:\n",
            "{table_info}\n",
            "\n",
            "Question: {input}\n"
          ]
        }
      ],
      "source": [
        "print(PROMPT_SUFFIX)"
      ]
    },
    {
      "cell_type": "code",
      "execution_count": null,
      "id": "5736eb12",
      "metadata": {
        "id": "5736eb12"
      },
      "outputs": [],
      "source": [
        "few_shot_prompt = FewShotPromptTemplate(\n",
        "    example_selector=example_selector,\n",
        "    example_prompt=example_prompt,\n",
        "    prefix=sqlite_prompt,\n",
        "    suffix=PROMPT_SUFFIX,\n",
        "    input_variables=[\"input\", \"table_info\", \"top_k\"], #These variables are used in the prefix and suffix\n",
        ")"
      ]
    },
    {
      "cell_type": "code",
      "execution_count": null,
      "id": "c23d156c",
      "metadata": {
        "id": "c23d156c"
      },
      "outputs": [],
      "source": [
        "db_chain2 = SQLDatabaseChain.from_llm(llm, db, verbose=False, prompt=few_shot_prompt)"
      ]
    },
    {
      "cell_type": "code",
      "execution_count": null,
      "id": "12a32c68",
      "metadata": {
        "colab": {
          "base_uri": "https://localhost:8080/",
          "height": 36
        },
        "id": "12a32c68",
        "outputId": "2d178cbc-e7de-4446-e65e-f194ff64fd0e"
      },
      "outputs": [
        {
          "data": {
            "application/vnd.google.colaboratory.intrinsic+json": {
              "type": "string"
            },
            "text/plain": [
              "'11185.98'"
            ]
          },
          "execution_count": 43,
          "metadata": {},
          "output_type": "execute_result"
        }
      ],
      "source": [
        "db_chain2.run(\"what is the amout spend by user 1 for food\")"
      ]
    },
    {
      "cell_type": "code",
      "execution_count": null,
      "id": "30a05344",
      "metadata": {
        "colab": {
          "base_uri": "https://localhost:8080/",
          "height": 36
        },
        "id": "30a05344",
        "outputId": "e2921631-f148-4c0f-b49b-2fb95ccc2a3b",
        "scrolled": true
      },
      "outputs": [
        {
          "data": {
            "application/vnd.google.colaboratory.intrinsic+json": {
              "type": "string"
            },
            "text/plain": [
              "'3508.62'"
            ]
          },
          "execution_count": 44,
          "metadata": {},
          "output_type": "execute_result"
        }
      ],
      "source": [
        "db_chain2.run(\"What is the total amount of transactions completed in the last month\")"
      ]
    },
    {
      "cell_type": "markdown",
      "id": "q0OIHBqR3dOF",
      "metadata": {
        "id": "q0OIHBqR3dOF"
      },
      "source": [
        "# Test"
      ]
    },
    {
      "cell_type": "code",
      "execution_count": null,
      "id": "lepnZQTO3eFa",
      "metadata": {
        "id": "lepnZQTO3eFa"
      },
      "outputs": [],
      "source": [
        "sql_test = ([\n",
        "    {'Question': \"What is the total number of active credit cards?\",\n",
        "     'SQLQuery': \"SELECT COUNT(*) FROM credit_card WHERE ExpiryDate > CURRENT_DATE;\",\n",
        "     'SQLResult': \"Result of the SQL query\",\n",
        "     'Answer': 'Total number of active credit cards'},\n",
        "    {'Question': \"How many transactions were made in the 'Shopping' category?\",\n",
        "     'SQLQuery': \"SELECT COUNT(*) FROM transactions WHERE CategoryId = (SELECT CategoryId FROM category WHERE CategoryName = 'Shopping');\",\n",
        "     'SQLResult': \"Result of the SQL query\",\n",
        "     'Answer': 'Number of transactions in Shopping category'},\n",
        "    {'Question': \"Which user has the most number of credit cards?\",\n",
        "     'SQLQuery': \"SELECT u.UserName FROM user u JOIN credit_card cc ON u.UserId = cc.UserId GROUP BY u.UserId ORDER BY COUNT(cc.CardId) DESC LIMIT 1;\",\n",
        "     'SQLResult': \"Result of the SQL query\",\n",
        "     'Answer': 'User with the most number of credit cards'},\n",
        "    {'Question': \"Find the total amount spent on fuel by all users.\",\n",
        "     'SQLQuery': \"SELECT SUM(Amount) FROM transactions WHERE CategoryId = (SELECT CategoryId FROM category WHERE CategoryName = 'Fuel');\",\n",
        "     'SQLResult': \"Result of the SQL query\",\n",
        "     'Answer': 'Total amount spent on fuel'},\n",
        "    {'Question': \"What is the oldest branch of the bank?\",\n",
        "     'SQLQuery': \"SELECT BranchName FROM branch WHERE EstablishedDate = (SELECT MIN(EstablishedDate) FROM branch);\",\n",
        "     'SQLResult': \"Result of the SQL query\",\n",
        "     'Answer': 'Oldest branch of the bank'},\n",
        "    {'Question': \"Find the user with the oldest credit card.\",\n",
        "     'SQLQuery': \"SELECT u.UserName FROM user u JOIN credit_card cc ON u.UserId = cc.UserId WHERE cc.IssueDate = (SELECT MIN(IssueDate) FROM credit_card);\",\n",
        "     'SQLResult': \"Result of the SQL query\",\n",
        "     'Answer': 'User with the oldest credit card'},\n",
        "    {'Question': \"How many rewards were earned for transactions above $1000?\",\n",
        "     'SQLQuery': \"SELECT COUNT(r.RewardId) FROM reward r JOIN transactions t ON r.TransactionId = t.TransactionId WHERE t.Amount > 1000;\",\n",
        "     'SQLResult': \"Result of the SQL query\",\n",
        "     'Answer': 'Number of rewards for transactions above $1000'},\n",
        "    # {'Question': \"List all users who have made a transaction in the last month.\",\n",
        "    #  'SQLQuery': \"SELECT DISTINCT u.UserName FROM user u JOIN credit_card cc ON u.UserId = cc.UserId JOIN transactions t ON cc.CardId = t.CardId WHERE t.TransactionDate >= CURRENT_DATE - INTERVAL '1 month';\",\n",
        "    #  'SQLResult': \"Result of the SQL query\",\n",
        "    #  'Answer': 'List of users with transactions in the last month'},\n",
        "    {'Question': \"Which category has the lowest average transaction amount?\",\n",
        "     'SQLQuery': \"SELECT c.CategoryName FROM category c JOIN transactions t ON c.CategoryId = t.CategoryId GROUP BY c.CategoryId ORDER BY AVG(t.Amount) ASC LIMIT 1;\",\n",
        "     'SQLResult': \"Result of the SQL query\",\n",
        "     'Answer': 'Category with the lowest average transaction amount'},\n",
        "    {'Question': \"What is the total outstanding balance for all credit cards?\",\n",
        "     'SQLQuery': \"SELECT SUM(CurrentBalance) FROM credit_card;\",\n",
        "     'SQLResult': \"Result of the SQL query\",\n",
        "     'Answer': 'Total outstanding balance for all credit cards'},\n",
        "    {'Question': \"How many branches have less than 20 employees?\",\n",
        "     'SQLQuery': \"SELECT COUNT(*) FROM branch WHERE NumberOfEmployees < 20;\",\n",
        "     'SQLResult': \"Result of the SQL query\",\n",
        "     'Answer': 'Number of branches with less than 20 employees'},\n",
        "    {'Question': \"List the top 3 users by total transaction amount.\",\n",
        "     'SQLQuery': \"SELECT u.UserName FROM user u JOIN credit_card cc ON u.UserId = cc.UserId JOIN transactions t ON cc.CardId = t.CardId GROUP BY u.UserId ORDER BY SUM(t.Amount) DESC LIMIT 3;\",\n",
        "     'SQLResult': \"Result of the SQL query\",\n",
        "     'Answer': 'Top 3 users by total transaction amount'},\n",
        "    # {'Question': \"Find the most popular transaction category.\",\n",
        "    #  'SQLQuery': \"SELECT c.CategoryName FROM category c JOIN transactions t ON c.CategoryId = t.CategoryId GROUP BY c.CategoryId ORDER BY COUNT(*) DESC LIMIT 1;\",\n",
        "    #  'SQLResult': \"Result of the SQL query\",\n",
        "    #  'Answer': 'Most popular transaction category'},\n",
        "    # {'Question': \"How many credit cards were issued in the last year?\",\n",
        "    #  'SQLQuery': \"SELECT COUNT(*) FROM credit_card WHERE IssueDate >= CURRENT_DATE - INTERVAL '1 year';\",\n",
        "    #  'SQLResult': \"Result of the SQL query\",\n",
        "    #  'Answer': 'Number of credit cards issued in the last year'},\n",
        "    {'Question': \"What is the average number of transactions per user?\",\n",
        "     'SQLQuery': \"SELECT AVG(TransactionCount) FROM (SELECT COUNT(*) as TransactionCount FROM transactions GROUP BY CardId) as TransactionPerUser;\",\n",
        "     'SQLResult': \"Result of the SQL query\",\n",
        "     'Answer': 'Average number of transactions per user'}\n",
        "])"
      ]
    },
    {
      "cell_type": "code",
      "execution_count": null,
      "id": "mTrVYF7Q77Zm",
      "metadata": {
        "colab": {
          "base_uri": "https://localhost:8080/"
        },
        "id": "mTrVYF7Q77Zm",
        "outputId": "c8da31d5-b1e7-4217-ff10-edea3e1f7e00"
      },
      "outputs": [
        {
          "data": {
            "text/plain": [
              "12"
            ]
          },
          "execution_count": 46,
          "metadata": {},
          "output_type": "execute_result"
        }
      ],
      "source": [
        "len(sql_test)"
      ]
    },
    {
      "cell_type": "code",
      "execution_count": null,
      "id": "YhoOx0_h3wxI",
      "metadata": {
        "colab": {
          "base_uri": "https://localhost:8080/"
        },
        "id": "YhoOx0_h3wxI",
        "outputId": "286daf80-8ab1-410f-ea89-1b7f965b78f9"
      },
      "outputs": [
        {
          "name": "stdout",
          "output_type": "stream",
          "text": [
            "What is the total number of active credit cards?\n",
            "SELECT COUNT(*) FROM credit_card WHERE ExpiryDate > CURRENT_DATE;\n",
            "6\n",
            "failed db_chain\n",
            "failed db_chain2\n",
            "-----------------------------\n",
            "How many transactions were made in the 'Shopping' category?\n",
            "SELECT COUNT(*) FROM transactions WHERE CategoryId = (SELECT CategoryId FROM category WHERE CategoryName = 'Shopping');\n",
            "93\n",
            "93\n",
            "93\n",
            "-----------------------------\n",
            "Which user has the most number of credit cards?\n",
            "SELECT u.UserName FROM user u JOIN credit_card cc ON u.UserId = cc.UserId GROUP BY u.UserId ORDER BY COUNT(cc.CardId) DESC LIMIT 1;\n",
            "Michael Baldwin\n",
            "failed db_chain\n",
            "Michael Baldwin\n",
            "-----------------------------\n",
            "Find the total amount spent on fuel by all users.\n",
            "SELECT SUM(Amount) FROM transactions WHERE CategoryId = (SELECT CategoryId FROM category WHERE CategoryName = 'Fuel');\n",
            "23960.57\n",
            "23960.57\n",
            "23960.57\n",
            "-----------------------------\n",
            "What is the oldest branch of the bank?\n",
            "SELECT BranchName FROM branch WHERE EstablishedDate = (SELECT MIN(EstablishedDate) FROM branch);\n",
            "Branch 3\n",
            "Branch 3\n",
            "Branch 3\n",
            "-----------------------------\n",
            "Find the user with the oldest credit card.\n",
            "SELECT u.UserName FROM user u JOIN credit_card cc ON u.UserId = cc.UserId WHERE cc.IssueDate = (SELECT MIN(IssueDate) FROM credit_card);\n",
            "Gabrielle Anderson\n",
            "Gabrielle Anderson\n",
            "Gabrielle Anderson\n",
            "-----------------------------\n",
            "How many rewards were earned for transactions above $1000?\n",
            "SELECT COUNT(r.RewardId) FROM reward r JOIN transactions t ON r.TransactionId = t.TransactionId WHERE t.Amount > 1000;\n",
            "0\n",
            "0\n",
            "0\n",
            "-----------------------------\n",
            "Which category has the lowest average transaction amount?\n",
            "SELECT c.CategoryName FROM category c JOIN transactions t ON c.CategoryId = t.CategoryId GROUP BY c.CategoryId ORDER BY AVG(t.Amount) ASC LIMIT 1;\n",
            "Shopping\n",
            "failed db_chain\n",
            "2\n",
            "-----------------------------\n",
            "What is the total outstanding balance for all credit cards?\n",
            "SELECT SUM(CurrentBalance) FROM credit_card;\n",
            "14090.2296532\n",
            "14090.2296532\n",
            "14090.2296532\n",
            "-----------------------------\n",
            "How many branches have less than 20 employees?\n",
            "SELECT COUNT(*) FROM branch WHERE NumberOfEmployees < 20;\n",
            "2\n",
            "2\n",
            "2\n",
            "-----------------------------\n",
            "List the top 3 users by total transaction amount.\n",
            "SELECT u.UserName FROM user u JOIN credit_card cc ON u.UserId = cc.UserId JOIN transactions t ON cc.CardId = t.CardId GROUP BY u.UserId ORDER BY SUM(t.Amount) DESC LIMIT 3;\n",
            "Gabrielle Anderson, Michael Baldwin\n",
            "failed db_chain\n",
            "failed db_chain2\n",
            "-----------------------------\n",
            "What is the average number of transactions per user?\n",
            "SELECT AVG(TransactionCount) FROM (SELECT COUNT(*) as TransactionCount FROM transactions GROUP BY CardId) as TransactionPerUser;\n",
            "166.66666666666666\n",
            "failed db_chain\n",
            "failed db_chain2\n",
            "-----------------------------\n"
          ]
        }
      ],
      "source": [
        "for item in sql_test:\n",
        "  qns = item['Question']\n",
        "  print(qns)\n",
        "  sql = item['SQLQuery']\n",
        "  print(sql)\n",
        "  print(db_chain2.run(sql))\n",
        "  try:\n",
        "    print(db_chain.run(qns))\n",
        "  except:\n",
        "    print('failed db_chain')\n",
        "  try:\n",
        "    print(db_chain2.run(qns))\n",
        "  except:\n",
        "    print('failed db_chain2')\n",
        "    # item['Answer'] = ans\n",
        "    # few_shots.append(item)\n",
        "  print('-----------------------------')"
      ]
    }
  ],
  "metadata": {
    "accelerator": "GPU",
    "colab": {
      "collapsed_sections": [
        "F5uh6_AqWPNq"
      ],
      "gpuType": "T4",
      "provenance": [],
      "include_colab_link": true
    },
    "kernelspec": {
      "display_name": "Python 3",
      "name": "python3"
    },
    "language_info": {
      "codemirror_mode": {
        "name": "ipython",
        "version": 3
      },
      "file_extension": ".py",
      "mimetype": "text/x-python",
      "name": "python",
      "nbconvert_exporter": "python",
      "pygments_lexer": "ipython3",
      "version": "3.10.11"
    },
    "widgets": {
      "application/vnd.jupyter.widget-state+json": {
        "005627b3dbb04309afd054fdfe015c02": {
          "model_module": "@jupyter-widgets/base",
          "model_module_version": "1.2.0",
          "model_name": "LayoutModel",
          "state": {
            "_model_module": "@jupyter-widgets/base",
            "_model_module_version": "1.2.0",
            "_model_name": "LayoutModel",
            "_view_count": null,
            "_view_module": "@jupyter-widgets/base",
            "_view_module_version": "1.2.0",
            "_view_name": "LayoutView",
            "align_content": null,
            "align_items": null,
            "align_self": null,
            "border": null,
            "bottom": null,
            "display": null,
            "flex": null,
            "flex_flow": null,
            "grid_area": null,
            "grid_auto_columns": null,
            "grid_auto_flow": null,
            "grid_auto_rows": null,
            "grid_column": null,
            "grid_gap": null,
            "grid_row": null,
            "grid_template_areas": null,
            "grid_template_columns": null,
            "grid_template_rows": null,
            "height": null,
            "justify_content": null,
            "justify_items": null,
            "left": null,
            "margin": null,
            "max_height": null,
            "max_width": null,
            "min_height": null,
            "min_width": null,
            "object_fit": null,
            "object_position": null,
            "order": null,
            "overflow": null,
            "overflow_x": null,
            "overflow_y": null,
            "padding": null,
            "right": null,
            "top": null,
            "visibility": null,
            "width": null
          }
        },
        "012609a3b8004ad1ac41297e8bca8e75": {
          "model_module": "@jupyter-widgets/base",
          "model_module_version": "1.2.0",
          "model_name": "LayoutModel",
          "state": {
            "_model_module": "@jupyter-widgets/base",
            "_model_module_version": "1.2.0",
            "_model_name": "LayoutModel",
            "_view_count": null,
            "_view_module": "@jupyter-widgets/base",
            "_view_module_version": "1.2.0",
            "_view_name": "LayoutView",
            "align_content": null,
            "align_items": null,
            "align_self": null,
            "border": null,
            "bottom": null,
            "display": null,
            "flex": null,
            "flex_flow": null,
            "grid_area": null,
            "grid_auto_columns": null,
            "grid_auto_flow": null,
            "grid_auto_rows": null,
            "grid_column": null,
            "grid_gap": null,
            "grid_row": null,
            "grid_template_areas": null,
            "grid_template_columns": null,
            "grid_template_rows": null,
            "height": null,
            "justify_content": null,
            "justify_items": null,
            "left": null,
            "margin": null,
            "max_height": null,
            "max_width": null,
            "min_height": null,
            "min_width": null,
            "object_fit": null,
            "object_position": null,
            "order": null,
            "overflow": null,
            "overflow_x": null,
            "overflow_y": null,
            "padding": null,
            "right": null,
            "top": null,
            "visibility": null,
            "width": null
          }
        },
        "0226b49d19484ee8b0af9ac3f2e187dd": {
          "model_module": "@jupyter-widgets/controls",
          "model_module_version": "1.5.0",
          "model_name": "ProgressStyleModel",
          "state": {
            "_model_module": "@jupyter-widgets/controls",
            "_model_module_version": "1.5.0",
            "_model_name": "ProgressStyleModel",
            "_view_count": null,
            "_view_module": "@jupyter-widgets/base",
            "_view_module_version": "1.2.0",
            "_view_name": "StyleView",
            "bar_color": null,
            "description_width": ""
          }
        },
        "0464efbe6c7642799a1fde8a324225d2": {
          "model_module": "@jupyter-widgets/controls",
          "model_module_version": "1.5.0",
          "model_name": "HBoxModel",
          "state": {
            "_dom_classes": [],
            "_model_module": "@jupyter-widgets/controls",
            "_model_module_version": "1.5.0",
            "_model_name": "HBoxModel",
            "_view_count": null,
            "_view_module": "@jupyter-widgets/controls",
            "_view_module_version": "1.5.0",
            "_view_name": "HBoxView",
            "box_style": "",
            "children": [
              "IPY_MODEL_cce9f737109f4b5283e3f63c90ba7ee2",
              "IPY_MODEL_8c052b5217504a8ca43842bc3955cb84",
              "IPY_MODEL_c67eac60aeb44a638bb0ee130a7571ef"
            ],
            "layout": "IPY_MODEL_56cbb527382c4f2896a64c8ab61c0a00"
          }
        },
        "074dc698db094771b24f242c5d17d400": {
          "model_module": "@jupyter-widgets/base",
          "model_module_version": "1.2.0",
          "model_name": "LayoutModel",
          "state": {
            "_model_module": "@jupyter-widgets/base",
            "_model_module_version": "1.2.0",
            "_model_name": "LayoutModel",
            "_view_count": null,
            "_view_module": "@jupyter-widgets/base",
            "_view_module_version": "1.2.0",
            "_view_name": "LayoutView",
            "align_content": null,
            "align_items": null,
            "align_self": null,
            "border": null,
            "bottom": null,
            "display": null,
            "flex": null,
            "flex_flow": null,
            "grid_area": null,
            "grid_auto_columns": null,
            "grid_auto_flow": null,
            "grid_auto_rows": null,
            "grid_column": null,
            "grid_gap": null,
            "grid_row": null,
            "grid_template_areas": null,
            "grid_template_columns": null,
            "grid_template_rows": null,
            "height": null,
            "justify_content": null,
            "justify_items": null,
            "left": null,
            "margin": null,
            "max_height": null,
            "max_width": null,
            "min_height": null,
            "min_width": null,
            "object_fit": null,
            "object_position": null,
            "order": null,
            "overflow": null,
            "overflow_x": null,
            "overflow_y": null,
            "padding": null,
            "right": null,
            "top": null,
            "visibility": null,
            "width": null
          }
        },
        "07d56c398aa8450b980d9bb6a556f226": {
          "model_module": "@jupyter-widgets/controls",
          "model_module_version": "1.5.0",
          "model_name": "DescriptionStyleModel",
          "state": {
            "_model_module": "@jupyter-widgets/controls",
            "_model_module_version": "1.5.0",
            "_model_name": "DescriptionStyleModel",
            "_view_count": null,
            "_view_module": "@jupyter-widgets/base",
            "_view_module_version": "1.2.0",
            "_view_name": "StyleView",
            "description_width": ""
          }
        },
        "0d4407404422414482a39b322f07f2c0": {
          "model_module": "@jupyter-widgets/controls",
          "model_module_version": "1.5.0",
          "model_name": "HBoxModel",
          "state": {
            "_dom_classes": [],
            "_model_module": "@jupyter-widgets/controls",
            "_model_module_version": "1.5.0",
            "_model_name": "HBoxModel",
            "_view_count": null,
            "_view_module": "@jupyter-widgets/controls",
            "_view_module_version": "1.5.0",
            "_view_name": "HBoxView",
            "box_style": "",
            "children": [
              "IPY_MODEL_b2e75a37fc8b4dfdb1e9570d01025e31",
              "IPY_MODEL_98dd6fa0177147088e07781136623b6d",
              "IPY_MODEL_1ea4eb47d1914a34ba9ca5f1fa67228e"
            ],
            "layout": "IPY_MODEL_b1cf0ada9e024ac48f111ee47dcfa491"
          }
        },
        "0f49a126b6244329a810604ed39f8c49": {
          "model_module": "@jupyter-widgets/controls",
          "model_module_version": "1.5.0",
          "model_name": "DescriptionStyleModel",
          "state": {
            "_model_module": "@jupyter-widgets/controls",
            "_model_module_version": "1.5.0",
            "_model_name": "DescriptionStyleModel",
            "_view_count": null,
            "_view_module": "@jupyter-widgets/base",
            "_view_module_version": "1.2.0",
            "_view_name": "StyleView",
            "description_width": ""
          }
        },
        "13b0f9d0239147e381b5344e585ba1d0": {
          "model_module": "@jupyter-widgets/controls",
          "model_module_version": "1.5.0",
          "model_name": "FloatProgressModel",
          "state": {
            "_dom_classes": [],
            "_model_module": "@jupyter-widgets/controls",
            "_model_module_version": "1.5.0",
            "_model_name": "FloatProgressModel",
            "_view_count": null,
            "_view_module": "@jupyter-widgets/controls",
            "_view_module_version": "1.5.0",
            "_view_name": "ProgressView",
            "bar_style": "success",
            "description": "",
            "description_tooltip": null,
            "layout": "IPY_MODEL_14fcab20dbc14059815d5cba58b9fd6a",
            "max": 53,
            "min": 0,
            "orientation": "horizontal",
            "style": "IPY_MODEL_2515c48bef3b41ca9c2bafcba7441bd7",
            "value": 53
          }
        },
        "147e92146b8f40f9983c2e856ab027e6": {
          "model_module": "@jupyter-widgets/controls",
          "model_module_version": "1.5.0",
          "model_name": "ProgressStyleModel",
          "state": {
            "_model_module": "@jupyter-widgets/controls",
            "_model_module_version": "1.5.0",
            "_model_name": "ProgressStyleModel",
            "_view_count": null,
            "_view_module": "@jupyter-widgets/base",
            "_view_module_version": "1.2.0",
            "_view_name": "StyleView",
            "bar_color": null,
            "description_width": ""
          }
        },
        "14cfc38c1fa74abcac9b6564f64ca26e": {
          "model_module": "@jupyter-widgets/controls",
          "model_module_version": "1.5.0",
          "model_name": "ProgressStyleModel",
          "state": {
            "_model_module": "@jupyter-widgets/controls",
            "_model_module_version": "1.5.0",
            "_model_name": "ProgressStyleModel",
            "_view_count": null,
            "_view_module": "@jupyter-widgets/base",
            "_view_module_version": "1.2.0",
            "_view_name": "StyleView",
            "bar_color": null,
            "description_width": ""
          }
        },
        "14fcab20dbc14059815d5cba58b9fd6a": {
          "model_module": "@jupyter-widgets/base",
          "model_module_version": "1.2.0",
          "model_name": "LayoutModel",
          "state": {
            "_model_module": "@jupyter-widgets/base",
            "_model_module_version": "1.2.0",
            "_model_name": "LayoutModel",
            "_view_count": null,
            "_view_module": "@jupyter-widgets/base",
            "_view_module_version": "1.2.0",
            "_view_name": "LayoutView",
            "align_content": null,
            "align_items": null,
            "align_self": null,
            "border": null,
            "bottom": null,
            "display": null,
            "flex": null,
            "flex_flow": null,
            "grid_area": null,
            "grid_auto_columns": null,
            "grid_auto_flow": null,
            "grid_auto_rows": null,
            "grid_column": null,
            "grid_gap": null,
            "grid_row": null,
            "grid_template_areas": null,
            "grid_template_columns": null,
            "grid_template_rows": null,
            "height": null,
            "justify_content": null,
            "justify_items": null,
            "left": null,
            "margin": null,
            "max_height": null,
            "max_width": null,
            "min_height": null,
            "min_width": null,
            "object_fit": null,
            "object_position": null,
            "order": null,
            "overflow": null,
            "overflow_x": null,
            "overflow_y": null,
            "padding": null,
            "right": null,
            "top": null,
            "visibility": null,
            "width": null
          }
        },
        "1b6ea22da1c44d0aae93956690295955": {
          "model_module": "@jupyter-widgets/controls",
          "model_module_version": "1.5.0",
          "model_name": "ProgressStyleModel",
          "state": {
            "_model_module": "@jupyter-widgets/controls",
            "_model_module_version": "1.5.0",
            "_model_name": "ProgressStyleModel",
            "_view_count": null,
            "_view_module": "@jupyter-widgets/base",
            "_view_module_version": "1.2.0",
            "_view_name": "StyleView",
            "bar_color": null,
            "description_width": ""
          }
        },
        "1ea4eb47d1914a34ba9ca5f1fa67228e": {
          "model_module": "@jupyter-widgets/controls",
          "model_module_version": "1.5.0",
          "model_name": "HTMLModel",
          "state": {
            "_dom_classes": [],
            "_model_module": "@jupyter-widgets/controls",
            "_model_module_version": "1.5.0",
            "_model_name": "HTMLModel",
            "_view_count": null,
            "_view_module": "@jupyter-widgets/controls",
            "_view_module_version": "1.5.0",
            "_view_name": "HTMLView",
            "description": "",
            "description_tooltip": null,
            "layout": "IPY_MODEL_ad4340896c8c455e8dda883e262555a9",
            "placeholder": "​",
            "style": "IPY_MODEL_ed8b54cd29d549b1bb67bd75ccaff610",
            "value": " 116/116 [00:00&lt;00:00, 2.50kB/s]"
          }
        },
        "1ec5ba162fd145a38221cdb71d5bf4fe": {
          "model_module": "@jupyter-widgets/controls",
          "model_module_version": "1.5.0",
          "model_name": "DescriptionStyleModel",
          "state": {
            "_model_module": "@jupyter-widgets/controls",
            "_model_module_version": "1.5.0",
            "_model_name": "DescriptionStyleModel",
            "_view_count": null,
            "_view_module": "@jupyter-widgets/base",
            "_view_module_version": "1.2.0",
            "_view_name": "StyleView",
            "description_width": ""
          }
        },
        "1f7fa54e2f154dac9e89df278cbdf997": {
          "model_module": "@jupyter-widgets/base",
          "model_module_version": "1.2.0",
          "model_name": "LayoutModel",
          "state": {
            "_model_module": "@jupyter-widgets/base",
            "_model_module_version": "1.2.0",
            "_model_name": "LayoutModel",
            "_view_count": null,
            "_view_module": "@jupyter-widgets/base",
            "_view_module_version": "1.2.0",
            "_view_name": "LayoutView",
            "align_content": null,
            "align_items": null,
            "align_self": null,
            "border": null,
            "bottom": null,
            "display": null,
            "flex": null,
            "flex_flow": null,
            "grid_area": null,
            "grid_auto_columns": null,
            "grid_auto_flow": null,
            "grid_auto_rows": null,
            "grid_column": null,
            "grid_gap": null,
            "grid_row": null,
            "grid_template_areas": null,
            "grid_template_columns": null,
            "grid_template_rows": null,
            "height": null,
            "justify_content": null,
            "justify_items": null,
            "left": null,
            "margin": null,
            "max_height": null,
            "max_width": null,
            "min_height": null,
            "min_width": null,
            "object_fit": null,
            "object_position": null,
            "order": null,
            "overflow": null,
            "overflow_x": null,
            "overflow_y": null,
            "padding": null,
            "right": null,
            "top": null,
            "visibility": null,
            "width": null
          }
        },
        "20a8d79fcbd84cda9dd6031858608522": {
          "model_module": "@jupyter-widgets/controls",
          "model_module_version": "1.5.0",
          "model_name": "FloatProgressModel",
          "state": {
            "_dom_classes": [],
            "_model_module": "@jupyter-widgets/controls",
            "_model_module_version": "1.5.0",
            "_model_name": "FloatProgressModel",
            "_view_count": null,
            "_view_module": "@jupyter-widgets/controls",
            "_view_module_version": "1.5.0",
            "_view_name": "ProgressView",
            "bar_style": "success",
            "description": "",
            "description_tooltip": null,
            "layout": "IPY_MODEL_cfe8f8374d69450380fa0378f324da64",
            "max": 231508,
            "min": 0,
            "orientation": "horizontal",
            "style": "IPY_MODEL_1b6ea22da1c44d0aae93956690295955",
            "value": 231508
          }
        },
        "21531a4a3e6e49a9bb790790aecf174b": {
          "model_module": "@jupyter-widgets/controls",
          "model_module_version": "1.5.0",
          "model_name": "DescriptionStyleModel",
          "state": {
            "_model_module": "@jupyter-widgets/controls",
            "_model_module_version": "1.5.0",
            "_model_name": "DescriptionStyleModel",
            "_view_count": null,
            "_view_module": "@jupyter-widgets/base",
            "_view_module_version": "1.2.0",
            "_view_name": "StyleView",
            "description_width": ""
          }
        },
        "23281a9831284ac5b93d9dc2f99ff08f": {
          "model_module": "@jupyter-widgets/controls",
          "model_module_version": "1.5.0",
          "model_name": "FloatProgressModel",
          "state": {
            "_dom_classes": [],
            "_model_module": "@jupyter-widgets/controls",
            "_model_module_version": "1.5.0",
            "_model_name": "FloatProgressModel",
            "_view_count": null,
            "_view_module": "@jupyter-widgets/controls",
            "_view_module_version": "1.5.0",
            "_view_name": "ProgressView",
            "bar_style": "success",
            "description": "",
            "description_tooltip": null,
            "layout": "IPY_MODEL_cb22bb21cc274f43a011aff9a8d4dbea",
            "max": 349,
            "min": 0,
            "orientation": "horizontal",
            "style": "IPY_MODEL_957b6a17dc7e452fad64c7a05f965bf0",
            "value": 349
          }
        },
        "242b25244c0c4f738d6d34f56b6bef51": {
          "model_module": "@jupyter-widgets/controls",
          "model_module_version": "1.5.0",
          "model_name": "DescriptionStyleModel",
          "state": {
            "_model_module": "@jupyter-widgets/controls",
            "_model_module_version": "1.5.0",
            "_model_name": "DescriptionStyleModel",
            "_view_count": null,
            "_view_module": "@jupyter-widgets/base",
            "_view_module_version": "1.2.0",
            "_view_name": "StyleView",
            "description_width": ""
          }
        },
        "2515c48bef3b41ca9c2bafcba7441bd7": {
          "model_module": "@jupyter-widgets/controls",
          "model_module_version": "1.5.0",
          "model_name": "ProgressStyleModel",
          "state": {
            "_model_module": "@jupyter-widgets/controls",
            "_model_module_version": "1.5.0",
            "_model_name": "ProgressStyleModel",
            "_view_count": null,
            "_view_module": "@jupyter-widgets/base",
            "_view_module_version": "1.2.0",
            "_view_name": "StyleView",
            "bar_color": null,
            "description_width": ""
          }
        },
        "25d2564543234fb49cb964542671bb00": {
          "model_module": "@jupyter-widgets/controls",
          "model_module_version": "1.5.0",
          "model_name": "DescriptionStyleModel",
          "state": {
            "_model_module": "@jupyter-widgets/controls",
            "_model_module_version": "1.5.0",
            "_model_name": "DescriptionStyleModel",
            "_view_count": null,
            "_view_module": "@jupyter-widgets/base",
            "_view_module_version": "1.2.0",
            "_view_name": "StyleView",
            "description_width": ""
          }
        },
        "26404e80d8234498a52aa55b01b802b2": {
          "model_module": "@jupyter-widgets/controls",
          "model_module_version": "1.5.0",
          "model_name": "HTMLModel",
          "state": {
            "_dom_classes": [],
            "_model_module": "@jupyter-widgets/controls",
            "_model_module_version": "1.5.0",
            "_model_name": "HTMLModel",
            "_view_count": null,
            "_view_module": "@jupyter-widgets/controls",
            "_view_module_version": "1.5.0",
            "_view_name": "HTMLView",
            "description": "",
            "description_tooltip": null,
            "layout": "IPY_MODEL_012609a3b8004ad1ac41297e8bca8e75",
            "placeholder": "​",
            "style": "IPY_MODEL_8a6d76c9b6484d13a09569acee7d766e",
            "value": "special_tokens_map.json: 100%"
          }
        },
        "27e8d4cc16e0470ba19fba2777922b98": {
          "model_module": "@jupyter-widgets/base",
          "model_module_version": "1.2.0",
          "model_name": "LayoutModel",
          "state": {
            "_model_module": "@jupyter-widgets/base",
            "_model_module_version": "1.2.0",
            "_model_name": "LayoutModel",
            "_view_count": null,
            "_view_module": "@jupyter-widgets/base",
            "_view_module_version": "1.2.0",
            "_view_name": "LayoutView",
            "align_content": null,
            "align_items": null,
            "align_self": null,
            "border": null,
            "bottom": null,
            "display": null,
            "flex": null,
            "flex_flow": null,
            "grid_area": null,
            "grid_auto_columns": null,
            "grid_auto_flow": null,
            "grid_auto_rows": null,
            "grid_column": null,
            "grid_gap": null,
            "grid_row": null,
            "grid_template_areas": null,
            "grid_template_columns": null,
            "grid_template_rows": null,
            "height": null,
            "justify_content": null,
            "justify_items": null,
            "left": null,
            "margin": null,
            "max_height": null,
            "max_width": null,
            "min_height": null,
            "min_width": null,
            "object_fit": null,
            "object_position": null,
            "order": null,
            "overflow": null,
            "overflow_x": null,
            "overflow_y": null,
            "padding": null,
            "right": null,
            "top": null,
            "visibility": null,
            "width": null
          }
        },
        "2812734328564bf39c93704ffebdbd1e": {
          "model_module": "@jupyter-widgets/base",
          "model_module_version": "1.2.0",
          "model_name": "LayoutModel",
          "state": {
            "_model_module": "@jupyter-widgets/base",
            "_model_module_version": "1.2.0",
            "_model_name": "LayoutModel",
            "_view_count": null,
            "_view_module": "@jupyter-widgets/base",
            "_view_module_version": "1.2.0",
            "_view_name": "LayoutView",
            "align_content": null,
            "align_items": null,
            "align_self": null,
            "border": null,
            "bottom": null,
            "display": null,
            "flex": null,
            "flex_flow": null,
            "grid_area": null,
            "grid_auto_columns": null,
            "grid_auto_flow": null,
            "grid_auto_rows": null,
            "grid_column": null,
            "grid_gap": null,
            "grid_row": null,
            "grid_template_areas": null,
            "grid_template_columns": null,
            "grid_template_rows": null,
            "height": null,
            "justify_content": null,
            "justify_items": null,
            "left": null,
            "margin": null,
            "max_height": null,
            "max_width": null,
            "min_height": null,
            "min_width": null,
            "object_fit": null,
            "object_position": null,
            "order": null,
            "overflow": null,
            "overflow_x": null,
            "overflow_y": null,
            "padding": null,
            "right": null,
            "top": null,
            "visibility": null,
            "width": null
          }
        },
        "285190df382c4723b8ca5c41b5ada50d": {
          "model_module": "@jupyter-widgets/controls",
          "model_module_version": "1.5.0",
          "model_name": "DescriptionStyleModel",
          "state": {
            "_model_module": "@jupyter-widgets/controls",
            "_model_module_version": "1.5.0",
            "_model_name": "DescriptionStyleModel",
            "_view_count": null,
            "_view_module": "@jupyter-widgets/base",
            "_view_module_version": "1.2.0",
            "_view_name": "StyleView",
            "description_width": ""
          }
        },
        "286cb036067c4f2a82003f6bca9f7a9c": {
          "model_module": "@jupyter-widgets/controls",
          "model_module_version": "1.5.0",
          "model_name": "ProgressStyleModel",
          "state": {
            "_model_module": "@jupyter-widgets/controls",
            "_model_module_version": "1.5.0",
            "_model_name": "ProgressStyleModel",
            "_view_count": null,
            "_view_module": "@jupyter-widgets/base",
            "_view_module_version": "1.2.0",
            "_view_name": "StyleView",
            "bar_color": null,
            "description_width": ""
          }
        },
        "29d466c5097344a2a259f585d0dc8515": {
          "model_module": "@jupyter-widgets/controls",
          "model_module_version": "1.5.0",
          "model_name": "FloatProgressModel",
          "state": {
            "_dom_classes": [],
            "_model_module": "@jupyter-widgets/controls",
            "_model_module_version": "1.5.0",
            "_model_name": "FloatProgressModel",
            "_view_count": null,
            "_view_module": "@jupyter-widgets/controls",
            "_view_module_version": "1.5.0",
            "_view_name": "ProgressView",
            "bar_style": "success",
            "description": "",
            "description_tooltip": null,
            "layout": "IPY_MODEL_8ab387a20d4a42d0941ed267fccf4e34",
            "max": 13156,
            "min": 0,
            "orientation": "horizontal",
            "style": "IPY_MODEL_147e92146b8f40f9983c2e856ab027e6",
            "value": 13156
          }
        },
        "2b94a3618e10477e975c690be469762b": {
          "model_module": "@jupyter-widgets/controls",
          "model_module_version": "1.5.0",
          "model_name": "HBoxModel",
          "state": {
            "_dom_classes": [],
            "_model_module": "@jupyter-widgets/controls",
            "_model_module_version": "1.5.0",
            "_model_name": "HBoxModel",
            "_view_count": null,
            "_view_module": "@jupyter-widgets/controls",
            "_view_module_version": "1.5.0",
            "_view_name": "HBoxView",
            "box_style": "",
            "children": [
              "IPY_MODEL_73b9f66f78944dfc96b9b953ace8048a",
              "IPY_MODEL_29d466c5097344a2a259f585d0dc8515",
              "IPY_MODEL_c48ac009a7c443ed9ecc9c4ea98a707d"
            ],
            "layout": "IPY_MODEL_36d8eb9bb12a4964b5699c06ad7aee2a"
          }
        },
        "30cb17f2076e4d50be159b2e91f7640e": {
          "model_module": "@jupyter-widgets/controls",
          "model_module_version": "1.5.0",
          "model_name": "HBoxModel",
          "state": {
            "_dom_classes": [],
            "_model_module": "@jupyter-widgets/controls",
            "_model_module_version": "1.5.0",
            "_model_name": "HBoxModel",
            "_view_count": null,
            "_view_module": "@jupyter-widgets/controls",
            "_view_module_version": "1.5.0",
            "_view_name": "HBoxView",
            "box_style": "",
            "children": [
              "IPY_MODEL_d8124d64004b4d20bf5594cb95840620",
              "IPY_MODEL_7ae97bb1446245639a8ac882b26a7cc1",
              "IPY_MODEL_4e72cd050a75431ab4ce1e9cff2b490c"
            ],
            "layout": "IPY_MODEL_8fc29a2859cd40d2939d5ffeb29d1842"
          }
        },
        "310fe1316ecf4cd4a1849f043cc717d4": {
          "model_module": "@jupyter-widgets/base",
          "model_module_version": "1.2.0",
          "model_name": "LayoutModel",
          "state": {
            "_model_module": "@jupyter-widgets/base",
            "_model_module_version": "1.2.0",
            "_model_name": "LayoutModel",
            "_view_count": null,
            "_view_module": "@jupyter-widgets/base",
            "_view_module_version": "1.2.0",
            "_view_name": "LayoutView",
            "align_content": null,
            "align_items": null,
            "align_self": null,
            "border": null,
            "bottom": null,
            "display": null,
            "flex": null,
            "flex_flow": null,
            "grid_area": null,
            "grid_auto_columns": null,
            "grid_auto_flow": null,
            "grid_auto_rows": null,
            "grid_column": null,
            "grid_gap": null,
            "grid_row": null,
            "grid_template_areas": null,
            "grid_template_columns": null,
            "grid_template_rows": null,
            "height": null,
            "justify_content": null,
            "justify_items": null,
            "left": null,
            "margin": null,
            "max_height": null,
            "max_width": null,
            "min_height": null,
            "min_width": null,
            "object_fit": null,
            "object_position": null,
            "order": null,
            "overflow": null,
            "overflow_x": null,
            "overflow_y": null,
            "padding": null,
            "right": null,
            "top": null,
            "visibility": null,
            "width": null
          }
        },
        "3272fb529b47425b9c3b6cb8ba5e29fe": {
          "model_module": "@jupyter-widgets/base",
          "model_module_version": "1.2.0",
          "model_name": "LayoutModel",
          "state": {
            "_model_module": "@jupyter-widgets/base",
            "_model_module_version": "1.2.0",
            "_model_name": "LayoutModel",
            "_view_count": null,
            "_view_module": "@jupyter-widgets/base",
            "_view_module_version": "1.2.0",
            "_view_name": "LayoutView",
            "align_content": null,
            "align_items": null,
            "align_self": null,
            "border": null,
            "bottom": null,
            "display": null,
            "flex": null,
            "flex_flow": null,
            "grid_area": null,
            "grid_auto_columns": null,
            "grid_auto_flow": null,
            "grid_auto_rows": null,
            "grid_column": null,
            "grid_gap": null,
            "grid_row": null,
            "grid_template_areas": null,
            "grid_template_columns": null,
            "grid_template_rows": null,
            "height": null,
            "justify_content": null,
            "justify_items": null,
            "left": null,
            "margin": null,
            "max_height": null,
            "max_width": null,
            "min_height": null,
            "min_width": null,
            "object_fit": null,
            "object_position": null,
            "order": null,
            "overflow": null,
            "overflow_x": null,
            "overflow_y": null,
            "padding": null,
            "right": null,
            "top": null,
            "visibility": null,
            "width": null
          }
        },
        "35b6dfb64b624546bbd493352d08e92d": {
          "model_module": "@jupyter-widgets/controls",
          "model_module_version": "1.5.0",
          "model_name": "ProgressStyleModel",
          "state": {
            "_model_module": "@jupyter-widgets/controls",
            "_model_module_version": "1.5.0",
            "_model_name": "ProgressStyleModel",
            "_view_count": null,
            "_view_module": "@jupyter-widgets/base",
            "_view_module_version": "1.2.0",
            "_view_name": "StyleView",
            "bar_color": null,
            "description_width": ""
          }
        },
        "35be898b1fb840aca00022e19507b6fd": {
          "model_module": "@jupyter-widgets/base",
          "model_module_version": "1.2.0",
          "model_name": "LayoutModel",
          "state": {
            "_model_module": "@jupyter-widgets/base",
            "_model_module_version": "1.2.0",
            "_model_name": "LayoutModel",
            "_view_count": null,
            "_view_module": "@jupyter-widgets/base",
            "_view_module_version": "1.2.0",
            "_view_name": "LayoutView",
            "align_content": null,
            "align_items": null,
            "align_self": null,
            "border": null,
            "bottom": null,
            "display": null,
            "flex": null,
            "flex_flow": null,
            "grid_area": null,
            "grid_auto_columns": null,
            "grid_auto_flow": null,
            "grid_auto_rows": null,
            "grid_column": null,
            "grid_gap": null,
            "grid_row": null,
            "grid_template_areas": null,
            "grid_template_columns": null,
            "grid_template_rows": null,
            "height": null,
            "justify_content": null,
            "justify_items": null,
            "left": null,
            "margin": null,
            "max_height": null,
            "max_width": null,
            "min_height": null,
            "min_width": null,
            "object_fit": null,
            "object_position": null,
            "order": null,
            "overflow": null,
            "overflow_x": null,
            "overflow_y": null,
            "padding": null,
            "right": null,
            "top": null,
            "visibility": null,
            "width": null
          }
        },
        "36d8eb9bb12a4964b5699c06ad7aee2a": {
          "model_module": "@jupyter-widgets/base",
          "model_module_version": "1.2.0",
          "model_name": "LayoutModel",
          "state": {
            "_model_module": "@jupyter-widgets/base",
            "_model_module_version": "1.2.0",
            "_model_name": "LayoutModel",
            "_view_count": null,
            "_view_module": "@jupyter-widgets/base",
            "_view_module_version": "1.2.0",
            "_view_name": "LayoutView",
            "align_content": null,
            "align_items": null,
            "align_self": null,
            "border": null,
            "bottom": null,
            "display": null,
            "flex": null,
            "flex_flow": null,
            "grid_area": null,
            "grid_auto_columns": null,
            "grid_auto_flow": null,
            "grid_auto_rows": null,
            "grid_column": null,
            "grid_gap": null,
            "grid_row": null,
            "grid_template_areas": null,
            "grid_template_columns": null,
            "grid_template_rows": null,
            "height": null,
            "justify_content": null,
            "justify_items": null,
            "left": null,
            "margin": null,
            "max_height": null,
            "max_width": null,
            "min_height": null,
            "min_width": null,
            "object_fit": null,
            "object_position": null,
            "order": null,
            "overflow": null,
            "overflow_x": null,
            "overflow_y": null,
            "padding": null,
            "right": null,
            "top": null,
            "visibility": null,
            "width": null
          }
        },
        "38330bd953d94ca28f046506314c3ea6": {
          "model_module": "@jupyter-widgets/controls",
          "model_module_version": "1.5.0",
          "model_name": "FloatProgressModel",
          "state": {
            "_dom_classes": [],
            "_model_module": "@jupyter-widgets/controls",
            "_model_module_version": "1.5.0",
            "_model_name": "FloatProgressModel",
            "_view_count": null,
            "_view_module": "@jupyter-widgets/controls",
            "_view_module_version": "1.5.0",
            "_view_name": "ProgressView",
            "bar_style": "success",
            "description": "",
            "description_tooltip": null,
            "layout": "IPY_MODEL_c868215241e64d36afb8e2427c86a83e",
            "max": 10610,
            "min": 0,
            "orientation": "horizontal",
            "style": "IPY_MODEL_286cb036067c4f2a82003f6bca9f7a9c",
            "value": 10610
          }
        },
        "3daae254359a4572b85514eeb5919c7a": {
          "model_module": "@jupyter-widgets/controls",
          "model_module_version": "1.5.0",
          "model_name": "DescriptionStyleModel",
          "state": {
            "_model_module": "@jupyter-widgets/controls",
            "_model_module_version": "1.5.0",
            "_model_name": "DescriptionStyleModel",
            "_view_count": null,
            "_view_module": "@jupyter-widgets/base",
            "_view_module_version": "1.2.0",
            "_view_name": "StyleView",
            "description_width": ""
          }
        },
        "3f960db72a4b4bb5b5a6e51ff63d8e44": {
          "model_module": "@jupyter-widgets/controls",
          "model_module_version": "1.5.0",
          "model_name": "ProgressStyleModel",
          "state": {
            "_model_module": "@jupyter-widgets/controls",
            "_model_module_version": "1.5.0",
            "_model_name": "ProgressStyleModel",
            "_view_count": null,
            "_view_module": "@jupyter-widgets/base",
            "_view_module_version": "1.2.0",
            "_view_name": "StyleView",
            "bar_color": null,
            "description_width": ""
          }
        },
        "40b3637e44c048db8d1d005a45be1103": {
          "model_module": "@jupyter-widgets/base",
          "model_module_version": "1.2.0",
          "model_name": "LayoutModel",
          "state": {
            "_model_module": "@jupyter-widgets/base",
            "_model_module_version": "1.2.0",
            "_model_name": "LayoutModel",
            "_view_count": null,
            "_view_module": "@jupyter-widgets/base",
            "_view_module_version": "1.2.0",
            "_view_name": "LayoutView",
            "align_content": null,
            "align_items": null,
            "align_self": null,
            "border": null,
            "bottom": null,
            "display": null,
            "flex": null,
            "flex_flow": null,
            "grid_area": null,
            "grid_auto_columns": null,
            "grid_auto_flow": null,
            "grid_auto_rows": null,
            "grid_column": null,
            "grid_gap": null,
            "grid_row": null,
            "grid_template_areas": null,
            "grid_template_columns": null,
            "grid_template_rows": null,
            "height": null,
            "justify_content": null,
            "justify_items": null,
            "left": null,
            "margin": null,
            "max_height": null,
            "max_width": null,
            "min_height": null,
            "min_width": null,
            "object_fit": null,
            "object_position": null,
            "order": null,
            "overflow": null,
            "overflow_x": null,
            "overflow_y": null,
            "padding": null,
            "right": null,
            "top": null,
            "visibility": null,
            "width": null
          }
        },
        "41367d3c92f44769a379fc69c0b92f21": {
          "model_module": "@jupyter-widgets/controls",
          "model_module_version": "1.5.0",
          "model_name": "HTMLModel",
          "state": {
            "_dom_classes": [],
            "_model_module": "@jupyter-widgets/controls",
            "_model_module_version": "1.5.0",
            "_model_name": "HTMLModel",
            "_view_count": null,
            "_view_module": "@jupyter-widgets/controls",
            "_view_module_version": "1.5.0",
            "_view_name": "HTMLView",
            "description": "",
            "description_tooltip": null,
            "layout": "IPY_MODEL_310fe1316ecf4cd4a1849f043cc717d4",
            "placeholder": "​",
            "style": "IPY_MODEL_285190df382c4723b8ca5c41b5ada50d",
            "value": "vocab.txt: 100%"
          }
        },
        "44e4f240cd88463886a6a4634d55aea9": {
          "model_module": "@jupyter-widgets/controls",
          "model_module_version": "1.5.0",
          "model_name": "HBoxModel",
          "state": {
            "_dom_classes": [],
            "_model_module": "@jupyter-widgets/controls",
            "_model_module_version": "1.5.0",
            "_model_name": "HBoxModel",
            "_view_count": null,
            "_view_module": "@jupyter-widgets/controls",
            "_view_module_version": "1.5.0",
            "_view_name": "HBoxView",
            "box_style": "",
            "children": [
              "IPY_MODEL_8b39e110030b4a459ed677813aa1adca",
              "IPY_MODEL_38330bd953d94ca28f046506314c3ea6",
              "IPY_MODEL_8220a60800594fe5a78d03217328f8ad"
            ],
            "layout": "IPY_MODEL_9c7186ff18f14f588b4ef57387a5acfe"
          }
        },
        "458dbb9721114795a520fba44e0a8c67": {
          "model_module": "@jupyter-widgets/base",
          "model_module_version": "1.2.0",
          "model_name": "LayoutModel",
          "state": {
            "_model_module": "@jupyter-widgets/base",
            "_model_module_version": "1.2.0",
            "_model_name": "LayoutModel",
            "_view_count": null,
            "_view_module": "@jupyter-widgets/base",
            "_view_module_version": "1.2.0",
            "_view_name": "LayoutView",
            "align_content": null,
            "align_items": null,
            "align_self": null,
            "border": null,
            "bottom": null,
            "display": null,
            "flex": null,
            "flex_flow": null,
            "grid_area": null,
            "grid_auto_columns": null,
            "grid_auto_flow": null,
            "grid_auto_rows": null,
            "grid_column": null,
            "grid_gap": null,
            "grid_row": null,
            "grid_template_areas": null,
            "grid_template_columns": null,
            "grid_template_rows": null,
            "height": null,
            "justify_content": null,
            "justify_items": null,
            "left": null,
            "margin": null,
            "max_height": null,
            "max_width": null,
            "min_height": null,
            "min_width": null,
            "object_fit": null,
            "object_position": null,
            "order": null,
            "overflow": null,
            "overflow_x": null,
            "overflow_y": null,
            "padding": null,
            "right": null,
            "top": null,
            "visibility": null,
            "width": null
          }
        },
        "4592e1db3ddd41adb7794afd52701a81": {
          "model_module": "@jupyter-widgets/base",
          "model_module_version": "1.2.0",
          "model_name": "LayoutModel",
          "state": {
            "_model_module": "@jupyter-widgets/base",
            "_model_module_version": "1.2.0",
            "_model_name": "LayoutModel",
            "_view_count": null,
            "_view_module": "@jupyter-widgets/base",
            "_view_module_version": "1.2.0",
            "_view_name": "LayoutView",
            "align_content": null,
            "align_items": null,
            "align_self": null,
            "border": null,
            "bottom": null,
            "display": null,
            "flex": null,
            "flex_flow": null,
            "grid_area": null,
            "grid_auto_columns": null,
            "grid_auto_flow": null,
            "grid_auto_rows": null,
            "grid_column": null,
            "grid_gap": null,
            "grid_row": null,
            "grid_template_areas": null,
            "grid_template_columns": null,
            "grid_template_rows": null,
            "height": null,
            "justify_content": null,
            "justify_items": null,
            "left": null,
            "margin": null,
            "max_height": null,
            "max_width": null,
            "min_height": null,
            "min_width": null,
            "object_fit": null,
            "object_position": null,
            "order": null,
            "overflow": null,
            "overflow_x": null,
            "overflow_y": null,
            "padding": null,
            "right": null,
            "top": null,
            "visibility": null,
            "width": null
          }
        },
        "4748646fe8344b4b9e7410a4330f0c64": {
          "model_module": "@jupyter-widgets/controls",
          "model_module_version": "1.5.0",
          "model_name": "HTMLModel",
          "state": {
            "_dom_classes": [],
            "_model_module": "@jupyter-widgets/controls",
            "_model_module_version": "1.5.0",
            "_model_name": "HTMLModel",
            "_view_count": null,
            "_view_module": "@jupyter-widgets/controls",
            "_view_module_version": "1.5.0",
            "_view_name": "HTMLView",
            "description": "",
            "description_tooltip": null,
            "layout": "IPY_MODEL_81b3877f467a436083266a6b75a7fd38",
            "placeholder": "​",
            "style": "IPY_MODEL_787632a365dd4646ad8c86cd428ed6a2",
            "value": " 90.9M/90.9M [00:00&lt;00:00, 141MB/s]"
          }
        },
        "493eb301e0c34049af8143dd6c9e642e": {
          "model_module": "@jupyter-widgets/controls",
          "model_module_version": "1.5.0",
          "model_name": "HTMLModel",
          "state": {
            "_dom_classes": [],
            "_model_module": "@jupyter-widgets/controls",
            "_model_module_version": "1.5.0",
            "_model_name": "HTMLModel",
            "_view_count": null,
            "_view_module": "@jupyter-widgets/controls",
            "_view_module_version": "1.5.0",
            "_view_name": "HTMLView",
            "description": "",
            "description_tooltip": null,
            "layout": "IPY_MODEL_97c9560652d44b039049c0eed81fe5db",
            "placeholder": "​",
            "style": "IPY_MODEL_07d56c398aa8450b980d9bb6a556f226",
            "value": "modules.json: 100%"
          }
        },
        "4b9b406d61e7404397e8b3f8e8479616": {
          "model_module": "@jupyter-widgets/base",
          "model_module_version": "1.2.0",
          "model_name": "LayoutModel",
          "state": {
            "_model_module": "@jupyter-widgets/base",
            "_model_module_version": "1.2.0",
            "_model_name": "LayoutModel",
            "_view_count": null,
            "_view_module": "@jupyter-widgets/base",
            "_view_module_version": "1.2.0",
            "_view_name": "LayoutView",
            "align_content": null,
            "align_items": null,
            "align_self": null,
            "border": null,
            "bottom": null,
            "display": null,
            "flex": null,
            "flex_flow": null,
            "grid_area": null,
            "grid_auto_columns": null,
            "grid_auto_flow": null,
            "grid_auto_rows": null,
            "grid_column": null,
            "grid_gap": null,
            "grid_row": null,
            "grid_template_areas": null,
            "grid_template_columns": null,
            "grid_template_rows": null,
            "height": null,
            "justify_content": null,
            "justify_items": null,
            "left": null,
            "margin": null,
            "max_height": null,
            "max_width": null,
            "min_height": null,
            "min_width": null,
            "object_fit": null,
            "object_position": null,
            "order": null,
            "overflow": null,
            "overflow_x": null,
            "overflow_y": null,
            "padding": null,
            "right": null,
            "top": null,
            "visibility": null,
            "width": null
          }
        },
        "4bb3820c05294d7c8d381d03922f0424": {
          "model_module": "@jupyter-widgets/controls",
          "model_module_version": "1.5.0",
          "model_name": "FloatProgressModel",
          "state": {
            "_dom_classes": [],
            "_model_module": "@jupyter-widgets/controls",
            "_model_module_version": "1.5.0",
            "_model_name": "FloatProgressModel",
            "_view_count": null,
            "_view_module": "@jupyter-widgets/controls",
            "_view_module_version": "1.5.0",
            "_view_name": "ProgressView",
            "bar_style": "success",
            "description": "",
            "description_tooltip": null,
            "layout": "IPY_MODEL_7ce23a8af3344a2991d06549eb989d92",
            "max": 1175,
            "min": 0,
            "orientation": "horizontal",
            "style": "IPY_MODEL_8ad04a208ad94073aafde1af4b4d4e30",
            "value": 1175
          }
        },
        "4d0a88caebad4927a1b3262b74040a62": {
          "model_module": "@jupyter-widgets/controls",
          "model_module_version": "1.5.0",
          "model_name": "HBoxModel",
          "state": {
            "_dom_classes": [],
            "_model_module": "@jupyter-widgets/controls",
            "_model_module_version": "1.5.0",
            "_model_name": "HBoxModel",
            "_view_count": null,
            "_view_module": "@jupyter-widgets/controls",
            "_view_module_version": "1.5.0",
            "_view_name": "HBoxView",
            "box_style": "",
            "children": [
              "IPY_MODEL_64b8ee8776de462dbdf77cfa91208a7f",
              "IPY_MODEL_7cfe3b9fed6e43449c180028dea07342",
              "IPY_MODEL_9d675271d88d4b76923402caaf898237"
            ],
            "layout": "IPY_MODEL_8f7dc43515a547c18a58f7062de1090b"
          }
        },
        "4e72cd050a75431ab4ce1e9cff2b490c": {
          "model_module": "@jupyter-widgets/controls",
          "model_module_version": "1.5.0",
          "model_name": "HTMLModel",
          "state": {
            "_dom_classes": [],
            "_model_module": "@jupyter-widgets/controls",
            "_model_module_version": "1.5.0",
            "_model_name": "HTMLModel",
            "_view_count": null,
            "_view_module": "@jupyter-widgets/controls",
            "_view_module_version": "1.5.0",
            "_view_name": "HTMLView",
            "description": "",
            "description_tooltip": null,
            "layout": "IPY_MODEL_58c02bdfedfc407fa6e5f771b7bc81d7",
            "placeholder": "​",
            "style": "IPY_MODEL_cc647bdbe9a24dbb9be0bb1406bb7f9e",
            "value": " 39.3k/39.3k [00:00&lt;00:00, 1.19MB/s]"
          }
        },
        "51cee484a73f40b7820677a3ed0ae95e": {
          "model_module": "@jupyter-widgets/base",
          "model_module_version": "1.2.0",
          "model_name": "LayoutModel",
          "state": {
            "_model_module": "@jupyter-widgets/base",
            "_model_module_version": "1.2.0",
            "_model_name": "LayoutModel",
            "_view_count": null,
            "_view_module": "@jupyter-widgets/base",
            "_view_module_version": "1.2.0",
            "_view_name": "LayoutView",
            "align_content": null,
            "align_items": null,
            "align_self": null,
            "border": null,
            "bottom": null,
            "display": null,
            "flex": null,
            "flex_flow": null,
            "grid_area": null,
            "grid_auto_columns": null,
            "grid_auto_flow": null,
            "grid_auto_rows": null,
            "grid_column": null,
            "grid_gap": null,
            "grid_row": null,
            "grid_template_areas": null,
            "grid_template_columns": null,
            "grid_template_rows": null,
            "height": null,
            "justify_content": null,
            "justify_items": null,
            "left": null,
            "margin": null,
            "max_height": null,
            "max_width": null,
            "min_height": null,
            "min_width": null,
            "object_fit": null,
            "object_position": null,
            "order": null,
            "overflow": null,
            "overflow_x": null,
            "overflow_y": null,
            "padding": null,
            "right": null,
            "top": null,
            "visibility": null,
            "width": null
          }
        },
        "5353996399914670bd70fccbce053f47": {
          "model_module": "@jupyter-widgets/controls",
          "model_module_version": "1.5.0",
          "model_name": "FloatProgressModel",
          "state": {
            "_dom_classes": [],
            "_model_module": "@jupyter-widgets/controls",
            "_model_module_version": "1.5.0",
            "_model_name": "FloatProgressModel",
            "_view_count": null,
            "_view_module": "@jupyter-widgets/controls",
            "_view_module_version": "1.5.0",
            "_view_name": "ProgressView",
            "bar_style": "success",
            "description": "",
            "description_tooltip": null,
            "layout": "IPY_MODEL_a6b4b1acb4024592bc470c640308549e",
            "max": 466247,
            "min": 0,
            "orientation": "horizontal",
            "style": "IPY_MODEL_de893060ee724df7b2728f5e8c519406",
            "value": 466247
          }
        },
        "56362f7040224bc1979eeb9fae6529de": {
          "model_module": "@jupyter-widgets/controls",
          "model_module_version": "1.5.0",
          "model_name": "HBoxModel",
          "state": {
            "_dom_classes": [],
            "_model_module": "@jupyter-widgets/controls",
            "_model_module_version": "1.5.0",
            "_model_name": "HBoxModel",
            "_view_count": null,
            "_view_module": "@jupyter-widgets/controls",
            "_view_module_version": "1.5.0",
            "_view_name": "HBoxView",
            "box_style": "",
            "children": [
              "IPY_MODEL_41367d3c92f44769a379fc69c0b92f21",
              "IPY_MODEL_20a8d79fcbd84cda9dd6031858608522",
              "IPY_MODEL_b25f060c414b4ff6ac1c5f7139079c23"
            ],
            "layout": "IPY_MODEL_cc40dc0e801948b887ba0a6789df6996"
          }
        },
        "567c71c8627f419eb6bf02ca87486fbc": {
          "model_module": "@jupyter-widgets/base",
          "model_module_version": "1.2.0",
          "model_name": "LayoutModel",
          "state": {
            "_model_module": "@jupyter-widgets/base",
            "_model_module_version": "1.2.0",
            "_model_name": "LayoutModel",
            "_view_count": null,
            "_view_module": "@jupyter-widgets/base",
            "_view_module_version": "1.2.0",
            "_view_name": "LayoutView",
            "align_content": null,
            "align_items": null,
            "align_self": null,
            "border": null,
            "bottom": null,
            "display": null,
            "flex": null,
            "flex_flow": null,
            "grid_area": null,
            "grid_auto_columns": null,
            "grid_auto_flow": null,
            "grid_auto_rows": null,
            "grid_column": null,
            "grid_gap": null,
            "grid_row": null,
            "grid_template_areas": null,
            "grid_template_columns": null,
            "grid_template_rows": null,
            "height": null,
            "justify_content": null,
            "justify_items": null,
            "left": null,
            "margin": null,
            "max_height": null,
            "max_width": null,
            "min_height": null,
            "min_width": null,
            "object_fit": null,
            "object_position": null,
            "order": null,
            "overflow": null,
            "overflow_x": null,
            "overflow_y": null,
            "padding": null,
            "right": null,
            "top": null,
            "visibility": null,
            "width": null
          }
        },
        "56cbb527382c4f2896a64c8ab61c0a00": {
          "model_module": "@jupyter-widgets/base",
          "model_module_version": "1.2.0",
          "model_name": "LayoutModel",
          "state": {
            "_model_module": "@jupyter-widgets/base",
            "_model_module_version": "1.2.0",
            "_model_name": "LayoutModel",
            "_view_count": null,
            "_view_module": "@jupyter-widgets/base",
            "_view_module_version": "1.2.0",
            "_view_name": "LayoutView",
            "align_content": null,
            "align_items": null,
            "align_self": null,
            "border": null,
            "bottom": null,
            "display": null,
            "flex": null,
            "flex_flow": null,
            "grid_area": null,
            "grid_auto_columns": null,
            "grid_auto_flow": null,
            "grid_auto_rows": null,
            "grid_column": null,
            "grid_gap": null,
            "grid_row": null,
            "grid_template_areas": null,
            "grid_template_columns": null,
            "grid_template_rows": null,
            "height": null,
            "justify_content": null,
            "justify_items": null,
            "left": null,
            "margin": null,
            "max_height": null,
            "max_width": null,
            "min_height": null,
            "min_width": null,
            "object_fit": null,
            "object_position": null,
            "order": null,
            "overflow": null,
            "overflow_x": null,
            "overflow_y": null,
            "padding": null,
            "right": null,
            "top": null,
            "visibility": null,
            "width": null
          }
        },
        "5796cd66451c4ab9aa24f8d8b7d54716": {
          "model_module": "@jupyter-widgets/base",
          "model_module_version": "1.2.0",
          "model_name": "LayoutModel",
          "state": {
            "_model_module": "@jupyter-widgets/base",
            "_model_module_version": "1.2.0",
            "_model_name": "LayoutModel",
            "_view_count": null,
            "_view_module": "@jupyter-widgets/base",
            "_view_module_version": "1.2.0",
            "_view_name": "LayoutView",
            "align_content": null,
            "align_items": null,
            "align_self": null,
            "border": null,
            "bottom": null,
            "display": null,
            "flex": null,
            "flex_flow": null,
            "grid_area": null,
            "grid_auto_columns": null,
            "grid_auto_flow": null,
            "grid_auto_rows": null,
            "grid_column": null,
            "grid_gap": null,
            "grid_row": null,
            "grid_template_areas": null,
            "grid_template_columns": null,
            "grid_template_rows": null,
            "height": null,
            "justify_content": null,
            "justify_items": null,
            "left": null,
            "margin": null,
            "max_height": null,
            "max_width": null,
            "min_height": null,
            "min_width": null,
            "object_fit": null,
            "object_position": null,
            "order": null,
            "overflow": null,
            "overflow_x": null,
            "overflow_y": null,
            "padding": null,
            "right": null,
            "top": null,
            "visibility": null,
            "width": null
          }
        },
        "58c02bdfedfc407fa6e5f771b7bc81d7": {
          "model_module": "@jupyter-widgets/base",
          "model_module_version": "1.2.0",
          "model_name": "LayoutModel",
          "state": {
            "_model_module": "@jupyter-widgets/base",
            "_model_module_version": "1.2.0",
            "_model_name": "LayoutModel",
            "_view_count": null,
            "_view_module": "@jupyter-widgets/base",
            "_view_module_version": "1.2.0",
            "_view_name": "LayoutView",
            "align_content": null,
            "align_items": null,
            "align_self": null,
            "border": null,
            "bottom": null,
            "display": null,
            "flex": null,
            "flex_flow": null,
            "grid_area": null,
            "grid_auto_columns": null,
            "grid_auto_flow": null,
            "grid_auto_rows": null,
            "grid_column": null,
            "grid_gap": null,
            "grid_row": null,
            "grid_template_areas": null,
            "grid_template_columns": null,
            "grid_template_rows": null,
            "height": null,
            "justify_content": null,
            "justify_items": null,
            "left": null,
            "margin": null,
            "max_height": null,
            "max_width": null,
            "min_height": null,
            "min_width": null,
            "object_fit": null,
            "object_position": null,
            "order": null,
            "overflow": null,
            "overflow_x": null,
            "overflow_y": null,
            "padding": null,
            "right": null,
            "top": null,
            "visibility": null,
            "width": null
          }
        },
        "592b7088b7094c0aa2f2402fb4633ee0": {
          "model_module": "@jupyter-widgets/base",
          "model_module_version": "1.2.0",
          "model_name": "LayoutModel",
          "state": {
            "_model_module": "@jupyter-widgets/base",
            "_model_module_version": "1.2.0",
            "_model_name": "LayoutModel",
            "_view_count": null,
            "_view_module": "@jupyter-widgets/base",
            "_view_module_version": "1.2.0",
            "_view_name": "LayoutView",
            "align_content": null,
            "align_items": null,
            "align_self": null,
            "border": null,
            "bottom": null,
            "display": null,
            "flex": null,
            "flex_flow": null,
            "grid_area": null,
            "grid_auto_columns": null,
            "grid_auto_flow": null,
            "grid_auto_rows": null,
            "grid_column": null,
            "grid_gap": null,
            "grid_row": null,
            "grid_template_areas": null,
            "grid_template_columns": null,
            "grid_template_rows": null,
            "height": null,
            "justify_content": null,
            "justify_items": null,
            "left": null,
            "margin": null,
            "max_height": null,
            "max_width": null,
            "min_height": null,
            "min_width": null,
            "object_fit": null,
            "object_position": null,
            "order": null,
            "overflow": null,
            "overflow_x": null,
            "overflow_y": null,
            "padding": null,
            "right": null,
            "top": null,
            "visibility": null,
            "width": null
          }
        },
        "5b2b327b56054848a811f19ff366fcb5": {
          "model_module": "@jupyter-widgets/controls",
          "model_module_version": "1.5.0",
          "model_name": "FloatProgressModel",
          "state": {
            "_dom_classes": [],
            "_model_module": "@jupyter-widgets/controls",
            "_model_module_version": "1.5.0",
            "_model_name": "FloatProgressModel",
            "_view_count": null,
            "_view_module": "@jupyter-widgets/controls",
            "_view_module_version": "1.5.0",
            "_view_name": "ProgressView",
            "bar_style": "success",
            "description": "",
            "description_tooltip": null,
            "layout": "IPY_MODEL_51cee484a73f40b7820677a3ed0ae95e",
            "max": 90888945,
            "min": 0,
            "orientation": "horizontal",
            "style": "IPY_MODEL_14cfc38c1fa74abcac9b6564f64ca26e",
            "value": 90888945
          }
        },
        "5bdb57fd3c9947de813a4c1362b41a58": {
          "model_module": "@jupyter-widgets/controls",
          "model_module_version": "1.5.0",
          "model_name": "HBoxModel",
          "state": {
            "_dom_classes": [],
            "_model_module": "@jupyter-widgets/controls",
            "_model_module_version": "1.5.0",
            "_model_name": "HBoxModel",
            "_view_count": null,
            "_view_module": "@jupyter-widgets/controls",
            "_view_module_version": "1.5.0",
            "_view_name": "HBoxView",
            "box_style": "",
            "children": [
              "IPY_MODEL_da73bb64eb3844e4bd2a29bb6163839c",
              "IPY_MODEL_13b0f9d0239147e381b5344e585ba1d0",
              "IPY_MODEL_ffb594d3154044ac9e0bc87a71d37d72"
            ],
            "layout": "IPY_MODEL_27e8d4cc16e0470ba19fba2777922b98"
          }
        },
        "5f7498300d60408caad30a85292a6c0f": {
          "model_module": "@jupyter-widgets/base",
          "model_module_version": "1.2.0",
          "model_name": "LayoutModel",
          "state": {
            "_model_module": "@jupyter-widgets/base",
            "_model_module_version": "1.2.0",
            "_model_name": "LayoutModel",
            "_view_count": null,
            "_view_module": "@jupyter-widgets/base",
            "_view_module_version": "1.2.0",
            "_view_name": "LayoutView",
            "align_content": null,
            "align_items": null,
            "align_self": null,
            "border": null,
            "bottom": null,
            "display": null,
            "flex": null,
            "flex_flow": null,
            "grid_area": null,
            "grid_auto_columns": null,
            "grid_auto_flow": null,
            "grid_auto_rows": null,
            "grid_column": null,
            "grid_gap": null,
            "grid_row": null,
            "grid_template_areas": null,
            "grid_template_columns": null,
            "grid_template_rows": null,
            "height": null,
            "justify_content": null,
            "justify_items": null,
            "left": null,
            "margin": null,
            "max_height": null,
            "max_width": null,
            "min_height": null,
            "min_width": null,
            "object_fit": null,
            "object_position": null,
            "order": null,
            "overflow": null,
            "overflow_x": null,
            "overflow_y": null,
            "padding": null,
            "right": null,
            "top": null,
            "visibility": null,
            "width": null
          }
        },
        "61d5987dcf0c4ddfbe0067e0072ecc84": {
          "model_module": "@jupyter-widgets/base",
          "model_module_version": "1.2.0",
          "model_name": "LayoutModel",
          "state": {
            "_model_module": "@jupyter-widgets/base",
            "_model_module_version": "1.2.0",
            "_model_name": "LayoutModel",
            "_view_count": null,
            "_view_module": "@jupyter-widgets/base",
            "_view_module_version": "1.2.0",
            "_view_name": "LayoutView",
            "align_content": null,
            "align_items": null,
            "align_self": null,
            "border": null,
            "bottom": null,
            "display": null,
            "flex": null,
            "flex_flow": null,
            "grid_area": null,
            "grid_auto_columns": null,
            "grid_auto_flow": null,
            "grid_auto_rows": null,
            "grid_column": null,
            "grid_gap": null,
            "grid_row": null,
            "grid_template_areas": null,
            "grid_template_columns": null,
            "grid_template_rows": null,
            "height": null,
            "justify_content": null,
            "justify_items": null,
            "left": null,
            "margin": null,
            "max_height": null,
            "max_width": null,
            "min_height": null,
            "min_width": null,
            "object_fit": null,
            "object_position": null,
            "order": null,
            "overflow": null,
            "overflow_x": null,
            "overflow_y": null,
            "padding": null,
            "right": null,
            "top": null,
            "visibility": null,
            "width": null
          }
        },
        "64b8ee8776de462dbdf77cfa91208a7f": {
          "model_module": "@jupyter-widgets/controls",
          "model_module_version": "1.5.0",
          "model_name": "HTMLModel",
          "state": {
            "_dom_classes": [],
            "_model_module": "@jupyter-widgets/controls",
            "_model_module_version": "1.5.0",
            "_model_name": "HTMLModel",
            "_view_count": null,
            "_view_module": "@jupyter-widgets/controls",
            "_view_module_version": "1.5.0",
            "_view_name": "HTMLView",
            "description": "",
            "description_tooltip": null,
            "layout": "IPY_MODEL_4b9b406d61e7404397e8b3f8e8479616",
            "placeholder": "​",
            "style": "IPY_MODEL_cbc386706f984af9a52132a8a06570fe",
            "value": "config.json: 100%"
          }
        },
        "650a2f068fb442388c20e2c0a646d3aa": {
          "model_module": "@jupyter-widgets/controls",
          "model_module_version": "1.5.0",
          "model_name": "HTMLModel",
          "state": {
            "_dom_classes": [],
            "_model_module": "@jupyter-widgets/controls",
            "_model_module_version": "1.5.0",
            "_model_name": "HTMLModel",
            "_view_count": null,
            "_view_module": "@jupyter-widgets/controls",
            "_view_module_version": "1.5.0",
            "_view_name": "HTMLView",
            "description": "",
            "description_tooltip": null,
            "layout": "IPY_MODEL_074dc698db094771b24f242c5d17d400",
            "placeholder": "​",
            "style": "IPY_MODEL_7ec8457c7f6e4710839de89a40fb8bfe",
            "value": " 349/349 [00:00&lt;00:00, 4.24kB/s]"
          }
        },
        "6646ea094cfd4bd4a8a0a4eb42eda71e": {
          "model_module": "@jupyter-widgets/controls",
          "model_module_version": "1.5.0",
          "model_name": "DescriptionStyleModel",
          "state": {
            "_model_module": "@jupyter-widgets/controls",
            "_model_module_version": "1.5.0",
            "_model_name": "DescriptionStyleModel",
            "_view_count": null,
            "_view_module": "@jupyter-widgets/base",
            "_view_module_version": "1.2.0",
            "_view_name": "StyleView",
            "description_width": ""
          }
        },
        "6a78a4098aa34b8cbc071f5fb67487e9": {
          "model_module": "@jupyter-widgets/base",
          "model_module_version": "1.2.0",
          "model_name": "LayoutModel",
          "state": {
            "_model_module": "@jupyter-widgets/base",
            "_model_module_version": "1.2.0",
            "_model_name": "LayoutModel",
            "_view_count": null,
            "_view_module": "@jupyter-widgets/base",
            "_view_module_version": "1.2.0",
            "_view_name": "LayoutView",
            "align_content": null,
            "align_items": null,
            "align_self": null,
            "border": null,
            "bottom": null,
            "display": null,
            "flex": null,
            "flex_flow": null,
            "grid_area": null,
            "grid_auto_columns": null,
            "grid_auto_flow": null,
            "grid_auto_rows": null,
            "grid_column": null,
            "grid_gap": null,
            "grid_row": null,
            "grid_template_areas": null,
            "grid_template_columns": null,
            "grid_template_rows": null,
            "height": null,
            "justify_content": null,
            "justify_items": null,
            "left": null,
            "margin": null,
            "max_height": null,
            "max_width": null,
            "min_height": null,
            "min_width": null,
            "object_fit": null,
            "object_position": null,
            "order": null,
            "overflow": null,
            "overflow_x": null,
            "overflow_y": null,
            "padding": null,
            "right": null,
            "top": null,
            "visibility": null,
            "width": null
          }
        },
        "6b4ad65007b24cba99fda38667eb3591": {
          "model_module": "@jupyter-widgets/controls",
          "model_module_version": "1.5.0",
          "model_name": "DescriptionStyleModel",
          "state": {
            "_model_module": "@jupyter-widgets/controls",
            "_model_module_version": "1.5.0",
            "_model_name": "DescriptionStyleModel",
            "_view_count": null,
            "_view_module": "@jupyter-widgets/base",
            "_view_module_version": "1.2.0",
            "_view_name": "StyleView",
            "description_width": ""
          }
        },
        "7054e7a7d35c47db88246cc58fa2c60c": {
          "model_module": "@jupyter-widgets/base",
          "model_module_version": "1.2.0",
          "model_name": "LayoutModel",
          "state": {
            "_model_module": "@jupyter-widgets/base",
            "_model_module_version": "1.2.0",
            "_model_name": "LayoutModel",
            "_view_count": null,
            "_view_module": "@jupyter-widgets/base",
            "_view_module_version": "1.2.0",
            "_view_name": "LayoutView",
            "align_content": null,
            "align_items": null,
            "align_self": null,
            "border": null,
            "bottom": null,
            "display": null,
            "flex": null,
            "flex_flow": null,
            "grid_area": null,
            "grid_auto_columns": null,
            "grid_auto_flow": null,
            "grid_auto_rows": null,
            "grid_column": null,
            "grid_gap": null,
            "grid_row": null,
            "grid_template_areas": null,
            "grid_template_columns": null,
            "grid_template_rows": null,
            "height": null,
            "justify_content": null,
            "justify_items": null,
            "left": null,
            "margin": null,
            "max_height": null,
            "max_width": null,
            "min_height": null,
            "min_width": null,
            "object_fit": null,
            "object_position": null,
            "order": null,
            "overflow": null,
            "overflow_x": null,
            "overflow_y": null,
            "padding": null,
            "right": null,
            "top": null,
            "visibility": null,
            "width": null
          }
        },
        "71230f8262204eebaccaf7848a2ad840": {
          "model_module": "@jupyter-widgets/controls",
          "model_module_version": "1.5.0",
          "model_name": "HTMLModel",
          "state": {
            "_dom_classes": [],
            "_model_module": "@jupyter-widgets/controls",
            "_model_module_version": "1.5.0",
            "_model_name": "HTMLModel",
            "_view_count": null,
            "_view_module": "@jupyter-widgets/controls",
            "_view_module_version": "1.5.0",
            "_view_name": "HTMLView",
            "description": "",
            "description_tooltip": null,
            "layout": "IPY_MODEL_40b3637e44c048db8d1d005a45be1103",
            "placeholder": "​",
            "style": "IPY_MODEL_0f49a126b6244329a810604ed39f8c49",
            "value": "pytorch_model.bin: 100%"
          }
        },
        "73b9f66f78944dfc96b9b953ace8048a": {
          "model_module": "@jupyter-widgets/controls",
          "model_module_version": "1.5.0",
          "model_name": "HTMLModel",
          "state": {
            "_dom_classes": [],
            "_model_module": "@jupyter-widgets/controls",
            "_model_module_version": "1.5.0",
            "_model_name": "HTMLModel",
            "_view_count": null,
            "_view_module": "@jupyter-widgets/controls",
            "_view_module_version": "1.5.0",
            "_view_name": "HTMLView",
            "description": "",
            "description_tooltip": null,
            "layout": "IPY_MODEL_7eff6079eff74e22bca9b6752c5f2778",
            "placeholder": "​",
            "style": "IPY_MODEL_7b56efa0852b4f86a09a5ee662642c48",
            "value": "train_script.py: 100%"
          }
        },
        "787632a365dd4646ad8c86cd428ed6a2": {
          "model_module": "@jupyter-widgets/controls",
          "model_module_version": "1.5.0",
          "model_name": "DescriptionStyleModel",
          "state": {
            "_model_module": "@jupyter-widgets/controls",
            "_model_module_version": "1.5.0",
            "_model_name": "DescriptionStyleModel",
            "_view_count": null,
            "_view_module": "@jupyter-widgets/base",
            "_view_module_version": "1.2.0",
            "_view_name": "StyleView",
            "description_width": ""
          }
        },
        "788142774c3a4d8ab669523d6070442e": {
          "model_module": "@jupyter-widgets/controls",
          "model_module_version": "1.5.0",
          "model_name": "HBoxModel",
          "state": {
            "_dom_classes": [],
            "_model_module": "@jupyter-widgets/controls",
            "_model_module_version": "1.5.0",
            "_model_name": "HBoxModel",
            "_view_count": null,
            "_view_module": "@jupyter-widgets/controls",
            "_view_module_version": "1.5.0",
            "_view_name": "HBoxView",
            "box_style": "",
            "children": [
              "IPY_MODEL_26404e80d8234498a52aa55b01b802b2",
              "IPY_MODEL_eade587365ea47298ccb4b2f578e8f3d",
              "IPY_MODEL_e651989f136242a49d5917fc78945184"
            ],
            "layout": "IPY_MODEL_84d61d8f433f4e2895aab65cb0da0eed"
          }
        },
        "7ae97bb1446245639a8ac882b26a7cc1": {
          "model_module": "@jupyter-widgets/controls",
          "model_module_version": "1.5.0",
          "model_name": "FloatProgressModel",
          "state": {
            "_dom_classes": [],
            "_model_module": "@jupyter-widgets/controls",
            "_model_module_version": "1.5.0",
            "_model_name": "FloatProgressModel",
            "_view_count": null,
            "_view_module": "@jupyter-widgets/controls",
            "_view_module_version": "1.5.0",
            "_view_name": "ProgressView",
            "bar_style": "success",
            "description": "",
            "description_tooltip": null,
            "layout": "IPY_MODEL_df21d99ac106499d80228e19fa997ffd",
            "max": 39265,
            "min": 0,
            "orientation": "horizontal",
            "style": "IPY_MODEL_c98a76e2ddef49afa6cab45e36be0454",
            "value": 39265
          }
        },
        "7b56efa0852b4f86a09a5ee662642c48": {
          "model_module": "@jupyter-widgets/controls",
          "model_module_version": "1.5.0",
          "model_name": "DescriptionStyleModel",
          "state": {
            "_model_module": "@jupyter-widgets/controls",
            "_model_module_version": "1.5.0",
            "_model_name": "DescriptionStyleModel",
            "_view_count": null,
            "_view_module": "@jupyter-widgets/base",
            "_view_module_version": "1.2.0",
            "_view_name": "StyleView",
            "description_width": ""
          }
        },
        "7ce23a8af3344a2991d06549eb989d92": {
          "model_module": "@jupyter-widgets/base",
          "model_module_version": "1.2.0",
          "model_name": "LayoutModel",
          "state": {
            "_model_module": "@jupyter-widgets/base",
            "_model_module_version": "1.2.0",
            "_model_name": "LayoutModel",
            "_view_count": null,
            "_view_module": "@jupyter-widgets/base",
            "_view_module_version": "1.2.0",
            "_view_name": "LayoutView",
            "align_content": null,
            "align_items": null,
            "align_self": null,
            "border": null,
            "bottom": null,
            "display": null,
            "flex": null,
            "flex_flow": null,
            "grid_area": null,
            "grid_auto_columns": null,
            "grid_auto_flow": null,
            "grid_auto_rows": null,
            "grid_column": null,
            "grid_gap": null,
            "grid_row": null,
            "grid_template_areas": null,
            "grid_template_columns": null,
            "grid_template_rows": null,
            "height": null,
            "justify_content": null,
            "justify_items": null,
            "left": null,
            "margin": null,
            "max_height": null,
            "max_width": null,
            "min_height": null,
            "min_width": null,
            "object_fit": null,
            "object_position": null,
            "order": null,
            "overflow": null,
            "overflow_x": null,
            "overflow_y": null,
            "padding": null,
            "right": null,
            "top": null,
            "visibility": null,
            "width": null
          }
        },
        "7cfe3b9fed6e43449c180028dea07342": {
          "model_module": "@jupyter-widgets/controls",
          "model_module_version": "1.5.0",
          "model_name": "FloatProgressModel",
          "state": {
            "_dom_classes": [],
            "_model_module": "@jupyter-widgets/controls",
            "_model_module_version": "1.5.0",
            "_model_name": "FloatProgressModel",
            "_view_count": null,
            "_view_module": "@jupyter-widgets/controls",
            "_view_module_version": "1.5.0",
            "_view_name": "ProgressView",
            "bar_style": "success",
            "description": "",
            "description_tooltip": null,
            "layout": "IPY_MODEL_b77a949e4b3b415c93e89d69b1274cf8",
            "max": 612,
            "min": 0,
            "orientation": "horizontal",
            "style": "IPY_MODEL_0226b49d19484ee8b0af9ac3f2e187dd",
            "value": 612
          }
        },
        "7ec8457c7f6e4710839de89a40fb8bfe": {
          "model_module": "@jupyter-widgets/controls",
          "model_module_version": "1.5.0",
          "model_name": "DescriptionStyleModel",
          "state": {
            "_model_module": "@jupyter-widgets/controls",
            "_model_module_version": "1.5.0",
            "_model_name": "DescriptionStyleModel",
            "_view_count": null,
            "_view_module": "@jupyter-widgets/base",
            "_view_module_version": "1.2.0",
            "_view_name": "StyleView",
            "description_width": ""
          }
        },
        "7eff6079eff74e22bca9b6752c5f2778": {
          "model_module": "@jupyter-widgets/base",
          "model_module_version": "1.2.0",
          "model_name": "LayoutModel",
          "state": {
            "_model_module": "@jupyter-widgets/base",
            "_model_module_version": "1.2.0",
            "_model_name": "LayoutModel",
            "_view_count": null,
            "_view_module": "@jupyter-widgets/base",
            "_view_module_version": "1.2.0",
            "_view_name": "LayoutView",
            "align_content": null,
            "align_items": null,
            "align_self": null,
            "border": null,
            "bottom": null,
            "display": null,
            "flex": null,
            "flex_flow": null,
            "grid_area": null,
            "grid_auto_columns": null,
            "grid_auto_flow": null,
            "grid_auto_rows": null,
            "grid_column": null,
            "grid_gap": null,
            "grid_row": null,
            "grid_template_areas": null,
            "grid_template_columns": null,
            "grid_template_rows": null,
            "height": null,
            "justify_content": null,
            "justify_items": null,
            "left": null,
            "margin": null,
            "max_height": null,
            "max_width": null,
            "min_height": null,
            "min_width": null,
            "object_fit": null,
            "object_position": null,
            "order": null,
            "overflow": null,
            "overflow_x": null,
            "overflow_y": null,
            "padding": null,
            "right": null,
            "top": null,
            "visibility": null,
            "width": null
          }
        },
        "7f271f4ce2e04186afcdef9395d7907c": {
          "model_module": "@jupyter-widgets/controls",
          "model_module_version": "1.5.0",
          "model_name": "DescriptionStyleModel",
          "state": {
            "_model_module": "@jupyter-widgets/controls",
            "_model_module_version": "1.5.0",
            "_model_name": "DescriptionStyleModel",
            "_view_count": null,
            "_view_module": "@jupyter-widgets/base",
            "_view_module_version": "1.2.0",
            "_view_name": "StyleView",
            "description_width": ""
          }
        },
        "81b3877f467a436083266a6b75a7fd38": {
          "model_module": "@jupyter-widgets/base",
          "model_module_version": "1.2.0",
          "model_name": "LayoutModel",
          "state": {
            "_model_module": "@jupyter-widgets/base",
            "_model_module_version": "1.2.0",
            "_model_name": "LayoutModel",
            "_view_count": null,
            "_view_module": "@jupyter-widgets/base",
            "_view_module_version": "1.2.0",
            "_view_name": "LayoutView",
            "align_content": null,
            "align_items": null,
            "align_self": null,
            "border": null,
            "bottom": null,
            "display": null,
            "flex": null,
            "flex_flow": null,
            "grid_area": null,
            "grid_auto_columns": null,
            "grid_auto_flow": null,
            "grid_auto_rows": null,
            "grid_column": null,
            "grid_gap": null,
            "grid_row": null,
            "grid_template_areas": null,
            "grid_template_columns": null,
            "grid_template_rows": null,
            "height": null,
            "justify_content": null,
            "justify_items": null,
            "left": null,
            "margin": null,
            "max_height": null,
            "max_width": null,
            "min_height": null,
            "min_width": null,
            "object_fit": null,
            "object_position": null,
            "order": null,
            "overflow": null,
            "overflow_x": null,
            "overflow_y": null,
            "padding": null,
            "right": null,
            "top": null,
            "visibility": null,
            "width": null
          }
        },
        "8220a60800594fe5a78d03217328f8ad": {
          "model_module": "@jupyter-widgets/controls",
          "model_module_version": "1.5.0",
          "model_name": "HTMLModel",
          "state": {
            "_dom_classes": [],
            "_model_module": "@jupyter-widgets/controls",
            "_model_module_version": "1.5.0",
            "_model_name": "HTMLModel",
            "_view_count": null,
            "_view_module": "@jupyter-widgets/controls",
            "_view_module_version": "1.5.0",
            "_view_name": "HTMLView",
            "description": "",
            "description_tooltip": null,
            "layout": "IPY_MODEL_91da48686de84571a2a98b94f6c298a8",
            "placeholder": "​",
            "style": "IPY_MODEL_ae6fdb135e3644699259ef3a93515259",
            "value": " 10.6k/10.6k [00:00&lt;00:00, 146kB/s]"
          }
        },
        "82988507d10a4cedbe90a036c44dec30": {
          "model_module": "@jupyter-widgets/base",
          "model_module_version": "1.2.0",
          "model_name": "LayoutModel",
          "state": {
            "_model_module": "@jupyter-widgets/base",
            "_model_module_version": "1.2.0",
            "_model_name": "LayoutModel",
            "_view_count": null,
            "_view_module": "@jupyter-widgets/base",
            "_view_module_version": "1.2.0",
            "_view_name": "LayoutView",
            "align_content": null,
            "align_items": null,
            "align_self": null,
            "border": null,
            "bottom": null,
            "display": null,
            "flex": null,
            "flex_flow": null,
            "grid_area": null,
            "grid_auto_columns": null,
            "grid_auto_flow": null,
            "grid_auto_rows": null,
            "grid_column": null,
            "grid_gap": null,
            "grid_row": null,
            "grid_template_areas": null,
            "grid_template_columns": null,
            "grid_template_rows": null,
            "height": null,
            "justify_content": null,
            "justify_items": null,
            "left": null,
            "margin": null,
            "max_height": null,
            "max_width": null,
            "min_height": null,
            "min_width": null,
            "object_fit": null,
            "object_position": null,
            "order": null,
            "overflow": null,
            "overflow_x": null,
            "overflow_y": null,
            "padding": null,
            "right": null,
            "top": null,
            "visibility": null,
            "width": null
          }
        },
        "84d61d8f433f4e2895aab65cb0da0eed": {
          "model_module": "@jupyter-widgets/base",
          "model_module_version": "1.2.0",
          "model_name": "LayoutModel",
          "state": {
            "_model_module": "@jupyter-widgets/base",
            "_model_module_version": "1.2.0",
            "_model_name": "LayoutModel",
            "_view_count": null,
            "_view_module": "@jupyter-widgets/base",
            "_view_module_version": "1.2.0",
            "_view_name": "LayoutView",
            "align_content": null,
            "align_items": null,
            "align_self": null,
            "border": null,
            "bottom": null,
            "display": null,
            "flex": null,
            "flex_flow": null,
            "grid_area": null,
            "grid_auto_columns": null,
            "grid_auto_flow": null,
            "grid_auto_rows": null,
            "grid_column": null,
            "grid_gap": null,
            "grid_row": null,
            "grid_template_areas": null,
            "grid_template_columns": null,
            "grid_template_rows": null,
            "height": null,
            "justify_content": null,
            "justify_items": null,
            "left": null,
            "margin": null,
            "max_height": null,
            "max_width": null,
            "min_height": null,
            "min_width": null,
            "object_fit": null,
            "object_position": null,
            "order": null,
            "overflow": null,
            "overflow_x": null,
            "overflow_y": null,
            "padding": null,
            "right": null,
            "top": null,
            "visibility": null,
            "width": null
          }
        },
        "85fbd3d3d11c4f11b95835cb0b4f8268": {
          "model_module": "@jupyter-widgets/controls",
          "model_module_version": "1.5.0",
          "model_name": "HBoxModel",
          "state": {
            "_dom_classes": [],
            "_model_module": "@jupyter-widgets/controls",
            "_model_module_version": "1.5.0",
            "_model_name": "HBoxModel",
            "_view_count": null,
            "_view_module": "@jupyter-widgets/controls",
            "_view_module_version": "1.5.0",
            "_view_name": "HBoxView",
            "box_style": "",
            "children": [
              "IPY_MODEL_493eb301e0c34049af8143dd6c9e642e",
              "IPY_MODEL_23281a9831284ac5b93d9dc2f99ff08f",
              "IPY_MODEL_650a2f068fb442388c20e2c0a646d3aa"
            ],
            "layout": "IPY_MODEL_567c71c8627f419eb6bf02ca87486fbc"
          }
        },
        "88f621234a5746ffb771dedbf4a3a466": {
          "model_module": "@jupyter-widgets/controls",
          "model_module_version": "1.5.0",
          "model_name": "DescriptionStyleModel",
          "state": {
            "_model_module": "@jupyter-widgets/controls",
            "_model_module_version": "1.5.0",
            "_model_name": "DescriptionStyleModel",
            "_view_count": null,
            "_view_module": "@jupyter-widgets/base",
            "_view_module_version": "1.2.0",
            "_view_name": "StyleView",
            "description_width": ""
          }
        },
        "8a6d76c9b6484d13a09569acee7d766e": {
          "model_module": "@jupyter-widgets/controls",
          "model_module_version": "1.5.0",
          "model_name": "DescriptionStyleModel",
          "state": {
            "_model_module": "@jupyter-widgets/controls",
            "_model_module_version": "1.5.0",
            "_model_name": "DescriptionStyleModel",
            "_view_count": null,
            "_view_module": "@jupyter-widgets/base",
            "_view_module_version": "1.2.0",
            "_view_name": "StyleView",
            "description_width": ""
          }
        },
        "8a843579657f49f2a7424d819bea0508": {
          "model_module": "@jupyter-widgets/controls",
          "model_module_version": "1.5.0",
          "model_name": "HTMLModel",
          "state": {
            "_dom_classes": [],
            "_model_module": "@jupyter-widgets/controls",
            "_model_module_version": "1.5.0",
            "_model_name": "HTMLModel",
            "_view_count": null,
            "_view_module": "@jupyter-widgets/controls",
            "_view_module_version": "1.5.0",
            "_view_name": "HTMLView",
            "description": "",
            "description_tooltip": null,
            "layout": "IPY_MODEL_7054e7a7d35c47db88246cc58fa2c60c",
            "placeholder": "​",
            "style": "IPY_MODEL_6646ea094cfd4bd4a8a0a4eb42eda71e",
            "value": "tokenizer.json: 100%"
          }
        },
        "8ab387a20d4a42d0941ed267fccf4e34": {
          "model_module": "@jupyter-widgets/base",
          "model_module_version": "1.2.0",
          "model_name": "LayoutModel",
          "state": {
            "_model_module": "@jupyter-widgets/base",
            "_model_module_version": "1.2.0",
            "_model_name": "LayoutModel",
            "_view_count": null,
            "_view_module": "@jupyter-widgets/base",
            "_view_module_version": "1.2.0",
            "_view_name": "LayoutView",
            "align_content": null,
            "align_items": null,
            "align_self": null,
            "border": null,
            "bottom": null,
            "display": null,
            "flex": null,
            "flex_flow": null,
            "grid_area": null,
            "grid_auto_columns": null,
            "grid_auto_flow": null,
            "grid_auto_rows": null,
            "grid_column": null,
            "grid_gap": null,
            "grid_row": null,
            "grid_template_areas": null,
            "grid_template_columns": null,
            "grid_template_rows": null,
            "height": null,
            "justify_content": null,
            "justify_items": null,
            "left": null,
            "margin": null,
            "max_height": null,
            "max_width": null,
            "min_height": null,
            "min_width": null,
            "object_fit": null,
            "object_position": null,
            "order": null,
            "overflow": null,
            "overflow_x": null,
            "overflow_y": null,
            "padding": null,
            "right": null,
            "top": null,
            "visibility": null,
            "width": null
          }
        },
        "8ad04a208ad94073aafde1af4b4d4e30": {
          "model_module": "@jupyter-widgets/controls",
          "model_module_version": "1.5.0",
          "model_name": "ProgressStyleModel",
          "state": {
            "_model_module": "@jupyter-widgets/controls",
            "_model_module_version": "1.5.0",
            "_model_name": "ProgressStyleModel",
            "_view_count": null,
            "_view_module": "@jupyter-widgets/base",
            "_view_module_version": "1.2.0",
            "_view_name": "StyleView",
            "bar_color": null,
            "description_width": ""
          }
        },
        "8b39e110030b4a459ed677813aa1adca": {
          "model_module": "@jupyter-widgets/controls",
          "model_module_version": "1.5.0",
          "model_name": "HTMLModel",
          "state": {
            "_dom_classes": [],
            "_model_module": "@jupyter-widgets/controls",
            "_model_module_version": "1.5.0",
            "_model_name": "HTMLModel",
            "_view_count": null,
            "_view_module": "@jupyter-widgets/controls",
            "_view_module_version": "1.5.0",
            "_view_name": "HTMLView",
            "description": "",
            "description_tooltip": null,
            "layout": "IPY_MODEL_458dbb9721114795a520fba44e0a8c67",
            "placeholder": "​",
            "style": "IPY_MODEL_88f621234a5746ffb771dedbf4a3a466",
            "value": "README.md: 100%"
          }
        },
        "8c052b5217504a8ca43842bc3955cb84": {
          "model_module": "@jupyter-widgets/controls",
          "model_module_version": "1.5.0",
          "model_name": "FloatProgressModel",
          "state": {
            "_dom_classes": [],
            "_model_module": "@jupyter-widgets/controls",
            "_model_module_version": "1.5.0",
            "_model_name": "FloatProgressModel",
            "_view_count": null,
            "_view_module": "@jupyter-widgets/controls",
            "_view_module_version": "1.5.0",
            "_view_name": "ProgressView",
            "bar_style": "success",
            "description": "",
            "description_tooltip": null,
            "layout": "IPY_MODEL_4592e1db3ddd41adb7794afd52701a81",
            "max": 190,
            "min": 0,
            "orientation": "horizontal",
            "style": "IPY_MODEL_d5eab2d0966b4860a9bf98b028096aaa",
            "value": 190
          }
        },
        "8c47d5ba053a410eac57474e6cd3222e": {
          "model_module": "@jupyter-widgets/controls",
          "model_module_version": "1.5.0",
          "model_name": "DescriptionStyleModel",
          "state": {
            "_model_module": "@jupyter-widgets/controls",
            "_model_module_version": "1.5.0",
            "_model_name": "DescriptionStyleModel",
            "_view_count": null,
            "_view_module": "@jupyter-widgets/base",
            "_view_module_version": "1.2.0",
            "_view_name": "StyleView",
            "description_width": ""
          }
        },
        "8f7dc43515a547c18a58f7062de1090b": {
          "model_module": "@jupyter-widgets/base",
          "model_module_version": "1.2.0",
          "model_name": "LayoutModel",
          "state": {
            "_model_module": "@jupyter-widgets/base",
            "_model_module_version": "1.2.0",
            "_model_name": "LayoutModel",
            "_view_count": null,
            "_view_module": "@jupyter-widgets/base",
            "_view_module_version": "1.2.0",
            "_view_name": "LayoutView",
            "align_content": null,
            "align_items": null,
            "align_self": null,
            "border": null,
            "bottom": null,
            "display": null,
            "flex": null,
            "flex_flow": null,
            "grid_area": null,
            "grid_auto_columns": null,
            "grid_auto_flow": null,
            "grid_auto_rows": null,
            "grid_column": null,
            "grid_gap": null,
            "grid_row": null,
            "grid_template_areas": null,
            "grid_template_columns": null,
            "grid_template_rows": null,
            "height": null,
            "justify_content": null,
            "justify_items": null,
            "left": null,
            "margin": null,
            "max_height": null,
            "max_width": null,
            "min_height": null,
            "min_width": null,
            "object_fit": null,
            "object_position": null,
            "order": null,
            "overflow": null,
            "overflow_x": null,
            "overflow_y": null,
            "padding": null,
            "right": null,
            "top": null,
            "visibility": null,
            "width": null
          }
        },
        "8fc29a2859cd40d2939d5ffeb29d1842": {
          "model_module": "@jupyter-widgets/base",
          "model_module_version": "1.2.0",
          "model_name": "LayoutModel",
          "state": {
            "_model_module": "@jupyter-widgets/base",
            "_model_module_version": "1.2.0",
            "_model_name": "LayoutModel",
            "_view_count": null,
            "_view_module": "@jupyter-widgets/base",
            "_view_module_version": "1.2.0",
            "_view_name": "LayoutView",
            "align_content": null,
            "align_items": null,
            "align_self": null,
            "border": null,
            "bottom": null,
            "display": null,
            "flex": null,
            "flex_flow": null,
            "grid_area": null,
            "grid_auto_columns": null,
            "grid_auto_flow": null,
            "grid_auto_rows": null,
            "grid_column": null,
            "grid_gap": null,
            "grid_row": null,
            "grid_template_areas": null,
            "grid_template_columns": null,
            "grid_template_rows": null,
            "height": null,
            "justify_content": null,
            "justify_items": null,
            "left": null,
            "margin": null,
            "max_height": null,
            "max_width": null,
            "min_height": null,
            "min_width": null,
            "object_fit": null,
            "object_position": null,
            "order": null,
            "overflow": null,
            "overflow_x": null,
            "overflow_y": null,
            "padding": null,
            "right": null,
            "top": null,
            "visibility": null,
            "width": null
          }
        },
        "91da48686de84571a2a98b94f6c298a8": {
          "model_module": "@jupyter-widgets/base",
          "model_module_version": "1.2.0",
          "model_name": "LayoutModel",
          "state": {
            "_model_module": "@jupyter-widgets/base",
            "_model_module_version": "1.2.0",
            "_model_name": "LayoutModel",
            "_view_count": null,
            "_view_module": "@jupyter-widgets/base",
            "_view_module_version": "1.2.0",
            "_view_name": "LayoutView",
            "align_content": null,
            "align_items": null,
            "align_self": null,
            "border": null,
            "bottom": null,
            "display": null,
            "flex": null,
            "flex_flow": null,
            "grid_area": null,
            "grid_auto_columns": null,
            "grid_auto_flow": null,
            "grid_auto_rows": null,
            "grid_column": null,
            "grid_gap": null,
            "grid_row": null,
            "grid_template_areas": null,
            "grid_template_columns": null,
            "grid_template_rows": null,
            "height": null,
            "justify_content": null,
            "justify_items": null,
            "left": null,
            "margin": null,
            "max_height": null,
            "max_width": null,
            "min_height": null,
            "min_width": null,
            "object_fit": null,
            "object_position": null,
            "order": null,
            "overflow": null,
            "overflow_x": null,
            "overflow_y": null,
            "padding": null,
            "right": null,
            "top": null,
            "visibility": null,
            "width": null
          }
        },
        "957b6a17dc7e452fad64c7a05f965bf0": {
          "model_module": "@jupyter-widgets/controls",
          "model_module_version": "1.5.0",
          "model_name": "ProgressStyleModel",
          "state": {
            "_model_module": "@jupyter-widgets/controls",
            "_model_module_version": "1.5.0",
            "_model_name": "ProgressStyleModel",
            "_view_count": null,
            "_view_module": "@jupyter-widgets/base",
            "_view_module_version": "1.2.0",
            "_view_name": "StyleView",
            "bar_color": null,
            "description_width": ""
          }
        },
        "97c9560652d44b039049c0eed81fe5db": {
          "model_module": "@jupyter-widgets/base",
          "model_module_version": "1.2.0",
          "model_name": "LayoutModel",
          "state": {
            "_model_module": "@jupyter-widgets/base",
            "_model_module_version": "1.2.0",
            "_model_name": "LayoutModel",
            "_view_count": null,
            "_view_module": "@jupyter-widgets/base",
            "_view_module_version": "1.2.0",
            "_view_name": "LayoutView",
            "align_content": null,
            "align_items": null,
            "align_self": null,
            "border": null,
            "bottom": null,
            "display": null,
            "flex": null,
            "flex_flow": null,
            "grid_area": null,
            "grid_auto_columns": null,
            "grid_auto_flow": null,
            "grid_auto_rows": null,
            "grid_column": null,
            "grid_gap": null,
            "grid_row": null,
            "grid_template_areas": null,
            "grid_template_columns": null,
            "grid_template_rows": null,
            "height": null,
            "justify_content": null,
            "justify_items": null,
            "left": null,
            "margin": null,
            "max_height": null,
            "max_width": null,
            "min_height": null,
            "min_width": null,
            "object_fit": null,
            "object_position": null,
            "order": null,
            "overflow": null,
            "overflow_x": null,
            "overflow_y": null,
            "padding": null,
            "right": null,
            "top": null,
            "visibility": null,
            "width": null
          }
        },
        "98dd6fa0177147088e07781136623b6d": {
          "model_module": "@jupyter-widgets/controls",
          "model_module_version": "1.5.0",
          "model_name": "FloatProgressModel",
          "state": {
            "_dom_classes": [],
            "_model_module": "@jupyter-widgets/controls",
            "_model_module_version": "1.5.0",
            "_model_name": "FloatProgressModel",
            "_view_count": null,
            "_view_module": "@jupyter-widgets/controls",
            "_view_module_version": "1.5.0",
            "_view_name": "ProgressView",
            "bar_style": "success",
            "description": "",
            "description_tooltip": null,
            "layout": "IPY_MODEL_592b7088b7094c0aa2f2402fb4633ee0",
            "max": 116,
            "min": 0,
            "orientation": "horizontal",
            "style": "IPY_MODEL_35b6dfb64b624546bbd493352d08e92d",
            "value": 116
          }
        },
        "9b183285a05b4c89badf98dd3123654f": {
          "model_module": "@jupyter-widgets/controls",
          "model_module_version": "1.5.0",
          "model_name": "HTMLModel",
          "state": {
            "_dom_classes": [],
            "_model_module": "@jupyter-widgets/controls",
            "_model_module_version": "1.5.0",
            "_model_name": "HTMLModel",
            "_view_count": null,
            "_view_module": "@jupyter-widgets/controls",
            "_view_module_version": "1.5.0",
            "_view_name": "HTMLView",
            "description": "",
            "description_tooltip": null,
            "layout": "IPY_MODEL_b7e644790cb34fe790f16f4b5444f6e3",
            "placeholder": "​",
            "style": "IPY_MODEL_a4b708b1864a4938aba628af6ce09798",
            "value": " 466k/466k [00:00&lt;00:00, 8.31MB/s]"
          }
        },
        "9c7186ff18f14f588b4ef57387a5acfe": {
          "model_module": "@jupyter-widgets/base",
          "model_module_version": "1.2.0",
          "model_name": "LayoutModel",
          "state": {
            "_model_module": "@jupyter-widgets/base",
            "_model_module_version": "1.2.0",
            "_model_name": "LayoutModel",
            "_view_count": null,
            "_view_module": "@jupyter-widgets/base",
            "_view_module_version": "1.2.0",
            "_view_name": "LayoutView",
            "align_content": null,
            "align_items": null,
            "align_self": null,
            "border": null,
            "bottom": null,
            "display": null,
            "flex": null,
            "flex_flow": null,
            "grid_area": null,
            "grid_auto_columns": null,
            "grid_auto_flow": null,
            "grid_auto_rows": null,
            "grid_column": null,
            "grid_gap": null,
            "grid_row": null,
            "grid_template_areas": null,
            "grid_template_columns": null,
            "grid_template_rows": null,
            "height": null,
            "justify_content": null,
            "justify_items": null,
            "left": null,
            "margin": null,
            "max_height": null,
            "max_width": null,
            "min_height": null,
            "min_width": null,
            "object_fit": null,
            "object_position": null,
            "order": null,
            "overflow": null,
            "overflow_x": null,
            "overflow_y": null,
            "padding": null,
            "right": null,
            "top": null,
            "visibility": null,
            "width": null
          }
        },
        "9d675271d88d4b76923402caaf898237": {
          "model_module": "@jupyter-widgets/controls",
          "model_module_version": "1.5.0",
          "model_name": "HTMLModel",
          "state": {
            "_dom_classes": [],
            "_model_module": "@jupyter-widgets/controls",
            "_model_module_version": "1.5.0",
            "_model_name": "HTMLModel",
            "_view_count": null,
            "_view_module": "@jupyter-widgets/controls",
            "_view_module_version": "1.5.0",
            "_view_name": "HTMLView",
            "description": "",
            "description_tooltip": null,
            "layout": "IPY_MODEL_d9d66cf1f1ef447499b95166c8c94a6a",
            "placeholder": "​",
            "style": "IPY_MODEL_7f271f4ce2e04186afcdef9395d7907c",
            "value": " 612/612 [00:00&lt;00:00, 17.1kB/s]"
          }
        },
        "9e337694f3714c809df99b43e66e2d78": {
          "model_module": "@jupyter-widgets/base",
          "model_module_version": "1.2.0",
          "model_name": "LayoutModel",
          "state": {
            "_model_module": "@jupyter-widgets/base",
            "_model_module_version": "1.2.0",
            "_model_name": "LayoutModel",
            "_view_count": null,
            "_view_module": "@jupyter-widgets/base",
            "_view_module_version": "1.2.0",
            "_view_name": "LayoutView",
            "align_content": null,
            "align_items": null,
            "align_self": null,
            "border": null,
            "bottom": null,
            "display": null,
            "flex": null,
            "flex_flow": null,
            "grid_area": null,
            "grid_auto_columns": null,
            "grid_auto_flow": null,
            "grid_auto_rows": null,
            "grid_column": null,
            "grid_gap": null,
            "grid_row": null,
            "grid_template_areas": null,
            "grid_template_columns": null,
            "grid_template_rows": null,
            "height": null,
            "justify_content": null,
            "justify_items": null,
            "left": null,
            "margin": null,
            "max_height": null,
            "max_width": null,
            "min_height": null,
            "min_width": null,
            "object_fit": null,
            "object_position": null,
            "order": null,
            "overflow": null,
            "overflow_x": null,
            "overflow_y": null,
            "padding": null,
            "right": null,
            "top": null,
            "visibility": null,
            "width": null
          }
        },
        "a4b708b1864a4938aba628af6ce09798": {
          "model_module": "@jupyter-widgets/controls",
          "model_module_version": "1.5.0",
          "model_name": "DescriptionStyleModel",
          "state": {
            "_model_module": "@jupyter-widgets/controls",
            "_model_module_version": "1.5.0",
            "_model_name": "DescriptionStyleModel",
            "_view_count": null,
            "_view_module": "@jupyter-widgets/base",
            "_view_module_version": "1.2.0",
            "_view_name": "StyleView",
            "description_width": ""
          }
        },
        "a6b4b1acb4024592bc470c640308549e": {
          "model_module": "@jupyter-widgets/base",
          "model_module_version": "1.2.0",
          "model_name": "LayoutModel",
          "state": {
            "_model_module": "@jupyter-widgets/base",
            "_model_module_version": "1.2.0",
            "_model_name": "LayoutModel",
            "_view_count": null,
            "_view_module": "@jupyter-widgets/base",
            "_view_module_version": "1.2.0",
            "_view_name": "LayoutView",
            "align_content": null,
            "align_items": null,
            "align_self": null,
            "border": null,
            "bottom": null,
            "display": null,
            "flex": null,
            "flex_flow": null,
            "grid_area": null,
            "grid_auto_columns": null,
            "grid_auto_flow": null,
            "grid_auto_rows": null,
            "grid_column": null,
            "grid_gap": null,
            "grid_row": null,
            "grid_template_areas": null,
            "grid_template_columns": null,
            "grid_template_rows": null,
            "height": null,
            "justify_content": null,
            "justify_items": null,
            "left": null,
            "margin": null,
            "max_height": null,
            "max_width": null,
            "min_height": null,
            "min_width": null,
            "object_fit": null,
            "object_position": null,
            "order": null,
            "overflow": null,
            "overflow_x": null,
            "overflow_y": null,
            "padding": null,
            "right": null,
            "top": null,
            "visibility": null,
            "width": null
          }
        },
        "a93df95cb2464cef8cecd982656c728b": {
          "model_module": "@jupyter-widgets/base",
          "model_module_version": "1.2.0",
          "model_name": "LayoutModel",
          "state": {
            "_model_module": "@jupyter-widgets/base",
            "_model_module_version": "1.2.0",
            "_model_name": "LayoutModel",
            "_view_count": null,
            "_view_module": "@jupyter-widgets/base",
            "_view_module_version": "1.2.0",
            "_view_name": "LayoutView",
            "align_content": null,
            "align_items": null,
            "align_self": null,
            "border": null,
            "bottom": null,
            "display": null,
            "flex": null,
            "flex_flow": null,
            "grid_area": null,
            "grid_auto_columns": null,
            "grid_auto_flow": null,
            "grid_auto_rows": null,
            "grid_column": null,
            "grid_gap": null,
            "grid_row": null,
            "grid_template_areas": null,
            "grid_template_columns": null,
            "grid_template_rows": null,
            "height": null,
            "justify_content": null,
            "justify_items": null,
            "left": null,
            "margin": null,
            "max_height": null,
            "max_width": null,
            "min_height": null,
            "min_width": null,
            "object_fit": null,
            "object_position": null,
            "order": null,
            "overflow": null,
            "overflow_x": null,
            "overflow_y": null,
            "padding": null,
            "right": null,
            "top": null,
            "visibility": null,
            "width": null
          }
        },
        "a958b277d4e147e8a0ccd0cfdd0c85d7": {
          "model_module": "@jupyter-widgets/controls",
          "model_module_version": "1.5.0",
          "model_name": "DescriptionStyleModel",
          "state": {
            "_model_module": "@jupyter-widgets/controls",
            "_model_module_version": "1.5.0",
            "_model_name": "DescriptionStyleModel",
            "_view_count": null,
            "_view_module": "@jupyter-widgets/base",
            "_view_module_version": "1.2.0",
            "_view_name": "StyleView",
            "description_width": ""
          }
        },
        "aa34db447cd348be8fcece4e2115f4cb": {
          "model_module": "@jupyter-widgets/controls",
          "model_module_version": "1.5.0",
          "model_name": "FloatProgressModel",
          "state": {
            "_dom_classes": [],
            "_model_module": "@jupyter-widgets/controls",
            "_model_module_version": "1.5.0",
            "_model_name": "FloatProgressModel",
            "_view_count": null,
            "_view_module": "@jupyter-widgets/controls",
            "_view_module_version": "1.5.0",
            "_view_name": "ProgressView",
            "bar_style": "success",
            "description": "",
            "description_tooltip": null,
            "layout": "IPY_MODEL_6a78a4098aa34b8cbc071f5fb67487e9",
            "max": 350,
            "min": 0,
            "orientation": "horizontal",
            "style": "IPY_MODEL_3f960db72a4b4bb5b5a6e51ff63d8e44",
            "value": 350
          }
        },
        "ad4340896c8c455e8dda883e262555a9": {
          "model_module": "@jupyter-widgets/base",
          "model_module_version": "1.2.0",
          "model_name": "LayoutModel",
          "state": {
            "_model_module": "@jupyter-widgets/base",
            "_model_module_version": "1.2.0",
            "_model_name": "LayoutModel",
            "_view_count": null,
            "_view_module": "@jupyter-widgets/base",
            "_view_module_version": "1.2.0",
            "_view_name": "LayoutView",
            "align_content": null,
            "align_items": null,
            "align_self": null,
            "border": null,
            "bottom": null,
            "display": null,
            "flex": null,
            "flex_flow": null,
            "grid_area": null,
            "grid_auto_columns": null,
            "grid_auto_flow": null,
            "grid_auto_rows": null,
            "grid_column": null,
            "grid_gap": null,
            "grid_row": null,
            "grid_template_areas": null,
            "grid_template_columns": null,
            "grid_template_rows": null,
            "height": null,
            "justify_content": null,
            "justify_items": null,
            "left": null,
            "margin": null,
            "max_height": null,
            "max_width": null,
            "min_height": null,
            "min_width": null,
            "object_fit": null,
            "object_position": null,
            "order": null,
            "overflow": null,
            "overflow_x": null,
            "overflow_y": null,
            "padding": null,
            "right": null,
            "top": null,
            "visibility": null,
            "width": null
          }
        },
        "ad9c592bfa3145dbb285af141197d7ca": {
          "model_module": "@jupyter-widgets/controls",
          "model_module_version": "1.5.0",
          "model_name": "HBoxModel",
          "state": {
            "_dom_classes": [],
            "_model_module": "@jupyter-widgets/controls",
            "_model_module_version": "1.5.0",
            "_model_name": "HBoxModel",
            "_view_count": null,
            "_view_module": "@jupyter-widgets/controls",
            "_view_module_version": "1.5.0",
            "_view_name": "HBoxView",
            "box_style": "",
            "children": [
              "IPY_MODEL_71230f8262204eebaccaf7848a2ad840",
              "IPY_MODEL_5b2b327b56054848a811f19ff366fcb5",
              "IPY_MODEL_4748646fe8344b4b9e7410a4330f0c64"
            ],
            "layout": "IPY_MODEL_005627b3dbb04309afd054fdfe015c02"
          }
        },
        "ae2036b967554c1895e6e54ea717dbbd": {
          "model_module": "@jupyter-widgets/controls",
          "model_module_version": "1.5.0",
          "model_name": "HBoxModel",
          "state": {
            "_dom_classes": [],
            "_model_module": "@jupyter-widgets/controls",
            "_model_module_version": "1.5.0",
            "_model_name": "HBoxModel",
            "_view_count": null,
            "_view_module": "@jupyter-widgets/controls",
            "_view_module_version": "1.5.0",
            "_view_name": "HBoxView",
            "box_style": "",
            "children": [
              "IPY_MODEL_8a843579657f49f2a7424d819bea0508",
              "IPY_MODEL_5353996399914670bd70fccbce053f47",
              "IPY_MODEL_9b183285a05b4c89badf98dd3123654f"
            ],
            "layout": "IPY_MODEL_e7030989fc3d41399b71309a250855ed"
          }
        },
        "ae6fdb135e3644699259ef3a93515259": {
          "model_module": "@jupyter-widgets/controls",
          "model_module_version": "1.5.0",
          "model_name": "DescriptionStyleModel",
          "state": {
            "_model_module": "@jupyter-widgets/controls",
            "_model_module_version": "1.5.0",
            "_model_name": "DescriptionStyleModel",
            "_view_count": null,
            "_view_module": "@jupyter-widgets/base",
            "_view_module_version": "1.2.0",
            "_view_name": "StyleView",
            "description_width": ""
          }
        },
        "b1cf0ada9e024ac48f111ee47dcfa491": {
          "model_module": "@jupyter-widgets/base",
          "model_module_version": "1.2.0",
          "model_name": "LayoutModel",
          "state": {
            "_model_module": "@jupyter-widgets/base",
            "_model_module_version": "1.2.0",
            "_model_name": "LayoutModel",
            "_view_count": null,
            "_view_module": "@jupyter-widgets/base",
            "_view_module_version": "1.2.0",
            "_view_name": "LayoutView",
            "align_content": null,
            "align_items": null,
            "align_self": null,
            "border": null,
            "bottom": null,
            "display": null,
            "flex": null,
            "flex_flow": null,
            "grid_area": null,
            "grid_auto_columns": null,
            "grid_auto_flow": null,
            "grid_auto_rows": null,
            "grid_column": null,
            "grid_gap": null,
            "grid_row": null,
            "grid_template_areas": null,
            "grid_template_columns": null,
            "grid_template_rows": null,
            "height": null,
            "justify_content": null,
            "justify_items": null,
            "left": null,
            "margin": null,
            "max_height": null,
            "max_width": null,
            "min_height": null,
            "min_width": null,
            "object_fit": null,
            "object_position": null,
            "order": null,
            "overflow": null,
            "overflow_x": null,
            "overflow_y": null,
            "padding": null,
            "right": null,
            "top": null,
            "visibility": null,
            "width": null
          }
        },
        "b25f060c414b4ff6ac1c5f7139079c23": {
          "model_module": "@jupyter-widgets/controls",
          "model_module_version": "1.5.0",
          "model_name": "HTMLModel",
          "state": {
            "_dom_classes": [],
            "_model_module": "@jupyter-widgets/controls",
            "_model_module_version": "1.5.0",
            "_model_name": "HTMLModel",
            "_view_count": null,
            "_view_module": "@jupyter-widgets/controls",
            "_view_module_version": "1.5.0",
            "_view_name": "HTMLView",
            "description": "",
            "description_tooltip": null,
            "layout": "IPY_MODEL_82988507d10a4cedbe90a036c44dec30",
            "placeholder": "​",
            "style": "IPY_MODEL_1ec5ba162fd145a38221cdb71d5bf4fe",
            "value": " 232k/232k [00:00&lt;00:00, 1.63MB/s]"
          }
        },
        "b2e75a37fc8b4dfdb1e9570d01025e31": {
          "model_module": "@jupyter-widgets/controls",
          "model_module_version": "1.5.0",
          "model_name": "HTMLModel",
          "state": {
            "_dom_classes": [],
            "_model_module": "@jupyter-widgets/controls",
            "_model_module_version": "1.5.0",
            "_model_name": "HTMLModel",
            "_view_count": null,
            "_view_module": "@jupyter-widgets/controls",
            "_view_module_version": "1.5.0",
            "_view_name": "HTMLView",
            "description": "",
            "description_tooltip": null,
            "layout": "IPY_MODEL_3272fb529b47425b9c3b6cb8ba5e29fe",
            "placeholder": "​",
            "style": "IPY_MODEL_a958b277d4e147e8a0ccd0cfdd0c85d7",
            "value": "config_sentence_transformers.json: 100%"
          }
        },
        "b631968c9900419c809b4f863164a7f7": {
          "model_module": "@jupyter-widgets/base",
          "model_module_version": "1.2.0",
          "model_name": "LayoutModel",
          "state": {
            "_model_module": "@jupyter-widgets/base",
            "_model_module_version": "1.2.0",
            "_model_name": "LayoutModel",
            "_view_count": null,
            "_view_module": "@jupyter-widgets/base",
            "_view_module_version": "1.2.0",
            "_view_name": "LayoutView",
            "align_content": null,
            "align_items": null,
            "align_self": null,
            "border": null,
            "bottom": null,
            "display": null,
            "flex": null,
            "flex_flow": null,
            "grid_area": null,
            "grid_auto_columns": null,
            "grid_auto_flow": null,
            "grid_auto_rows": null,
            "grid_column": null,
            "grid_gap": null,
            "grid_row": null,
            "grid_template_areas": null,
            "grid_template_columns": null,
            "grid_template_rows": null,
            "height": null,
            "justify_content": null,
            "justify_items": null,
            "left": null,
            "margin": null,
            "max_height": null,
            "max_width": null,
            "min_height": null,
            "min_width": null,
            "object_fit": null,
            "object_position": null,
            "order": null,
            "overflow": null,
            "overflow_x": null,
            "overflow_y": null,
            "padding": null,
            "right": null,
            "top": null,
            "visibility": null,
            "width": null
          }
        },
        "b77a949e4b3b415c93e89d69b1274cf8": {
          "model_module": "@jupyter-widgets/base",
          "model_module_version": "1.2.0",
          "model_name": "LayoutModel",
          "state": {
            "_model_module": "@jupyter-widgets/base",
            "_model_module_version": "1.2.0",
            "_model_name": "LayoutModel",
            "_view_count": null,
            "_view_module": "@jupyter-widgets/base",
            "_view_module_version": "1.2.0",
            "_view_name": "LayoutView",
            "align_content": null,
            "align_items": null,
            "align_self": null,
            "border": null,
            "bottom": null,
            "display": null,
            "flex": null,
            "flex_flow": null,
            "grid_area": null,
            "grid_auto_columns": null,
            "grid_auto_flow": null,
            "grid_auto_rows": null,
            "grid_column": null,
            "grid_gap": null,
            "grid_row": null,
            "grid_template_areas": null,
            "grid_template_columns": null,
            "grid_template_rows": null,
            "height": null,
            "justify_content": null,
            "justify_items": null,
            "left": null,
            "margin": null,
            "max_height": null,
            "max_width": null,
            "min_height": null,
            "min_width": null,
            "object_fit": null,
            "object_position": null,
            "order": null,
            "overflow": null,
            "overflow_x": null,
            "overflow_y": null,
            "padding": null,
            "right": null,
            "top": null,
            "visibility": null,
            "width": null
          }
        },
        "b7e644790cb34fe790f16f4b5444f6e3": {
          "model_module": "@jupyter-widgets/base",
          "model_module_version": "1.2.0",
          "model_name": "LayoutModel",
          "state": {
            "_model_module": "@jupyter-widgets/base",
            "_model_module_version": "1.2.0",
            "_model_name": "LayoutModel",
            "_view_count": null,
            "_view_module": "@jupyter-widgets/base",
            "_view_module_version": "1.2.0",
            "_view_name": "LayoutView",
            "align_content": null,
            "align_items": null,
            "align_self": null,
            "border": null,
            "bottom": null,
            "display": null,
            "flex": null,
            "flex_flow": null,
            "grid_area": null,
            "grid_auto_columns": null,
            "grid_auto_flow": null,
            "grid_auto_rows": null,
            "grid_column": null,
            "grid_gap": null,
            "grid_row": null,
            "grid_template_areas": null,
            "grid_template_columns": null,
            "grid_template_rows": null,
            "height": null,
            "justify_content": null,
            "justify_items": null,
            "left": null,
            "margin": null,
            "max_height": null,
            "max_width": null,
            "min_height": null,
            "min_width": null,
            "object_fit": null,
            "object_position": null,
            "order": null,
            "overflow": null,
            "overflow_x": null,
            "overflow_y": null,
            "padding": null,
            "right": null,
            "top": null,
            "visibility": null,
            "width": null
          }
        },
        "b8c173bd8d4b4436894c27d08a53177b": {
          "model_module": "@jupyter-widgets/controls",
          "model_module_version": "1.5.0",
          "model_name": "DescriptionStyleModel",
          "state": {
            "_model_module": "@jupyter-widgets/controls",
            "_model_module_version": "1.5.0",
            "_model_name": "DescriptionStyleModel",
            "_view_count": null,
            "_view_module": "@jupyter-widgets/base",
            "_view_module_version": "1.2.0",
            "_view_name": "StyleView",
            "description_width": ""
          }
        },
        "ba65d04fbd134374ae21ded77cf5fd9f": {
          "model_module": "@jupyter-widgets/controls",
          "model_module_version": "1.5.0",
          "model_name": "HBoxModel",
          "state": {
            "_dom_classes": [],
            "_model_module": "@jupyter-widgets/controls",
            "_model_module_version": "1.5.0",
            "_model_name": "HBoxModel",
            "_view_count": null,
            "_view_module": "@jupyter-widgets/controls",
            "_view_module_version": "1.5.0",
            "_view_name": "HBoxView",
            "box_style": "",
            "children": [
              "IPY_MODEL_f56eafa431f14c73a359ec035ee6c27b",
              "IPY_MODEL_aa34db447cd348be8fcece4e2115f4cb",
              "IPY_MODEL_dc98da264870473696dac455415ce969"
            ],
            "layout": "IPY_MODEL_b631968c9900419c809b4f863164a7f7"
          }
        },
        "c2ee38850c924a3497709013393a327a": {
          "model_module": "@jupyter-widgets/base",
          "model_module_version": "1.2.0",
          "model_name": "LayoutModel",
          "state": {
            "_model_module": "@jupyter-widgets/base",
            "_model_module_version": "1.2.0",
            "_model_name": "LayoutModel",
            "_view_count": null,
            "_view_module": "@jupyter-widgets/base",
            "_view_module_version": "1.2.0",
            "_view_name": "LayoutView",
            "align_content": null,
            "align_items": null,
            "align_self": null,
            "border": null,
            "bottom": null,
            "display": null,
            "flex": null,
            "flex_flow": null,
            "grid_area": null,
            "grid_auto_columns": null,
            "grid_auto_flow": null,
            "grid_auto_rows": null,
            "grid_column": null,
            "grid_gap": null,
            "grid_row": null,
            "grid_template_areas": null,
            "grid_template_columns": null,
            "grid_template_rows": null,
            "height": null,
            "justify_content": null,
            "justify_items": null,
            "left": null,
            "margin": null,
            "max_height": null,
            "max_width": null,
            "min_height": null,
            "min_width": null,
            "object_fit": null,
            "object_position": null,
            "order": null,
            "overflow": null,
            "overflow_x": null,
            "overflow_y": null,
            "padding": null,
            "right": null,
            "top": null,
            "visibility": null,
            "width": null
          }
        },
        "c38ecfdff81144e18ab1fdb286564130": {
          "model_module": "@jupyter-widgets/controls",
          "model_module_version": "1.5.0",
          "model_name": "DescriptionStyleModel",
          "state": {
            "_model_module": "@jupyter-widgets/controls",
            "_model_module_version": "1.5.0",
            "_model_name": "DescriptionStyleModel",
            "_view_count": null,
            "_view_module": "@jupyter-widgets/base",
            "_view_module_version": "1.2.0",
            "_view_name": "StyleView",
            "description_width": ""
          }
        },
        "c48ac009a7c443ed9ecc9c4ea98a707d": {
          "model_module": "@jupyter-widgets/controls",
          "model_module_version": "1.5.0",
          "model_name": "HTMLModel",
          "state": {
            "_dom_classes": [],
            "_model_module": "@jupyter-widgets/controls",
            "_model_module_version": "1.5.0",
            "_model_name": "HTMLModel",
            "_view_count": null,
            "_view_module": "@jupyter-widgets/controls",
            "_view_module_version": "1.5.0",
            "_view_name": "HTMLView",
            "description": "",
            "description_tooltip": null,
            "layout": "IPY_MODEL_ef245d6208444b7895fbc213c9516e2e",
            "placeholder": "​",
            "style": "IPY_MODEL_cedf9583cb8b4709929ebd5396bedcd3",
            "value": " 13.2k/13.2k [00:00&lt;00:00, 265kB/s]"
          }
        },
        "c67eac60aeb44a638bb0ee130a7571ef": {
          "model_module": "@jupyter-widgets/controls",
          "model_module_version": "1.5.0",
          "model_name": "HTMLModel",
          "state": {
            "_dom_classes": [],
            "_model_module": "@jupyter-widgets/controls",
            "_model_module_version": "1.5.0",
            "_model_name": "HTMLModel",
            "_view_count": null,
            "_view_module": "@jupyter-widgets/controls",
            "_view_module_version": "1.5.0",
            "_view_name": "HTMLView",
            "description": "",
            "description_tooltip": null,
            "layout": "IPY_MODEL_9e337694f3714c809df99b43e66e2d78",
            "placeholder": "​",
            "style": "IPY_MODEL_8c47d5ba053a410eac57474e6cd3222e",
            "value": " 190/190 [00:00&lt;00:00, 5.11kB/s]"
          }
        },
        "c703538419fb42008cfd529d8f6a825b": {
          "model_module": "@jupyter-widgets/base",
          "model_module_version": "1.2.0",
          "model_name": "LayoutModel",
          "state": {
            "_model_module": "@jupyter-widgets/base",
            "_model_module_version": "1.2.0",
            "_model_name": "LayoutModel",
            "_view_count": null,
            "_view_module": "@jupyter-widgets/base",
            "_view_module_version": "1.2.0",
            "_view_name": "LayoutView",
            "align_content": null,
            "align_items": null,
            "align_self": null,
            "border": null,
            "bottom": null,
            "display": null,
            "flex": null,
            "flex_flow": null,
            "grid_area": null,
            "grid_auto_columns": null,
            "grid_auto_flow": null,
            "grid_auto_rows": null,
            "grid_column": null,
            "grid_gap": null,
            "grid_row": null,
            "grid_template_areas": null,
            "grid_template_columns": null,
            "grid_template_rows": null,
            "height": null,
            "justify_content": null,
            "justify_items": null,
            "left": null,
            "margin": null,
            "max_height": null,
            "max_width": null,
            "min_height": null,
            "min_width": null,
            "object_fit": null,
            "object_position": null,
            "order": null,
            "overflow": null,
            "overflow_x": null,
            "overflow_y": null,
            "padding": null,
            "right": null,
            "top": null,
            "visibility": null,
            "width": null
          }
        },
        "c868215241e64d36afb8e2427c86a83e": {
          "model_module": "@jupyter-widgets/base",
          "model_module_version": "1.2.0",
          "model_name": "LayoutModel",
          "state": {
            "_model_module": "@jupyter-widgets/base",
            "_model_module_version": "1.2.0",
            "_model_name": "LayoutModel",
            "_view_count": null,
            "_view_module": "@jupyter-widgets/base",
            "_view_module_version": "1.2.0",
            "_view_name": "LayoutView",
            "align_content": null,
            "align_items": null,
            "align_self": null,
            "border": null,
            "bottom": null,
            "display": null,
            "flex": null,
            "flex_flow": null,
            "grid_area": null,
            "grid_auto_columns": null,
            "grid_auto_flow": null,
            "grid_auto_rows": null,
            "grid_column": null,
            "grid_gap": null,
            "grid_row": null,
            "grid_template_areas": null,
            "grid_template_columns": null,
            "grid_template_rows": null,
            "height": null,
            "justify_content": null,
            "justify_items": null,
            "left": null,
            "margin": null,
            "max_height": null,
            "max_width": null,
            "min_height": null,
            "min_width": null,
            "object_fit": null,
            "object_position": null,
            "order": null,
            "overflow": null,
            "overflow_x": null,
            "overflow_y": null,
            "padding": null,
            "right": null,
            "top": null,
            "visibility": null,
            "width": null
          }
        },
        "c98a76e2ddef49afa6cab45e36be0454": {
          "model_module": "@jupyter-widgets/controls",
          "model_module_version": "1.5.0",
          "model_name": "ProgressStyleModel",
          "state": {
            "_model_module": "@jupyter-widgets/controls",
            "_model_module_version": "1.5.0",
            "_model_name": "ProgressStyleModel",
            "_view_count": null,
            "_view_module": "@jupyter-widgets/base",
            "_view_module_version": "1.2.0",
            "_view_name": "StyleView",
            "bar_color": null,
            "description_width": ""
          }
        },
        "cb22bb21cc274f43a011aff9a8d4dbea": {
          "model_module": "@jupyter-widgets/base",
          "model_module_version": "1.2.0",
          "model_name": "LayoutModel",
          "state": {
            "_model_module": "@jupyter-widgets/base",
            "_model_module_version": "1.2.0",
            "_model_name": "LayoutModel",
            "_view_count": null,
            "_view_module": "@jupyter-widgets/base",
            "_view_module_version": "1.2.0",
            "_view_name": "LayoutView",
            "align_content": null,
            "align_items": null,
            "align_self": null,
            "border": null,
            "bottom": null,
            "display": null,
            "flex": null,
            "flex_flow": null,
            "grid_area": null,
            "grid_auto_columns": null,
            "grid_auto_flow": null,
            "grid_auto_rows": null,
            "grid_column": null,
            "grid_gap": null,
            "grid_row": null,
            "grid_template_areas": null,
            "grid_template_columns": null,
            "grid_template_rows": null,
            "height": null,
            "justify_content": null,
            "justify_items": null,
            "left": null,
            "margin": null,
            "max_height": null,
            "max_width": null,
            "min_height": null,
            "min_width": null,
            "object_fit": null,
            "object_position": null,
            "order": null,
            "overflow": null,
            "overflow_x": null,
            "overflow_y": null,
            "padding": null,
            "right": null,
            "top": null,
            "visibility": null,
            "width": null
          }
        },
        "cbc386706f984af9a52132a8a06570fe": {
          "model_module": "@jupyter-widgets/controls",
          "model_module_version": "1.5.0",
          "model_name": "DescriptionStyleModel",
          "state": {
            "_model_module": "@jupyter-widgets/controls",
            "_model_module_version": "1.5.0",
            "_model_name": "DescriptionStyleModel",
            "_view_count": null,
            "_view_module": "@jupyter-widgets/base",
            "_view_module_version": "1.2.0",
            "_view_name": "StyleView",
            "description_width": ""
          }
        },
        "cc036817a4f14b65862a747fd0d2c765": {
          "model_module": "@jupyter-widgets/controls",
          "model_module_version": "1.5.0",
          "model_name": "DescriptionStyleModel",
          "state": {
            "_model_module": "@jupyter-widgets/controls",
            "_model_module_version": "1.5.0",
            "_model_name": "DescriptionStyleModel",
            "_view_count": null,
            "_view_module": "@jupyter-widgets/base",
            "_view_module_version": "1.2.0",
            "_view_name": "StyleView",
            "description_width": ""
          }
        },
        "cc40dc0e801948b887ba0a6789df6996": {
          "model_module": "@jupyter-widgets/base",
          "model_module_version": "1.2.0",
          "model_name": "LayoutModel",
          "state": {
            "_model_module": "@jupyter-widgets/base",
            "_model_module_version": "1.2.0",
            "_model_name": "LayoutModel",
            "_view_count": null,
            "_view_module": "@jupyter-widgets/base",
            "_view_module_version": "1.2.0",
            "_view_name": "LayoutView",
            "align_content": null,
            "align_items": null,
            "align_self": null,
            "border": null,
            "bottom": null,
            "display": null,
            "flex": null,
            "flex_flow": null,
            "grid_area": null,
            "grid_auto_columns": null,
            "grid_auto_flow": null,
            "grid_auto_rows": null,
            "grid_column": null,
            "grid_gap": null,
            "grid_row": null,
            "grid_template_areas": null,
            "grid_template_columns": null,
            "grid_template_rows": null,
            "height": null,
            "justify_content": null,
            "justify_items": null,
            "left": null,
            "margin": null,
            "max_height": null,
            "max_width": null,
            "min_height": null,
            "min_width": null,
            "object_fit": null,
            "object_position": null,
            "order": null,
            "overflow": null,
            "overflow_x": null,
            "overflow_y": null,
            "padding": null,
            "right": null,
            "top": null,
            "visibility": null,
            "width": null
          }
        },
        "cc647bdbe9a24dbb9be0bb1406bb7f9e": {
          "model_module": "@jupyter-widgets/controls",
          "model_module_version": "1.5.0",
          "model_name": "DescriptionStyleModel",
          "state": {
            "_model_module": "@jupyter-widgets/controls",
            "_model_module_version": "1.5.0",
            "_model_name": "DescriptionStyleModel",
            "_view_count": null,
            "_view_module": "@jupyter-widgets/base",
            "_view_module_version": "1.2.0",
            "_view_name": "StyleView",
            "description_width": ""
          }
        },
        "cce9f737109f4b5283e3f63c90ba7ee2": {
          "model_module": "@jupyter-widgets/controls",
          "model_module_version": "1.5.0",
          "model_name": "HTMLModel",
          "state": {
            "_dom_classes": [],
            "_model_module": "@jupyter-widgets/controls",
            "_model_module_version": "1.5.0",
            "_model_name": "HTMLModel",
            "_view_count": null,
            "_view_module": "@jupyter-widgets/controls",
            "_view_module_version": "1.5.0",
            "_view_name": "HTMLView",
            "description": "",
            "description_tooltip": null,
            "layout": "IPY_MODEL_2812734328564bf39c93704ffebdbd1e",
            "placeholder": "​",
            "style": "IPY_MODEL_b8c173bd8d4b4436894c27d08a53177b",
            "value": "1_Pooling/config.json: 100%"
          }
        },
        "cedf9583cb8b4709929ebd5396bedcd3": {
          "model_module": "@jupyter-widgets/controls",
          "model_module_version": "1.5.0",
          "model_name": "DescriptionStyleModel",
          "state": {
            "_model_module": "@jupyter-widgets/controls",
            "_model_module_version": "1.5.0",
            "_model_name": "DescriptionStyleModel",
            "_view_count": null,
            "_view_module": "@jupyter-widgets/base",
            "_view_module_version": "1.2.0",
            "_view_name": "StyleView",
            "description_width": ""
          }
        },
        "cf91dbfca8484c4f97ae02103f255a50": {
          "model_module": "@jupyter-widgets/base",
          "model_module_version": "1.2.0",
          "model_name": "LayoutModel",
          "state": {
            "_model_module": "@jupyter-widgets/base",
            "_model_module_version": "1.2.0",
            "_model_name": "LayoutModel",
            "_view_count": null,
            "_view_module": "@jupyter-widgets/base",
            "_view_module_version": "1.2.0",
            "_view_name": "LayoutView",
            "align_content": null,
            "align_items": null,
            "align_self": null,
            "border": null,
            "bottom": null,
            "display": null,
            "flex": null,
            "flex_flow": null,
            "grid_area": null,
            "grid_auto_columns": null,
            "grid_auto_flow": null,
            "grid_auto_rows": null,
            "grid_column": null,
            "grid_gap": null,
            "grid_row": null,
            "grid_template_areas": null,
            "grid_template_columns": null,
            "grid_template_rows": null,
            "height": null,
            "justify_content": null,
            "justify_items": null,
            "left": null,
            "margin": null,
            "max_height": null,
            "max_width": null,
            "min_height": null,
            "min_width": null,
            "object_fit": null,
            "object_position": null,
            "order": null,
            "overflow": null,
            "overflow_x": null,
            "overflow_y": null,
            "padding": null,
            "right": null,
            "top": null,
            "visibility": null,
            "width": null
          }
        },
        "cfe8f8374d69450380fa0378f324da64": {
          "model_module": "@jupyter-widgets/base",
          "model_module_version": "1.2.0",
          "model_name": "LayoutModel",
          "state": {
            "_model_module": "@jupyter-widgets/base",
            "_model_module_version": "1.2.0",
            "_model_name": "LayoutModel",
            "_view_count": null,
            "_view_module": "@jupyter-widgets/base",
            "_view_module_version": "1.2.0",
            "_view_name": "LayoutView",
            "align_content": null,
            "align_items": null,
            "align_self": null,
            "border": null,
            "bottom": null,
            "display": null,
            "flex": null,
            "flex_flow": null,
            "grid_area": null,
            "grid_auto_columns": null,
            "grid_auto_flow": null,
            "grid_auto_rows": null,
            "grid_column": null,
            "grid_gap": null,
            "grid_row": null,
            "grid_template_areas": null,
            "grid_template_columns": null,
            "grid_template_rows": null,
            "height": null,
            "justify_content": null,
            "justify_items": null,
            "left": null,
            "margin": null,
            "max_height": null,
            "max_width": null,
            "min_height": null,
            "min_width": null,
            "object_fit": null,
            "object_position": null,
            "order": null,
            "overflow": null,
            "overflow_x": null,
            "overflow_y": null,
            "padding": null,
            "right": null,
            "top": null,
            "visibility": null,
            "width": null
          }
        },
        "d3d400c6e48b4785a2b82316835bfe93": {
          "model_module": "@jupyter-widgets/controls",
          "model_module_version": "1.5.0",
          "model_name": "ProgressStyleModel",
          "state": {
            "_model_module": "@jupyter-widgets/controls",
            "_model_module_version": "1.5.0",
            "_model_name": "ProgressStyleModel",
            "_view_count": null,
            "_view_module": "@jupyter-widgets/base",
            "_view_module_version": "1.2.0",
            "_view_name": "StyleView",
            "bar_color": null,
            "description_width": ""
          }
        },
        "d5eab2d0966b4860a9bf98b028096aaa": {
          "model_module": "@jupyter-widgets/controls",
          "model_module_version": "1.5.0",
          "model_name": "ProgressStyleModel",
          "state": {
            "_model_module": "@jupyter-widgets/controls",
            "_model_module_version": "1.5.0",
            "_model_name": "ProgressStyleModel",
            "_view_count": null,
            "_view_module": "@jupyter-widgets/base",
            "_view_module_version": "1.2.0",
            "_view_name": "StyleView",
            "bar_color": null,
            "description_width": ""
          }
        },
        "d8124d64004b4d20bf5594cb95840620": {
          "model_module": "@jupyter-widgets/controls",
          "model_module_version": "1.5.0",
          "model_name": "HTMLModel",
          "state": {
            "_dom_classes": [],
            "_model_module": "@jupyter-widgets/controls",
            "_model_module_version": "1.5.0",
            "_model_name": "HTMLModel",
            "_view_count": null,
            "_view_module": "@jupyter-widgets/controls",
            "_view_module_version": "1.5.0",
            "_view_name": "HTMLView",
            "description": "",
            "description_tooltip": null,
            "layout": "IPY_MODEL_dab626bd930e4ea0b6d8a3d2049bacbb",
            "placeholder": "​",
            "style": "IPY_MODEL_3daae254359a4572b85514eeb5919c7a",
            "value": "data_config.json: 100%"
          }
        },
        "d87eaae8cedb481d92c407d401d71737": {
          "model_module": "@jupyter-widgets/controls",
          "model_module_version": "1.5.0",
          "model_name": "HTMLModel",
          "state": {
            "_dom_classes": [],
            "_model_module": "@jupyter-widgets/controls",
            "_model_module_version": "1.5.0",
            "_model_name": "HTMLModel",
            "_view_count": null,
            "_view_module": "@jupyter-widgets/controls",
            "_view_module_version": "1.5.0",
            "_view_name": "HTMLView",
            "description": "",
            "description_tooltip": null,
            "layout": "IPY_MODEL_a93df95cb2464cef8cecd982656c728b",
            "placeholder": "​",
            "style": "IPY_MODEL_cc036817a4f14b65862a747fd0d2c765",
            "value": " 1.18k/1.18k [00:00&lt;00:00, 28.2kB/s]"
          }
        },
        "d9d66cf1f1ef447499b95166c8c94a6a": {
          "model_module": "@jupyter-widgets/base",
          "model_module_version": "1.2.0",
          "model_name": "LayoutModel",
          "state": {
            "_model_module": "@jupyter-widgets/base",
            "_model_module_version": "1.2.0",
            "_model_name": "LayoutModel",
            "_view_count": null,
            "_view_module": "@jupyter-widgets/base",
            "_view_module_version": "1.2.0",
            "_view_name": "LayoutView",
            "align_content": null,
            "align_items": null,
            "align_self": null,
            "border": null,
            "bottom": null,
            "display": null,
            "flex": null,
            "flex_flow": null,
            "grid_area": null,
            "grid_auto_columns": null,
            "grid_auto_flow": null,
            "grid_auto_rows": null,
            "grid_column": null,
            "grid_gap": null,
            "grid_row": null,
            "grid_template_areas": null,
            "grid_template_columns": null,
            "grid_template_rows": null,
            "height": null,
            "justify_content": null,
            "justify_items": null,
            "left": null,
            "margin": null,
            "max_height": null,
            "max_width": null,
            "min_height": null,
            "min_width": null,
            "object_fit": null,
            "object_position": null,
            "order": null,
            "overflow": null,
            "overflow_x": null,
            "overflow_y": null,
            "padding": null,
            "right": null,
            "top": null,
            "visibility": null,
            "width": null
          }
        },
        "da73bb64eb3844e4bd2a29bb6163839c": {
          "model_module": "@jupyter-widgets/controls",
          "model_module_version": "1.5.0",
          "model_name": "HTMLModel",
          "state": {
            "_dom_classes": [],
            "_model_module": "@jupyter-widgets/controls",
            "_model_module_version": "1.5.0",
            "_model_name": "HTMLModel",
            "_view_count": null,
            "_view_module": "@jupyter-widgets/controls",
            "_view_module_version": "1.5.0",
            "_view_name": "HTMLView",
            "description": "",
            "description_tooltip": null,
            "layout": "IPY_MODEL_c2ee38850c924a3497709013393a327a",
            "placeholder": "​",
            "style": "IPY_MODEL_25d2564543234fb49cb964542671bb00",
            "value": "sentence_bert_config.json: 100%"
          }
        },
        "dab626bd930e4ea0b6d8a3d2049bacbb": {
          "model_module": "@jupyter-widgets/base",
          "model_module_version": "1.2.0",
          "model_name": "LayoutModel",
          "state": {
            "_model_module": "@jupyter-widgets/base",
            "_model_module_version": "1.2.0",
            "_model_name": "LayoutModel",
            "_view_count": null,
            "_view_module": "@jupyter-widgets/base",
            "_view_module_version": "1.2.0",
            "_view_name": "LayoutView",
            "align_content": null,
            "align_items": null,
            "align_self": null,
            "border": null,
            "bottom": null,
            "display": null,
            "flex": null,
            "flex_flow": null,
            "grid_area": null,
            "grid_auto_columns": null,
            "grid_auto_flow": null,
            "grid_auto_rows": null,
            "grid_column": null,
            "grid_gap": null,
            "grid_row": null,
            "grid_template_areas": null,
            "grid_template_columns": null,
            "grid_template_rows": null,
            "height": null,
            "justify_content": null,
            "justify_items": null,
            "left": null,
            "margin": null,
            "max_height": null,
            "max_width": null,
            "min_height": null,
            "min_width": null,
            "object_fit": null,
            "object_position": null,
            "order": null,
            "overflow": null,
            "overflow_x": null,
            "overflow_y": null,
            "padding": null,
            "right": null,
            "top": null,
            "visibility": null,
            "width": null
          }
        },
        "dc98da264870473696dac455415ce969": {
          "model_module": "@jupyter-widgets/controls",
          "model_module_version": "1.5.0",
          "model_name": "HTMLModel",
          "state": {
            "_dom_classes": [],
            "_model_module": "@jupyter-widgets/controls",
            "_model_module_version": "1.5.0",
            "_model_name": "HTMLModel",
            "_view_count": null,
            "_view_module": "@jupyter-widgets/controls",
            "_view_module_version": "1.5.0",
            "_view_name": "HTMLView",
            "description": "",
            "description_tooltip": null,
            "layout": "IPY_MODEL_5796cd66451c4ab9aa24f8d8b7d54716",
            "placeholder": "​",
            "style": "IPY_MODEL_c38ecfdff81144e18ab1fdb286564130",
            "value": " 350/350 [00:00&lt;00:00, 10.4kB/s]"
          }
        },
        "de893060ee724df7b2728f5e8c519406": {
          "model_module": "@jupyter-widgets/controls",
          "model_module_version": "1.5.0",
          "model_name": "ProgressStyleModel",
          "state": {
            "_model_module": "@jupyter-widgets/controls",
            "_model_module_version": "1.5.0",
            "_model_name": "ProgressStyleModel",
            "_view_count": null,
            "_view_module": "@jupyter-widgets/base",
            "_view_module_version": "1.2.0",
            "_view_name": "StyleView",
            "bar_color": null,
            "description_width": ""
          }
        },
        "df21d99ac106499d80228e19fa997ffd": {
          "model_module": "@jupyter-widgets/base",
          "model_module_version": "1.2.0",
          "model_name": "LayoutModel",
          "state": {
            "_model_module": "@jupyter-widgets/base",
            "_model_module_version": "1.2.0",
            "_model_name": "LayoutModel",
            "_view_count": null,
            "_view_module": "@jupyter-widgets/base",
            "_view_module_version": "1.2.0",
            "_view_name": "LayoutView",
            "align_content": null,
            "align_items": null,
            "align_self": null,
            "border": null,
            "bottom": null,
            "display": null,
            "flex": null,
            "flex_flow": null,
            "grid_area": null,
            "grid_auto_columns": null,
            "grid_auto_flow": null,
            "grid_auto_rows": null,
            "grid_column": null,
            "grid_gap": null,
            "grid_row": null,
            "grid_template_areas": null,
            "grid_template_columns": null,
            "grid_template_rows": null,
            "height": null,
            "justify_content": null,
            "justify_items": null,
            "left": null,
            "margin": null,
            "max_height": null,
            "max_width": null,
            "min_height": null,
            "min_width": null,
            "object_fit": null,
            "object_position": null,
            "order": null,
            "overflow": null,
            "overflow_x": null,
            "overflow_y": null,
            "padding": null,
            "right": null,
            "top": null,
            "visibility": null,
            "width": null
          }
        },
        "e651989f136242a49d5917fc78945184": {
          "model_module": "@jupyter-widgets/controls",
          "model_module_version": "1.5.0",
          "model_name": "HTMLModel",
          "state": {
            "_dom_classes": [],
            "_model_module": "@jupyter-widgets/controls",
            "_model_module_version": "1.5.0",
            "_model_name": "HTMLModel",
            "_view_count": null,
            "_view_module": "@jupyter-widgets/controls",
            "_view_module_version": "1.5.0",
            "_view_name": "HTMLView",
            "description": "",
            "description_tooltip": null,
            "layout": "IPY_MODEL_1f7fa54e2f154dac9e89df278cbdf997",
            "placeholder": "​",
            "style": "IPY_MODEL_6b4ad65007b24cba99fda38667eb3591",
            "value": " 112/112 [00:00&lt;00:00, 1.33kB/s]"
          }
        },
        "e7030989fc3d41399b71309a250855ed": {
          "model_module": "@jupyter-widgets/base",
          "model_module_version": "1.2.0",
          "model_name": "LayoutModel",
          "state": {
            "_model_module": "@jupyter-widgets/base",
            "_model_module_version": "1.2.0",
            "_model_name": "LayoutModel",
            "_view_count": null,
            "_view_module": "@jupyter-widgets/base",
            "_view_module_version": "1.2.0",
            "_view_name": "LayoutView",
            "align_content": null,
            "align_items": null,
            "align_self": null,
            "border": null,
            "bottom": null,
            "display": null,
            "flex": null,
            "flex_flow": null,
            "grid_area": null,
            "grid_auto_columns": null,
            "grid_auto_flow": null,
            "grid_auto_rows": null,
            "grid_column": null,
            "grid_gap": null,
            "grid_row": null,
            "grid_template_areas": null,
            "grid_template_columns": null,
            "grid_template_rows": null,
            "height": null,
            "justify_content": null,
            "justify_items": null,
            "left": null,
            "margin": null,
            "max_height": null,
            "max_width": null,
            "min_height": null,
            "min_width": null,
            "object_fit": null,
            "object_position": null,
            "order": null,
            "overflow": null,
            "overflow_x": null,
            "overflow_y": null,
            "padding": null,
            "right": null,
            "top": null,
            "visibility": null,
            "width": null
          }
        },
        "eade587365ea47298ccb4b2f578e8f3d": {
          "model_module": "@jupyter-widgets/controls",
          "model_module_version": "1.5.0",
          "model_name": "FloatProgressModel",
          "state": {
            "_dom_classes": [],
            "_model_module": "@jupyter-widgets/controls",
            "_model_module_version": "1.5.0",
            "_model_name": "FloatProgressModel",
            "_view_count": null,
            "_view_module": "@jupyter-widgets/controls",
            "_view_module_version": "1.5.0",
            "_view_name": "ProgressView",
            "bar_style": "success",
            "description": "",
            "description_tooltip": null,
            "layout": "IPY_MODEL_cf91dbfca8484c4f97ae02103f255a50",
            "max": 112,
            "min": 0,
            "orientation": "horizontal",
            "style": "IPY_MODEL_d3d400c6e48b4785a2b82316835bfe93",
            "value": 112
          }
        },
        "ed8b54cd29d549b1bb67bd75ccaff610": {
          "model_module": "@jupyter-widgets/controls",
          "model_module_version": "1.5.0",
          "model_name": "DescriptionStyleModel",
          "state": {
            "_model_module": "@jupyter-widgets/controls",
            "_model_module_version": "1.5.0",
            "_model_name": "DescriptionStyleModel",
            "_view_count": null,
            "_view_module": "@jupyter-widgets/base",
            "_view_module_version": "1.2.0",
            "_view_name": "StyleView",
            "description_width": ""
          }
        },
        "ef245d6208444b7895fbc213c9516e2e": {
          "model_module": "@jupyter-widgets/base",
          "model_module_version": "1.2.0",
          "model_name": "LayoutModel",
          "state": {
            "_model_module": "@jupyter-widgets/base",
            "_model_module_version": "1.2.0",
            "_model_name": "LayoutModel",
            "_view_count": null,
            "_view_module": "@jupyter-widgets/base",
            "_view_module_version": "1.2.0",
            "_view_name": "LayoutView",
            "align_content": null,
            "align_items": null,
            "align_self": null,
            "border": null,
            "bottom": null,
            "display": null,
            "flex": null,
            "flex_flow": null,
            "grid_area": null,
            "grid_auto_columns": null,
            "grid_auto_flow": null,
            "grid_auto_rows": null,
            "grid_column": null,
            "grid_gap": null,
            "grid_row": null,
            "grid_template_areas": null,
            "grid_template_columns": null,
            "grid_template_rows": null,
            "height": null,
            "justify_content": null,
            "justify_items": null,
            "left": null,
            "margin": null,
            "max_height": null,
            "max_width": null,
            "min_height": null,
            "min_width": null,
            "object_fit": null,
            "object_position": null,
            "order": null,
            "overflow": null,
            "overflow_x": null,
            "overflow_y": null,
            "padding": null,
            "right": null,
            "top": null,
            "visibility": null,
            "width": null
          }
        },
        "f3bcb91417ad4a7cb3bd41c3707ef4ba": {
          "model_module": "@jupyter-widgets/controls",
          "model_module_version": "1.5.0",
          "model_name": "HTMLModel",
          "state": {
            "_dom_classes": [],
            "_model_module": "@jupyter-widgets/controls",
            "_model_module_version": "1.5.0",
            "_model_name": "HTMLModel",
            "_view_count": null,
            "_view_module": "@jupyter-widgets/controls",
            "_view_module_version": "1.5.0",
            "_view_name": "HTMLView",
            "description": "",
            "description_tooltip": null,
            "layout": "IPY_MODEL_35be898b1fb840aca00022e19507b6fd",
            "placeholder": "​",
            "style": "IPY_MODEL_f870aaf512094520a9839aa43c3c5fe8",
            "value": ".gitattributes: 100%"
          }
        },
        "f56eafa431f14c73a359ec035ee6c27b": {
          "model_module": "@jupyter-widgets/controls",
          "model_module_version": "1.5.0",
          "model_name": "HTMLModel",
          "state": {
            "_dom_classes": [],
            "_model_module": "@jupyter-widgets/controls",
            "_model_module_version": "1.5.0",
            "_model_name": "HTMLModel",
            "_view_count": null,
            "_view_module": "@jupyter-widgets/controls",
            "_view_module_version": "1.5.0",
            "_view_name": "HTMLView",
            "description": "",
            "description_tooltip": null,
            "layout": "IPY_MODEL_5f7498300d60408caad30a85292a6c0f",
            "placeholder": "​",
            "style": "IPY_MODEL_21531a4a3e6e49a9bb790790aecf174b",
            "value": "tokenizer_config.json: 100%"
          }
        },
        "f870aaf512094520a9839aa43c3c5fe8": {
          "model_module": "@jupyter-widgets/controls",
          "model_module_version": "1.5.0",
          "model_name": "DescriptionStyleModel",
          "state": {
            "_model_module": "@jupyter-widgets/controls",
            "_model_module_version": "1.5.0",
            "_model_name": "DescriptionStyleModel",
            "_view_count": null,
            "_view_module": "@jupyter-widgets/base",
            "_view_module_version": "1.2.0",
            "_view_name": "StyleView",
            "description_width": ""
          }
        },
        "fa5690c118f94a8b8934aa156353524b": {
          "model_module": "@jupyter-widgets/controls",
          "model_module_version": "1.5.0",
          "model_name": "HBoxModel",
          "state": {
            "_dom_classes": [],
            "_model_module": "@jupyter-widgets/controls",
            "_model_module_version": "1.5.0",
            "_model_name": "HBoxModel",
            "_view_count": null,
            "_view_module": "@jupyter-widgets/controls",
            "_view_module_version": "1.5.0",
            "_view_name": "HBoxView",
            "box_style": "",
            "children": [
              "IPY_MODEL_f3bcb91417ad4a7cb3bd41c3707ef4ba",
              "IPY_MODEL_4bb3820c05294d7c8d381d03922f0424",
              "IPY_MODEL_d87eaae8cedb481d92c407d401d71737"
            ],
            "layout": "IPY_MODEL_61d5987dcf0c4ddfbe0067e0072ecc84"
          }
        },
        "ffb594d3154044ac9e0bc87a71d37d72": {
          "model_module": "@jupyter-widgets/controls",
          "model_module_version": "1.5.0",
          "model_name": "HTMLModel",
          "state": {
            "_dom_classes": [],
            "_model_module": "@jupyter-widgets/controls",
            "_model_module_version": "1.5.0",
            "_model_name": "HTMLModel",
            "_view_count": null,
            "_view_module": "@jupyter-widgets/controls",
            "_view_module_version": "1.5.0",
            "_view_name": "HTMLView",
            "description": "",
            "description_tooltip": null,
            "layout": "IPY_MODEL_c703538419fb42008cfd529d8f6a825b",
            "placeholder": "​",
            "style": "IPY_MODEL_242b25244c0c4f738d6d34f56b6bef51",
            "value": " 53.0/53.0 [00:00&lt;00:00, 1.18kB/s]"
          }
        }
      }
    }
  },
  "nbformat": 4,
  "nbformat_minor": 5
}