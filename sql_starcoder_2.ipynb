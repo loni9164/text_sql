{
  "cells": [
    {
      "cell_type": "markdown",
      "metadata": {
        "id": "view-in-github",
        "colab_type": "text"
      },
      "source": [
        "<a href=\"https://colab.research.google.com/github/loni9164/text_sql/blob/main/sql_starcoder_2.ipynb\" target=\"_parent\"><img src=\"https://colab.research.google.com/assets/colab-badge.svg\" alt=\"Open In Colab\"/></a>"
      ]
    },
    {
      "cell_type": "code",
      "source": [
        "import sqlite3\n",
        "import time"
      ],
      "metadata": {
        "id": "b0vI_OwN3D3d"
      },
      "id": "b0vI_OwN3D3d",
      "execution_count": 1,
      "outputs": []
    },
    {
      "cell_type": "code",
      "source": [
        "!git clone https://github.com/loni9164/text_sql.git"
      ],
      "metadata": {
        "id": "WDNkPk6GSM0r"
      },
      "id": "WDNkPk6GSM0r",
      "execution_count": null,
      "outputs": []
    },
    {
      "cell_type": "code",
      "execution_count": null,
      "metadata": {
        "id": "RD0eiLQSVUhq"
      },
      "outputs": [],
      "source": [
        "!pip install langchain langchain-experimental\n",
        "!pip install -q  langchain"
      ],
      "id": "RD0eiLQSVUhq"
    },
    {
      "cell_type": "code",
      "execution_count": 11,
      "metadata": {
        "id": "171Elegbh0nm"
      },
      "outputs": [],
      "source": [
        "# from langchain.llms import CTransformers\n",
        "from langchain import PromptTemplate, LLMChain\n",
        "from langchain.callbacks.manager import CallbackManager\n",
        "from langchain.callbacks.streaming_stdout import StreamingStdOutCallbackHandler\n",
        "from langchain.utilities import SQLDatabase\n",
        "from langchain.prompts import PromptTemplate\n",
        "from langchain_experimental.sql import SQLDatabaseChain"
      ],
      "id": "171Elegbh0nm"
    },
    {
      "cell_type": "code",
      "source": [
        "db_path = \"sqlite:///text_sql/credit_card_system.db\""
      ],
      "metadata": {
        "id": "7pTq0G6S37zy"
      },
      "id": "7pTq0G6S37zy",
      "execution_count": 12,
      "outputs": []
    },
    {
      "cell_type": "code",
      "execution_count": 13,
      "metadata": {
        "id": "23f9ae16"
      },
      "outputs": [],
      "source": [
        "db = SQLDatabase.from_uri(db_path)\n",
        "table_info = db.table_info\n",
        "# print(table_info)"
      ],
      "id": "23f9ae16"
    },
    {
      "cell_type": "code",
      "source": [
        "!pip3 install transformers optimum\n",
        "!pip3 install auto-gptq --extra-index-url https://huggingface.github.io/autogptq-index/whl/cu121/  # Use cu117 if on CUDA 11.7"
      ],
      "metadata": {
        "id": "U0yU-L3pfR5Z"
      },
      "id": "U0yU-L3pfR5Z",
      "execution_count": null,
      "outputs": []
    },
    {
      "cell_type": "code",
      "source": [
        "from transformers import AutoModelForCausalLM, AutoTokenizer, pipeline\n",
        "\n",
        "model_name_or_path = \"TheBloke/sqlcoder2-GPTQ\"\n",
        "# To use a different branch, change revision\n",
        "# For example: revision=\"gptq-4bit-32g-actorder_True\"\n",
        "model = AutoModelForCausalLM.from_pretrained(model_name_or_path,\n",
        "                                             device_map=\"auto\",\n",
        "                                             trust_remote_code=False,\n",
        "                                             revision=\"main\")"
      ],
      "metadata": {
        "id": "GqqCL_bIfhMY"
      },
      "id": "GqqCL_bIfhMY",
      "execution_count": 14,
      "outputs": []
    },
    {
      "cell_type": "code",
      "source": [
        "from auto_gptq import exllama_set_max_input_length\n",
        "model = exllama_set_max_input_length(model, max_input_length=3000)\n",
        "tokenizer = AutoTokenizer.from_pretrained(model_name_or_path, use_fast=True)"
      ],
      "metadata": {
        "id": "bLqtVomqRXbU"
      },
      "id": "bLqtVomqRXbU",
      "execution_count": 15,
      "outputs": []
    },
    {
      "cell_type": "code",
      "source": [
        "# print(\"\\n\\n*** Generate:\")\n",
        "\n",
        "# input_ids = tokenizer(prompt_template, return_tensors='pt').input_ids.cuda()\n",
        "# output = model.generate(inputs=input_ids, temperature=0, do_sample=True, top_p=0.95, top_k=40, max_new_tokens=512)\n",
        "# print(tokenizer.decode(output[0]))\n",
        "\n",
        "# Inference can also be done using transformers' pipeline\n",
        "\n",
        "# print(\"*** Pipeline:\")\n",
        "pipe = pipeline(\n",
        "    \"text-generation\",\n",
        "    model=model,\n",
        "    tokenizer=tokenizer,\n",
        "    max_new_tokens=512,\n",
        "    do_sample=True,\n",
        "    temperature=0.1,\n",
        "    top_p=0.95,\n",
        "    top_k=40,\n",
        "    repetition_penalty=1.1\n",
        ")\n",
        "\n",
        "# print(pipe(prompt_template)[0]['generated_text'])"
      ],
      "metadata": {
        "id": "ET4yt8B2grMH"
      },
      "id": "ET4yt8B2grMH",
      "execution_count": 16,
      "outputs": []
    },
    {
      "cell_type": "code",
      "source": [
        "template='''## Task\n",
        "  Generate a SQlite query to answer the following question:\n",
        "  `{prompt}`\n",
        "  please Note that columns names\n",
        "  ### Database Schema\n",
        "  ### Refer below database Schema for columns name\n",
        "CREATE TABLE branch (\n",
        "\t\"BranchId\" INTEGER,\n",
        "\t\"BranchName\" TEXT,\n",
        "\t\"BranchAddress\" TEXT,\n",
        "\t\"BranchPhone\" TEXT,\n",
        "\t\"BranchManager\" TEXT,\n",
        "\t\"BranchEmail\" TEXT,\n",
        "\t\"EstablishedDate\" DATE,\n",
        "\t\"NumberOfEmployees\" INTEGER,\n",
        "\tPRIMARY KEY (\"BranchId\")\n",
        ")\n",
        "\n",
        "\n",
        "CREATE TABLE category (\n",
        "\t\"CategoryId\" INTEGER,\n",
        "\t\"CategoryName\" TEXT,\n",
        "\tPRIMARY KEY (\"CategoryId\")\n",
        ")\n",
        "\n",
        "\n",
        "CREATE TABLE credit_card (\n",
        "\t\"CardId\" INTEGER,\n",
        "\t\"UserId\" INTEGER,\n",
        "\t\"CardNumber\" TEXT,\n",
        "\t\"CardType\" TEXT,\n",
        "\t\"ExpiryDate\" DATE,\n",
        "\t\"CVV\" INTEGER,\n",
        "\t\"IssueDate\" DATE,\n",
        "\t\"CreditLimit\" REAL,\n",
        "\t\"CurrentBalance\" REAL,\n",
        "\t\"StatementBalance\" REAL,\n",
        "\tPRIMARY KEY (\"CardId\"),\n",
        "\tFOREIGN KEY(\"UserId\") REFERENCES user (\"UserId\")\n",
        ")\n",
        "\n",
        "\n",
        "CREATE TABLE credit_card_financial (\n",
        "\t\"FinancialId\" INTEGER,\n",
        "\t\"CardId\" INTEGER,\n",
        "\t\"OverdueCharges\" REAL,\n",
        "\t\"LoanAmount\" REAL,\n",
        "\t\"EMIAmount\" REAL,\n",
        "\t\"EMIDueDate\" DATE,\n",
        "\t\"InterestRate\" REAL,\n",
        "\t\"PaymentDueDate\" DATE,\n",
        "\t\"MinimumPayment\" REAL,\n",
        "\tPRIMARY KEY (\"FinancialId\"),\n",
        "\tFOREIGN KEY(\"CardId\") REFERENCES credit_card (\"CardId\")\n",
        ")\n",
        "\n",
        "\n",
        "CREATE TABLE reward (\n",
        "\t\"RewardId\" INTEGER,\n",
        "\t\"TransactionId\" INTEGER,\n",
        "\t\"PointsEarned\" INTEGER,\n",
        "\t\"PointsRedeemed\" INTEGER,\n",
        "\t\"CurrentBalance\" INTEGER,\n",
        "\tPRIMARY KEY (\"RewardId\"),\n",
        "\tFOREIGN KEY(\"TransactionId\") REFERENCES transactions (\"TransactionId\")\n",
        ")\n",
        "\n",
        "\n",
        "CREATE TABLE transactions (\n",
        "\t\"TransactionId\" INTEGER,\n",
        "\t\"CardId\" INTEGER,\n",
        "\t\"TransactionDate\" DATE,\n",
        "\t\"Amount\" REAL,\n",
        "\t\"Merchant\" TEXT,\n",
        "\t\"CategoryId\" INTEGER,\n",
        "\t\"TransactionType\" TEXT,\n",
        "\t\"TransactionStatus\" TEXT,\n",
        "\t\"Description\" TEXT,\n",
        "\tPRIMARY KEY (\"TransactionId\"),\n",
        "\tFOREIGN KEY(\"CardId\") REFERENCES credit_card (\"CardId\"),\n",
        "\tFOREIGN KEY(\"CategoryId\") REFERENCES category (\"CategoryId\")\n",
        ")\n",
        "\n",
        "\n",
        "CREATE TABLE user (\n",
        "\t\"UserId\" INTEGER,\n",
        "\t\"UserName\" TEXT,\n",
        "\t\"UserEmail\" TEXT,\n",
        "\t\"UserAddress\" TEXT,\n",
        "\t\"UserPhone\" TEXT,\n",
        "\t\"DateOfBirth\" DATE,\n",
        "\t\"RegistrationDate\" DATE,\n",
        "\t\"Status\" TEXT,\n",
        "\t\"BranchId\" INTEGER,\n",
        "\tPRIMARY KEY (\"UserId\"),\n",
        "\tFOREIGN KEY(\"BranchId\") REFERENCES branch (\"BranchId\")\n",
        ")\n",
        "\n",
        "\n",
        "  ### SQL\n",
        "  Given the database schema, here is the SQL query that answers `{prompt}`:\n",
        "  ```sql\n",
        "  '''"
      ],
      "metadata": {
        "id": "R8iQ0outNooB"
      },
      "id": "R8iQ0outNooB",
      "execution_count": 17,
      "outputs": []
    },
    {
      "cell_type": "code",
      "source": [
        "from langchain.llms import HuggingFacePipeline\n",
        "from langchain import PromptTemplate, LLMChain"
      ],
      "metadata": {
        "id": "YZjKqYWAOZ3I"
      },
      "id": "YZjKqYWAOZ3I",
      "execution_count": 20,
      "outputs": []
    },
    {
      "cell_type": "code",
      "source": [
        "prompt_template = PromptTemplate(template=template, input_variables=[\"prompt\"])"
      ],
      "metadata": {
        "id": "pJLwnapqOGeU"
      },
      "id": "pJLwnapqOGeU",
      "execution_count": 21,
      "outputs": []
    },
    {
      "cell_type": "code",
      "source": [
        "llm = HuggingFacePipeline(pipeline=pipe)\n",
        "llm_chain = LLMChain(prompt=prompt_template, llm=llm)"
      ],
      "metadata": {
        "id": "r11GTPPJNPHq"
      },
      "id": "r11GTPPJNPHq",
      "execution_count": 22,
      "outputs": []
    },
    {
      "cell_type": "code",
      "source": [
        "llm_chain.run({\"prompt\": \"What is the total number of active credit cards?\"})"
      ],
      "metadata": {
        "colab": {
          "base_uri": "https://localhost:8080/",
          "height": 73
        },
        "id": "iP42aepGJms4",
        "outputId": "0b8d3e38-dc55-4226-9c9f-2775b15641dc"
      },
      "id": "iP42aepGJms4",
      "execution_count": 47,
      "outputs": [
        {
          "output_type": "stream",
          "name": "stderr",
          "text": [
            "/usr/local/lib/python3.10/dist-packages/transformers/pipelines/base.py:1101: UserWarning: You seem to be using the pipelines sequentially on GPU. In order to maximize efficiency please use a dataset\n",
            "  warnings.warn(\n"
          ]
        },
        {
          "output_type": "execute_result",
          "data": {
            "text/plain": [
              "\" SELECT COUNT(DISTINCT cardid) AS number_of_cards FROM credit_card WHERE expirydate > CURRENT_DATE AND status = 'active';\""
            ],
            "application/vnd.google.colaboratory.intrinsic+json": {
              "type": "string"
            }
          },
          "metadata": {},
          "execution_count": 47
        }
      ]
    },
    {
      "cell_type": "code",
      "source": [
        "from langchain.utilities import SQLDatabase\n",
        "from langchain_experimental.sql import SQLDatabaseChain\n",
        "db_chain = SQLDatabaseChain.from_llm(llm, db, verbose=True)"
      ],
      "metadata": {
        "id": "5Pfmn45fUrS5"
      },
      "id": "5Pfmn45fUrS5",
      "execution_count": 24,
      "outputs": []
    },
    {
      "cell_type": "code",
      "execution_count": 25,
      "metadata": {
        "colab": {
          "base_uri": "https://localhost:8080/",
          "height": 540
        },
        "id": "nrn6AgRJcAmS",
        "outputId": "29d5a842-915c-498e-aa5f-3ecad6701fe9"
      },
      "outputs": [
        {
          "output_type": "stream",
          "name": "stdout",
          "text": [
            "\n",
            "\n",
            "\u001b[1m> Entering new SQLDatabaseChain chain...\u001b[0m\n",
            "SELECT CardNumber FROM credit_card WHERE ExpiryDate <= '2026-09-30';\n",
            "SQLQuery:"
          ]
        },
        {
          "output_type": "stream",
          "name": "stderr",
          "text": [
            "/usr/local/lib/python3.10/dist-packages/transformers/generation/utils.py:1473: UserWarning: You have modified the pretrained model configuration to control generation. This is a deprecated strategy to control generation and will be removed soon, in a future version. Please use and modify the model generation configuration (see https://huggingface.co/docs/transformers/generation_strategies#default-text-generation-configuration )\n",
            "  warnings.warn(\n"
          ]
        },
        {
          "output_type": "error",
          "ename": "RuntimeError",
          "evalue": "ignored",
          "traceback": [
            "\u001b[0;31m---------------------------------------------------------------------------\u001b[0m",
            "\u001b[0;31mRuntimeError\u001b[0m                              Traceback (most recent call last)",
            "\u001b[0;32m<ipython-input-25-2e1997638df2>\u001b[0m in \u001b[0;36m<cell line: 3>\u001b[0;34m()\u001b[0m\n\u001b[1;32m      1\u001b[0m \u001b[0mqns1\u001b[0m \u001b[0;34m=\u001b[0m \u001b[0;34m\"List all the cards going to expire by sep 2026\"\u001b[0m\u001b[0;34m\u001b[0m\u001b[0;34m\u001b[0m\u001b[0m\n\u001b[1;32m      2\u001b[0m \u001b[0msql1\u001b[0m \u001b[0;34m=\u001b[0m \u001b[0;34m\"SELECT CardNumber FROM credit_card WHERE ExpiryDate <= '2026-09-30';\"\u001b[0m\u001b[0;34m\u001b[0m\u001b[0;34m\u001b[0m\u001b[0m\n\u001b[0;32m----> 3\u001b[0;31m \u001b[0mans1\u001b[0m \u001b[0;34m=\u001b[0m \u001b[0mdb_chain\u001b[0m\u001b[0;34m.\u001b[0m\u001b[0mrun\u001b[0m\u001b[0;34m(\u001b[0m\u001b[0msql1\u001b[0m\u001b[0;34m)\u001b[0m\u001b[0;34m\u001b[0m\u001b[0;34m\u001b[0m\u001b[0m\n\u001b[0m\u001b[1;32m      4\u001b[0m \u001b[0mans1\u001b[0m\u001b[0;34m\u001b[0m\u001b[0;34m\u001b[0m\u001b[0m\n",
            "\u001b[0;32m/usr/local/lib/python3.10/dist-packages/langchain/chains/base.py\u001b[0m in \u001b[0;36mrun\u001b[0;34m(self, callbacks, tags, metadata, *args, **kwargs)\u001b[0m\n\u001b[1;32m    505\u001b[0m             \u001b[0;32mif\u001b[0m \u001b[0mlen\u001b[0m\u001b[0;34m(\u001b[0m\u001b[0margs\u001b[0m\u001b[0;34m)\u001b[0m \u001b[0;34m!=\u001b[0m \u001b[0;36m1\u001b[0m\u001b[0;34m:\u001b[0m\u001b[0;34m\u001b[0m\u001b[0;34m\u001b[0m\u001b[0m\n\u001b[1;32m    506\u001b[0m                 \u001b[0;32mraise\u001b[0m \u001b[0mValueError\u001b[0m\u001b[0;34m(\u001b[0m\u001b[0;34m\"`run` supports only one positional argument.\"\u001b[0m\u001b[0;34m)\u001b[0m\u001b[0;34m\u001b[0m\u001b[0;34m\u001b[0m\u001b[0m\n\u001b[0;32m--> 507\u001b[0;31m             return self(args[0], callbacks=callbacks, tags=tags, metadata=metadata)[\n\u001b[0m\u001b[1;32m    508\u001b[0m                 \u001b[0m_output_key\u001b[0m\u001b[0;34m\u001b[0m\u001b[0;34m\u001b[0m\u001b[0m\n\u001b[1;32m    509\u001b[0m             ]\n",
            "\u001b[0;32m/usr/local/lib/python3.10/dist-packages/langchain/chains/base.py\u001b[0m in \u001b[0;36m__call__\u001b[0;34m(self, inputs, return_only_outputs, callbacks, tags, metadata, run_name, include_run_info)\u001b[0m\n\u001b[1;32m    310\u001b[0m         \u001b[0;32mexcept\u001b[0m \u001b[0mBaseException\u001b[0m \u001b[0;32mas\u001b[0m \u001b[0me\u001b[0m\u001b[0;34m:\u001b[0m\u001b[0;34m\u001b[0m\u001b[0;34m\u001b[0m\u001b[0m\n\u001b[1;32m    311\u001b[0m             \u001b[0mrun_manager\u001b[0m\u001b[0;34m.\u001b[0m\u001b[0mon_chain_error\u001b[0m\u001b[0;34m(\u001b[0m\u001b[0me\u001b[0m\u001b[0;34m)\u001b[0m\u001b[0;34m\u001b[0m\u001b[0;34m\u001b[0m\u001b[0m\n\u001b[0;32m--> 312\u001b[0;31m             \u001b[0;32mraise\u001b[0m \u001b[0me\u001b[0m\u001b[0;34m\u001b[0m\u001b[0;34m\u001b[0m\u001b[0m\n\u001b[0m\u001b[1;32m    313\u001b[0m         \u001b[0mrun_manager\u001b[0m\u001b[0;34m.\u001b[0m\u001b[0mon_chain_end\u001b[0m\u001b[0;34m(\u001b[0m\u001b[0moutputs\u001b[0m\u001b[0;34m)\u001b[0m\u001b[0;34m\u001b[0m\u001b[0;34m\u001b[0m\u001b[0m\n\u001b[1;32m    314\u001b[0m         final_outputs: Dict[str, Any] = self.prep_outputs(\n",
            "\u001b[0;32m/usr/local/lib/python3.10/dist-packages/langchain/chains/base.py\u001b[0m in \u001b[0;36m__call__\u001b[0;34m(self, inputs, return_only_outputs, callbacks, tags, metadata, run_name, include_run_info)\u001b[0m\n\u001b[1;32m    304\u001b[0m         \u001b[0;32mtry\u001b[0m\u001b[0;34m:\u001b[0m\u001b[0;34m\u001b[0m\u001b[0;34m\u001b[0m\u001b[0m\n\u001b[1;32m    305\u001b[0m             outputs = (\n\u001b[0;32m--> 306\u001b[0;31m                 \u001b[0mself\u001b[0m\u001b[0;34m.\u001b[0m\u001b[0m_call\u001b[0m\u001b[0;34m(\u001b[0m\u001b[0minputs\u001b[0m\u001b[0;34m,\u001b[0m \u001b[0mrun_manager\u001b[0m\u001b[0;34m=\u001b[0m\u001b[0mrun_manager\u001b[0m\u001b[0;34m)\u001b[0m\u001b[0;34m\u001b[0m\u001b[0;34m\u001b[0m\u001b[0m\n\u001b[0m\u001b[1;32m    307\u001b[0m                 \u001b[0;32mif\u001b[0m \u001b[0mnew_arg_supported\u001b[0m\u001b[0;34m\u001b[0m\u001b[0;34m\u001b[0m\u001b[0m\n\u001b[1;32m    308\u001b[0m                 \u001b[0;32melse\u001b[0m \u001b[0mself\u001b[0m\u001b[0;34m.\u001b[0m\u001b[0m_call\u001b[0m\u001b[0;34m(\u001b[0m\u001b[0minputs\u001b[0m\u001b[0;34m)\u001b[0m\u001b[0;34m\u001b[0m\u001b[0;34m\u001b[0m\u001b[0m\n",
            "\u001b[0;32m/usr/local/lib/python3.10/dist-packages/langchain_experimental/sql/base.py\u001b[0m in \u001b[0;36m_call\u001b[0;34m(self, inputs, run_manager)\u001b[0m\n\u001b[1;32m    199\u001b[0m             \u001b[0;31m# improvement of few shot prompt seeds\u001b[0m\u001b[0;34m\u001b[0m\u001b[0;34m\u001b[0m\u001b[0m\n\u001b[1;32m    200\u001b[0m             \u001b[0mexc\u001b[0m\u001b[0;34m.\u001b[0m\u001b[0mintermediate_steps\u001b[0m \u001b[0;34m=\u001b[0m \u001b[0mintermediate_steps\u001b[0m  \u001b[0;31m# type: ignore\u001b[0m\u001b[0;34m\u001b[0m\u001b[0;34m\u001b[0m\u001b[0m\n\u001b[0;32m--> 201\u001b[0;31m             \u001b[0;32mraise\u001b[0m \u001b[0mexc\u001b[0m\u001b[0;34m\u001b[0m\u001b[0;34m\u001b[0m\u001b[0m\n\u001b[0m\u001b[1;32m    202\u001b[0m \u001b[0;34m\u001b[0m\u001b[0m\n\u001b[1;32m    203\u001b[0m     \u001b[0;34m@\u001b[0m\u001b[0mproperty\u001b[0m\u001b[0;34m\u001b[0m\u001b[0;34m\u001b[0m\u001b[0m\n",
            "\u001b[0;32m/usr/local/lib/python3.10/dist-packages/langchain_experimental/sql/base.py\u001b[0m in \u001b[0;36m_call\u001b[0;34m(self, inputs, run_manager)\u001b[0m\n\u001b[1;32m    130\u001b[0m         \u001b[0;32mtry\u001b[0m\u001b[0;34m:\u001b[0m\u001b[0;34m\u001b[0m\u001b[0;34m\u001b[0m\u001b[0m\n\u001b[1;32m    131\u001b[0m             \u001b[0mintermediate_steps\u001b[0m\u001b[0;34m.\u001b[0m\u001b[0mappend\u001b[0m\u001b[0;34m(\u001b[0m\u001b[0mllm_inputs\u001b[0m\u001b[0;34m.\u001b[0m\u001b[0mcopy\u001b[0m\u001b[0;34m(\u001b[0m\u001b[0;34m)\u001b[0m\u001b[0;34m)\u001b[0m  \u001b[0;31m# input: sql generation\u001b[0m\u001b[0;34m\u001b[0m\u001b[0;34m\u001b[0m\u001b[0m\n\u001b[0;32m--> 132\u001b[0;31m             sql_cmd = self.llm_chain.predict(\n\u001b[0m\u001b[1;32m    133\u001b[0m                 \u001b[0mcallbacks\u001b[0m\u001b[0;34m=\u001b[0m\u001b[0m_run_manager\u001b[0m\u001b[0;34m.\u001b[0m\u001b[0mget_child\u001b[0m\u001b[0;34m(\u001b[0m\u001b[0;34m)\u001b[0m\u001b[0;34m,\u001b[0m\u001b[0;34m\u001b[0m\u001b[0;34m\u001b[0m\u001b[0m\n\u001b[1;32m    134\u001b[0m                 \u001b[0;34m**\u001b[0m\u001b[0mllm_inputs\u001b[0m\u001b[0;34m,\u001b[0m\u001b[0;34m\u001b[0m\u001b[0;34m\u001b[0m\u001b[0m\n",
            "\u001b[0;32m/usr/local/lib/python3.10/dist-packages/langchain/chains/llm.py\u001b[0m in \u001b[0;36mpredict\u001b[0;34m(self, callbacks, **kwargs)\u001b[0m\n\u001b[1;32m    291\u001b[0m                 \u001b[0mcompletion\u001b[0m \u001b[0;34m=\u001b[0m \u001b[0mllm\u001b[0m\u001b[0;34m.\u001b[0m\u001b[0mpredict\u001b[0m\u001b[0;34m(\u001b[0m\u001b[0madjective\u001b[0m\u001b[0;34m=\u001b[0m\u001b[0;34m\"funny\"\u001b[0m\u001b[0;34m)\u001b[0m\u001b[0;34m\u001b[0m\u001b[0;34m\u001b[0m\u001b[0m\n\u001b[1;32m    292\u001b[0m         \"\"\"\n\u001b[0;32m--> 293\u001b[0;31m         \u001b[0;32mreturn\u001b[0m \u001b[0mself\u001b[0m\u001b[0;34m(\u001b[0m\u001b[0mkwargs\u001b[0m\u001b[0;34m,\u001b[0m \u001b[0mcallbacks\u001b[0m\u001b[0;34m=\u001b[0m\u001b[0mcallbacks\u001b[0m\u001b[0;34m)\u001b[0m\u001b[0;34m[\u001b[0m\u001b[0mself\u001b[0m\u001b[0;34m.\u001b[0m\u001b[0moutput_key\u001b[0m\u001b[0;34m]\u001b[0m\u001b[0;34m\u001b[0m\u001b[0;34m\u001b[0m\u001b[0m\n\u001b[0m\u001b[1;32m    294\u001b[0m \u001b[0;34m\u001b[0m\u001b[0m\n\u001b[1;32m    295\u001b[0m     \u001b[0;32masync\u001b[0m \u001b[0;32mdef\u001b[0m \u001b[0mapredict\u001b[0m\u001b[0;34m(\u001b[0m\u001b[0mself\u001b[0m\u001b[0;34m,\u001b[0m \u001b[0mcallbacks\u001b[0m\u001b[0;34m:\u001b[0m \u001b[0mCallbacks\u001b[0m \u001b[0;34m=\u001b[0m \u001b[0;32mNone\u001b[0m\u001b[0;34m,\u001b[0m \u001b[0;34m**\u001b[0m\u001b[0mkwargs\u001b[0m\u001b[0;34m:\u001b[0m \u001b[0mAny\u001b[0m\u001b[0;34m)\u001b[0m \u001b[0;34m->\u001b[0m \u001b[0mstr\u001b[0m\u001b[0;34m:\u001b[0m\u001b[0;34m\u001b[0m\u001b[0;34m\u001b[0m\u001b[0m\n",
            "\u001b[0;32m/usr/local/lib/python3.10/dist-packages/langchain/chains/base.py\u001b[0m in \u001b[0;36m__call__\u001b[0;34m(self, inputs, return_only_outputs, callbacks, tags, metadata, run_name, include_run_info)\u001b[0m\n\u001b[1;32m    310\u001b[0m         \u001b[0;32mexcept\u001b[0m \u001b[0mBaseException\u001b[0m \u001b[0;32mas\u001b[0m \u001b[0me\u001b[0m\u001b[0;34m:\u001b[0m\u001b[0;34m\u001b[0m\u001b[0;34m\u001b[0m\u001b[0m\n\u001b[1;32m    311\u001b[0m             \u001b[0mrun_manager\u001b[0m\u001b[0;34m.\u001b[0m\u001b[0mon_chain_error\u001b[0m\u001b[0;34m(\u001b[0m\u001b[0me\u001b[0m\u001b[0;34m)\u001b[0m\u001b[0;34m\u001b[0m\u001b[0;34m\u001b[0m\u001b[0m\n\u001b[0;32m--> 312\u001b[0;31m             \u001b[0;32mraise\u001b[0m \u001b[0me\u001b[0m\u001b[0;34m\u001b[0m\u001b[0;34m\u001b[0m\u001b[0m\n\u001b[0m\u001b[1;32m    313\u001b[0m         \u001b[0mrun_manager\u001b[0m\u001b[0;34m.\u001b[0m\u001b[0mon_chain_end\u001b[0m\u001b[0;34m(\u001b[0m\u001b[0moutputs\u001b[0m\u001b[0;34m)\u001b[0m\u001b[0;34m\u001b[0m\u001b[0;34m\u001b[0m\u001b[0m\n\u001b[1;32m    314\u001b[0m         final_outputs: Dict[str, Any] = self.prep_outputs(\n",
            "\u001b[0;32m/usr/local/lib/python3.10/dist-packages/langchain/chains/base.py\u001b[0m in \u001b[0;36m__call__\u001b[0;34m(self, inputs, return_only_outputs, callbacks, tags, metadata, run_name, include_run_info)\u001b[0m\n\u001b[1;32m    304\u001b[0m         \u001b[0;32mtry\u001b[0m\u001b[0;34m:\u001b[0m\u001b[0;34m\u001b[0m\u001b[0;34m\u001b[0m\u001b[0m\n\u001b[1;32m    305\u001b[0m             outputs = (\n\u001b[0;32m--> 306\u001b[0;31m                 \u001b[0mself\u001b[0m\u001b[0;34m.\u001b[0m\u001b[0m_call\u001b[0m\u001b[0;34m(\u001b[0m\u001b[0minputs\u001b[0m\u001b[0;34m,\u001b[0m \u001b[0mrun_manager\u001b[0m\u001b[0;34m=\u001b[0m\u001b[0mrun_manager\u001b[0m\u001b[0;34m)\u001b[0m\u001b[0;34m\u001b[0m\u001b[0;34m\u001b[0m\u001b[0m\n\u001b[0m\u001b[1;32m    307\u001b[0m                 \u001b[0;32mif\u001b[0m \u001b[0mnew_arg_supported\u001b[0m\u001b[0;34m\u001b[0m\u001b[0;34m\u001b[0m\u001b[0m\n\u001b[1;32m    308\u001b[0m                 \u001b[0;32melse\u001b[0m \u001b[0mself\u001b[0m\u001b[0;34m.\u001b[0m\u001b[0m_call\u001b[0m\u001b[0;34m(\u001b[0m\u001b[0minputs\u001b[0m\u001b[0;34m)\u001b[0m\u001b[0;34m\u001b[0m\u001b[0;34m\u001b[0m\u001b[0m\n",
            "\u001b[0;32m/usr/local/lib/python3.10/dist-packages/langchain/chains/llm.py\u001b[0m in \u001b[0;36m_call\u001b[0;34m(self, inputs, run_manager)\u001b[0m\n\u001b[1;32m    101\u001b[0m         \u001b[0mrun_manager\u001b[0m\u001b[0;34m:\u001b[0m \u001b[0mOptional\u001b[0m\u001b[0;34m[\u001b[0m\u001b[0mCallbackManagerForChainRun\u001b[0m\u001b[0;34m]\u001b[0m \u001b[0;34m=\u001b[0m \u001b[0;32mNone\u001b[0m\u001b[0;34m,\u001b[0m\u001b[0;34m\u001b[0m\u001b[0;34m\u001b[0m\u001b[0m\n\u001b[1;32m    102\u001b[0m     ) -> Dict[str, str]:\n\u001b[0;32m--> 103\u001b[0;31m         \u001b[0mresponse\u001b[0m \u001b[0;34m=\u001b[0m \u001b[0mself\u001b[0m\u001b[0;34m.\u001b[0m\u001b[0mgenerate\u001b[0m\u001b[0;34m(\u001b[0m\u001b[0;34m[\u001b[0m\u001b[0minputs\u001b[0m\u001b[0;34m]\u001b[0m\u001b[0;34m,\u001b[0m \u001b[0mrun_manager\u001b[0m\u001b[0;34m=\u001b[0m\u001b[0mrun_manager\u001b[0m\u001b[0;34m)\u001b[0m\u001b[0;34m\u001b[0m\u001b[0;34m\u001b[0m\u001b[0m\n\u001b[0m\u001b[1;32m    104\u001b[0m         \u001b[0;32mreturn\u001b[0m \u001b[0mself\u001b[0m\u001b[0;34m.\u001b[0m\u001b[0mcreate_outputs\u001b[0m\u001b[0;34m(\u001b[0m\u001b[0mresponse\u001b[0m\u001b[0;34m)\u001b[0m\u001b[0;34m[\u001b[0m\u001b[0;36m0\u001b[0m\u001b[0;34m]\u001b[0m\u001b[0;34m\u001b[0m\u001b[0;34m\u001b[0m\u001b[0m\n\u001b[1;32m    105\u001b[0m \u001b[0;34m\u001b[0m\u001b[0m\n",
            "\u001b[0;32m/usr/local/lib/python3.10/dist-packages/langchain/chains/llm.py\u001b[0m in \u001b[0;36mgenerate\u001b[0;34m(self, input_list, run_manager)\u001b[0m\n\u001b[1;32m    113\u001b[0m         \u001b[0mcallbacks\u001b[0m \u001b[0;34m=\u001b[0m \u001b[0mrun_manager\u001b[0m\u001b[0;34m.\u001b[0m\u001b[0mget_child\u001b[0m\u001b[0;34m(\u001b[0m\u001b[0;34m)\u001b[0m \u001b[0;32mif\u001b[0m \u001b[0mrun_manager\u001b[0m \u001b[0;32melse\u001b[0m \u001b[0;32mNone\u001b[0m\u001b[0;34m\u001b[0m\u001b[0;34m\u001b[0m\u001b[0m\n\u001b[1;32m    114\u001b[0m         \u001b[0;32mif\u001b[0m \u001b[0misinstance\u001b[0m\u001b[0;34m(\u001b[0m\u001b[0mself\u001b[0m\u001b[0;34m.\u001b[0m\u001b[0mllm\u001b[0m\u001b[0;34m,\u001b[0m \u001b[0mBaseLanguageModel\u001b[0m\u001b[0;34m)\u001b[0m\u001b[0;34m:\u001b[0m\u001b[0;34m\u001b[0m\u001b[0;34m\u001b[0m\u001b[0m\n\u001b[0;32m--> 115\u001b[0;31m             return self.llm.generate_prompt(\n\u001b[0m\u001b[1;32m    116\u001b[0m                 \u001b[0mprompts\u001b[0m\u001b[0;34m,\u001b[0m\u001b[0;34m\u001b[0m\u001b[0;34m\u001b[0m\u001b[0m\n\u001b[1;32m    117\u001b[0m                 \u001b[0mstop\u001b[0m\u001b[0;34m,\u001b[0m\u001b[0;34m\u001b[0m\u001b[0;34m\u001b[0m\u001b[0m\n",
            "\u001b[0;32m/usr/local/lib/python3.10/dist-packages/langchain_core/language_models/llms.py\u001b[0m in \u001b[0;36mgenerate_prompt\u001b[0;34m(self, prompts, stop, callbacks, **kwargs)\u001b[0m\n\u001b[1;32m    514\u001b[0m     ) -> LLMResult:\n\u001b[1;32m    515\u001b[0m         \u001b[0mprompt_strings\u001b[0m \u001b[0;34m=\u001b[0m \u001b[0;34m[\u001b[0m\u001b[0mp\u001b[0m\u001b[0;34m.\u001b[0m\u001b[0mto_string\u001b[0m\u001b[0;34m(\u001b[0m\u001b[0;34m)\u001b[0m \u001b[0;32mfor\u001b[0m \u001b[0mp\u001b[0m \u001b[0;32min\u001b[0m \u001b[0mprompts\u001b[0m\u001b[0;34m]\u001b[0m\u001b[0;34m\u001b[0m\u001b[0;34m\u001b[0m\u001b[0m\n\u001b[0;32m--> 516\u001b[0;31m         \u001b[0;32mreturn\u001b[0m \u001b[0mself\u001b[0m\u001b[0;34m.\u001b[0m\u001b[0mgenerate\u001b[0m\u001b[0;34m(\u001b[0m\u001b[0mprompt_strings\u001b[0m\u001b[0;34m,\u001b[0m \u001b[0mstop\u001b[0m\u001b[0;34m=\u001b[0m\u001b[0mstop\u001b[0m\u001b[0;34m,\u001b[0m \u001b[0mcallbacks\u001b[0m\u001b[0;34m=\u001b[0m\u001b[0mcallbacks\u001b[0m\u001b[0;34m,\u001b[0m \u001b[0;34m**\u001b[0m\u001b[0mkwargs\u001b[0m\u001b[0;34m)\u001b[0m\u001b[0;34m\u001b[0m\u001b[0;34m\u001b[0m\u001b[0m\n\u001b[0m\u001b[1;32m    517\u001b[0m \u001b[0;34m\u001b[0m\u001b[0m\n\u001b[1;32m    518\u001b[0m     async def agenerate_prompt(\n",
            "\u001b[0;32m/usr/local/lib/python3.10/dist-packages/langchain_core/language_models/llms.py\u001b[0m in \u001b[0;36mgenerate\u001b[0;34m(self, prompts, stop, callbacks, tags, metadata, run_name, **kwargs)\u001b[0m\n\u001b[1;32m    664\u001b[0m                 )\n\u001b[1;32m    665\u001b[0m             ]\n\u001b[0;32m--> 666\u001b[0;31m             output = self._generate_helper(\n\u001b[0m\u001b[1;32m    667\u001b[0m                 \u001b[0mprompts\u001b[0m\u001b[0;34m,\u001b[0m \u001b[0mstop\u001b[0m\u001b[0;34m,\u001b[0m \u001b[0mrun_managers\u001b[0m\u001b[0;34m,\u001b[0m \u001b[0mbool\u001b[0m\u001b[0;34m(\u001b[0m\u001b[0mnew_arg_supported\u001b[0m\u001b[0;34m)\u001b[0m\u001b[0;34m,\u001b[0m \u001b[0;34m**\u001b[0m\u001b[0mkwargs\u001b[0m\u001b[0;34m\u001b[0m\u001b[0;34m\u001b[0m\u001b[0m\n\u001b[1;32m    668\u001b[0m             )\n",
            "\u001b[0;32m/usr/local/lib/python3.10/dist-packages/langchain_core/language_models/llms.py\u001b[0m in \u001b[0;36m_generate_helper\u001b[0;34m(self, prompts, stop, run_managers, new_arg_supported, **kwargs)\u001b[0m\n\u001b[1;32m    551\u001b[0m             \u001b[0;32mfor\u001b[0m \u001b[0mrun_manager\u001b[0m \u001b[0;32min\u001b[0m \u001b[0mrun_managers\u001b[0m\u001b[0;34m:\u001b[0m\u001b[0;34m\u001b[0m\u001b[0;34m\u001b[0m\u001b[0m\n\u001b[1;32m    552\u001b[0m                 \u001b[0mrun_manager\u001b[0m\u001b[0;34m.\u001b[0m\u001b[0mon_llm_error\u001b[0m\u001b[0;34m(\u001b[0m\u001b[0me\u001b[0m\u001b[0;34m,\u001b[0m \u001b[0mresponse\u001b[0m\u001b[0;34m=\u001b[0m\u001b[0mLLMResult\u001b[0m\u001b[0;34m(\u001b[0m\u001b[0mgenerations\u001b[0m\u001b[0;34m=\u001b[0m\u001b[0;34m[\u001b[0m\u001b[0;34m]\u001b[0m\u001b[0;34m)\u001b[0m\u001b[0;34m)\u001b[0m\u001b[0;34m\u001b[0m\u001b[0;34m\u001b[0m\u001b[0m\n\u001b[0;32m--> 553\u001b[0;31m             \u001b[0;32mraise\u001b[0m \u001b[0me\u001b[0m\u001b[0;34m\u001b[0m\u001b[0;34m\u001b[0m\u001b[0m\n\u001b[0m\u001b[1;32m    554\u001b[0m         \u001b[0mflattened_outputs\u001b[0m \u001b[0;34m=\u001b[0m \u001b[0moutput\u001b[0m\u001b[0;34m.\u001b[0m\u001b[0mflatten\u001b[0m\u001b[0;34m(\u001b[0m\u001b[0;34m)\u001b[0m\u001b[0;34m\u001b[0m\u001b[0;34m\u001b[0m\u001b[0m\n\u001b[1;32m    555\u001b[0m         \u001b[0;32mfor\u001b[0m \u001b[0mmanager\u001b[0m\u001b[0;34m,\u001b[0m \u001b[0mflattened_output\u001b[0m \u001b[0;32min\u001b[0m \u001b[0mzip\u001b[0m\u001b[0;34m(\u001b[0m\u001b[0mrun_managers\u001b[0m\u001b[0;34m,\u001b[0m \u001b[0mflattened_outputs\u001b[0m\u001b[0;34m)\u001b[0m\u001b[0;34m:\u001b[0m\u001b[0;34m\u001b[0m\u001b[0;34m\u001b[0m\u001b[0m\n",
            "\u001b[0;32m/usr/local/lib/python3.10/dist-packages/langchain_core/language_models/llms.py\u001b[0m in \u001b[0;36m_generate_helper\u001b[0;34m(self, prompts, stop, run_managers, new_arg_supported, **kwargs)\u001b[0m\n\u001b[1;32m    538\u001b[0m         \u001b[0;32mtry\u001b[0m\u001b[0;34m:\u001b[0m\u001b[0;34m\u001b[0m\u001b[0;34m\u001b[0m\u001b[0m\n\u001b[1;32m    539\u001b[0m             output = (\n\u001b[0;32m--> 540\u001b[0;31m                 self._generate(\n\u001b[0m\u001b[1;32m    541\u001b[0m                     \u001b[0mprompts\u001b[0m\u001b[0;34m,\u001b[0m\u001b[0;34m\u001b[0m\u001b[0;34m\u001b[0m\u001b[0m\n\u001b[1;32m    542\u001b[0m                     \u001b[0mstop\u001b[0m\u001b[0;34m=\u001b[0m\u001b[0mstop\u001b[0m\u001b[0;34m,\u001b[0m\u001b[0;34m\u001b[0m\u001b[0;34m\u001b[0m\u001b[0m\n",
            "\u001b[0;32m/usr/local/lib/python3.10/dist-packages/langchain_community/llms/huggingface_pipeline.py\u001b[0m in \u001b[0;36m_generate\u001b[0;34m(self, prompts, stop, run_manager, **kwargs)\u001b[0m\n\u001b[1;32m    201\u001b[0m \u001b[0;34m\u001b[0m\u001b[0m\n\u001b[1;32m    202\u001b[0m             \u001b[0;31m# Process batch of prompts\u001b[0m\u001b[0;34m\u001b[0m\u001b[0;34m\u001b[0m\u001b[0m\n\u001b[0;32m--> 203\u001b[0;31m             \u001b[0mresponses\u001b[0m \u001b[0;34m=\u001b[0m \u001b[0mself\u001b[0m\u001b[0;34m.\u001b[0m\u001b[0mpipeline\u001b[0m\u001b[0;34m(\u001b[0m\u001b[0mbatch_prompts\u001b[0m\u001b[0;34m)\u001b[0m\u001b[0;34m\u001b[0m\u001b[0;34m\u001b[0m\u001b[0m\n\u001b[0m\u001b[1;32m    204\u001b[0m \u001b[0;34m\u001b[0m\u001b[0m\n\u001b[1;32m    205\u001b[0m             \u001b[0;31m# Process each response in the batch\u001b[0m\u001b[0;34m\u001b[0m\u001b[0;34m\u001b[0m\u001b[0m\n",
            "\u001b[0;32m/usr/local/lib/python3.10/dist-packages/transformers/pipelines/text_generation.py\u001b[0m in \u001b[0;36m__call__\u001b[0;34m(self, text_inputs, **kwargs)\u001b[0m\n\u001b[1;32m    206\u001b[0m               \u001b[0mids\u001b[0m \u001b[0mof\u001b[0m \u001b[0mthe\u001b[0m \u001b[0mgenerated\u001b[0m \u001b[0mtext\u001b[0m\u001b[0;34m.\u001b[0m\u001b[0;34m\u001b[0m\u001b[0;34m\u001b[0m\u001b[0m\n\u001b[1;32m    207\u001b[0m         \"\"\"\n\u001b[0;32m--> 208\u001b[0;31m         \u001b[0;32mreturn\u001b[0m \u001b[0msuper\u001b[0m\u001b[0;34m(\u001b[0m\u001b[0;34m)\u001b[0m\u001b[0;34m.\u001b[0m\u001b[0m__call__\u001b[0m\u001b[0;34m(\u001b[0m\u001b[0mtext_inputs\u001b[0m\u001b[0;34m,\u001b[0m \u001b[0;34m**\u001b[0m\u001b[0mkwargs\u001b[0m\u001b[0;34m)\u001b[0m\u001b[0;34m\u001b[0m\u001b[0;34m\u001b[0m\u001b[0m\n\u001b[0m\u001b[1;32m    209\u001b[0m \u001b[0;34m\u001b[0m\u001b[0m\n\u001b[1;32m    210\u001b[0m     def preprocess(\n",
            "\u001b[0;32m/usr/local/lib/python3.10/dist-packages/transformers/pipelines/base.py\u001b[0m in \u001b[0;36m__call__\u001b[0;34m(self, inputs, num_workers, batch_size, *args, **kwargs)\u001b[0m\n\u001b[1;32m   1119\u001b[0m                     \u001b[0minputs\u001b[0m\u001b[0;34m,\u001b[0m \u001b[0mnum_workers\u001b[0m\u001b[0;34m,\u001b[0m \u001b[0mbatch_size\u001b[0m\u001b[0;34m,\u001b[0m \u001b[0mpreprocess_params\u001b[0m\u001b[0;34m,\u001b[0m \u001b[0mforward_params\u001b[0m\u001b[0;34m,\u001b[0m \u001b[0mpostprocess_params\u001b[0m\u001b[0;34m\u001b[0m\u001b[0;34m\u001b[0m\u001b[0m\n\u001b[1;32m   1120\u001b[0m                 )\n\u001b[0;32m-> 1121\u001b[0;31m                 \u001b[0moutputs\u001b[0m \u001b[0;34m=\u001b[0m \u001b[0mlist\u001b[0m\u001b[0;34m(\u001b[0m\u001b[0mfinal_iterator\u001b[0m\u001b[0;34m)\u001b[0m\u001b[0;34m\u001b[0m\u001b[0;34m\u001b[0m\u001b[0m\n\u001b[0m\u001b[1;32m   1122\u001b[0m                 \u001b[0;32mreturn\u001b[0m \u001b[0moutputs\u001b[0m\u001b[0;34m\u001b[0m\u001b[0;34m\u001b[0m\u001b[0m\n\u001b[1;32m   1123\u001b[0m             \u001b[0;32melse\u001b[0m\u001b[0;34m:\u001b[0m\u001b[0;34m\u001b[0m\u001b[0;34m\u001b[0m\u001b[0m\n",
            "\u001b[0;32m/usr/local/lib/python3.10/dist-packages/transformers/pipelines/pt_utils.py\u001b[0m in \u001b[0;36m__next__\u001b[0;34m(self)\u001b[0m\n\u001b[1;32m    122\u001b[0m \u001b[0;34m\u001b[0m\u001b[0m\n\u001b[1;32m    123\u001b[0m         \u001b[0;31m# We're out of items within a batch\u001b[0m\u001b[0;34m\u001b[0m\u001b[0;34m\u001b[0m\u001b[0m\n\u001b[0;32m--> 124\u001b[0;31m         \u001b[0mitem\u001b[0m \u001b[0;34m=\u001b[0m \u001b[0mnext\u001b[0m\u001b[0;34m(\u001b[0m\u001b[0mself\u001b[0m\u001b[0;34m.\u001b[0m\u001b[0miterator\u001b[0m\u001b[0;34m)\u001b[0m\u001b[0;34m\u001b[0m\u001b[0;34m\u001b[0m\u001b[0m\n\u001b[0m\u001b[1;32m    125\u001b[0m         \u001b[0mprocessed\u001b[0m \u001b[0;34m=\u001b[0m \u001b[0mself\u001b[0m\u001b[0;34m.\u001b[0m\u001b[0minfer\u001b[0m\u001b[0;34m(\u001b[0m\u001b[0mitem\u001b[0m\u001b[0;34m,\u001b[0m \u001b[0;34m**\u001b[0m\u001b[0mself\u001b[0m\u001b[0;34m.\u001b[0m\u001b[0mparams\u001b[0m\u001b[0;34m)\u001b[0m\u001b[0;34m\u001b[0m\u001b[0;34m\u001b[0m\u001b[0m\n\u001b[1;32m    126\u001b[0m         \u001b[0;31m# We now have a batch of \"inferred things\".\u001b[0m\u001b[0;34m\u001b[0m\u001b[0;34m\u001b[0m\u001b[0m\n",
            "\u001b[0;32m/usr/local/lib/python3.10/dist-packages/transformers/pipelines/pt_utils.py\u001b[0m in \u001b[0;36m__next__\u001b[0;34m(self)\u001b[0m\n\u001b[1;32m    123\u001b[0m         \u001b[0;31m# We're out of items within a batch\u001b[0m\u001b[0;34m\u001b[0m\u001b[0;34m\u001b[0m\u001b[0m\n\u001b[1;32m    124\u001b[0m         \u001b[0mitem\u001b[0m \u001b[0;34m=\u001b[0m \u001b[0mnext\u001b[0m\u001b[0;34m(\u001b[0m\u001b[0mself\u001b[0m\u001b[0;34m.\u001b[0m\u001b[0miterator\u001b[0m\u001b[0;34m)\u001b[0m\u001b[0;34m\u001b[0m\u001b[0;34m\u001b[0m\u001b[0m\n\u001b[0;32m--> 125\u001b[0;31m         \u001b[0mprocessed\u001b[0m \u001b[0;34m=\u001b[0m \u001b[0mself\u001b[0m\u001b[0;34m.\u001b[0m\u001b[0minfer\u001b[0m\u001b[0;34m(\u001b[0m\u001b[0mitem\u001b[0m\u001b[0;34m,\u001b[0m \u001b[0;34m**\u001b[0m\u001b[0mself\u001b[0m\u001b[0;34m.\u001b[0m\u001b[0mparams\u001b[0m\u001b[0;34m)\u001b[0m\u001b[0;34m\u001b[0m\u001b[0;34m\u001b[0m\u001b[0m\n\u001b[0m\u001b[1;32m    126\u001b[0m         \u001b[0;31m# We now have a batch of \"inferred things\".\u001b[0m\u001b[0;34m\u001b[0m\u001b[0;34m\u001b[0m\u001b[0m\n\u001b[1;32m    127\u001b[0m         \u001b[0;32mif\u001b[0m \u001b[0mself\u001b[0m\u001b[0;34m.\u001b[0m\u001b[0mloader_batch_size\u001b[0m \u001b[0;32mis\u001b[0m \u001b[0;32mnot\u001b[0m \u001b[0;32mNone\u001b[0m\u001b[0;34m:\u001b[0m\u001b[0;34m\u001b[0m\u001b[0;34m\u001b[0m\u001b[0m\n",
            "\u001b[0;32m/usr/local/lib/python3.10/dist-packages/transformers/pipelines/base.py\u001b[0m in \u001b[0;36mforward\u001b[0;34m(self, model_inputs, **forward_params)\u001b[0m\n\u001b[1;32m   1044\u001b[0m                 \u001b[0;32mwith\u001b[0m \u001b[0minference_context\u001b[0m\u001b[0;34m(\u001b[0m\u001b[0;34m)\u001b[0m\u001b[0;34m:\u001b[0m\u001b[0;34m\u001b[0m\u001b[0;34m\u001b[0m\u001b[0m\n\u001b[1;32m   1045\u001b[0m                     \u001b[0mmodel_inputs\u001b[0m \u001b[0;34m=\u001b[0m \u001b[0mself\u001b[0m\u001b[0;34m.\u001b[0m\u001b[0m_ensure_tensor_on_device\u001b[0m\u001b[0;34m(\u001b[0m\u001b[0mmodel_inputs\u001b[0m\u001b[0;34m,\u001b[0m \u001b[0mdevice\u001b[0m\u001b[0;34m=\u001b[0m\u001b[0mself\u001b[0m\u001b[0;34m.\u001b[0m\u001b[0mdevice\u001b[0m\u001b[0;34m)\u001b[0m\u001b[0;34m\u001b[0m\u001b[0;34m\u001b[0m\u001b[0m\n\u001b[0;32m-> 1046\u001b[0;31m                     \u001b[0mmodel_outputs\u001b[0m \u001b[0;34m=\u001b[0m \u001b[0mself\u001b[0m\u001b[0;34m.\u001b[0m\u001b[0m_forward\u001b[0m\u001b[0;34m(\u001b[0m\u001b[0mmodel_inputs\u001b[0m\u001b[0;34m,\u001b[0m \u001b[0;34m**\u001b[0m\u001b[0mforward_params\u001b[0m\u001b[0;34m)\u001b[0m\u001b[0;34m\u001b[0m\u001b[0;34m\u001b[0m\u001b[0m\n\u001b[0m\u001b[1;32m   1047\u001b[0m                     \u001b[0mmodel_outputs\u001b[0m \u001b[0;34m=\u001b[0m \u001b[0mself\u001b[0m\u001b[0;34m.\u001b[0m\u001b[0m_ensure_tensor_on_device\u001b[0m\u001b[0;34m(\u001b[0m\u001b[0mmodel_outputs\u001b[0m\u001b[0;34m,\u001b[0m \u001b[0mdevice\u001b[0m\u001b[0;34m=\u001b[0m\u001b[0mtorch\u001b[0m\u001b[0;34m.\u001b[0m\u001b[0mdevice\u001b[0m\u001b[0;34m(\u001b[0m\u001b[0;34m\"cpu\"\u001b[0m\u001b[0;34m)\u001b[0m\u001b[0;34m)\u001b[0m\u001b[0;34m\u001b[0m\u001b[0;34m\u001b[0m\u001b[0m\n\u001b[1;32m   1048\u001b[0m             \u001b[0;32melse\u001b[0m\u001b[0;34m:\u001b[0m\u001b[0;34m\u001b[0m\u001b[0;34m\u001b[0m\u001b[0m\n",
            "\u001b[0;32m/usr/local/lib/python3.10/dist-packages/transformers/pipelines/text_generation.py\u001b[0m in \u001b[0;36m_forward\u001b[0;34m(self, model_inputs, **generate_kwargs)\u001b[0m\n\u001b[1;32m    269\u001b[0m \u001b[0;34m\u001b[0m\u001b[0m\n\u001b[1;32m    270\u001b[0m         \u001b[0;31m# BS x SL\u001b[0m\u001b[0;34m\u001b[0m\u001b[0;34m\u001b[0m\u001b[0m\n\u001b[0;32m--> 271\u001b[0;31m         \u001b[0mgenerated_sequence\u001b[0m \u001b[0;34m=\u001b[0m \u001b[0mself\u001b[0m\u001b[0;34m.\u001b[0m\u001b[0mmodel\u001b[0m\u001b[0;34m.\u001b[0m\u001b[0mgenerate\u001b[0m\u001b[0;34m(\u001b[0m\u001b[0minput_ids\u001b[0m\u001b[0;34m=\u001b[0m\u001b[0minput_ids\u001b[0m\u001b[0;34m,\u001b[0m \u001b[0mattention_mask\u001b[0m\u001b[0;34m=\u001b[0m\u001b[0mattention_mask\u001b[0m\u001b[0;34m,\u001b[0m \u001b[0;34m**\u001b[0m\u001b[0mgenerate_kwargs\u001b[0m\u001b[0;34m)\u001b[0m\u001b[0;34m\u001b[0m\u001b[0;34m\u001b[0m\u001b[0m\n\u001b[0m\u001b[1;32m    272\u001b[0m         \u001b[0mout_b\u001b[0m \u001b[0;34m=\u001b[0m \u001b[0mgenerated_sequence\u001b[0m\u001b[0;34m.\u001b[0m\u001b[0mshape\u001b[0m\u001b[0;34m[\u001b[0m\u001b[0;36m0\u001b[0m\u001b[0;34m]\u001b[0m\u001b[0;34m\u001b[0m\u001b[0;34m\u001b[0m\u001b[0m\n\u001b[1;32m    273\u001b[0m         \u001b[0;32mif\u001b[0m \u001b[0mself\u001b[0m\u001b[0;34m.\u001b[0m\u001b[0mframework\u001b[0m \u001b[0;34m==\u001b[0m \u001b[0;34m\"pt\"\u001b[0m\u001b[0;34m:\u001b[0m\u001b[0;34m\u001b[0m\u001b[0;34m\u001b[0m\u001b[0m\n",
            "\u001b[0;32m/usr/local/lib/python3.10/dist-packages/torch/utils/_contextlib.py\u001b[0m in \u001b[0;36mdecorate_context\u001b[0;34m(*args, **kwargs)\u001b[0m\n\u001b[1;32m    113\u001b[0m     \u001b[0;32mdef\u001b[0m \u001b[0mdecorate_context\u001b[0m\u001b[0;34m(\u001b[0m\u001b[0;34m*\u001b[0m\u001b[0margs\u001b[0m\u001b[0;34m,\u001b[0m \u001b[0;34m**\u001b[0m\u001b[0mkwargs\u001b[0m\u001b[0;34m)\u001b[0m\u001b[0;34m:\u001b[0m\u001b[0;34m\u001b[0m\u001b[0;34m\u001b[0m\u001b[0m\n\u001b[1;32m    114\u001b[0m         \u001b[0;32mwith\u001b[0m \u001b[0mctx_factory\u001b[0m\u001b[0;34m(\u001b[0m\u001b[0;34m)\u001b[0m\u001b[0;34m:\u001b[0m\u001b[0;34m\u001b[0m\u001b[0;34m\u001b[0m\u001b[0m\n\u001b[0;32m--> 115\u001b[0;31m             \u001b[0;32mreturn\u001b[0m \u001b[0mfunc\u001b[0m\u001b[0;34m(\u001b[0m\u001b[0;34m*\u001b[0m\u001b[0margs\u001b[0m\u001b[0;34m,\u001b[0m \u001b[0;34m**\u001b[0m\u001b[0mkwargs\u001b[0m\u001b[0;34m)\u001b[0m\u001b[0;34m\u001b[0m\u001b[0;34m\u001b[0m\u001b[0m\n\u001b[0m\u001b[1;32m    116\u001b[0m \u001b[0;34m\u001b[0m\u001b[0m\n\u001b[1;32m    117\u001b[0m     \u001b[0;32mreturn\u001b[0m \u001b[0mdecorate_context\u001b[0m\u001b[0;34m\u001b[0m\u001b[0;34m\u001b[0m\u001b[0m\n",
            "\u001b[0;32m/usr/local/lib/python3.10/dist-packages/transformers/generation/utils.py\u001b[0m in \u001b[0;36mgenerate\u001b[0;34m(self, inputs, generation_config, logits_processor, stopping_criteria, prefix_allowed_tokens_fn, synced_gpus, assistant_model, streamer, negative_prompt_ids, negative_prompt_attention_mask, **kwargs)\u001b[0m\n\u001b[1;32m   1717\u001b[0m \u001b[0;34m\u001b[0m\u001b[0m\n\u001b[1;32m   1718\u001b[0m             \u001b[0;31m# 13. run sample\u001b[0m\u001b[0;34m\u001b[0m\u001b[0;34m\u001b[0m\u001b[0m\n\u001b[0;32m-> 1719\u001b[0;31m             return self.sample(\n\u001b[0m\u001b[1;32m   1720\u001b[0m                 \u001b[0minput_ids\u001b[0m\u001b[0;34m,\u001b[0m\u001b[0;34m\u001b[0m\u001b[0;34m\u001b[0m\u001b[0m\n\u001b[1;32m   1721\u001b[0m                 \u001b[0mlogits_processor\u001b[0m\u001b[0;34m=\u001b[0m\u001b[0mlogits_processor\u001b[0m\u001b[0;34m,\u001b[0m\u001b[0;34m\u001b[0m\u001b[0;34m\u001b[0m\u001b[0m\n",
            "\u001b[0;32m/usr/local/lib/python3.10/dist-packages/transformers/generation/utils.py\u001b[0m in \u001b[0;36msample\u001b[0;34m(self, input_ids, logits_processor, stopping_criteria, logits_warper, max_length, pad_token_id, eos_token_id, output_attentions, output_hidden_states, output_scores, return_dict_in_generate, synced_gpus, streamer, **model_kwargs)\u001b[0m\n\u001b[1;32m   2799\u001b[0m \u001b[0;34m\u001b[0m\u001b[0m\n\u001b[1;32m   2800\u001b[0m             \u001b[0;31m# forward pass to get next token\u001b[0m\u001b[0;34m\u001b[0m\u001b[0;34m\u001b[0m\u001b[0m\n\u001b[0;32m-> 2801\u001b[0;31m             outputs = self(\n\u001b[0m\u001b[1;32m   2802\u001b[0m                 \u001b[0;34m**\u001b[0m\u001b[0mmodel_inputs\u001b[0m\u001b[0;34m,\u001b[0m\u001b[0;34m\u001b[0m\u001b[0;34m\u001b[0m\u001b[0m\n\u001b[1;32m   2803\u001b[0m                 \u001b[0mreturn_dict\u001b[0m\u001b[0;34m=\u001b[0m\u001b[0;32mTrue\u001b[0m\u001b[0;34m,\u001b[0m\u001b[0;34m\u001b[0m\u001b[0;34m\u001b[0m\u001b[0m\n",
            "\u001b[0;32m/usr/local/lib/python3.10/dist-packages/torch/nn/modules/module.py\u001b[0m in \u001b[0;36m_wrapped_call_impl\u001b[0;34m(self, *args, **kwargs)\u001b[0m\n\u001b[1;32m   1516\u001b[0m             \u001b[0;32mreturn\u001b[0m \u001b[0mself\u001b[0m\u001b[0;34m.\u001b[0m\u001b[0m_compiled_call_impl\u001b[0m\u001b[0;34m(\u001b[0m\u001b[0;34m*\u001b[0m\u001b[0margs\u001b[0m\u001b[0;34m,\u001b[0m \u001b[0;34m**\u001b[0m\u001b[0mkwargs\u001b[0m\u001b[0;34m)\u001b[0m  \u001b[0;31m# type: ignore[misc]\u001b[0m\u001b[0;34m\u001b[0m\u001b[0;34m\u001b[0m\u001b[0m\n\u001b[1;32m   1517\u001b[0m         \u001b[0;32melse\u001b[0m\u001b[0;34m:\u001b[0m\u001b[0;34m\u001b[0m\u001b[0;34m\u001b[0m\u001b[0m\n\u001b[0;32m-> 1518\u001b[0;31m             \u001b[0;32mreturn\u001b[0m \u001b[0mself\u001b[0m\u001b[0;34m.\u001b[0m\u001b[0m_call_impl\u001b[0m\u001b[0;34m(\u001b[0m\u001b[0;34m*\u001b[0m\u001b[0margs\u001b[0m\u001b[0;34m,\u001b[0m \u001b[0;34m**\u001b[0m\u001b[0mkwargs\u001b[0m\u001b[0;34m)\u001b[0m\u001b[0;34m\u001b[0m\u001b[0;34m\u001b[0m\u001b[0m\n\u001b[0m\u001b[1;32m   1519\u001b[0m \u001b[0;34m\u001b[0m\u001b[0m\n\u001b[1;32m   1520\u001b[0m     \u001b[0;32mdef\u001b[0m \u001b[0m_call_impl\u001b[0m\u001b[0;34m(\u001b[0m\u001b[0mself\u001b[0m\u001b[0;34m,\u001b[0m \u001b[0;34m*\u001b[0m\u001b[0margs\u001b[0m\u001b[0;34m,\u001b[0m \u001b[0;34m**\u001b[0m\u001b[0mkwargs\u001b[0m\u001b[0;34m)\u001b[0m\u001b[0;34m:\u001b[0m\u001b[0;34m\u001b[0m\u001b[0;34m\u001b[0m\u001b[0m\n",
            "\u001b[0;32m/usr/local/lib/python3.10/dist-packages/torch/nn/modules/module.py\u001b[0m in \u001b[0;36m_call_impl\u001b[0;34m(self, *args, **kwargs)\u001b[0m\n\u001b[1;32m   1525\u001b[0m                 \u001b[0;32mor\u001b[0m \u001b[0m_global_backward_pre_hooks\u001b[0m \u001b[0;32mor\u001b[0m \u001b[0m_global_backward_hooks\u001b[0m\u001b[0;34m\u001b[0m\u001b[0;34m\u001b[0m\u001b[0m\n\u001b[1;32m   1526\u001b[0m                 or _global_forward_hooks or _global_forward_pre_hooks):\n\u001b[0;32m-> 1527\u001b[0;31m             \u001b[0;32mreturn\u001b[0m \u001b[0mforward_call\u001b[0m\u001b[0;34m(\u001b[0m\u001b[0;34m*\u001b[0m\u001b[0margs\u001b[0m\u001b[0;34m,\u001b[0m \u001b[0;34m**\u001b[0m\u001b[0mkwargs\u001b[0m\u001b[0;34m)\u001b[0m\u001b[0;34m\u001b[0m\u001b[0;34m\u001b[0m\u001b[0m\n\u001b[0m\u001b[1;32m   1528\u001b[0m \u001b[0;34m\u001b[0m\u001b[0m\n\u001b[1;32m   1529\u001b[0m         \u001b[0;32mtry\u001b[0m\u001b[0;34m:\u001b[0m\u001b[0;34m\u001b[0m\u001b[0;34m\u001b[0m\u001b[0m\n",
            "\u001b[0;32m/usr/local/lib/python3.10/dist-packages/transformers/models/gpt_bigcode/modeling_gpt_bigcode.py\u001b[0m in \u001b[0;36mforward\u001b[0;34m(self, input_ids, past_key_values, attention_mask, token_type_ids, position_ids, head_mask, inputs_embeds, encoder_hidden_states, encoder_attention_mask, labels, use_cache, output_attentions, output_hidden_states, return_dict)\u001b[0m\n\u001b[1;32m   1070\u001b[0m         \u001b[0mreturn_dict\u001b[0m \u001b[0;34m=\u001b[0m \u001b[0mreturn_dict\u001b[0m \u001b[0;32mif\u001b[0m \u001b[0mreturn_dict\u001b[0m \u001b[0;32mis\u001b[0m \u001b[0;32mnot\u001b[0m \u001b[0;32mNone\u001b[0m \u001b[0;32melse\u001b[0m \u001b[0mself\u001b[0m\u001b[0;34m.\u001b[0m\u001b[0mconfig\u001b[0m\u001b[0;34m.\u001b[0m\u001b[0muse_return_dict\u001b[0m\u001b[0;34m\u001b[0m\u001b[0;34m\u001b[0m\u001b[0m\n\u001b[1;32m   1071\u001b[0m \u001b[0;34m\u001b[0m\u001b[0m\n\u001b[0;32m-> 1072\u001b[0;31m         transformer_outputs = self.transformer(\n\u001b[0m\u001b[1;32m   1073\u001b[0m             \u001b[0minput_ids\u001b[0m\u001b[0;34m,\u001b[0m\u001b[0;34m\u001b[0m\u001b[0;34m\u001b[0m\u001b[0m\n\u001b[1;32m   1074\u001b[0m             \u001b[0mpast_key_values\u001b[0m\u001b[0;34m=\u001b[0m\u001b[0mpast_key_values\u001b[0m\u001b[0;34m,\u001b[0m\u001b[0;34m\u001b[0m\u001b[0;34m\u001b[0m\u001b[0m\n",
            "\u001b[0;32m/usr/local/lib/python3.10/dist-packages/torch/nn/modules/module.py\u001b[0m in \u001b[0;36m_wrapped_call_impl\u001b[0;34m(self, *args, **kwargs)\u001b[0m\n\u001b[1;32m   1516\u001b[0m             \u001b[0;32mreturn\u001b[0m \u001b[0mself\u001b[0m\u001b[0;34m.\u001b[0m\u001b[0m_compiled_call_impl\u001b[0m\u001b[0;34m(\u001b[0m\u001b[0;34m*\u001b[0m\u001b[0margs\u001b[0m\u001b[0;34m,\u001b[0m \u001b[0;34m**\u001b[0m\u001b[0mkwargs\u001b[0m\u001b[0;34m)\u001b[0m  \u001b[0;31m# type: ignore[misc]\u001b[0m\u001b[0;34m\u001b[0m\u001b[0;34m\u001b[0m\u001b[0m\n\u001b[1;32m   1517\u001b[0m         \u001b[0;32melse\u001b[0m\u001b[0;34m:\u001b[0m\u001b[0;34m\u001b[0m\u001b[0;34m\u001b[0m\u001b[0m\n\u001b[0;32m-> 1518\u001b[0;31m             \u001b[0;32mreturn\u001b[0m \u001b[0mself\u001b[0m\u001b[0;34m.\u001b[0m\u001b[0m_call_impl\u001b[0m\u001b[0;34m(\u001b[0m\u001b[0;34m*\u001b[0m\u001b[0margs\u001b[0m\u001b[0;34m,\u001b[0m \u001b[0;34m**\u001b[0m\u001b[0mkwargs\u001b[0m\u001b[0;34m)\u001b[0m\u001b[0;34m\u001b[0m\u001b[0;34m\u001b[0m\u001b[0m\n\u001b[0m\u001b[1;32m   1519\u001b[0m \u001b[0;34m\u001b[0m\u001b[0m\n\u001b[1;32m   1520\u001b[0m     \u001b[0;32mdef\u001b[0m \u001b[0m_call_impl\u001b[0m\u001b[0;34m(\u001b[0m\u001b[0mself\u001b[0m\u001b[0;34m,\u001b[0m \u001b[0;34m*\u001b[0m\u001b[0margs\u001b[0m\u001b[0;34m,\u001b[0m \u001b[0;34m**\u001b[0m\u001b[0mkwargs\u001b[0m\u001b[0;34m)\u001b[0m\u001b[0;34m:\u001b[0m\u001b[0;34m\u001b[0m\u001b[0;34m\u001b[0m\u001b[0m\n",
            "\u001b[0;32m/usr/local/lib/python3.10/dist-packages/torch/nn/modules/module.py\u001b[0m in \u001b[0;36m_call_impl\u001b[0;34m(self, *args, **kwargs)\u001b[0m\n\u001b[1;32m   1525\u001b[0m                 \u001b[0;32mor\u001b[0m \u001b[0m_global_backward_pre_hooks\u001b[0m \u001b[0;32mor\u001b[0m \u001b[0m_global_backward_hooks\u001b[0m\u001b[0;34m\u001b[0m\u001b[0;34m\u001b[0m\u001b[0m\n\u001b[1;32m   1526\u001b[0m                 or _global_forward_hooks or _global_forward_pre_hooks):\n\u001b[0;32m-> 1527\u001b[0;31m             \u001b[0;32mreturn\u001b[0m \u001b[0mforward_call\u001b[0m\u001b[0;34m(\u001b[0m\u001b[0;34m*\u001b[0m\u001b[0margs\u001b[0m\u001b[0;34m,\u001b[0m \u001b[0;34m**\u001b[0m\u001b[0mkwargs\u001b[0m\u001b[0;34m)\u001b[0m\u001b[0;34m\u001b[0m\u001b[0;34m\u001b[0m\u001b[0m\n\u001b[0m\u001b[1;32m   1528\u001b[0m \u001b[0;34m\u001b[0m\u001b[0m\n\u001b[1;32m   1529\u001b[0m         \u001b[0;32mtry\u001b[0m\u001b[0;34m:\u001b[0m\u001b[0;34m\u001b[0m\u001b[0;34m\u001b[0m\u001b[0m\n",
            "\u001b[0;32m/usr/local/lib/python3.10/dist-packages/transformers/models/gpt_bigcode/modeling_gpt_bigcode.py\u001b[0m in \u001b[0;36mforward\u001b[0;34m(self, input_ids, past_key_values, attention_mask, token_type_ids, position_ids, head_mask, inputs_embeds, encoder_hidden_states, encoder_attention_mask, use_cache, output_attentions, output_hidden_states, return_dict)\u001b[0m\n\u001b[1;32m    861\u001b[0m             \u001b[0;31m# 4d mask is passed through the layers\u001b[0m\u001b[0;34m\u001b[0m\u001b[0;34m\u001b[0m\u001b[0m\n\u001b[1;32m    862\u001b[0m             \u001b[0;32mif\u001b[0m \u001b[0mattention_mask\u001b[0m \u001b[0;32mis\u001b[0m \u001b[0;32mnot\u001b[0m \u001b[0;32mNone\u001b[0m\u001b[0;34m:\u001b[0m\u001b[0;34m\u001b[0m\u001b[0;34m\u001b[0m\u001b[0m\n\u001b[0;32m--> 863\u001b[0;31m                 self_attention_mask = self_attention_mask * attention_mask.view(batch_size, 1, -1).to(\n\u001b[0m\u001b[1;32m    864\u001b[0m                     \u001b[0mdtype\u001b[0m\u001b[0;34m=\u001b[0m\u001b[0mtorch\u001b[0m\u001b[0;34m.\u001b[0m\u001b[0mbool\u001b[0m\u001b[0;34m,\u001b[0m \u001b[0mdevice\u001b[0m\u001b[0;34m=\u001b[0m\u001b[0mself_attention_mask\u001b[0m\u001b[0;34m.\u001b[0m\u001b[0mdevice\u001b[0m\u001b[0;34m\u001b[0m\u001b[0;34m\u001b[0m\u001b[0m\n\u001b[1;32m    865\u001b[0m                 )\n",
            "\u001b[0;31mRuntimeError\u001b[0m: The size of tensor a (8192) must match the size of tensor b (10802) at non-singleton dimension 2"
          ]
        }
      ],
      "source": [
        "qns1 = \"List all the cards going to expire by sep 2026\"\n",
        "sql1 = \"SELECT CardNumber FROM credit_card WHERE ExpiryDate <= '2026-09-30';\"\n",
        "ans1 = db_chain.run(sql1)\n",
        "ans1"
      ],
      "id": "nrn6AgRJcAmS"
    },
    {
      "cell_type": "code",
      "execution_count": null,
      "metadata": {
        "id": "URen4CtTb8dt"
      },
      "outputs": [],
      "source": [
        "qns2 = \"what is the total amount spent by user 2 for food and groceries?\"\n",
        "sql2 = \"SELECT SUM(Amount) FROM transactions WHERE Category = (SELECT CategoryId FROM category WHERE CategoryName = 'Food and Groceries') AND CardId IN (SELECT CardId FROM credit_card WHERE UserId=2);\"\n",
        "ans2 = db_chain.run(sql2)\n",
        "ans2"
      ],
      "id": "URen4CtTb8dt"
    },
    {
      "cell_type": "code",
      "execution_count": null,
      "metadata": {
        "id": "ovo-_t-2b8aC"
      },
      "outputs": [],
      "source": [
        "qns3 = \"How many unique users do we have in transactions\"\n",
        "sql3 = \"SELECT COUNT(DISTINCT UserId) FROM credit_card WHERE CardId IN (SELECT DISTINCT CardId FROM transactions);\"\n",
        "ans3 = db_chain.run(sql3)\n",
        "ans3"
      ],
      "id": "ovo-_t-2b8aC"
    },
    {
      "cell_type": "code",
      "execution_count": null,
      "metadata": {
        "id": "DqeKgBEzb8W7"
      },
      "outputs": [],
      "source": [
        "qns4 = \"What is the total amount lended to the user 1\"\n",
        "sql4 = \"SELECT SUM(LoanAmount) FROM credit_card_financial WHERE CardId IN (SELECT CardId FROM credit_card WHERE UserId=1);\"\n",
        "ans4 = db_chain.run(sql4)\n",
        "ans4"
      ],
      "id": "DqeKgBEzb8W7"
    },
    {
      "cell_type": "code",
      "execution_count": null,
      "metadata": {
        "id": "dMQBs-txgH4a"
      },
      "outputs": [],
      "source": [
        "qns5 = \"Total reward points earned by user2\"\n",
        "sql5 = \"SELECT SUM(RewardId) FROM reward WHERE TransactionId IN (SELECT TransactionId FROM transactions WHERE CardId IN (SELECT CardId FROM credit_card WHERE UserId=2));\"\n",
        "ans5 = db_chain.run(sql5)\n",
        "ans5"
      ],
      "id": "dMQBs-txgH4a"
    },
    {
      "cell_type": "markdown",
      "metadata": {
        "id": "afe780d9"
      },
      "source": [
        "# Few shot learning\n",
        "\n",
        "We will use few shot learning to fix issues we have seen so far"
      ],
      "id": "afe780d9"
    },
    {
      "cell_type": "code",
      "execution_count": null,
      "metadata": {
        "id": "O7JjF46uiCiM"
      },
      "outputs": [],
      "source": [
        "few_shots = []\n",
        "\n",
        "for i in list(range(1,6)):\n",
        "  data = {'Question' : globals()[f'qns{i}'],\n",
        "        'SQLQuery' : globals()[f'sql{i}'],\n",
        "        'SQLResult': \"Result of the SQL query\",\n",
        "        'Answer' : globals()[f'ans{i}']}\n",
        "  few_shots.append(data)\n"
      ],
      "id": "O7JjF46uiCiM"
    },
    {
      "cell_type": "code",
      "execution_count": null,
      "metadata": {
        "id": "IOF3Xdkxl5Rn"
      },
      "outputs": [],
      "source": [
        "few_shots"
      ],
      "id": "IOF3Xdkxl5Rn"
    },
    {
      "cell_type": "code",
      "execution_count": null,
      "metadata": {
        "id": "hVLshqkjPCwa"
      },
      "outputs": [],
      "source": [
        "sql_questions = [\n",
        "    {'Question': \"List all branches established after 2010.\",\n",
        "     'SQLQuery': \"SELECT * FROM branch WHERE EstablishedDate > '2010-01-01';\",\n",
        "     'SQLResult': \"Result of the SQL query\",\n",
        "     'Answer': 'List of branches established after 2010'},\n",
        "    {'Question': \"Find the total number of transactions in the 'Food and Groceries' category.\",\n",
        "     'SQLQuery': \"SELECT COUNT(*) FROM transactions WHERE CategoryId = (SELECT CategoryId FROM category WHERE CategoryName = 'Food and Groceries');\",\n",
        "     'SQLResult': \"Result of the SQL query\",\n",
        "     'Answer': 'Total number of transactions in Food and Groceries'},\n",
        "    {'Question': \"What is the highest credit limit among all credit cards?\",\n",
        "     'SQLQuery': \"SELECT MAX(CreditLimit) FROM credit_card;\",\n",
        "     'SQLResult': \"Result of the SQL query\",\n",
        "     'Answer': 'Highest credit limit'},\n",
        "    {'Question': \"How many users are associated with Branch 1?\",\n",
        "     'SQLQuery': \"SELECT COUNT(*) FROM user WHERE BranchId = 1;\",\n",
        "     'SQLResult': \"Result of the SQL query\",\n",
        "     'Answer': 'Number of users in Branch 1'},\n",
        "    {'Question': \"List the user names and total reward points earned by each user.\",\n",
        "     'SQLQuery': \"SELECT u.UserName, SUM(r.RewardId) FROM user u JOIN credit_card cc ON u.UserId = cc.UserId JOIN transactions t ON cc.CardId = t.CardId JOIN reward r ON t.TransactionId = r.TransactionId GROUP BY u.UserName;\",\n",
        "     'SQLResult': \"Result of the SQL query\",\n",
        "     'Answer': 'User names and their total reward points'},\n",
        "    {'Question': \"Find the average balance of credit cards issued by Branch 2.\",\n",
        "     'SQLQuery': \"SELECT AVG(CurrentBalance) FROM credit_card WHERE CardId IN (SELECT CardId FROM user WHERE BranchId = 2);\",\n",
        "     'SQLResult': \"Result of the SQL query\",\n",
        "     'Answer': 'Average balance of credit cards from Branch 2'},\n",
        "    {'Question': \"Which category has the highest number of transactions?\",\n",
        "     'SQLQuery': \"SELECT CategoryId, COUNT(*) as NumberOfTransactions FROM transactions GROUP BY CategoryId ORDER BY NumberOfTransactions DESC LIMIT 1;\",\n",
        "     'SQLResult': \"Result of the SQL query\",\n",
        "     'Answer': 'Category with the highest number of transactions'},\n",
        "    {'Question': \"List all users who have a credit card expiring in 2024.\",\n",
        "     'SQLQuery': \"SELECT u.UserName FROM user u JOIN credit_card cc ON u.UserId = cc.UserId WHERE strftime('%Y', cc.ExpiryDate) = 2024;\",\n",
        "     'SQLResult': \"Result of the SQL query\",\n",
        "     'Answer': 'List of users with credit cards expiring in 2024'},\n",
        "    {'Question': \"Find the total amount spent in 'Movies and Entertainment' category by User 1.\",\n",
        "     'SQLQuery': \"SELECT SUM(Amount) FROM transactions WHERE CategoryId = (SELECT CategoryId FROM category WHERE CategoryName = 'Movies and Entertainment') AND CardId IN (SELECT CardId FROM credit_card WHERE UserId=1);\",\n",
        "     'SQLResult': \"Result of the SQL query\",\n",
        "     'Answer': 'Total amount spent by User 1 in Movies and Entertainment'},\n",
        "    {'Question': \"What is the total loan amount issued to users of Branch 3?\",\n",
        "     'SQLQuery': \"SELECT SUM(LoanAmount) FROM credit_card_financial WHERE CardId IN (SELECT CardId FROM user WHERE BranchId = 3);\",\n",
        "     'SQLResult': \"Result of the SQL query\",\n",
        "     'Answer': 'Total loan amount for users of Branch 3'},\n",
        "    {'Question': \"List all transactions made in the 'Shopping' category.\",\n",
        "     'SQLQuery': \"SELECT * FROM transactions WHERE CategoryId = (SELECT CategoryId FROM category WHERE CategoryName = 'Shopping');\",\n",
        "     'SQLResult': \"Result of the SQL query\",\n",
        "     'Answer': 'List of transactions in Shopping category'},\n",
        "    # {'Question': \"Find the average loan amount given to users under 30 years of age.\",\n",
        "    #  'SQLQuery': \"SELECT AVG(LoanAmount) FROM credit_card_financial WHERE CardId IN (SELECT CardId FROM user WHERE (strftime('%Y', 'now') - strftime('%Y', DateOfBirth)) - (strftime('%m-%d', 'now') < strftime('%m-%d', DateOfBirth)) < 30;\",\n",
        "    #  'SQLResult': \"Result of the SQL query\",\n",
        "    #  'Answer': 'Average loan amount for users under 30'},\n",
        "    {'Question': \"How many credit cards have a balance over $10,000?\",\n",
        "     'SQLQuery': \"SELECT COUNT(*) FROM credit_card WHERE CurrentBalance > 10000;\",\n",
        "     'SQLResult': \"Result of the SQL query\",\n",
        "     'Answer': 'Number of credit cards with balance over $10,000'},\n",
        "    {'Question': \"What is the total amount of transactions completed in the last month?\",\n",
        "     'SQLQuery': \"SELECT SUM(Amount) FROM transactions WHERE TransactionStatus = 'Completed' AND TransactionDate >= date('now', '-1 month');\",\n",
        "     'SQLResult': \"Result of the SQL query\",\n",
        "     'Answer': 'Total amount of transactions last month'}\n",
        "]\n"
      ],
      "id": "hVLshqkjPCwa"
    },
    {
      "cell_type": "code",
      "execution_count": null,
      "metadata": {
        "id": "Y1wMm9Dymuwe"
      },
      "outputs": [],
      "source": [
        "len(sql_questions)"
      ],
      "id": "Y1wMm9Dymuwe"
    },
    {
      "cell_type": "code",
      "execution_count": null,
      "metadata": {
        "id": "XZyANJZrqvIb"
      },
      "outputs": [],
      "source": [
        "for item in sql_questions:\n",
        "  sql = item['SQLQuery']\n",
        "  ans = db_chain.run(sql)\n",
        "  item['Answer'] = ans\n",
        "  few_shots.append(item)\n",
        "  # print('-----------------------------')"
      ],
      "id": "XZyANJZrqvIb"
    },
    {
      "cell_type": "code",
      "execution_count": null,
      "metadata": {
        "id": "kaZOXprjvx5B"
      },
      "outputs": [],
      "source": [
        "len(few_shots)"
      ],
      "id": "kaZOXprjvx5B"
    },
    {
      "cell_type": "code",
      "execution_count": null,
      "metadata": {
        "id": "i-6g1mH8DCek"
      },
      "outputs": [],
      "source": [
        "few_shots"
      ],
      "id": "i-6g1mH8DCek"
    },
    {
      "cell_type": "markdown",
      "metadata": {
        "id": "30f7b3c9"
      },
      "source": [
        "### Creating Semantic Similarity Based example selector\n",
        "\n",
        "- create embedding on the few_shots\n",
        "- Store the embeddings in Chroma DB\n",
        "- Retrieve the the top most Semantically close example from the vector store"
      ],
      "id": "30f7b3c9"
    },
    {
      "cell_type": "code",
      "execution_count": null,
      "metadata": {
        "id": "7xai-NaonFoL"
      },
      "outputs": [],
      "source": [
        "!pip install sentence-transformers\n",
        "!pip install chromadb"
      ],
      "id": "7xai-NaonFoL"
    },
    {
      "cell_type": "code",
      "execution_count": null,
      "metadata": {
        "id": "54306b8d"
      },
      "outputs": [],
      "source": [
        "from langchain.embeddings import HuggingFaceEmbeddings\n",
        "\n",
        "embeddings = HuggingFaceEmbeddings(model_name='sentence-transformers/all-MiniLM-L6-v2')\n",
        "\n",
        "to_vectorize = [\" \".join(example.values()) for example in few_shots]"
      ],
      "id": "54306b8d"
    },
    {
      "cell_type": "code",
      "execution_count": null,
      "metadata": {
        "id": "d806f39b"
      },
      "outputs": [],
      "source": [
        "from langchain.vectorstores import Chroma\n",
        "vectorstore = Chroma.from_texts(to_vectorize, embeddings, metadatas=few_shots)"
      ],
      "id": "d806f39b"
    },
    {
      "cell_type": "code",
      "execution_count": null,
      "metadata": {
        "id": "f9cc4b0e"
      },
      "outputs": [],
      "source": [
        "from langchain.prompts import SemanticSimilarityExampleSelector\n",
        "\n",
        "example_selector = SemanticSimilarityExampleSelector(\n",
        "    vectorstore=vectorstore,\n",
        "    k=2,\n",
        ")\n",
        "\n",
        "example_selector.select_examples({\"Question\": \"How many total rewards do we have\"})"
      ],
      "id": "f9cc4b0e"
    },
    {
      "cell_type": "code",
      "execution_count": null,
      "metadata": {
        "id": "kvfu97OFysC0"
      },
      "outputs": [],
      "source": [
        "sqlite_prompt = \"\"\"You are a SQLite expert. Given an input question, first create a syntactically correct SQLite query to run, then look at the results of the query and return the answer to the input question.\n",
        "Unless the user specifies in the question a specific number of examples to obtain, query for at most {top_k} results using the LIMIT clause as per SQLite. You can order the results to return the most informative data in the database.\n",
        "Never query for all columns from a table. You must query only the columns that are needed to answer the question. Wrap each column name in double quotes (\") to denote them as delimited identifiers.\n",
        "Pay attention to use only the column names you can see in the tables below. Be careful to not query for columns that do not exist. Also, pay attention to which column is in which table.\n",
        "Pay attention to use date('now') function to get the current date, if the question involves \"today\".\n",
        "\n",
        "Use the following format:\n",
        "\n",
        "Question: Question here\n",
        "SQLQuery: SQL Query to run\n",
        "SQLResult: Result of the SQLQuery\n",
        "Answer: Final answer here\"\"\""
      ],
      "id": "kvfu97OFysC0"
    },
    {
      "cell_type": "code",
      "execution_count": null,
      "metadata": {
        "id": "357ca60f",
        "scrolled": true
      },
      "outputs": [],
      "source": [
        "from langchain.prompts import FewShotPromptTemplate\n",
        "from langchain.chains.sql_database.prompt import PROMPT_SUFFIX"
      ],
      "id": "357ca60f"
    },
    {
      "cell_type": "code",
      "source": [
        "print(PROMPT_SUFFIX)"
      ],
      "metadata": {
        "id": "f67LJGfplxeQ"
      },
      "id": "f67LJGfplxeQ",
      "execution_count": null,
      "outputs": []
    },
    {
      "cell_type": "code",
      "execution_count": null,
      "metadata": {
        "id": "1_AG7yfgR3DR"
      },
      "outputs": [],
      "source": [
        "from langchain.chains.sql_database import prompt"
      ],
      "id": "1_AG7yfgR3DR"
    },
    {
      "cell_type": "code",
      "execution_count": null,
      "metadata": {
        "id": "dCxdBkYeR-2_"
      },
      "outputs": [],
      "source": [
        "dir(prompt)"
      ],
      "id": "dCxdBkYeR-2_"
    },
    {
      "cell_type": "code",
      "execution_count": null,
      "metadata": {
        "id": "nmAcutISSbNP"
      },
      "outputs": [],
      "source": [
        "from langchain.chains.sql_database.prompt import SQLITE_PROMPT"
      ],
      "id": "nmAcutISSbNP"
    },
    {
      "cell_type": "code",
      "source": [
        "print(SQLITE_PROMPT)"
      ],
      "metadata": {
        "id": "Zsw1oNVkmKYJ"
      },
      "id": "Zsw1oNVkmKYJ",
      "execution_count": null,
      "outputs": []
    },
    {
      "cell_type": "code",
      "source": [
        "print('You are a SQLite expert. Given an input question, first create a syntactically correct SQLite query to run, then look at the results of the query and return the answer to the input question.\\nUnless the user specifies in the question a specific number of examples to obtain, query for at most {top_k} results using the LIMIT clause as per SQLite. You can order the results to return the most informative data in the database.\\nNever query for all columns from a table. You must query only the columns that are needed to answer the question. Wrap each column name in double quotes (\") to denote them as delimited identifiers.\\nPay attention to use only the column names you can see in the tables below. Be careful to not query for columns that do not exist. Also, pay attention to which column is in which table.\\nPay attention to use date(\\'now\\') function to get the current date, if the question involves \"today\".\\n\\nUse the following format:\\n\\nQuestion: Question here\\nSQLQuery: SQL Query to run\\nSQLResult: Result of the SQLQuery\\nAnswer: Final answer here\\n\\nOnly use the following tables:\\n{table_info}\\n\\nQuestion: {input}')"
      ],
      "metadata": {
        "id": "8gapulTtmTK_"
      },
      "id": "8gapulTtmTK_",
      "execution_count": null,
      "outputs": []
    },
    {
      "cell_type": "markdown",
      "metadata": {
        "id": "20224496"
      },
      "source": [
        "### Setting up PromptTemplete using input variables"
      ],
      "id": "20224496"
    },
    {
      "cell_type": "code",
      "execution_count": null,
      "metadata": {
        "id": "3337e4a0"
      },
      "outputs": [],
      "source": [
        "from langchain.prompts.prompt import PromptTemplate\n",
        "\n",
        "example_prompt = PromptTemplate(\n",
        "    input_variables=[\"Question\", \"SQLQuery\", \"SQLResult\",\"Answer\",],\n",
        "    template=\"\\nQuestion: {Question}\\nSQLQuery: {SQLQuery}\\nSQLResult: {SQLResult}\\nAnswer: {Answer}\",\n",
        ")"
      ],
      "id": "3337e4a0"
    },
    {
      "cell_type": "code",
      "execution_count": null,
      "metadata": {
        "id": "70wOX8OE0gmS"
      },
      "outputs": [],
      "source": [
        "print(PROMPT_SUFFIX)"
      ],
      "id": "70wOX8OE0gmS"
    },
    {
      "cell_type": "code",
      "execution_count": null,
      "metadata": {
        "id": "5736eb12"
      },
      "outputs": [],
      "source": [
        "few_shot_prompt = FewShotPromptTemplate(\n",
        "    example_selector=example_selector,\n",
        "    example_prompt=example_prompt,\n",
        "    prefix=sqlite_prompt,\n",
        "    suffix=PROMPT_SUFFIX,\n",
        "    input_variables=[\"input\", \"table_info\", \"top_k\"], #These variables are used in the prefix and suffix\n",
        ")"
      ],
      "id": "5736eb12"
    },
    {
      "cell_type": "code",
      "execution_count": null,
      "metadata": {
        "id": "c23d156c"
      },
      "outputs": [],
      "source": [
        "db_chain2 = SQLDatabaseChain.from_llm(llm, db, verbose=False, prompt=few_shot_prompt)"
      ],
      "id": "c23d156c"
    },
    {
      "cell_type": "code",
      "execution_count": null,
      "metadata": {
        "id": "12a32c68"
      },
      "outputs": [],
      "source": [
        "db_chain2.run(\"what is the amout spend by user 1 for food\")"
      ],
      "id": "12a32c68"
    },
    {
      "cell_type": "code",
      "execution_count": null,
      "metadata": {
        "id": "30a05344",
        "scrolled": true
      },
      "outputs": [],
      "source": [
        "resp = db_chain2.run(\"What is the total amount of transactions completed in the last month\")"
      ],
      "id": "30a05344"
    },
    {
      "cell_type": "code",
      "source": [
        "3508.62"
      ],
      "metadata": {
        "id": "BsenHu5zm81L"
      },
      "id": "BsenHu5zm81L",
      "execution_count": null,
      "outputs": []
    },
    {
      "cell_type": "markdown",
      "metadata": {
        "id": "q0OIHBqR3dOF"
      },
      "source": [
        "# Test"
      ],
      "id": "q0OIHBqR3dOF"
    },
    {
      "cell_type": "code",
      "execution_count": null,
      "metadata": {
        "id": "lepnZQTO3eFa"
      },
      "outputs": [],
      "source": [
        "sql_test = ([\n",
        "    {'Question': \"What is the total number of active credit cards?\",\n",
        "     'SQLQuery': \"SELECT COUNT(*) FROM credit_card WHERE ExpiryDate > CURRENT_DATE;\",\n",
        "     'SQLResult': \"Result of the SQL query\",\n",
        "     'Answer': 'Total number of active credit cards'},\n",
        "    {'Question': \"How many transactions were made in the 'Shopping' category?\",\n",
        "     'SQLQuery': \"SELECT COUNT(*) FROM transactions WHERE CategoryId = (SELECT CategoryId FROM category WHERE CategoryName = 'Shopping');\",\n",
        "     'SQLResult': \"Result of the SQL query\",\n",
        "     'Answer': 'Number of transactions in Shopping category'},\n",
        "    {'Question': \"Which user has the most number of credit cards?\",\n",
        "     'SQLQuery': \"SELECT u.UserName FROM user u JOIN credit_card cc ON u.UserId = cc.UserId GROUP BY u.UserId ORDER BY COUNT(cc.CardId) DESC LIMIT 1;\",\n",
        "     'SQLResult': \"Result of the SQL query\",\n",
        "     'Answer': 'User with the most number of credit cards'},\n",
        "    {'Question': \"Find the total amount spent on fuel by all users.\",\n",
        "     'SQLQuery': \"SELECT SUM(Amount) FROM transactions WHERE CategoryId = (SELECT CategoryId FROM category WHERE CategoryName = 'Fuel');\",\n",
        "     'SQLResult': \"Result of the SQL query\",\n",
        "     'Answer': 'Total amount spent on fuel'},\n",
        "    {'Question': \"What is the oldest branch of the bank?\",\n",
        "     'SQLQuery': \"SELECT BranchName FROM branch WHERE EstablishedDate = (SELECT MIN(EstablishedDate) FROM branch);\",\n",
        "     'SQLResult': \"Result of the SQL query\",\n",
        "     'Answer': 'Oldest branch of the bank'},\n",
        "    {'Question': \"Find the user with the oldest credit card.\",\n",
        "     'SQLQuery': \"SELECT u.UserName FROM user u JOIN credit_card cc ON u.UserId = cc.UserId WHERE cc.IssueDate = (SELECT MIN(IssueDate) FROM credit_card);\",\n",
        "     'SQLResult': \"Result of the SQL query\",\n",
        "     'Answer': 'User with the oldest credit card'},\n",
        "    {'Question': \"How many rewards were earned for transactions above $1000?\",\n",
        "     'SQLQuery': \"SELECT COUNT(r.RewardId) FROM reward r JOIN transactions t ON r.TransactionId = t.TransactionId WHERE t.Amount > 1000;\",\n",
        "     'SQLResult': \"Result of the SQL query\",\n",
        "     'Answer': 'Number of rewards for transactions above $1000'},\n",
        "    # {'Question': \"List all users who have made a transaction in the last month.\",\n",
        "    #  'SQLQuery': \"SELECT DISTINCT u.UserName FROM user u JOIN credit_card cc ON u.UserId = cc.UserId JOIN transactions t ON cc.CardId = t.CardId WHERE t.TransactionDate >= CURRENT_DATE - INTERVAL '1 month';\",\n",
        "    #  'SQLResult': \"Result of the SQL query\",\n",
        "    #  'Answer': 'List of users with transactions in the last month'},\n",
        "    {'Question': \"Which category has the lowest average transaction amount?\",\n",
        "     'SQLQuery': \"SELECT c.CategoryName FROM category c JOIN transactions t ON c.CategoryId = t.CategoryId GROUP BY c.CategoryId ORDER BY AVG(t.Amount) ASC LIMIT 1;\",\n",
        "     'SQLResult': \"Result of the SQL query\",\n",
        "     'Answer': 'Category with the lowest average transaction amount'},\n",
        "    {'Question': \"What is the total outstanding balance for all credit cards?\",\n",
        "     'SQLQuery': \"SELECT SUM(CurrentBalance) FROM credit_card;\",\n",
        "     'SQLResult': \"Result of the SQL query\",\n",
        "     'Answer': 'Total outstanding balance for all credit cards'},\n",
        "    {'Question': \"How many branches have less than 20 employees?\",\n",
        "     'SQLQuery': \"SELECT COUNT(*) FROM branch WHERE NumberOfEmployees < 20;\",\n",
        "     'SQLResult': \"Result of the SQL query\",\n",
        "     'Answer': 'Number of branches with less than 20 employees'},\n",
        "    {'Question': \"List the top 3 users by total transaction amount.\",\n",
        "     'SQLQuery': \"SELECT u.UserName FROM user u JOIN credit_card cc ON u.UserId = cc.UserId JOIN transactions t ON cc.CardId = t.CardId GROUP BY u.UserId ORDER BY SUM(t.Amount) DESC LIMIT 3;\",\n",
        "     'SQLResult': \"Result of the SQL query\",\n",
        "     'Answer': 'Top 3 users by total transaction amount'},\n",
        "    # {'Question': \"Find the most popular transaction category.\",\n",
        "    #  'SQLQuery': \"SELECT c.CategoryName FROM category c JOIN transactions t ON c.CategoryId = t.CategoryId GROUP BY c.CategoryId ORDER BY COUNT(*) DESC LIMIT 1;\",\n",
        "    #  'SQLResult': \"Result of the SQL query\",\n",
        "    #  'Answer': 'Most popular transaction category'},\n",
        "    # {'Question': \"How many credit cards were issued in the last year?\",\n",
        "    #  'SQLQuery': \"SELECT COUNT(*) FROM credit_card WHERE IssueDate >= CURRENT_DATE - INTERVAL '1 year';\",\n",
        "    #  'SQLResult': \"Result of the SQL query\",\n",
        "    #  'Answer': 'Number of credit cards issued in the last year'},\n",
        "    {'Question': \"What is the average number of transactions per user?\",\n",
        "     'SQLQuery': \"SELECT AVG(TransactionCount) FROM (SELECT COUNT(*) as TransactionCount FROM transactions GROUP BY CardId) as TransactionPerUser;\",\n",
        "     'SQLResult': \"Result of the SQL query\",\n",
        "     'Answer': 'Average number of transactions per user'}\n",
        "])"
      ],
      "id": "lepnZQTO3eFa"
    },
    {
      "cell_type": "code",
      "execution_count": null,
      "metadata": {
        "id": "mTrVYF7Q77Zm"
      },
      "outputs": [],
      "source": [
        "len(sql_test)"
      ],
      "id": "mTrVYF7Q77Zm"
    },
    {
      "cell_type": "code",
      "execution_count": null,
      "metadata": {
        "id": "YhoOx0_h3wxI"
      },
      "outputs": [],
      "source": [
        "for item in sql_test:\n",
        "  qns = item['Question']\n",
        "  print(qns)\n",
        "  sql = item['SQLQuery']\n",
        "  print(sql)\n",
        "  print(db_chain2.run(sql))\n",
        "  try:\n",
        "    print(db_chain.run(qns))\n",
        "  except:\n",
        "    print('failed db_chain')\n",
        "  try:\n",
        "    print(db_chain2.run(qns))\n",
        "  except:\n",
        "    print('failed db_chain2')\n",
        "    # item['Answer'] = ans\n",
        "    # few_shots.append(item)\n",
        "  print('-----------------------------')"
      ],
      "id": "YhoOx0_h3wxI"
    }
  ],
  "metadata": {
    "colab": {
      "collapsed_sections": [
        "F5uh6_AqWPNq"
      ],
      "provenance": [],
      "gpuType": "V100",
      "include_colab_link": true
    },
    "kernelspec": {
      "display_name": "Python 3",
      "name": "python3"
    },
    "language_info": {
      "codemirror_mode": {
        "name": "ipython",
        "version": 3
      },
      "file_extension": ".py",
      "mimetype": "text/x-python",
      "name": "python",
      "nbconvert_exporter": "python",
      "pygments_lexer": "ipython3",
      "version": "3.10.11"
    },
    "accelerator": "GPU"
  },
  "nbformat": 4,
  "nbformat_minor": 5
}