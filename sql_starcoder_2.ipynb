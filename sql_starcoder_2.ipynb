{
  "cells": [
    {
      "cell_type": "markdown",
      "metadata": {
        "id": "view-in-github",
        "colab_type": "text"
      },
      "source": [
        "<a href=\"https://colab.research.google.com/github/loni9164/text_sql/blob/main/sql_starcoder_2.ipynb\" target=\"_parent\"><img src=\"https://colab.research.google.com/assets/colab-badge.svg\" alt=\"Open In Colab\"/></a>"
      ]
    },
    {
      "cell_type": "markdown",
      "metadata": {
        "id": "NRJ1uVF_CFRs"
      },
      "source": [
        "# Install libraries"
      ],
      "id": "NRJ1uVF_CFRs"
    },
    {
      "cell_type": "code",
      "execution_count": null,
      "metadata": {
        "id": "8520ed13-0462-44ed-9bec-3cc50019aef5",
        "outputId": "d88382f4-7df0-444f-832b-23239520518f"
      },
      "outputs": [
        {
          "name": "stdout",
          "output_type": "stream",
          "text": [
            "Mon Jan  8 07:04:29 2024       \n",
            "+---------------------------------------------------------------------------------------+\n",
            "| NVIDIA-SMI 535.129.03             Driver Version: 535.129.03   CUDA Version: 12.2     |\n",
            "|-----------------------------------------+----------------------+----------------------+\n",
            "| GPU  Name                 Persistence-M | Bus-Id        Disp.A | Volatile Uncorr. ECC |\n",
            "| Fan  Temp   Perf          Pwr:Usage/Cap |         Memory-Usage | GPU-Util  Compute M. |\n",
            "|                                         |                      |               MIG M. |\n",
            "|=========================================+======================+======================|\n",
            "|   0  Tesla V100-DGXS-16GB           On  | 00000000:05:00.0 Off |                    0 |\n",
            "| N/A   29C    P0              51W / 300W |  10942MiB / 16384MiB |      0%      Default |\n",
            "|                                         |                      |                  N/A |\n",
            "+-----------------------------------------+----------------------+----------------------+\n",
            "|   1  Tesla V100-DGXS-16GB           On  | 00000000:06:00.0 Off |                    0 |\n",
            "| N/A   32C    P0              50W / 300W |  10036MiB / 16384MiB |      0%      Default |\n",
            "|                                         |                      |                  N/A |\n",
            "+-----------------------------------------+----------------------+----------------------+\n",
            "                                                                                         \n",
            "+---------------------------------------------------------------------------------------+\n",
            "| Processes:                                                                            |\n",
            "|  GPU   GI   CI        PID   Type   Process name                            GPU Memory |\n",
            "|        ID   ID                                                             Usage      |\n",
            "|=======================================================================================|\n",
            "+---------------------------------------------------------------------------------------+\n"
          ]
        }
      ],
      "source": [
        "!nvidia-smi"
      ],
      "id": "8520ed13-0462-44ed-9bec-3cc50019aef5"
    },
    {
      "cell_type": "code",
      "execution_count": null,
      "metadata": {
        "id": "eXeXOuRSCEC6",
        "outputId": "f6e2db59-f1e5-4f96-b50d-db8c74bdaeb4"
      },
      "outputs": [
        {
          "name": "stdout",
          "output_type": "stream",
          "text": [
            "Collecting langchain\n",
            "  Downloading langchain-0.1.0-py3-none-any.whl.metadata (13 kB)\n",
            "Collecting langchain-experimental\n",
            "  Downloading langchain_experimental-0.0.47-py3-none-any.whl.metadata (1.9 kB)\n",
            "Requirement already satisfied: PyYAML>=5.3 in /opt/conda/lib/python3.10/site-packages (from langchain) (6.0.1)\n",
            "Collecting SQLAlchemy<3,>=1.4 (from langchain)\n",
            "  Downloading SQLAlchemy-2.0.25-cp310-cp310-manylinux_2_17_x86_64.manylinux2014_x86_64.whl.metadata (9.6 kB)\n",
            "Collecting aiohttp<4.0.0,>=3.8.3 (from langchain)\n",
            "  Downloading aiohttp-3.9.1-cp310-cp310-manylinux_2_17_x86_64.manylinux2014_x86_64.whl.metadata (7.4 kB)\n",
            "Collecting async-timeout<5.0.0,>=4.0.0 (from langchain)\n",
            "  Downloading async_timeout-4.0.3-py3-none-any.whl.metadata (4.2 kB)\n",
            "Collecting dataclasses-json<0.7,>=0.5.7 (from langchain)\n",
            "  Downloading dataclasses_json-0.6.3-py3-none-any.whl.metadata (25 kB)\n",
            "Collecting jsonpatch<2.0,>=1.33 (from langchain)\n",
            "  Downloading jsonpatch-1.33-py2.py3-none-any.whl.metadata (3.0 kB)\n",
            "Collecting langchain-community<0.1,>=0.0.9 (from langchain)\n",
            "  Downloading langchain_community-0.0.10-py3-none-any.whl.metadata (7.3 kB)\n",
            "Collecting langchain-core<0.2,>=0.1.7 (from langchain)\n",
            "  Downloading langchain_core-0.1.8-py3-none-any.whl.metadata (4.0 kB)\n",
            "Collecting langsmith<0.1.0,>=0.0.77 (from langchain)\n",
            "  Downloading langsmith-0.0.77-py3-none-any.whl.metadata (10 kB)\n",
            "Requirement already satisfied: numpy<2,>=1 in /opt/conda/lib/python3.10/site-packages (from langchain) (1.26.2)\n",
            "Collecting pydantic<3,>=1 (from langchain)\n",
            "  Downloading pydantic-2.5.3-py3-none-any.whl.metadata (65 kB)\n",
            "\u001b[2K     \u001b[90m━━━━━━━━━━━━━━━━━━━━━━━━━━━━━━━━━━━━━━━━\u001b[0m \u001b[32m65.6/65.6 kB\u001b[0m \u001b[31m21.9 MB/s\u001b[0m eta \u001b[36m0:00:00\u001b[0m\n",
            "\u001b[?25hRequirement already satisfied: requests<3,>=2 in /opt/conda/lib/python3.10/site-packages (from langchain) (2.31.0)\n",
            "Collecting tenacity<9.0.0,>=8.1.0 (from langchain)\n",
            "  Downloading tenacity-8.2.3-py3-none-any.whl.metadata (1.0 kB)\n",
            "Collecting langchain\n",
            "  Downloading langchain-0.0.354-py3-none-any.whl.metadata (13 kB)\n",
            "Requirement already satisfied: attrs>=17.3.0 in /opt/conda/lib/python3.10/site-packages (from aiohttp<4.0.0,>=3.8.3->langchain) (23.1.0)\n",
            "Collecting multidict<7.0,>=4.5 (from aiohttp<4.0.0,>=3.8.3->langchain)\n",
            "  Downloading multidict-6.0.4-cp310-cp310-manylinux_2_17_x86_64.manylinux2014_x86_64.whl (114 kB)\n",
            "\u001b[2K     \u001b[90m━━━━━━━━━━━━━━━━━━━━━━━━━━━━━━━━━━━━━━\u001b[0m \u001b[32m114.5/114.5 kB\u001b[0m \u001b[31m36.1 MB/s\u001b[0m eta \u001b[36m0:00:00\u001b[0m\n",
            "\u001b[?25hCollecting yarl<2.0,>=1.0 (from aiohttp<4.0.0,>=3.8.3->langchain)\n",
            "  Downloading yarl-1.9.4-cp310-cp310-manylinux_2_17_x86_64.manylinux2014_x86_64.whl.metadata (31 kB)\n",
            "Collecting frozenlist>=1.1.1 (from aiohttp<4.0.0,>=3.8.3->langchain)\n",
            "  Downloading frozenlist-1.4.1-cp310-cp310-manylinux_2_5_x86_64.manylinux1_x86_64.manylinux_2_17_x86_64.manylinux2014_x86_64.whl.metadata (12 kB)\n",
            "Collecting aiosignal>=1.1.2 (from aiohttp<4.0.0,>=3.8.3->langchain)\n",
            "  Downloading aiosignal-1.3.1-py3-none-any.whl (7.6 kB)\n",
            "Collecting marshmallow<4.0.0,>=3.18.0 (from dataclasses-json<0.7,>=0.5.7->langchain)\n",
            "  Downloading marshmallow-3.20.1-py3-none-any.whl.metadata (7.8 kB)\n",
            "Collecting typing-inspect<1,>=0.4.0 (from dataclasses-json<0.7,>=0.5.7->langchain)\n",
            "  Downloading typing_inspect-0.9.0-py3-none-any.whl.metadata (1.5 kB)\n",
            "Requirement already satisfied: jsonpointer>=1.9 in /opt/conda/lib/python3.10/site-packages (from jsonpatch<2.0,>=1.33->langchain) (2.1)\n",
            "Requirement already satisfied: anyio<5,>=3 in /opt/conda/lib/python3.10/site-packages (from langchain-core<0.2,>=0.1.7->langchain) (4.1.0)\n",
            "Collecting packaging<24.0,>=23.2 (from langchain-core<0.2,>=0.1.7->langchain)\n",
            "  Downloading packaging-23.2-py3-none-any.whl.metadata (3.2 kB)\n",
            "Collecting annotated-types>=0.4.0 (from pydantic<3,>=1->langchain)\n",
            "  Downloading annotated_types-0.6.0-py3-none-any.whl.metadata (12 kB)\n",
            "Collecting pydantic-core==2.14.6 (from pydantic<3,>=1->langchain)\n",
            "  Downloading pydantic_core-2.14.6-cp310-cp310-manylinux_2_17_x86_64.manylinux2014_x86_64.whl.metadata (6.5 kB)\n",
            "Requirement already satisfied: typing-extensions>=4.6.1 in /opt/conda/lib/python3.10/site-packages (from pydantic<3,>=1->langchain) (4.7.1)\n",
            "Requirement already satisfied: charset-normalizer<4,>=2 in /opt/conda/lib/python3.10/site-packages (from requests<3,>=2->langchain) (2.0.4)\n",
            "Requirement already satisfied: idna<4,>=2.5 in /opt/conda/lib/python3.10/site-packages (from requests<3,>=2->langchain) (3.4)\n",
            "Requirement already satisfied: urllib3<3,>=1.21.1 in /opt/conda/lib/python3.10/site-packages (from requests<3,>=2->langchain) (1.26.18)\n",
            "Requirement already satisfied: certifi>=2017.4.17 in /opt/conda/lib/python3.10/site-packages (from requests<3,>=2->langchain) (2023.11.17)\n",
            "Collecting greenlet!=0.4.17 (from SQLAlchemy<3,>=1.4->langchain)\n",
            "  Downloading greenlet-3.0.3-cp310-cp310-manylinux_2_24_x86_64.manylinux_2_28_x86_64.whl.metadata (3.8 kB)\n",
            "Requirement already satisfied: sniffio>=1.1 in /opt/conda/lib/python3.10/site-packages (from anyio<5,>=3->langchain-core<0.2,>=0.1.7->langchain) (1.3.0)\n",
            "Requirement already satisfied: exceptiongroup>=1.0.2 in /opt/conda/lib/python3.10/site-packages (from anyio<5,>=3->langchain-core<0.2,>=0.1.7->langchain) (1.0.4)\n",
            "Collecting mypy-extensions>=0.3.0 (from typing-inspect<1,>=0.4.0->dataclasses-json<0.7,>=0.5.7->langchain)\n",
            "  Downloading mypy_extensions-1.0.0-py3-none-any.whl (4.7 kB)\n",
            "Downloading langchain_experimental-0.0.47-py3-none-any.whl (162 kB)\n",
            "\u001b[2K   \u001b[90m━━━━━━━━━━━━━━━━━━━━━━━━━━━━━━━━━━━━━━━━\u001b[0m \u001b[32m163.0/163.0 kB\u001b[0m \u001b[31m45.6 MB/s\u001b[0m eta \u001b[36m0:00:00\u001b[0m\n",
            "\u001b[?25hDownloading langchain-0.0.354-py3-none-any.whl (803 kB)\n",
            "\u001b[2K   \u001b[90m━━━━━━━━━━━━━━━━━━━━━━━━━━━━━━━━━━━━━━━━\u001b[0m \u001b[32m803.3/803.3 kB\u001b[0m \u001b[31m64.8 MB/s\u001b[0m eta \u001b[36m0:00:00\u001b[0m\n",
            "\u001b[?25hDownloading aiohttp-3.9.1-cp310-cp310-manylinux_2_17_x86_64.manylinux2014_x86_64.whl (1.2 MB)\n",
            "\u001b[2K   \u001b[90m━━━━━━━━━━━━━━━━━━━━━━━━━━━━━━━━━━━━━━━━\u001b[0m \u001b[32m1.2/1.2 MB\u001b[0m \u001b[31m86.3 MB/s\u001b[0m eta \u001b[36m0:00:00\u001b[0m\n",
            "\u001b[?25hDownloading async_timeout-4.0.3-py3-none-any.whl (5.7 kB)\n",
            "Downloading dataclasses_json-0.6.3-py3-none-any.whl (28 kB)\n",
            "Downloading jsonpatch-1.33-py2.py3-none-any.whl (12 kB)\n",
            "Downloading langchain_community-0.0.10-py3-none-any.whl (1.5 MB)\n",
            "\u001b[2K   \u001b[90m━━━━━━━━━━━━━━━━━━━━━━━━━━━━━━━━━━━━━━━━\u001b[0m \u001b[32m1.5/1.5 MB\u001b[0m \u001b[31m82.6 MB/s\u001b[0m eta \u001b[36m0:00:00\u001b[0m\n",
            "\u001b[?25hDownloading langchain_core-0.1.8-py3-none-any.whl (215 kB)\n",
            "\u001b[2K   \u001b[90m━━━━━━━━━━━━━━━━━━━━━━━━━━━━━━━━━━━━━━━━\u001b[0m \u001b[32m215.5/215.5 kB\u001b[0m \u001b[31m53.0 MB/s\u001b[0m eta \u001b[36m0:00:00\u001b[0m\n",
            "\u001b[?25hDownloading langsmith-0.0.77-py3-none-any.whl (48 kB)\n",
            "\u001b[2K   \u001b[90m━━━━━━━━━━━━━━━━━━━━━━━━━━━━━━━━━━━━━━━━\u001b[0m \u001b[32m48.2/48.2 kB\u001b[0m \u001b[31m15.1 MB/s\u001b[0m eta \u001b[36m0:00:00\u001b[0m\n",
            "\u001b[?25hDownloading pydantic-2.5.3-py3-none-any.whl (381 kB)\n",
            "\u001b[2K   \u001b[90m━━━━━━━━━━━━━━━━━━━━━━━━━━━━━━━━━━━━━━━━\u001b[0m \u001b[32m381.9/381.9 kB\u001b[0m \u001b[31m56.0 MB/s\u001b[0m eta \u001b[36m0:00:00\u001b[0m\n",
            "\u001b[?25hDownloading pydantic_core-2.14.6-cp310-cp310-manylinux_2_17_x86_64.manylinux2014_x86_64.whl (2.1 MB)\n",
            "\u001b[2K   \u001b[90m━━━━━━━━━━━━━━━━━━━━━━━━━━━━━━━━━━━━━━━━\u001b[0m \u001b[32m2.1/2.1 MB\u001b[0m \u001b[31m90.2 MB/s\u001b[0m eta \u001b[36m0:00:00\u001b[0m\n",
            "\u001b[?25hDownloading SQLAlchemy-2.0.25-cp310-cp310-manylinux_2_17_x86_64.manylinux2014_x86_64.whl (3.1 MB)\n",
            "\u001b[2K   \u001b[90m━━━━━━━━━━━━━━━━━━━━━━━━━━━━━━━━━━━━━━━━\u001b[0m \u001b[32m3.1/3.1 MB\u001b[0m \u001b[31m76.2 MB/s\u001b[0m eta \u001b[36m0:00:00\u001b[0m:00:01\u001b[0m\n",
            "\u001b[?25hDownloading tenacity-8.2.3-py3-none-any.whl (24 kB)\n",
            "Downloading annotated_types-0.6.0-py3-none-any.whl (12 kB)\n",
            "Downloading frozenlist-1.4.1-cp310-cp310-manylinux_2_5_x86_64.manylinux1_x86_64.manylinux_2_17_x86_64.manylinux2014_x86_64.whl (239 kB)\n",
            "\u001b[2K   \u001b[90m━━━━━━━━━━━━━━━━━━━━━━━━━━━━━━━━━━━━━━━━\u001b[0m \u001b[32m239.5/239.5 kB\u001b[0m \u001b[31m53.4 MB/s\u001b[0m eta \u001b[36m0:00:00\u001b[0m\n",
            "\u001b[?25hDownloading greenlet-3.0.3-cp310-cp310-manylinux_2_24_x86_64.manylinux_2_28_x86_64.whl (616 kB)\n",
            "\u001b[2K   \u001b[90m━━━━━━━━━━━━━━━━━━━━━━━━━━━━━━━━━━━━━━━━\u001b[0m \u001b[32m616.0/616.0 kB\u001b[0m \u001b[31m77.9 MB/s\u001b[0m eta \u001b[36m0:00:00\u001b[0m\n",
            "\u001b[?25hDownloading marshmallow-3.20.1-py3-none-any.whl (49 kB)\n",
            "\u001b[2K   \u001b[90m━━━━━━━━━━━━━━━━━━━━━━━━━━━━━━━━━━━━━━━━\u001b[0m \u001b[32m49.4/49.4 kB\u001b[0m \u001b[31m14.0 MB/s\u001b[0m eta \u001b[36m0:00:00\u001b[0m\n",
            "\u001b[?25hDownloading packaging-23.2-py3-none-any.whl (53 kB)\n",
            "\u001b[2K   \u001b[90m━━━━━━━━━━━━━━━━━━━━━━━━━━━━━━━━━━━━━━━━\u001b[0m \u001b[32m53.0/53.0 kB\u001b[0m \u001b[31m18.7 MB/s\u001b[0m eta \u001b[36m0:00:00\u001b[0m\n",
            "\u001b[?25hDownloading typing_inspect-0.9.0-py3-none-any.whl (8.8 kB)\n",
            "Downloading yarl-1.9.4-cp310-cp310-manylinux_2_17_x86_64.manylinux2014_x86_64.whl (301 kB)\n",
            "\u001b[2K   \u001b[90m━━━━━━━━━━━━━━━━━━━━━━━━━━━━━━━━━━━━━━━━\u001b[0m \u001b[32m301.6/301.6 kB\u001b[0m \u001b[31m62.0 MB/s\u001b[0m eta \u001b[36m0:00:00\u001b[0m\n",
            "\u001b[?25hInstalling collected packages: tenacity, pydantic-core, packaging, mypy-extensions, multidict, jsonpatch, greenlet, frozenlist, async-timeout, annotated-types, yarl, typing-inspect, SQLAlchemy, pydantic, marshmallow, aiosignal, langsmith, dataclasses-json, aiohttp, langchain-core, langchain-community, langchain, langchain-experimental\n",
            "  Attempting uninstall: packaging\n",
            "    Found existing installation: packaging 23.1\n",
            "    Uninstalling packaging-23.1:\n",
            "      Successfully uninstalled packaging-23.1\n",
            "  Attempting uninstall: jsonpatch\n",
            "    Found existing installation: jsonpatch 1.32\n",
            "    Uninstalling jsonpatch-1.32:\n",
            "      Successfully uninstalled jsonpatch-1.32\n",
            "\u001b[2K   \u001b[90m━━━━━━━━━━━━━━━━━━━━━━━━━━━━━━━━━━━━━━━━\u001b[0m \u001b[32m1.3/1.3 MB\u001b[0m \u001b[31m88.0 MB/s\u001b[0m eta \u001b[36m0:00:00\u001b[0m\n",
            "\u001b[?25hDownloading websockets-12.0-cp310-cp310-manylinux_2_5_x86_64.manylinux1_x86_64.manylinux_2_17_x86_64.manylinux2014_x86_64.whl (130 kB)\n",
            "\u001b[2K   \u001b[90m━━━━━━━━━━━━━━━━━━━━━━━━━━━━━━━━━━━━━━━━\u001b[0m \u001b[32m130.2/130.2 kB\u001b[0m \u001b[31m36.3 MB/s\u001b[0m eta \u001b[36m0:00:00\u001b[0m\n",
            "\u001b[?25hDownloading flatbuffers-23.5.26-py2.py3-none-any.whl (26 kB)\n",
            "Downloading asgiref-3.7.2-py3-none-any.whl (24 kB)\n",
            "Downloading cachetools-5.3.2-py3-none-any.whl (9.3 kB)\n",
            "Downloading wrapt-1.16.0-cp310-cp310-manylinux_2_5_x86_64.manylinux1_x86_64.manylinux_2_17_x86_64.manylinux2014_x86_64.whl (80 kB)\n",
            "\u001b[2K   \u001b[90m━━━━━━━━━━━━━━━━━━━━━━━━━━━━━━━━━━━━━━━━\u001b[0m \u001b[32m80.3/80.3 kB\u001b[0m \u001b[31m23.2 MB/s\u001b[0m eta \u001b[36m0:00:00\u001b[0m\n",
            "\u001b[?25hDownloading zipp-3.17.0-py3-none-any.whl (7.4 kB)\n",
            "Downloading pyasn1-0.5.1-py2.py3-none-any.whl (84 kB)\n",
            "\u001b[2K   \u001b[90m━━━━━━━━━━━━━━━━━━━━━━━━━━━━━━━━━━━━━━━━\u001b[0m \u001b[32m84.9/84.9 kB\u001b[0m \u001b[31m28.5 MB/s\u001b[0m eta \u001b[36m0:00:00\u001b[0m\n",
            "\u001b[?25hBuilding wheels for collected packages: pypika\n",
            "  Building wheel for pypika (pyproject.toml) ... \u001b[?25ldone\n",
            "\u001b[?25h  Created wheel for pypika: filename=PyPika-0.48.9-py2.py3-none-any.whl size=53723 sha256=c2eae1b1bad97b23a5fffada8f6e61bd728dd9baac82532b62f86d25d53d28ad\n",
            "  Stored in directory: /root/.cache/pip/wheels/e1/26/51/d0bffb3d2fd82256676d7ad3003faea3bd6dddc9577af665f4\n",
            "Successfully built pypika\n",
            "Installing collected packages: pypika, monotonic, mmh3, flatbuffers, zipp, wrapt, websockets, uvloop, typing-extensions, python-dotenv, pyproject_hooks, pyasn1, pulsar-client, protobuf, opentelemetry-util-http, opentelemetry-semantic-conventions, oauthlib, importlib-resources, humanfriendly, httptools, h11, grpcio, chroma-hnswlib, cachetools, bcrypt, backoff, watchfiles, uvicorn, typer, starlette, rsa, requests-oauthlib, pyasn1-modules, posthog, opentelemetry-proto, importlib-metadata, googleapis-common-protos, deprecated, coloredlogs, build, asgiref, opentelemetry-exporter-otlp-proto-common, opentelemetry-api, onnxruntime, google-auth, opentelemetry-sdk, opentelemetry-instrumentation, kubernetes, fastapi, opentelemetry-instrumentation-asgi, opentelemetry-exporter-otlp-proto-grpc, opentelemetry-instrumentation-fastapi, chromadb\n",
            "  Attempting uninstall: typing-extensions\n",
            "    Found existing installation: typing_extensions 4.7.1\n",
            "    Uninstalling typing_extensions-4.7.1:\n",
            "      Successfully uninstalled typing_extensions-4.7.1\n",
            "Successfully installed asgiref-3.7.2 backoff-2.2.1 bcrypt-4.1.2 build-1.0.3 cachetools-5.3.2 chroma-hnswlib-0.7.3 chromadb-0.4.22 coloredlogs-15.0.1 deprecated-1.2.14 fastapi-0.108.0 flatbuffers-23.5.26 google-auth-2.26.1 googleapis-common-protos-1.62.0 grpcio-1.60.0 h11-0.14.0 httptools-0.6.1 humanfriendly-10.0 importlib-metadata-6.11.0 importlib-resources-6.1.1 kubernetes-28.1.0 mmh3-4.0.1 monotonic-1.6 oauthlib-3.2.2 onnxruntime-1.16.3 opentelemetry-api-1.22.0 opentelemetry-exporter-otlp-proto-common-1.22.0 opentelemetry-exporter-otlp-proto-grpc-1.22.0 opentelemetry-instrumentation-0.43b0 opentelemetry-instrumentation-asgi-0.43b0 opentelemetry-instrumentation-fastapi-0.43b0 opentelemetry-proto-1.22.0 opentelemetry-sdk-1.22.0 opentelemetry-semantic-conventions-0.43b0 opentelemetry-util-http-0.43b0 posthog-3.1.0 protobuf-4.25.1 pulsar-client-3.4.0 pyasn1-0.5.1 pyasn1-modules-0.3.0 pypika-0.48.9 pyproject_hooks-1.0.0 python-dotenv-1.0.0 requests-oauthlib-1.3.1 rsa-4.9 starlette-0.32.0.post1 typer-0.9.0 typing-extensions-4.9.0 uvicorn-0.25.0 uvloop-0.19.0 watchfiles-0.21.0 websockets-12.0 wrapt-1.16.0 zipp-3.17.0\n",
            "\u001b[33mWARNING: Running pip as the 'root' user can result in broken permissions and conflicting behaviour with the system package manager. It is recommended to use a virtual environment instead: https://pip.pypa.io/warnings/venv\u001b[0m\u001b[33m\n",
            "\u001b[0mRequirement already satisfied: transformers in /opt/conda/lib/python3.10/site-packages (4.36.2)\n",
            "Collecting optimum\n",
            "  Downloading optimum-1.16.1-py3-none-any.whl.metadata (17 kB)\n",
            "Requirement already satisfied: filelock in /opt/conda/lib/python3.10/site-packages (from transformers) (3.13.1)\n",
            "Requirement already satisfied: huggingface-hub<1.0,>=0.19.3 in /opt/conda/lib/python3.10/site-packages (from transformers) (0.20.2)\n",
            "Requirement already satisfied: numpy>=1.17 in /opt/conda/lib/python3.10/site-packages (from transformers) (1.26.2)\n",
            "Requirement already satisfied: packaging>=20.0 in /opt/conda/lib/python3.10/site-packages (from transformers) (23.2)\n",
            "Requirement already satisfied: pyyaml>=5.1 in /opt/conda/lib/python3.10/site-packages (from transformers) (6.0.1)\n",
            "Requirement already satisfied: regex!=2019.12.17 in /opt/conda/lib/python3.10/site-packages (from transformers) (2023.12.25)\n",
            "Requirement already satisfied: requests in /opt/conda/lib/python3.10/site-packages (from transformers) (2.31.0)\n",
            "Requirement already satisfied: tokenizers<0.19,>=0.14 in /opt/conda/lib/python3.10/site-packages (from transformers) (0.15.0)\n",
            "Requirement already satisfied: safetensors>=0.3.1 in /opt/conda/lib/python3.10/site-packages (from transformers) (0.4.1)\n",
            "Requirement already satisfied: tqdm>=4.27 in /opt/conda/lib/python3.10/site-packages (from transformers) (4.65.0)\n",
            "Requirement already satisfied: coloredlogs in /opt/conda/lib/python3.10/site-packages (from optimum) (15.0.1)\n",
            "Requirement already satisfied: sympy in /opt/conda/lib/python3.10/site-packages (from optimum) (1.12)\n",
            "Requirement already satisfied: torch>=1.9 in /opt/conda/lib/python3.10/site-packages (from optimum) (2.1.2)\n",
            "Collecting datasets (from optimum)\n",
            "  Downloading datasets-2.16.1-py3-none-any.whl.metadata (20 kB)\n",
            "Requirement already satisfied: fsspec>=2023.5.0 in /opt/conda/lib/python3.10/site-packages (from huggingface-hub<1.0,>=0.19.3->transformers) (2023.12.2)\n",
            "Requirement already satisfied: typing-extensions>=3.7.4.3 in /opt/conda/lib/python3.10/site-packages (from huggingface-hub<1.0,>=0.19.3->transformers) (4.9.0)\n",
            "Requirement already satisfied: networkx in /opt/conda/lib/python3.10/site-packages (from torch>=1.9->optimum) (3.1)\n",
            "Requirement already satisfied: jinja2 in /opt/conda/lib/python3.10/site-packages (from torch>=1.9->optimum) (3.1.2)\n",
            "Requirement already satisfied: sentencepiece!=0.1.92,>=0.1.91 in /opt/conda/lib/python3.10/site-packages (from transformers[sentencepiece]>=4.26.0->optimum) (0.1.99)\n",
            "Requirement already satisfied: protobuf in /opt/conda/lib/python3.10/site-packages (from transformers[sentencepiece]>=4.26.0->optimum) (4.25.1)\n",
            "Requirement already satisfied: humanfriendly>=9.1 in /opt/conda/lib/python3.10/site-packages (from coloredlogs->optimum) (10.0)\n",
            "Collecting pyarrow>=8.0.0 (from datasets->optimum)\n",
            "  Downloading pyarrow-14.0.2-cp310-cp310-manylinux_2_28_x86_64.whl.metadata (3.0 kB)\n",
            "Collecting pyarrow-hotfix (from datasets->optimum)\n",
            "  Downloading pyarrow_hotfix-0.6-py3-none-any.whl.metadata (3.6 kB)\n",
            "Collecting dill<0.3.8,>=0.3.0 (from datasets->optimum)\n",
            "  Downloading dill-0.3.7-py3-none-any.whl.metadata (9.9 kB)\n",
            "Collecting pandas (from datasets->optimum)\n",
            "  Downloading pandas-2.1.4-cp310-cp310-manylinux_2_17_x86_64.manylinux2014_x86_64.whl.metadata (18 kB)\n",
            "Collecting xxhash (from datasets->optimum)\n",
            "  Downloading xxhash-3.4.1-cp310-cp310-manylinux_2_17_x86_64.manylinux2014_x86_64.whl.metadata (12 kB)\n",
            "Collecting multiprocess (from datasets->optimum)\n",
            "  Downloading multiprocess-0.70.15-py310-none-any.whl.metadata (7.2 kB)\n",
            "Collecting fsspec>=2023.5.0 (from huggingface-hub<1.0,>=0.19.3->transformers)\n",
            "  Downloading fsspec-2023.10.0-py3-none-any.whl.metadata (6.8 kB)\n",
            "Requirement already satisfied: aiohttp in /opt/conda/lib/python3.10/site-packages (from datasets->optimum) (3.9.1)\n",
            "Requirement already satisfied: charset-normalizer<4,>=2 in /opt/conda/lib/python3.10/site-packages (from requests->transformers) (2.0.4)\n",
            "Requirement already satisfied: idna<4,>=2.5 in /opt/conda/lib/python3.10/site-packages (from requests->transformers) (3.4)\n",
            "Requirement already satisfied: urllib3<3,>=1.21.1 in /opt/conda/lib/python3.10/site-packages (from requests->transformers) (1.26.18)\n",
            "Requirement already satisfied: certifi>=2017.4.17 in /opt/conda/lib/python3.10/site-packages (from requests->transformers) (2023.11.17)\n",
            "Requirement already satisfied: mpmath>=0.19 in /opt/conda/lib/python3.10/site-packages (from sympy->optimum) (1.3.0)\n",
            "Requirement already satisfied: attrs>=17.3.0 in /opt/conda/lib/python3.10/site-packages (from aiohttp->datasets->optimum) (23.1.0)\n",
            "Requirement already satisfied: multidict<7.0,>=4.5 in /opt/conda/lib/python3.10/site-packages (from aiohttp->datasets->optimum) (6.0.4)\n",
            "Requirement already satisfied: yarl<2.0,>=1.0 in /opt/conda/lib/python3.10/site-packages (from aiohttp->datasets->optimum) (1.9.4)\n",
            "Requirement already satisfied: frozenlist>=1.1.1 in /opt/conda/lib/python3.10/site-packages (from aiohttp->datasets->optimum) (1.4.1)\n",
            "Requirement already satisfied: aiosignal>=1.1.2 in /opt/conda/lib/python3.10/site-packages (from aiohttp->datasets->optimum) (1.3.1)\n",
            "Requirement already satisfied: async-timeout<5.0,>=4.0 in /opt/conda/lib/python3.10/site-packages (from aiohttp->datasets->optimum) (4.0.3)\n",
            "Requirement already satisfied: MarkupSafe>=2.0 in /opt/conda/lib/python3.10/site-packages (from jinja2->torch>=1.9->optimum) (2.1.1)\n",
            "Requirement already satisfied: python-dateutil>=2.8.2 in /opt/conda/lib/python3.10/site-packages (from pandas->datasets->optimum) (2.8.2)\n",
            "Requirement already satisfied: pytz>=2020.1 in /opt/conda/lib/python3.10/site-packages (from pandas->datasets->optimum) (2023.3.post1)\n",
            "Collecting tzdata>=2022.1 (from pandas->datasets->optimum)\n",
            "  Downloading tzdata-2023.4-py2.py3-none-any.whl.metadata (1.4 kB)\n",
            "Requirement already satisfied: six>=1.5 in /opt/conda/lib/python3.10/site-packages (from python-dateutil>=2.8.2->pandas->datasets->optimum) (1.16.0)\n",
            "Downloading optimum-1.16.1-py3-none-any.whl (403 kB)\n",
            "\u001b[2K   \u001b[90m━━━━━━━━━━━━━━━━━━━━━━━━━━━━━━━━━━━━━━━━\u001b[0m \u001b[32m403.3/403.3 kB\u001b[0m \u001b[31m31.3 MB/s\u001b[0m eta \u001b[36m0:00:00\u001b[0m\n",
            "\u001b[?25hDownloading datasets-2.16.1-py3-none-any.whl (507 kB)\n",
            "\u001b[2K   \u001b[90m━━━━━━━━━━━━━━━━━━━━━━━━━━━━━━━━━━━━━━━━\u001b[0m \u001b[32m507.1/507.1 kB\u001b[0m \u001b[31m66.3 MB/s\u001b[0m eta \u001b[36m0:00:00\u001b[0m\n",
            "\u001b[?25hDownloading dill-0.3.7-py3-none-any.whl (115 kB)\n",
            "\u001b[2K   \u001b[90m━━━━━━━━━━━━━━━━━━━━━━━━━━━━━━━━━━━━━━━━\u001b[0m \u001b[32m115.3/115.3 kB\u001b[0m \u001b[31m37.7 MB/s\u001b[0m eta \u001b[36m0:00:00\u001b[0m\n",
            "\u001b[?25hDownloading fsspec-2023.10.0-py3-none-any.whl (166 kB)\n",
            "\u001b[2K   \u001b[90m━━━━━━━━━━━━━━━━━━━━━━━━━━━━━━━━━━━━━━━━\u001b[0m \u001b[32m166.4/166.4 kB\u001b[0m \u001b[31m40.9 MB/s\u001b[0m eta \u001b[36m0:00:00\u001b[0m\n",
            "\u001b[?25hDownloading pyarrow-14.0.2-cp310-cp310-manylinux_2_28_x86_64.whl (38.0 MB)\n",
            "\u001b[2K   \u001b[90m━━━━━━━━━━━━━━━━━━━━━━━━━━━━━━━━━━━━━━━━\u001b[0m \u001b[32m38.0/38.0 MB\u001b[0m \u001b[31m48.2 MB/s\u001b[0m eta \u001b[36m0:00:00\u001b[0m00:01\u001b[0m00:01\u001b[0mm\n",
            "\u001b[?25hDownloading multiprocess-0.70.15-py310-none-any.whl (134 kB)\n",
            "\u001b[2K   \u001b[90m━━━━━━━━━━━━━━━━━━━━━━━━━━━━━━━━━━━━━━━━\u001b[0m \u001b[32m134.8/134.8 kB\u001b[0m \u001b[31m35.0 MB/s\u001b[0m eta \u001b[36m0:00:00\u001b[0m\n",
            "\u001b[?25hDownloading pandas-2.1.4-cp310-cp310-manylinux_2_17_x86_64.manylinux2014_x86_64.whl (12.3 MB)\n",
            "\u001b[2K   \u001b[90m━━━━━━━━━━━━━━━━━━━━━━━━━━━━━━━━━━━━━━━━\u001b[0m \u001b[32m12.3/12.3 MB\u001b[0m \u001b[31m85.1 MB/s\u001b[0m eta \u001b[36m0:00:00\u001b[0m:00:01\u001b[0m0:01\u001b[0m\n",
            "\u001b[?25hDownloading pyarrow_hotfix-0.6-py3-none-any.whl (7.9 kB)\n",
            "Downloading xxhash-3.4.1-cp310-cp310-manylinux_2_17_x86_64.manylinux2014_x86_64.whl (194 kB)\n",
            "\u001b[2K   \u001b[90m━━━━━━━━━━━━━━━━━━━━━━━━━━━━━━━━━━━━━━━━\u001b[0m \u001b[32m194.1/194.1 kB\u001b[0m \u001b[31m48.3 MB/s\u001b[0m eta \u001b[36m0:00:00\u001b[0m\n",
            "\u001b[?25hDownloading tzdata-2023.4-py2.py3-none-any.whl (346 kB)\n",
            "\u001b[2K   \u001b[90m━━━━━━━━━━━━━━━━━━━━━━━━━━━━━━━━━━━━━━━━\u001b[0m \u001b[32m346.6/346.6 kB\u001b[0m \u001b[31m69.9 MB/s\u001b[0m eta \u001b[36m0:00:00\u001b[0m\n",
            "\u001b[?25hInstalling collected packages: xxhash, tzdata, pyarrow-hotfix, pyarrow, fsspec, dill, pandas, multiprocess, datasets, optimum\n",
            "  Attempting uninstall: fsspec\n",
            "    Found existing installation: fsspec 2023.12.2\n",
            "    Uninstalling fsspec-2023.12.2:\n",
            "      Successfully uninstalled fsspec-2023.12.2\n",
            "Successfully installed datasets-2.16.1 dill-0.3.7 fsspec-2023.10.0 multiprocess-0.70.15 optimum-1.16.1 pandas-2.1.4 pyarrow-14.0.2 pyarrow-hotfix-0.6 tzdata-2023.4 xxhash-3.4.1\n",
            "\u001b[33mWARNING: Running pip as the 'root' user can result in broken permissions and conflicting behaviour with the system package manager. It is recommended to use a virtual environment instead: https://pip.pypa.io/warnings/venv\u001b[0m\u001b[33m\n",
            "\u001b[0mLooking in indexes: https://pypi.org/simple, https://huggingface.github.io/autogptq-index/whl/cu122/\n",
            "Collecting auto-gptq\n",
            "  Downloading auto_gptq-0.6.0-cp310-cp310-manylinux_2_17_x86_64.manylinux2014_x86_64.whl.metadata (20 kB)\n",
            "Collecting accelerate>=0.22.0 (from auto-gptq)\n",
            "  Downloading accelerate-0.25.0-py3-none-any.whl.metadata (18 kB)\n",
            "Requirement already satisfied: datasets in /opt/conda/lib/python3.10/site-packages (from auto-gptq) (2.16.1)\n",
            "Requirement already satisfied: sentencepiece in /opt/conda/lib/python3.10/site-packages (from auto-gptq) (0.1.99)\n",
            "Requirement already satisfied: numpy in /opt/conda/lib/python3.10/site-packages (from auto-gptq) (1.26.2)\n",
            "Collecting rouge (from auto-gptq)\n",
            "  Downloading rouge-1.0.1-py3-none-any.whl (13 kB)\n",
            "Collecting gekko (from auto-gptq)\n",
            "  Downloading gekko-1.0.6-py3-none-any.whl (12.2 MB)\n",
            "\u001b[2K     \u001b[90m━━━━━━━━━━━━━━━━━━━━━━━━━━━━━━━━━━━━━━━━\u001b[0m \u001b[32m12.2/12.2 MB\u001b[0m \u001b[31m77.9 MB/s\u001b[0m eta \u001b[36m0:00:00\u001b[0m00:01\u001b[0m00:01\u001b[0m\n",
            "\u001b[?25hRequirement already satisfied: torch>=1.13.0 in /opt/conda/lib/python3.10/site-packages (from auto-gptq) (2.1.2)\n",
            "Requirement already satisfied: safetensors in /opt/conda/lib/python3.10/site-packages (from auto-gptq) (0.4.1)\n",
            "Requirement already satisfied: transformers>=4.31.0 in /opt/conda/lib/python3.10/site-packages (from auto-gptq) (4.36.2)\n",
            "Collecting peft>=0.5.0 (from auto-gptq)\n",
            "  Downloading peft-0.7.1-py3-none-any.whl.metadata (25 kB)\n",
            "Requirement already satisfied: tqdm in /opt/conda/lib/python3.10/site-packages (from auto-gptq) (4.65.0)\n",
            "Requirement already satisfied: packaging>=20.0 in /opt/conda/lib/python3.10/site-packages (from accelerate>=0.22.0->auto-gptq) (23.2)\n",
            "Requirement already satisfied: psutil in /opt/conda/lib/python3.10/site-packages (from accelerate>=0.22.0->auto-gptq) (5.9.0)\n",
            "Requirement already satisfied: pyyaml in /opt/conda/lib/python3.10/site-packages (from accelerate>=0.22.0->auto-gptq) (6.0.1)\n",
            "Requirement already satisfied: huggingface-hub in /opt/conda/lib/python3.10/site-packages (from accelerate>=0.22.0->auto-gptq) (0.20.2)\n",
            "Requirement already satisfied: filelock in /opt/conda/lib/python3.10/site-packages (from torch>=1.13.0->auto-gptq) (3.13.1)\n",
            "Requirement already satisfied: typing-extensions in /opt/conda/lib/python3.10/site-packages (from torch>=1.13.0->auto-gptq) (4.9.0)\n",
            "Requirement already satisfied: sympy in /opt/conda/lib/python3.10/site-packages (from torch>=1.13.0->auto-gptq) (1.12)\n",
            "Requirement already satisfied: networkx in /opt/conda/lib/python3.10/site-packages (from torch>=1.13.0->auto-gptq) (3.1)\n",
            "Requirement already satisfied: jinja2 in /opt/conda/lib/python3.10/site-packages (from torch>=1.13.0->auto-gptq) (3.1.2)\n",
            "Requirement already satisfied: fsspec in /opt/conda/lib/python3.10/site-packages (from torch>=1.13.0->auto-gptq) (2023.10.0)\n",
            "Requirement already satisfied: regex!=2019.12.17 in /opt/conda/lib/python3.10/site-packages (from transformers>=4.31.0->auto-gptq) (2023.12.25)\n",
            "Requirement already satisfied: requests in /opt/conda/lib/python3.10/site-packages (from transformers>=4.31.0->auto-gptq) (2.31.0)\n",
            "Requirement already satisfied: tokenizers<0.19,>=0.14 in /opt/conda/lib/python3.10/site-packages (from transformers>=4.31.0->auto-gptq) (0.15.0)\n",
            "Requirement already satisfied: pyarrow>=8.0.0 in /opt/conda/lib/python3.10/site-packages (from datasets->auto-gptq) (14.0.2)\n",
            "Requirement already satisfied: pyarrow-hotfix in /opt/conda/lib/python3.10/site-packages (from datasets->auto-gptq) (0.6)\n",
            "Requirement already satisfied: dill<0.3.8,>=0.3.0 in /opt/conda/lib/python3.10/site-packages (from datasets->auto-gptq) (0.3.7)\n",
            "Requirement already satisfied: pandas in /opt/conda/lib/python3.10/site-packages (from datasets->auto-gptq) (2.1.4)\n",
            "Requirement already satisfied: xxhash in /opt/conda/lib/python3.10/site-packages (from datasets->auto-gptq) (3.4.1)\n",
            "Requirement already satisfied: multiprocess in /opt/conda/lib/python3.10/site-packages (from datasets->auto-gptq) (0.70.15)\n",
            "Requirement already satisfied: aiohttp in /opt/conda/lib/python3.10/site-packages (from datasets->auto-gptq) (3.9.1)\n",
            "Requirement already satisfied: six in /opt/conda/lib/python3.10/site-packages (from rouge->auto-gptq) (1.16.0)\n",
            "Requirement already satisfied: attrs>=17.3.0 in /opt/conda/lib/python3.10/site-packages (from aiohttp->datasets->auto-gptq) (23.1.0)\n",
            "Requirement already satisfied: multidict<7.0,>=4.5 in /opt/conda/lib/python3.10/site-packages (from aiohttp->datasets->auto-gptq) (6.0.4)\n",
            "Requirement already satisfied: yarl<2.0,>=1.0 in /opt/conda/lib/python3.10/site-packages (from aiohttp->datasets->auto-gptq) (1.9.4)\n",
            "Requirement already satisfied: frozenlist>=1.1.1 in /opt/conda/lib/python3.10/site-packages (from aiohttp->datasets->auto-gptq) (1.4.1)\n",
            "Requirement already satisfied: aiosignal>=1.1.2 in /opt/conda/lib/python3.10/site-packages (from aiohttp->datasets->auto-gptq) (1.3.1)\n",
            "Requirement already satisfied: async-timeout<5.0,>=4.0 in /opt/conda/lib/python3.10/site-packages (from aiohttp->datasets->auto-gptq) (4.0.3)\n",
            "Requirement already satisfied: charset-normalizer<4,>=2 in /opt/conda/lib/python3.10/site-packages (from requests->transformers>=4.31.0->auto-gptq) (2.0.4)\n",
            "Requirement already satisfied: idna<4,>=2.5 in /opt/conda/lib/python3.10/site-packages (from requests->transformers>=4.31.0->auto-gptq) (3.4)\n",
            "Requirement already satisfied: urllib3<3,>=1.21.1 in /opt/conda/lib/python3.10/site-packages (from requests->transformers>=4.31.0->auto-gptq) (1.26.18)\n",
            "Requirement already satisfied: certifi>=2017.4.17 in /opt/conda/lib/python3.10/site-packages (from requests->transformers>=4.31.0->auto-gptq) (2023.11.17)\n",
            "Requirement already satisfied: MarkupSafe>=2.0 in /opt/conda/lib/python3.10/site-packages (from jinja2->torch>=1.13.0->auto-gptq) (2.1.1)\n",
            "Requirement already satisfied: python-dateutil>=2.8.2 in /opt/conda/lib/python3.10/site-packages (from pandas->datasets->auto-gptq) (2.8.2)\n",
            "Requirement already satisfied: pytz>=2020.1 in /opt/conda/lib/python3.10/site-packages (from pandas->datasets->auto-gptq) (2023.3.post1)\n",
            "Requirement already satisfied: tzdata>=2022.1 in /opt/conda/lib/python3.10/site-packages (from pandas->datasets->auto-gptq) (2023.4)\n",
            "Requirement already satisfied: mpmath>=0.19 in /opt/conda/lib/python3.10/site-packages (from sympy->torch>=1.13.0->auto-gptq) (1.3.0)\n",
            "Downloading auto_gptq-0.6.0-cp310-cp310-manylinux_2_17_x86_64.manylinux2014_x86_64.whl (4.8 MB)\n",
            "\u001b[2K   \u001b[90m━━━━━━━━━━━━━━━━━━━━━━━━━━━━━━━━━━━━━━━━\u001b[0m \u001b[32m4.8/4.8 MB\u001b[0m \u001b[31m67.8 MB/s\u001b[0m eta \u001b[36m0:00:00\u001b[0ma \u001b[36m0:00:01\u001b[0m\n",
            "\u001b[?25hDownloading accelerate-0.25.0-py3-none-any.whl (265 kB)\n",
            "\u001b[2K   \u001b[90m━━━━━━━━━━━━━━━━━━━━━━━━━━━━━━━━━━━━━━━━\u001b[0m \u001b[32m265.7/265.7 kB\u001b[0m \u001b[31m55.1 MB/s\u001b[0m eta \u001b[36m0:00:00\u001b[0m\n",
            "\u001b[?25hDownloading peft-0.7.1-py3-none-any.whl (168 kB)\n",
            "\u001b[2K   \u001b[90m━━━━━━━━━━━━━━━━━━━━━━━━━━━━━━━━━━━━━━━━\u001b[0m \u001b[32m168.3/168.3 kB\u001b[0m \u001b[31m43.0 MB/s\u001b[0m eta \u001b[36m0:00:00\u001b[0m\n",
            "\u001b[?25hInstalling collected packages: rouge, gekko, accelerate, peft, auto-gptq\n",
            "Successfully installed accelerate-0.25.0 auto-gptq-0.6.0 gekko-1.0.6 peft-0.7.1 rouge-1.0.1\n",
            "\u001b[33mWARNING: Running pip as the 'root' user can result in broken permissions and conflicting behaviour with the system package manager. It is recommended to use a virtual environment instead: https://pip.pypa.io/warnings/venv\u001b[0m\u001b[33m\n",
            "\u001b[0mCollecting gradio\n",
            "  Downloading gradio-4.13.0-py3-none-any.whl.metadata (15 kB)\n",
            "Collecting aiofiles<24.0,>=22.0 (from gradio)\n",
            "  Downloading aiofiles-23.2.1-py3-none-any.whl.metadata (9.7 kB)\n",
            "Collecting altair<6.0,>=4.2.0 (from gradio)\n",
            "  Downloading altair-5.2.0-py3-none-any.whl.metadata (8.7 kB)\n",
            "Requirement already satisfied: fastapi in /opt/conda/lib/python3.10/site-packages (from gradio) (0.108.0)\n",
            "Collecting ffmpy (from gradio)\n",
            "  Downloading ffmpy-0.3.1.tar.gz (5.5 kB)\n",
            "  Preparing metadata (setup.py) ... \u001b[?25ldone\n",
            "\u001b[?25hCollecting gradio-client==0.8.0 (from gradio)\n",
            "  Downloading gradio_client-0.8.0-py3-none-any.whl.metadata (7.1 kB)\n",
            "Collecting httpx (from gradio)\n",
            "  Downloading httpx-0.26.0-py3-none-any.whl.metadata (7.6 kB)\n",
            "Requirement already satisfied: huggingface-hub>=0.19.3 in /opt/conda/lib/python3.10/site-packages (from gradio) (0.20.2)\n",
            "Requirement already satisfied: importlib-resources<7.0,>=1.3 in /opt/conda/lib/python3.10/site-packages (from gradio) (6.1.1)\n",
            "Requirement already satisfied: jinja2<4.0 in /opt/conda/lib/python3.10/site-packages (from gradio) (3.1.2)\n",
            "Requirement already satisfied: markupsafe~=2.0 in /opt/conda/lib/python3.10/site-packages (from gradio) (2.1.1)\n",
            "Collecting matplotlib~=3.0 (from gradio)\n",
            "  Downloading matplotlib-3.8.2-cp310-cp310-manylinux_2_17_x86_64.manylinux2014_x86_64.whl.metadata (5.8 kB)\n",
            "Requirement already satisfied: numpy~=1.0 in /opt/conda/lib/python3.10/site-packages (from gradio) (1.26.2)\n",
            "Collecting orjson~=3.0 (from gradio)\n",
            "  Downloading orjson-3.9.10-cp310-cp310-manylinux_2_17_x86_64.manylinux2014_x86_64.whl.metadata (49 kB)\n",
            "\u001b[2K     \u001b[90m━━━━━━━━━━━━━━━━━━━━━━━━━━━━━━━━━━━━━━━━\u001b[0m \u001b[32m49.3/49.3 kB\u001b[0m \u001b[31m9.2 MB/s\u001b[0m eta \u001b[36m0:00:00\u001b[0m\n",
            "\u001b[?25hRequirement already satisfied: packaging in /opt/conda/lib/python3.10/site-packages (from gradio) (23.2)\n",
            "Requirement already satisfied: pandas<3.0,>=1.0 in /opt/conda/lib/python3.10/site-packages (from gradio) (2.1.4)\n",
            "Requirement already satisfied: pillow<11.0,>=8.0 in /opt/conda/lib/python3.10/site-packages (from gradio) (10.0.1)\n",
            "Requirement already satisfied: pydantic>=2.0 in /opt/conda/lib/python3.10/site-packages (from gradio) (2.5.3)\n",
            "Collecting pydub (from gradio)\n",
            "  Downloading pydub-0.25.1-py2.py3-none-any.whl (32 kB)\n",
            "Collecting python-multipart (from gradio)\n",
            "  Downloading python_multipart-0.0.6-py3-none-any.whl (45 kB)\n",
            "\u001b[2K     \u001b[90m━━━━━━━━━━━━━━━━━━━━━━━━━━━━━━━━━━━━━━━━\u001b[0m \u001b[32m45.7/45.7 kB\u001b[0m \u001b[31m16.5 MB/s\u001b[0m eta \u001b[36m0:00:00\u001b[0m\n",
            "\u001b[?25hRequirement already satisfied: pyyaml<7.0,>=5.0 in /opt/conda/lib/python3.10/site-packages (from gradio) (6.0.1)\n",
            "Collecting semantic-version~=2.0 (from gradio)\n",
            "  Downloading semantic_version-2.10.0-py2.py3-none-any.whl (15 kB)\n",
            "Collecting tomlkit==0.12.0 (from gradio)\n",
            "  Downloading tomlkit-0.12.0-py3-none-any.whl.metadata (2.7 kB)\n",
            "Requirement already satisfied: typer<1.0,>=0.9 in /opt/conda/lib/python3.10/site-packages (from typer[all]<1.0,>=0.9->gradio) (0.9.0)\n",
            "Requirement already satisfied: typing-extensions~=4.0 in /opt/conda/lib/python3.10/site-packages (from gradio) (4.9.0)\n",
            "Requirement already satisfied: uvicorn>=0.14.0 in /opt/conda/lib/python3.10/site-packages (from gradio) (0.25.0)\n",
            "Requirement already satisfied: fsspec in /opt/conda/lib/python3.10/site-packages (from gradio-client==0.8.0->gradio) (2023.10.0)\n",
            "Collecting websockets<12.0,>=10.0 (from gradio-client==0.8.0->gradio)\n",
            "  Downloading websockets-11.0.3-cp310-cp310-manylinux_2_5_x86_64.manylinux1_x86_64.manylinux_2_17_x86_64.manylinux2014_x86_64.whl (129 kB)\n",
            "\u001b[2K     \u001b[90m━━━━━━━━━━━━━━━━━━━━━━━━━━━━━━━━━━━━━━\u001b[0m \u001b[32m129.9/129.9 kB\u001b[0m \u001b[31m34.5 MB/s\u001b[0m eta \u001b[36m0:00:00\u001b[0m\n",
            "\u001b[?25hRequirement already satisfied: jsonschema>=3.0 in /opt/conda/lib/python3.10/site-packages (from altair<6.0,>=4.2.0->gradio) (4.19.2)\n",
            "Requirement already satisfied: toolz in /opt/conda/lib/python3.10/site-packages (from altair<6.0,>=4.2.0->gradio) (0.12.0)\n",
            "Requirement already satisfied: filelock in /opt/conda/lib/python3.10/site-packages (from huggingface-hub>=0.19.3->gradio) (3.13.1)\n",
            "Requirement already satisfied: requests in /opt/conda/lib/python3.10/site-packages (from huggingface-hub>=0.19.3->gradio) (2.31.0)\n",
            "Requirement already satisfied: tqdm>=4.42.1 in /opt/conda/lib/python3.10/site-packages (from huggingface-hub>=0.19.3->gradio) (4.65.0)\n",
            "Collecting contourpy>=1.0.1 (from matplotlib~=3.0->gradio)\n",
            "  Downloading contourpy-1.2.0-cp310-cp310-manylinux_2_17_x86_64.manylinux2014_x86_64.whl.metadata (5.8 kB)\n",
            "Collecting cycler>=0.10 (from matplotlib~=3.0->gradio)\n",
            "  Downloading cycler-0.12.1-py3-none-any.whl.metadata (3.8 kB)\n",
            "Collecting fonttools>=4.22.0 (from matplotlib~=3.0->gradio)\n",
            "  Downloading fonttools-4.47.0-cp310-cp310-manylinux_2_17_x86_64.manylinux2014_x86_64.whl.metadata (157 kB)\n",
            "\u001b[2K     \u001b[90m━━━━━━━━━━━━━━━━━━━━━━━━━━━━━━━━━━━━━━\u001b[0m \u001b[32m157.2/157.2 kB\u001b[0m \u001b[31m44.3 MB/s\u001b[0m eta \u001b[36m0:00:00\u001b[0m\n",
            "\u001b[?25hCollecting kiwisolver>=1.3.1 (from matplotlib~=3.0->gradio)\n",
            "  Downloading kiwisolver-1.4.5-cp310-cp310-manylinux_2_12_x86_64.manylinux2010_x86_64.whl.metadata (6.4 kB)\n",
            "Collecting pyparsing>=2.3.1 (from matplotlib~=3.0->gradio)\n",
            "  Downloading pyparsing-3.1.1-py3-none-any.whl.metadata (5.1 kB)\n",
            "Requirement already satisfied: python-dateutil>=2.7 in /opt/conda/lib/python3.10/site-packages (from matplotlib~=3.0->gradio) (2.8.2)\n",
            "Requirement already satisfied: pytz>=2020.1 in /opt/conda/lib/python3.10/site-packages (from pandas<3.0,>=1.0->gradio) (2023.3.post1)\n",
            "Requirement already satisfied: tzdata>=2022.1 in /opt/conda/lib/python3.10/site-packages (from pandas<3.0,>=1.0->gradio) (2023.4)\n",
            "Requirement already satisfied: annotated-types>=0.4.0 in /opt/conda/lib/python3.10/site-packages (from pydantic>=2.0->gradio) (0.6.0)\n",
            "Requirement already satisfied: pydantic-core==2.14.6 in /opt/conda/lib/python3.10/site-packages (from pydantic>=2.0->gradio) (2.14.6)\n",
            "Requirement already satisfied: click<9.0.0,>=7.1.1 in /opt/conda/lib/python3.10/site-packages (from typer<1.0,>=0.9->typer[all]<1.0,>=0.9->gradio) (8.1.7)\n",
            "Collecting colorama<0.5.0,>=0.4.3 (from typer[all]<1.0,>=0.9->gradio)\n",
            "  Downloading colorama-0.4.6-py2.py3-none-any.whl (25 kB)\n",
            "Collecting shellingham<2.0.0,>=1.3.0 (from typer[all]<1.0,>=0.9->gradio)\n",
            "  Downloading shellingham-1.5.4-py2.py3-none-any.whl.metadata (3.5 kB)\n",
            "Collecting rich<14.0.0,>=10.11.0 (from typer[all]<1.0,>=0.9->gradio)\n",
            "  Downloading rich-13.7.0-py3-none-any.whl.metadata (18 kB)\n",
            "Requirement already satisfied: h11>=0.8 in /opt/conda/lib/python3.10/site-packages (from uvicorn>=0.14.0->gradio) (0.14.0)\n",
            "Requirement already satisfied: starlette<0.33.0,>=0.29.0 in /opt/conda/lib/python3.10/site-packages (from fastapi->gradio) (0.32.0.post1)\n",
            "Requirement already satisfied: anyio in /opt/conda/lib/python3.10/site-packages (from httpx->gradio) (4.1.0)\n",
            "Requirement already satisfied: certifi in /opt/conda/lib/python3.10/site-packages (from httpx->gradio) (2023.11.17)\n",
            "Collecting httpcore==1.* (from httpx->gradio)\n",
            "  Downloading httpcore-1.0.2-py3-none-any.whl.metadata (20 kB)\n",
            "Requirement already satisfied: idna in /opt/conda/lib/python3.10/site-packages (from httpx->gradio) (3.4)\n",
            "Requirement already satisfied: sniffio in /opt/conda/lib/python3.10/site-packages (from httpx->gradio) (1.3.0)\n",
            "Requirement already satisfied: attrs>=22.2.0 in /opt/conda/lib/python3.10/site-packages (from jsonschema>=3.0->altair<6.0,>=4.2.0->gradio) (23.1.0)\n",
            "Requirement already satisfied: jsonschema-specifications>=2023.03.6 in /opt/conda/lib/python3.10/site-packages (from jsonschema>=3.0->altair<6.0,>=4.2.0->gradio) (2023.7.1)\n",
            "Requirement already satisfied: referencing>=0.28.4 in /opt/conda/lib/python3.10/site-packages (from jsonschema>=3.0->altair<6.0,>=4.2.0->gradio) (0.30.2)\n",
            "Requirement already satisfied: rpds-py>=0.7.1 in /opt/conda/lib/python3.10/site-packages (from jsonschema>=3.0->altair<6.0,>=4.2.0->gradio) (0.10.6)\n",
            "Requirement already satisfied: six>=1.5 in /opt/conda/lib/python3.10/site-packages (from python-dateutil>=2.7->matplotlib~=3.0->gradio) (1.16.0)\n",
            "Collecting markdown-it-py>=2.2.0 (from rich<14.0.0,>=10.11.0->typer[all]<1.0,>=0.9->gradio)\n",
            "  Downloading markdown_it_py-3.0.0-py3-none-any.whl.metadata (6.9 kB)\n",
            "Requirement already satisfied: pygments<3.0.0,>=2.13.0 in /opt/conda/lib/python3.10/site-packages (from rich<14.0.0,>=10.11.0->typer[all]<1.0,>=0.9->gradio) (2.15.1)\n",
            "Requirement already satisfied: exceptiongroup>=1.0.2 in /opt/conda/lib/python3.10/site-packages (from anyio->httpx->gradio) (1.0.4)\n",
            "Requirement already satisfied: charset-normalizer<4,>=2 in /opt/conda/lib/python3.10/site-packages (from requests->huggingface-hub>=0.19.3->gradio) (2.0.4)\n",
            "Requirement already satisfied: urllib3<3,>=1.21.1 in /opt/conda/lib/python3.10/site-packages (from requests->huggingface-hub>=0.19.3->gradio) (1.26.18)\n",
            "Collecting mdurl~=0.1 (from markdown-it-py>=2.2.0->rich<14.0.0,>=10.11.0->typer[all]<1.0,>=0.9->gradio)\n",
            "  Downloading mdurl-0.1.2-py3-none-any.whl (10.0 kB)\n",
            "Downloading gradio-4.13.0-py3-none-any.whl (16.6 MB)\n",
            "\u001b[2K   \u001b[90m━━━━━━━━━━━━━━━━━━━━━━━━━━━━━━━━━━━━━━━━\u001b[0m \u001b[32m16.6/16.6 MB\u001b[0m \u001b[31m73.9 MB/s\u001b[0m eta \u001b[36m0:00:00\u001b[0m:00:01\u001b[0m00:01\u001b[0m\n",
            "\u001b[?25hDownloading gradio_client-0.8.0-py3-none-any.whl (305 kB)\n",
            "\u001b[2K   \u001b[90m━━━━━━━━━━━━━━━━━━━━━━━━━━━━━━━━━━━━━━━━\u001b[0m \u001b[32m305.1/305.1 kB\u001b[0m \u001b[31m58.8 MB/s\u001b[0m eta \u001b[36m0:00:00\u001b[0m\n",
            "\u001b[?25hDownloading tomlkit-0.12.0-py3-none-any.whl (37 kB)\n",
            "Downloading aiofiles-23.2.1-py3-none-any.whl (15 kB)\n",
            "Downloading altair-5.2.0-py3-none-any.whl (996 kB)\n",
            "\u001b[2K   \u001b[90m━━━━━━━━━━━━━━━━━━━━━━━━━━━━━━━━━━━━━━━━\u001b[0m \u001b[32m996.9/996.9 kB\u001b[0m \u001b[31m83.7 MB/s\u001b[0m eta \u001b[36m0:00:00\u001b[0m\n",
            "\u001b[?25hDownloading matplotlib-3.8.2-cp310-cp310-manylinux_2_17_x86_64.manylinux2014_x86_64.whl (11.6 MB)\n",
            "\u001b[2K   \u001b[90m━━━━━━━━━━━━━━━━━━━━━━━━━━━━━━━━━━━━━━━━\u001b[0m \u001b[32m11.6/11.6 MB\u001b[0m \u001b[31m86.9 MB/s\u001b[0m eta \u001b[36m0:00:00\u001b[0m:00:01\u001b[0m0:01\u001b[0m\n",
            "\u001b[?25hDownloading orjson-3.9.10-cp310-cp310-manylinux_2_17_x86_64.manylinux2014_x86_64.whl (138 kB)\n",
            "\u001b[2K   \u001b[90m━━━━━━━━━━━━━━━━━━━━━━━━━━━━━━━━━━━━━━━━\u001b[0m \u001b[32m138.7/138.7 kB\u001b[0m \u001b[31m42.1 MB/s\u001b[0m eta \u001b[36m0:00:00\u001b[0m\n",
            "\u001b[?25hDownloading httpx-0.26.0-py3-none-any.whl (75 kB)\n",
            "\u001b[2K   \u001b[90m━━━━━━━━━━━━━━━━━━━━━━━━━━━━━━━━━━━━━━━━\u001b[0m \u001b[32m75.9/75.9 kB\u001b[0m \u001b[31m26.6 MB/s\u001b[0m eta \u001b[36m0:00:00\u001b[0m\n",
            "\u001b[?25hDownloading httpcore-1.0.2-py3-none-any.whl (76 kB)\n",
            "\u001b[2K   \u001b[90m━━━━━━━━━━━━━━━━━━━━━━━━━━━━━━━━━━━━━━━━\u001b[0m \u001b[32m76.9/76.9 kB\u001b[0m \u001b[31m24.9 MB/s\u001b[0m eta \u001b[36m0:00:00\u001b[0m\n",
            "\u001b[?25hDownloading contourpy-1.2.0-cp310-cp310-manylinux_2_17_x86_64.manylinux2014_x86_64.whl (310 kB)\n",
            "\u001b[2K   \u001b[90m━━━━━━━━━━━━━━━━━━━━━━━━━━━━━━━━━━━━━━━━\u001b[0m \u001b[32m310.7/310.7 kB\u001b[0m \u001b[31m66.2 MB/s\u001b[0m eta \u001b[36m0:00:00\u001b[0m\n",
            "\u001b[?25hDownloading cycler-0.12.1-py3-none-any.whl (8.3 kB)\n",
            "Downloading fonttools-4.47.0-cp310-cp310-manylinux_2_17_x86_64.manylinux2014_x86_64.whl (4.6 MB)\n",
            "\u001b[2K   \u001b[90m━━━━━━━━━━━━━━━━━━━━━━━━━━━━━━━━━━━━━━━━\u001b[0m \u001b[32m4.6/4.6 MB\u001b[0m \u001b[31m82.4 MB/s\u001b[0m eta \u001b[36m0:00:00\u001b[0mta \u001b[36m0:00:01\u001b[0m\n",
            "\u001b[?25hDownloading kiwisolver-1.4.5-cp310-cp310-manylinux_2_12_x86_64.manylinux2010_x86_64.whl (1.6 MB)\n",
            "\u001b[2K   \u001b[90m━━━━━━━━━━━━━━━━━━━━━━━━━━━━━━━━━━━━━━━━\u001b[0m \u001b[32m1.6/1.6 MB\u001b[0m \u001b[31m91.2 MB/s\u001b[0m eta \u001b[36m0:00:00\u001b[0m\n",
            "\u001b[?25hDownloading pyparsing-3.1.1-py3-none-any.whl (103 kB)\n",
            "\u001b[2K   \u001b[90m━━━━━━━━━━━━━━━━━━━━━━━━━━━━━━━━━━━━━━━━\u001b[0m \u001b[32m103.1/103.1 kB\u001b[0m \u001b[31m34.8 MB/s\u001b[0m eta \u001b[36m0:00:00\u001b[0m\n",
            "\u001b[?25hDownloading rich-13.7.0-py3-none-any.whl (240 kB)\n",
            "\u001b[2K   \u001b[90m━━━━━━━━━━━━━━━━━━━━━━━━━━━━━━━━━━━━━━━━\u001b[0m \u001b[32m240.6/240.6 kB\u001b[0m \u001b[31m55.5 MB/s\u001b[0m eta \u001b[36m0:00:00\u001b[0m\n",
            "\u001b[?25hDownloading shellingham-1.5.4-py2.py3-none-any.whl (9.8 kB)\n",
            "Downloading markdown_it_py-3.0.0-py3-none-any.whl (87 kB)\n",
            "\u001b[2K   \u001b[90m━━━━━━━━━━━━━━━━━━━━━━━━━━━━━━━━━━━━━━━━\u001b[0m \u001b[32m87.5/87.5 kB\u001b[0m \u001b[31m24.7 MB/s\u001b[0m eta \u001b[36m0:00:00\u001b[0m\n",
            "\u001b[?25hBuilding wheels for collected packages: ffmpy\n",
            "  Building wheel for ffmpy (setup.py) ... \u001b[?25ldone\n",
            "\u001b[?25h  Created wheel for ffmpy: filename=ffmpy-0.3.1-py3-none-any.whl size=5579 sha256=33cb279d72516c3bf7e61660da5a13c6eb57d942ce99f149032bada4f1edffd7\n",
            "  Stored in directory: /root/.cache/pip/wheels/01/a6/d1/1c0828c304a4283b2c1639a09ad86f83d7c487ef34c6b4a1bf\n",
            "Successfully built ffmpy\n",
            "Installing collected packages: pydub, ffmpy, websockets, tomlkit, shellingham, semantic-version, python-multipart, pyparsing, orjson, mdurl, kiwisolver, httpcore, fonttools, cycler, contourpy, colorama, aiofiles, matplotlib, markdown-it-py, httpx, rich, gradio-client, altair, gradio\n",
            "  Attempting uninstall: websockets\n",
            "    Found existing installation: websockets 12.0\n",
            "    Uninstalling websockets-12.0:\n",
            "      Successfully uninstalled websockets-12.0\n",
            "Successfully installed aiofiles-23.2.1 altair-5.2.0 colorama-0.4.6 contourpy-1.2.0 cycler-0.12.1 ffmpy-0.3.1 fonttools-4.47.0 gradio-4.13.0 gradio-client-0.8.0 httpcore-1.0.2 httpx-0.26.0 kiwisolver-1.4.5 markdown-it-py-3.0.0 matplotlib-3.8.2 mdurl-0.1.2 orjson-3.9.10 pydub-0.25.1 pyparsing-3.1.1 python-multipart-0.0.6 rich-13.7.0 semantic-version-2.10.0 shellingham-1.5.4 tomlkit-0.12.0 websockets-11.0.3\n",
            "\u001b[33mWARNING: Running pip as the 'root' user can result in broken permissions and conflicting behaviour with the system package manager. It is recommended to use a virtual environment instead: https://pip.pypa.io/warnings/venv\u001b[0m\u001b[33m\n",
            "\u001b[0m"
          ]
        }
      ],
      "source": [
        "!pip install langchain langchain-experimental\n",
        "!pip install -q  langchain\n",
        "!pip install sentence-transformers\n",
        "!pip install chromadb\n",
        "\n",
        "!pip3 install transformers optimum\n",
        "!pip3 install auto-gptq --extra-index-url https://huggingface.github.io/autogptq-index/whl/cu122/  # Use cu117 if on CUDA 11.7\n",
        "!pip install gradio"
      ],
      "id": "eXeXOuRSCEC6"
    },
    {
      "cell_type": "code",
      "execution_count": null,
      "metadata": {
        "id": "x3yJPAEIZrgD",
        "outputId": "7755e054-2624-458d-a825-1fdfdb2ab936"
      },
      "outputs": [
        {
          "name": "stdout",
          "output_type": "stream",
          "text": [
            "Requirement already satisfied: psycopg2-binary in /opt/conda/lib/python3.10/site-packages (2.9.9)\n",
            "\u001b[33mWARNING: Running pip as the 'root' user can result in broken permissions and conflicting behaviour with the system package manager. It is recommended to use a virtual environment instead: https://pip.pypa.io/warnings/venv\u001b[0m\u001b[33m\n",
            "\u001b[0m"
          ]
        }
      ],
      "source": [
        "!sudo apt-get -qq update\n",
        "!sudo apt-get -qq -y install postgresql\n",
        "!pip install psycopg2-binary"
      ],
      "id": "x3yJPAEIZrgD"
    },
    {
      "cell_type": "markdown",
      "metadata": {
        "id": "q1ISjvxMaeJD"
      },
      "source": [
        "# Imports"
      ],
      "id": "q1ISjvxMaeJD"
    },
    {
      "cell_type": "code",
      "execution_count": null,
      "metadata": {
        "id": "C6Dy4_rpaV81"
      },
      "outputs": [],
      "source": [
        "import psycopg2\n",
        "import sqlite3\n",
        "import time\n",
        "import pickle\n",
        "import re\n",
        "\n",
        "# from langchain.llms import CTransformers\n",
        "from langchain import PromptTemplate, LLMChain\n",
        "from langchain.callbacks.manager import CallbackManager\n",
        "from langchain.callbacks.streaming_stdout import StreamingStdOutCallbackHandler\n",
        "from langchain.utilities import SQLDatabase\n",
        "from langchain.prompts import PromptTemplate\n",
        "from langchain_experimental.sql import SQLDatabaseChain\n",
        "import gradio as gr"
      ],
      "id": "C6Dy4_rpaV81"
    },
    {
      "cell_type": "markdown",
      "metadata": {
        "id": "AX8sEAgnolYu"
      },
      "source": [
        "# Create PostgreSQL"
      ],
      "id": "AX8sEAgnolYu"
    },
    {
      "cell_type": "code",
      "execution_count": null,
      "metadata": {
        "colab": {
          "base_uri": "https://localhost:8080/"
        },
        "id": "mzBZbiL5EFT-",
        "outputId": "66fdbd14-a2ee-4db6-dad9-600c1d11da18"
      },
      "outputs": [
        {
          "name": "stdout",
          "output_type": "stream",
          "text": [
            " * Starting PostgreSQL 12 database server\n",
            "   ...done.\n",
            "ALTER ROLE\n",
            " * Restarting PostgreSQL 12 database server\n",
            "   ...done.\n"
          ]
        }
      ],
      "source": [
        "!service postgresql start\n",
        "!sudo -u postgres psql -U postgres -c \"ALTER USER postgres PASSWORD '12345';\"\n",
        "!service postgresql restart"
      ],
      "id": "mzBZbiL5EFT-"
    },
    {
      "cell_type": "code",
      "execution_count": null,
      "metadata": {
        "id": "4eIr03DB02vi"
      },
      "outputs": [],
      "source": [
        "conn = psycopg2.connect(\n",
        "    host=\"localhost\",\n",
        "    user=\"postgres\",\n",
        "    password=\"12345\",  # Use the correct password here\n",
        "    dbname=\"postgres\"\n",
        ")\n",
        "conn.autocommit = True\n",
        "cursor = conn.cursor()"
      ],
      "id": "4eIr03DB02vi"
    },
    {
      "cell_type": "code",
      "execution_count": null,
      "metadata": {
        "id": "kveFM3obBEaq",
        "outputId": "877df5dc-90d6-444a-a3e7-73efe174b4ca"
      },
      "outputs": [
        {
          "ename": "DuplicateDatabase",
          "evalue": "database \"credit_card_system\" already exists\n",
          "output_type": "error",
          "traceback": [
            "\u001b[0;31m---------------------------------------------------------------------------\u001b[0m",
            "\u001b[0;31mDuplicateDatabase\u001b[0m                         Traceback (most recent call last)",
            "Cell \u001b[0;32mIn[3], line 2\u001b[0m\n\u001b[1;32m      1\u001b[0m \u001b[38;5;66;03m# Creating a new database\u001b[39;00m\n\u001b[0;32m----> 2\u001b[0m \u001b[43mcursor\u001b[49m\u001b[38;5;241;43m.\u001b[39;49m\u001b[43mexecute\u001b[49m\u001b[43m(\u001b[49m\u001b[38;5;124;43m\"\u001b[39;49m\u001b[38;5;124;43mCREATE DATABASE credit_card_system\u001b[39;49m\u001b[38;5;124;43m\"\u001b[39;49m\u001b[43m)\u001b[49m\n\u001b[1;32m      3\u001b[0m cursor\u001b[38;5;241m.\u001b[39mclose()\n\u001b[1;32m      4\u001b[0m conn\u001b[38;5;241m.\u001b[39mclose()\n",
            "\u001b[0;31mDuplicateDatabase\u001b[0m: database \"credit_card_system\" already exists\n"
          ]
        }
      ],
      "source": [
        "# Creating a new database\n",
        "cursor.execute(\"CREATE DATABASE credit_card_system\")\n",
        "cursor.close()\n",
        "conn.close()"
      ],
      "id": "kveFM3obBEaq"
    },
    {
      "cell_type": "code",
      "execution_count": null,
      "metadata": {
        "id": "TsE8T1Dt5dvy"
      },
      "outputs": [],
      "source": [
        "# Connecting to the new database\n",
        "conn = psycopg2.connect(\n",
        "    host=\"localhost\",\n",
        "    user=\"postgres\",\n",
        "    password=\"12345\",\n",
        "    dbname=\"credit_card_system\"\n",
        ")\n",
        "cursor = conn.cursor()"
      ],
      "id": "TsE8T1Dt5dvy"
    },
    {
      "cell_type": "code",
      "execution_count": null,
      "metadata": {
        "id": "I3g5PXi36KxL"
      },
      "outputs": [],
      "source": [
        "# SQL statements to create tables\n",
        "create_table_statements = [\n",
        "    \"\"\"\n",
        "    CREATE TABLE branch (\n",
        "        branch_id INTEGER,\n",
        "        branch_name TEXT,\n",
        "        branch_address TEXT,\n",
        "        branch_phone TEXT,\n",
        "        branch_manager TEXT,\n",
        "        branch_email TEXT,\n",
        "        established_date DATE,\n",
        "        number_of_employees INTEGER,\n",
        "        PRIMARY KEY (branch_id)\n",
        "    )\n",
        "    \"\"\",\n",
        "    \"\"\"\n",
        "    CREATE TABLE category (\n",
        "        category_id INTEGER,\n",
        "        category_name TEXT,\n",
        "        PRIMARY KEY (category_id)\n",
        "    )\n",
        "    \"\"\",\n",
        "\n",
        "    \"\"\"\n",
        "    CREATE TABLE users (\n",
        "        user_id INTEGER,\n",
        "        user_name TEXT,\n",
        "        user_email TEXT,\n",
        "        user_address TEXT,\n",
        "        user_phone TEXT,\n",
        "        date_of_birth DATE,\n",
        "        registration_date DATE,\n",
        "        status TEXT,\n",
        "        branch_id INTEGER,\n",
        "        PRIMARY KEY (user_id),\n",
        "        FOREIGN KEY(branch_id) REFERENCES branch (branch_id)\n",
        "    )\n",
        "    \"\"\",\n",
        "\n",
        "    \"\"\"\n",
        "    CREATE TABLE credit_card (\n",
        "        card_id INTEGER,\n",
        "        user_id INTEGER,\n",
        "        card_number TEXT,\n",
        "        card_type TEXT,\n",
        "        expiry_date DATE,\n",
        "        cvv INTEGER,\n",
        "        issue_date DATE,\n",
        "        total_credit_limit REAL,\n",
        "        current_outstanding_amount REAL,\n",
        "        remaining_credit_limit REAL,\n",
        "        total_amount_due REAL,\n",
        "        minimum_amount_due REAL,\n",
        "        statement_date DATE,\n",
        "        amount_due_on DATE,\n",
        "        control_limit REAL,\n",
        "        PRIMARY KEY (card_id),\n",
        "        FOREIGN KEY(user_id) REFERENCES users (user_id)\n",
        "    )\n",
        "    \"\"\",\n",
        "\n",
        "    \"\"\"\n",
        "    CREATE TABLE transactions (\n",
        "        transaction_id INTEGER,\n",
        "        card_id INTEGER,\n",
        "        transaction_date DATE,\n",
        "        amount REAL,\n",
        "        merchant TEXT,\n",
        "        category_id INTEGER,\n",
        "        transaction_type TEXT,\n",
        "        description TEXT,\n",
        "        PRIMARY KEY (transaction_id),\n",
        "        FOREIGN KEY(card_id) REFERENCES credit_card (card_id),\n",
        "        FOREIGN KEY(category_id) REFERENCES category (category_id)\n",
        "    )\n",
        "    \"\"\",\n",
        "\n",
        "    \"\"\"\n",
        "    CREATE TABLE credit_card_financial (\n",
        "        financial_id INTEGER,\n",
        "        card_id INTEGER,\n",
        "        overdue_charges REAL,\n",
        "        loan_amount REAL,\n",
        "        emi_amount REAL,\n",
        "        emi_due_date DATE,\n",
        "        interest_rate REAL,\n",
        "        payment_due_date DATE,\n",
        "        minimum_payment REAL,\n",
        "        PRIMARY KEY (financial_id),\n",
        "        FOREIGN KEY(card_id) REFERENCES credit_card (card_id)\n",
        "    )\n",
        "    \"\"\",\n",
        "\n",
        "    \"\"\"\n",
        "    CREATE TABLE reward (\n",
        "        reward_id INTEGER,\n",
        "        transaction_id INTEGER,\n",
        "        points_earned INTEGER,\n",
        "        points_redeemed INTEGER,\n",
        "        current_balance INTEGER,\n",
        "        PRIMARY KEY (reward_id),\n",
        "        FOREIGN KEY(transaction_id) REFERENCES transactions (transaction_id)\n",
        "    )\n",
        "    \"\"\"\n",
        "]\n",
        "\n",
        "\n",
        "# Execute each CREATE TABLE statement\n",
        "for statement in create_table_statements:\n",
        "    cursor.execute(statement)\n",
        "\n",
        "conn.commit()"
      ],
      "id": "I3g5PXi36KxL"
    },
    {
      "cell_type": "code",
      "execution_count": null,
      "metadata": {
        "id": "_cX6NIBf-whM"
      },
      "outputs": [],
      "source": [
        "import pandas as pd\n",
        "\n",
        "# Function to load data from CSV to a table\n",
        "def load_csv_to_table(csv_file_path, table_name):\n",
        "    data = pd.read_csv(csv_file_path)\n",
        "    for i, row in data.iterrows():\n",
        "        insert_query = \"INSERT INTO {} VALUES %s\".format(table_name)\n",
        "        cursor.execute(insert_query, (tuple(row),))"
      ],
      "id": "_cX6NIBf-whM"
    },
    {
      "cell_type": "code",
      "execution_count": null,
      "metadata": {
        "colab": {
          "base_uri": "https://localhost:8080/"
        },
        "id": "_qTV5DSjL93J",
        "outputId": "9c0a9c99-9672-4607-c3e0-f27bd0708086"
      },
      "outputs": [
        {
          "name": "stdout",
          "output_type": "stream",
          "text": [
            "Cloning into 'text_sql'...\n",
            "remote: Enumerating objects: 133, done.\u001b[K\n",
            "remote: Counting objects: 100% (133/133), done.\u001b[K\n",
            "remote: Compressing objects: 100% (115/115), done.\u001b[K\n",
            "remote: Total 133 (delta 73), reused 41 (delta 16), pack-reused 0\u001b[K\n",
            "Receiving objects: 100% (133/133), 557.82 KiB | 5.69 MiB/s, done.\n",
            "Resolving deltas: 100% (73/73), done.\n"
          ]
        }
      ],
      "source": [
        "!git clone https://github.com/loni9164/text_sql.git"
      ],
      "id": "_qTV5DSjL93J"
    },
    {
      "cell_type": "code",
      "execution_count": null,
      "metadata": {
        "id": "iBwRZzb__Z7E",
        "outputId": "838786d1-cb77-455b-fc96-0490cde8aef5"
      },
      "outputs": [
        {
          "ename": "UniqueViolation",
          "evalue": "duplicate key value violates unique constraint \"branch_pkey\"\nDETAIL:  Key (branch_id)=(1) already exists.\n",
          "output_type": "error",
          "traceback": [
            "\u001b[0;31m---------------------------------------------------------------------------\u001b[0m",
            "\u001b[0;31mUniqueViolation\u001b[0m                           Traceback (most recent call last)",
            "Cell \u001b[0;32mIn[17], line 2\u001b[0m\n\u001b[1;32m      1\u001b[0m \u001b[38;5;66;03m# Load data from CSV files in the correct order\u001b[39;00m\n\u001b[0;32m----> 2\u001b[0m \u001b[43mload_csv_to_table\u001b[49m\u001b[43m(\u001b[49m\u001b[38;5;124;43m'\u001b[39;49m\u001b[38;5;124;43mtext_sql/csv_files/branch.csv\u001b[39;49m\u001b[38;5;124;43m'\u001b[39;49m\u001b[43m,\u001b[49m\u001b[43m \u001b[49m\u001b[38;5;124;43m'\u001b[39;49m\u001b[38;5;124;43mbranch\u001b[39;49m\u001b[38;5;124;43m'\u001b[39;49m\u001b[43m)\u001b[49m\n\u001b[1;32m      3\u001b[0m load_csv_to_table(\u001b[38;5;124m'\u001b[39m\u001b[38;5;124mtext_sql/csv_files/category.csv\u001b[39m\u001b[38;5;124m'\u001b[39m, \u001b[38;5;124m'\u001b[39m\u001b[38;5;124mcategory\u001b[39m\u001b[38;5;124m'\u001b[39m)\n\u001b[1;32m      4\u001b[0m load_csv_to_table(\u001b[38;5;124m'\u001b[39m\u001b[38;5;124mtext_sql/csv_files/users.csv\u001b[39m\u001b[38;5;124m'\u001b[39m, \u001b[38;5;124m'\u001b[39m\u001b[38;5;124musers\u001b[39m\u001b[38;5;124m'\u001b[39m)\n",
            "Cell \u001b[0;32mIn[14], line 8\u001b[0m, in \u001b[0;36mload_csv_to_table\u001b[0;34m(csv_file_path, table_name)\u001b[0m\n\u001b[1;32m      6\u001b[0m \u001b[38;5;28;01mfor\u001b[39;00m i, row \u001b[38;5;129;01min\u001b[39;00m data\u001b[38;5;241m.\u001b[39miterrows():\n\u001b[1;32m      7\u001b[0m     insert_query \u001b[38;5;241m=\u001b[39m \u001b[38;5;124m\"\u001b[39m\u001b[38;5;124mINSERT INTO \u001b[39m\u001b[38;5;132;01m{}\u001b[39;00m\u001b[38;5;124m VALUES \u001b[39m\u001b[38;5;132;01m%s\u001b[39;00m\u001b[38;5;124m\"\u001b[39m\u001b[38;5;241m.\u001b[39mformat(table_name)\n\u001b[0;32m----> 8\u001b[0m     \u001b[43mcursor\u001b[49m\u001b[38;5;241;43m.\u001b[39;49m\u001b[43mexecute\u001b[49m\u001b[43m(\u001b[49m\u001b[43minsert_query\u001b[49m\u001b[43m,\u001b[49m\u001b[43m \u001b[49m\u001b[43m(\u001b[49m\u001b[38;5;28;43mtuple\u001b[39;49m\u001b[43m(\u001b[49m\u001b[43mrow\u001b[49m\u001b[43m)\u001b[49m\u001b[43m,\u001b[49m\u001b[43m)\u001b[49m\u001b[43m)\u001b[49m\n",
            "\u001b[0;31mUniqueViolation\u001b[0m: duplicate key value violates unique constraint \"branch_pkey\"\nDETAIL:  Key (branch_id)=(1) already exists.\n"
          ]
        }
      ],
      "source": [
        "# Load data from CSV files in the correct order\n",
        "load_csv_to_table('text_sql/csv_files/branch.csv', 'branch')\n",
        "load_csv_to_table('text_sql/csv_files/category.csv', 'category')\n",
        "load_csv_to_table('text_sql/csv_files/users.csv', 'users')\n",
        "load_csv_to_table('text_sql/csv_files/credit_card.csv', 'credit_card')\n",
        "load_csv_to_table('text_sql/csv_files/transactions.csv', 'transactions')\n",
        "load_csv_to_table('text_sql/csv_files/credit_card_financial.csv', 'credit_card_financial')\n",
        "load_csv_to_table('text_sql/csv_files/reward.csv', 'reward')\n",
        "\n",
        "conn.commit()"
      ],
      "id": "iBwRZzb__Z7E"
    },
    {
      "cell_type": "markdown",
      "metadata": {
        "id": "A146xBQd2wuU"
      },
      "source": [
        "# DB connection"
      ],
      "id": "A146xBQd2wuU"
    },
    {
      "cell_type": "code",
      "execution_count": null,
      "metadata": {
        "id": "lW-9P3w1fQCW"
      },
      "outputs": [],
      "source": [
        "# Connecting to the new database\n",
        "conn = psycopg2.connect(\n",
        "    host=\"localhost\",\n",
        "    user=\"postgres\",\n",
        "    password=\"12345\",\n",
        "    dbname=\"credit_card_system\"\n",
        ")"
      ],
      "id": "lW-9P3w1fQCW"
    },
    {
      "cell_type": "code",
      "execution_count": null,
      "metadata": {
        "colab": {
          "base_uri": "https://localhost:8080/"
        },
        "id": "d7F4W7e4arQ7",
        "outputId": "530561a7-6185-4eab-8f51-e96afb92bb51"
      },
      "outputs": [
        {
          "data": {
            "text/plain": [
              "[(3,), (4,), (5,), (6,), (7,)]"
            ]
          },
          "execution_count": 5,
          "metadata": {},
          "output_type": "execute_result"
        }
      ],
      "source": [
        "def query_db(query):\n",
        "  cursor = conn.cursor()\n",
        "  cursor.execute(\"ROLLBACK\")\n",
        "  cursor.execute(query)\n",
        "  try:\n",
        "      return cursor.fetchall()\n",
        "  except:\n",
        "      return \"\"\n",
        "\n",
        "query_db('SELECT user_id FROM users LIMIT 5;')"
      ],
      "id": "d7F4W7e4arQ7"
    },
    {
      "cell_type": "code",
      "execution_count": null,
      "metadata": {
        "id": "b3e83oZxFXmi"
      },
      "outputs": [],
      "source": [
        "db_user = \"postgres\"\n",
        "db_password = \"12345\"\n",
        "db_host = \"localhost\"\n",
        "db_name = \"credit_card_system\"\n",
        "\n",
        "cursor = conn.cursor()\n",
        "\n",
        "connection_string = f\"postgresql://{db_user}:{db_password}@{db_host}/{db_name}\"\n",
        "db = SQLDatabase.from_uri(connection_string)\n",
        "table_info = db.table_info\n",
        "# print(table_info)"
      ],
      "id": "b3e83oZxFXmi"
    },
    {
      "cell_type": "markdown",
      "metadata": {
        "id": "QONkZ3KV6E7Y"
      },
      "source": [
        "# Load model"
      ],
      "id": "QONkZ3KV6E7Y"
    },
    {
      "cell_type": "code",
      "execution_count": null,
      "metadata": {
        "id": "GqqCL_bIfhMY"
      },
      "outputs": [],
      "source": [
        "from transformers import AutoModelForCausalLM, AutoTokenizer, pipeline\n",
        "\n",
        "model_name_or_path = \"TheBloke/sqlcoder2-GPTQ\"\n",
        "# To use a different branch, change revision\n",
        "# For example: revision=\"gptq-4bit-128g-actorder_True\"\n",
        "model = AutoModelForCausalLM.from_pretrained(model_name_or_path,\n",
        "                                             device_map=\"auto\",\n",
        "                                             trust_remote_code=False,\n",
        "                                             revision=\"main\")"
      ],
      "id": "GqqCL_bIfhMY"
    },
    {
      "cell_type": "code",
      "execution_count": null,
      "metadata": {
        "id": "bLqtVomqRXbU"
      },
      "outputs": [],
      "source": [
        "from auto_gptq import exllama_set_max_input_length\n",
        "model = exllama_set_max_input_length(model, max_input_length=10000)\n",
        "tokenizer = AutoTokenizer.from_pretrained(model_name_or_path, use_fast=True)"
      ],
      "id": "bLqtVomqRXbU"
    },
    {
      "cell_type": "code",
      "execution_count": null,
      "metadata": {
        "id": "-IHREd-JhWMs"
      },
      "outputs": [],
      "source": [
        "from transformers import GenerationConfig\n",
        "generation_config = GenerationConfig(\n",
        "    # max_length=1000,  # Adjust as needed\n",
        "    max_new_tokens=512,\n",
        "    do_sample=True,\n",
        "    temperature=0.1,\n",
        "    top_p=0.95,\n",
        "    top_k=40,\n",
        "    repetition_penalty=1.1\n",
        ")"
      ],
      "id": "-IHREd-JhWMs"
    },
    {
      "cell_type": "code",
      "execution_count": null,
      "metadata": {
        "id": "ET4yt8B2grMH"
      },
      "outputs": [],
      "source": [
        "# print(\"\\n\\n*** Generate:\")\n",
        "\n",
        "\n",
        "\n",
        "# Inference can also be done using transformers' pipeline\n",
        "\n",
        "# print(\"*** Pipeline:\")\n",
        "# pipe = pipeline(\n",
        "#     \"text-generation\",\n",
        "#     model=model,\n",
        "#     tokenizer=tokenizer,\n",
        "#     generation_config=generation_config\n",
        "# )\n",
        "\n",
        "\n",
        "# print(pipe(prompt_template)[0]['generated_text'])"
      ],
      "id": "ET4yt8B2grMH"
    },
    {
      "cell_type": "code",
      "execution_count": null,
      "metadata": {
        "id": "CbG4lMTJ_ggL"
      },
      "outputs": [],
      "source": [
        "# print(\"\\n\\n*** Generate:\")\n",
        "\n",
        "# input_ids = tokenizer(prompt_template, return_tensors='pt').input_ids.cuda()\n",
        "# output = model.generate(inputs=input_ids, temperature=0, do_sample=True, top_p=0.95, top_k=40, max_new_tokens=512)\n",
        "# print(tokenizer.decode(output[0]))\n",
        "\n",
        "# Inference can also be done using transformers' pipeline\n",
        "\n",
        "# print(\"*** Pipeline:\")\n",
        "pipe = pipeline(\n",
        "    \"text-generation\",\n",
        "    model=model,\n",
        "    tokenizer=tokenizer,\n",
        "    max_new_tokens=512,\n",
        "    do_sample=True,\n",
        "    temperature=0.1,\n",
        "    top_p=0.95,\n",
        "    top_k=40,\n",
        "    repetition_penalty=1.1\n",
        ")\n",
        "\n",
        "# print(pipe(prompt_template)[0]['generated_text'])"
      ],
      "id": "CbG4lMTJ_ggL"
    },
    {
      "cell_type": "code",
      "execution_count": null,
      "metadata": {
        "id": "1ILT2fuxsWSy"
      },
      "outputs": [],
      "source": [
        "from langchain.llms import HuggingFacePipeline\n",
        "from langchain import PromptTemplate, LLMChain\n",
        "llm = HuggingFacePipeline(pipeline=pipe)"
      ],
      "id": "1ILT2fuxsWSy"
    },
    {
      "cell_type": "markdown",
      "metadata": {
        "id": "afe780d9"
      },
      "source": [
        "# Few shot learning\n",
        "\n",
        "We will use few shot learning to fix issues we have seen so far"
      ],
      "id": "afe780d9"
    },
    {
      "cell_type": "markdown",
      "metadata": {
        "id": "30f7b3c9"
      },
      "source": [
        "### Creating Semantic Similarity Based example selector\n",
        "\n",
        "- create embedding on the few_shots\n",
        "- Store the embeddings in Chroma DB\n",
        "- Retrieve the the top most Semantically close example from the vector store"
      ],
      "id": "30f7b3c9"
    },
    {
      "cell_type": "code",
      "execution_count": null,
      "metadata": {
        "id": "yYbj1KXtF7ZR"
      },
      "outputs": [],
      "source": [
        "from langchain.embeddings import HuggingFaceEmbeddings\n",
        "\n",
        "embeddings = HuggingFaceEmbeddings(model_name='BAAI/bge-large-en-v1.5')"
      ],
      "id": "yYbj1KXtF7ZR"
    },
    {
      "cell_type": "code",
      "execution_count": null,
      "metadata": {
        "id": "f8167655-fb4f-4656-a919-9e8cbe62d133"
      },
      "outputs": [],
      "source": [
        "few_shot_examples = [\n",
        "   {\n",
        "      \"Question\":\"Can you update my email id to loni12b@gmail.com for user_id = 1\",\n",
        "      \"SQLQuery\":\"UPDATE users SET user_email = 'loni12b@gmail.com' WHERE user_id = 1;\",\n",
        "      \"SQLResult\":\"\",\n",
        "      \"Answer\":\"Your email has been updated to loni12b@gmail.com\"\n",
        "   },\n",
        "   {\n",
        "      \"Question\":\"Can you update my name to loni for user_id = 2\",\n",
        "      \"SQLQuery\":\"UPDATE users SET user_name = 'loni' WHERE user_id = 2;\",\n",
        "      \"SQLResult\":\"\",\n",
        "      \"Answer\":\"Your name has been updated to loni\"\n",
        "   },\n",
        "   {\n",
        "      \"Question\":\"How many transactions do i have for user_id = 1?\",\n",
        "      \"SQLQuery\":\"SELECT COUNT(*) AS transaction_count FROM transactions JOIN credit_card ON transactions.card_id = credit_card.card_id WHERE credit_card.user_id = 1;\",\n",
        "      \"SQLResult\":\"[(507,)]\",\n",
        "      \"Answer\":\"You have 507 transactions.\"\n",
        "   },\n",
        "   {\n",
        "      \"Question\":\"What is my total credit limit for user_id = 1?\",\n",
        "      \"SQLQuery\":\"SELECT SUM(total_credit_limit) AS total_credit_limit FROM credit_card WHERE user_id = 1;\",\n",
        "      \"SQLResult\":\"[(40000.0,)]\",\n",
        "      \"Answer\":\"Your total credit limit is 40000\"\n",
        "   },\n",
        "   {\n",
        "      \"Question\":\"Can I see my last 5 transactions for user_id = 2?\",\n",
        "      \"SQLQuery\":\"SELECT * FROM transactions JOIN credit_card ON transactions.card_id = credit_card.card_id WHERE credit_card.user_id = 2 ORDER BY transaction_date DESC LIMIT 5;\",\n",
        "      \"SQLResult\":\"[(1565, 4, datetime.date(2023, 11, 30), 352.09, 'Evans, Norman and Howe', 4, 'Credit', 'Student language chance scene rock sort building need.', 4, 2, '6360000000000000.0', 'VISA 19 digit', datetime.date(2031, 5, 31), 660, datetime.date(2022, 11, 1), 20000.0, 3431.64, 16568.36, 3431.64, 204.0, datetime.date(2023, 12, 23), datetime.date(2023, 12, 13), 501.0), (1308, 6, datetime.date(2023, 11, 30), 362.46, 'Brown-Bailey', 3, 'Credit', 'Road early may whom.', 6, 2, '4860000000000000.0', 'VISA 13 digit', datetime.date(2033, 3, 31), 744, datetime.date(2021, 6, 16), 5000.0, 1814.35, 3185.65, 1814.35, 206.0, datetime.date(2023, 12, 25), datetime.date(2023, 12, 15), 501.0), (1442, 4, datetime.date(2023, 11, 30), 230.35, 'Jenkins PLC', 6, 'Credit', 'Red president anyone.', 4, 2, '6360000000000000.0', 'VISA 19 digit', datetime.date(2031, 5, 31), 660, datetime.date(2022, 11, 1), 20000.0, 3431.64, 16568.36, 3431.64, 204.0, datetime.date(2023, 12, 23), datetime.date(2023, 12, 13), 501.0), (1189, 5, datetime.date(2023, 11, 30), 8.57, 'Mills Inc', 10, 'Credit', 'Serious career thought on exactly director.', 5, 2, '7860000000000000.0', 'Diners Club / Carte Blanche', datetime.date(2026, 9, 30), 758, datetime.date(2018, 12, 8), 15000.0, 66.25, 14933.75, 66.25, 205.0, datetime.date(2023, 12, 24), datetime.date(2023, 12, 14), 501.0), (1580, 4, datetime.date(2023, 11, 29), 347.8, 'Price, Contreras and Gomez', 6, 'Credit', 'Edge run writer perform between.', 4, 2, '6360000000000000.0', 'VISA 19 digit', datetime.date(2031, 5, 31), 660, datetime.date(2022, 11, 1), 20000.0, 3431.64, 16568.36, 3431.64, 204.0, datetime.date(2023, 12, 23), datetime.date(2023, 12, 13), 501.0)]\",\n",
        "      \"Answer\":\"Here are your last 5 transactions, [(1565, 4, datetime.date(2023, 11, 30), 352.09, 'Evans, Norman and Howe', 4, 'Credit', 'Student language chance scene rock sort building need.', 4, 2, '6360000000000000.0', 'VISA 19 digit', datetime.date(2031, 5, 31), 660, datetime.date(2022, 11, 1), 20000.0, 3431.64, 16568.36, 3431.64, 204.0, datetime.date(2023, 12, 23), datetime.date(2023, 12, 13), 501.0), (1308, 6, datetime.date(2023, 11, 30), 362.46, 'Brown-Bailey', 3, 'Credit', 'Road early may whom.', 6, 2, '4860000000000000.0', 'VISA 13 digit', datetime.date(2033, 3, 31), 744, datetime.date(2021, 6, 16), 5000.0, 1814.35, 3185.65, 1814.35, 206.0, datetime.date(2023, 12, 25), datetime.date(2023, 12, 15), 501.0), (1442, 4, datetime.date(2023, 11, 30), 230.35, 'Jenkins PLC', 6, 'Credit', 'Red president anyone.', 4, 2, '6360000000000000.0', 'VISA 19 digit', datetime.date(2031, 5, 31), 660, datetime.date(2022, 11, 1), 20000.0, 3431.64, 16568.36, 3431.64, 204.0, datetime.date(2023, 12, 23), datetime.date(2023, 12, 13), 501.0), (1189, 5, datetime.date(2023, 11, 30), 8.57, 'Mills Inc', 10, 'Credit', 'Serious career thought on exactly director.', 5, 2, '7860000000000000.0', 'Diners Club / Carte Blanche', datetime.date(2026, 9, 30), 758, datetime.date(2018, 12, 8), 15000.0, 66.25, 14933.75, 66.25, 205.0, datetime.date(2023, 12, 24), datetime.date(2023, 12, 14), 501.0), (1580, 4, datetime.date(2023, 11, 29), 347.8, 'Price, Contreras and Gomez', 6, 'Credit', 'Edge run writer perform between.', 4, 2, '6360000000000000.0', 'VISA 19 digit', datetime.date(2031, 5, 31), 660, datetime.date(2022, 11, 1), 20000.0, 3431.64, 16568.36, 3431.64, 204.0, datetime.date(2023, 12, 23), datetime.date(2023, 12, 13), 501.0)].\"\n",
        "   },\n",
        "   {\n",
        "      \"Question\":\"How many transactions do I have in category 2 for user_id = 1?\",\n",
        "      \"SQLQuery\":\"SELECT COUNT(*) AS transaction_count FROM transactions JOIN credit_card ON transactions.card_id = credit_card.card_id WHERE credit_card.user_id = 1 AND transactions.category_id = 2;\",\n",
        "      \"SQLResult\":\"[(52,)]\",\n",
        "      \"Answer\":\"You have 52 transactions in category 2.\"\n",
        "   },\n",
        "   {\n",
        "      \"Question\":\"How many transactions do I have in category 4 for user_id = 1?\",\n",
        "      \"SQLQuery\":\"SELECT COUNT(*) AS transaction_count FROM transactions JOIN credit_card ON transactions.card_id = credit_card.card_id WHERE credit_card.user_id = 1 AND transactions.category_id = 4;\",\n",
        "      \"SQLResult\":\"[(46,)]\",\n",
        "      \"Answer\":\"You have 46 transactions in category 4.\"\n",
        "   },\n",
        "   {\n",
        "      \"Question\":\"How many transactions do I have in category 5 for user_id = 2?\",\n",
        "      \"SQLQuery\":\"SELECT COUNT(*) AS transaction_count FROM transactions JOIN credit_card ON transactions.card_id = credit_card.card_id WHERE credit_card.user_id = 2 AND transactions.category_id = 5;\",\n",
        "      \"SQLResult\":\"[(61,)]\",\n",
        "      \"Answer\":\"You have 61 transactions in category 5.\"\n",
        "   },\n",
        "    {\n",
        "      \"Question\":\"What are my credit card numbers for user_id = 1?\",\n",
        "      \"SQLQuery\":\"SELECT card_number FROM credit_card WHERE user_id = 1;\",\n",
        "      \"SQLResult\":\"[('5360000000000000.0',), ('4360000000000000.0',), ('7360000000000000.0',)]\",\n",
        "      \"Answer\":\"Your credit card numbers are 5360000000000000, 4360000000000000, 7360000000000000.\"\n",
        "   },\n",
        "   {\n",
        "      \"Question\":\"What types of credit cards do I hold for user_id = 2?\",\n",
        "      \"SQLQuery\":\"SELECT card_type FROM credit_card WHERE user_id = 2;\",\n",
        "      \"SQLResult\":\"[('VISA 19 digit',), ('Diners Club / Carte Blanche',), ('VISA 13 digit',)]\",\n",
        "      \"Answer\":\"You hold the following types of credit cards: VISA 19 digit, Diners Club / Carte Blanche, VISA 13 digit.\"\n",
        "   },\n",
        "   {\n",
        "      \"Question\":\"When do my credit cards expire for user_id = 2?\",\n",
        "      \"SQLQuery\":\"SELECT card_number, expiry_date FROM credit_card WHERE user_id = 2;\",\n",
        "      \"SQLResult\":\"[('6360000000000000.0', '2031-05-31'), ('7860000000000000.0', '2026-09-30'), ('4860000000000000.0', '2033-03-31')]\",\n",
        "      \"Answer\":\"Your credit cards expire on the following dates: 6360000000000000 on 31-05-2031, 7860000000000000 on 30-09-2026, 4860000000000000 on 31-03-2033.\"\n",
        "   },\n",
        "   {\n",
        "      \"Question\":\"When were my credit cards issued for user_id = 1?\",\n",
        "      \"SQLQuery\":\"SELECT card_number, issue_date FROM credit_card WHERE user_id = 1;\",\n",
        "      \"SQLResult\":\"[('5360000000000000.0', '2017-04-28'), ('4360000000000000.0', '2019-11-22'), ('7360000000000000.0', '2014-11-10')]\",\n",
        "      \"Answer\":\"Your credit cards were issued on the following dates: 5360000000000000 on 28-04-2017, 4360000000000000 on 22-11-2019, 7360000000000000 on 10-11-2014.\"\n",
        "   },\n",
        "   {\n",
        "      \"Question\":\"What is my total credit limit across all cards for user_id = 1?\",\n",
        "      \"SQLQuery\":\"SELECT SUM(total_credit_limit) FROM credit_card WHERE user_id = 1;\",\n",
        "      \"SQLResult\":\"[(40000.0,)]\",\n",
        "      \"Answer\":\"Your total credit limit across all cards is ₹40000.0.\"\n",
        "   },\n",
        "   {\n",
        "      \"Question\":\"How much do I currently owe on my credit cards for user_id = 2?\",\n",
        "      \"SQLQuery\":\"SELECT card_number, current_outstanding_amount FROM credit_card WHERE user_id = 2;\",\n",
        "      \"SQLResult\":\"[('6360000000000000.0', 3431.64), ('7860000000000000.0', 66.25), ('4860000000000000.0', 1814.35)]\",\n",
        "      \"Answer\":\"You currently owe ₹3431.64 on card 6360000000000000, ₹66.25 on card 7860000000000000, and ₹1814.35 on card 4860000000000000.\"\n",
        "   },\n",
        "   {\n",
        "      \"Question\":\"What is the remaining credit limit on my cards for user_id = 1?\",\n",
        "      \"SQLQuery\":\"SELECT card_number, remaining_credit_limit FROM credit_card WHERE user_id = 1;\",\n",
        "      \"SQLResult\":\"[('5360000000000000.0', 4034.3), ('4360000000000000.0', 10728.85), ('7360000000000000.0', 16458.87)]\",\n",
        "      \"Answer\":\"The remaining credit limits on your cards are ₹4034.3 for card 5360000000000000, ₹10728.85 for card 4360000000000000, and ₹16458.87 for card 7360000000000000.\"\n",
        "   },\n",
        "   {\n",
        "      \"Question\":\"What is the minimum amount I need to pay on each card for user_id = 2?\",\n",
        "      \"SQLQuery\":\"SELECT card_number, minimum_amount_due FROM credit_card WHERE user_id = 2;\",\n",
        "      \"SQLResult\":\"[('6360000000000000.0', 204.0), ('7860000000000000.0', 205.0), ('4860000000000000.0', 206.0)]\",\n",
        "      \"Answer\":\"The minimum amounts you need to pay are ₹204.0 for card 6360000000000000, ₹205.0 for card 7860000000000000, and ₹206.0 for card 4860000000000000.\"\n",
        "   },\n",
        "   {\n",
        "      \"Question\":\"When is my next statement date for each card for user_id = 1?\",\n",
        "      \"SQLQuery\":\"SELECT card_number, statement_date FROM credit_card WHERE user_id = 1;\",\n",
        "      \"SQLResult\":\"[('5360000000000000.0', '2023-12-20'), ('4360000000000000.0', '2023-12-21'), ('7360000000000000.0', '2023-12-22')]\",\n",
        "      \"Answer\":\"Your next statement dates for each card are: for card 5360000000000000 on 20-12-2023, for card 4360000000000000 on 21-12-2023, and for card 7360000000000000 on 22-12-2023.\"\n",
        "   },\n",
        "   {\n",
        "      \"Question\":\"By when do I need to pay my credit card bills for user_id = 2?\",\n",
        "      \"SQLQuery\":\"SELECT card_number, amount_due_on FROM credit_card WHERE user_id = 2;\",\n",
        "      \"SQLResult\":\"[('6360000000000000.0', '2023-12-13'), ('7860000000000000.0', '2023-12-14'), ('4860000000000000.0', '2023-12-15')]\",\n",
        "      \"Answer\":\"You need to pay your credit card bills by: for card 6360000000000000 on 13-12-2023, for card 7860000000000000 on 14-12-2023, and for card 4860000000000000 on 15-12-2023.\"\n",
        "   },\n",
        "   {\n",
        "      \"Question\":\"What is my branch address for user_id = 1?\",\n",
        "      \"SQLQuery\":\"SELECT branch_address FROM branch WHERE branch_id = (SELECT branch_id FROM users WHERE user_id = 1);\",\n",
        "      \"SQLResult\":\"[('178 Young Neck Suite 826, New Jennifer, FL 64057',)]\",\n",
        "      \"Answer\":\"The address of your branch is 178 Young Neck Suite 826, New Jennifer, FL 64057.\"\n",
        "   },\n",
        "   {\n",
        "      \"Question\":\"What is my branch name  for user_id = 2?\",\n",
        "      \"SQLQuery\":\"SELECT branch_name FROM branch WHERE branch_id = (SELECT branch_id FROM users WHERE user_id = 2);\",\n",
        "      \"SQLResult\":\"[('Branch 2',)]\",\n",
        "      \"Answer\":\"The name of your branch is Branch 2.\"\n",
        "   },\n",
        "   {\n",
        "      \"Question\":\"What is my branch email id for user_id = 1?\",\n",
        "      \"SQLQuery\":\"SELECT branch_email FROM branch WHERE branch_id = (SELECT branch_id FROM users WHERE user_id = 1);\",\n",
        "      \"SQLResult\":\"[('kristen70@morgan.com',)]\",\n",
        "      \"Answer\":\"The email ID of your branch is kristen70@morgan.com.\"\n",
        "   },\n",
        "   {\n",
        "      \"Question\":\"When did the branch associated with my account open for user_id = 1?\",\n",
        "      \"SQLQuery\":\"SELECT established_date FROM branch WHERE branch_id = (SELECT branch_id FROM users WHERE user_id = 1);\",\n",
        "      \"SQLResult\":\"[('14-10-2008',)]\",\n",
        "      \"Answer\":\"The branch associated with your account was opened on 14-10-2008.\"\n",
        "   },\n",
        "   {\n",
        "      \"Question\":\"How many employees do we have in the branch associated with my account for user_id = 2?\",\n",
        "      \"SQLQuery\":\"SELECT number_of_employees FROM branch WHERE branch_id = (SELECT branch_id FROM users WHERE user_id = 2);\",\n",
        "      \"SQLResult\":\"[(39,)]\",\n",
        "      \"Answer\":\"The branch associated with your account has 39 employees.\"\n",
        "   },\n",
        "   {\n",
        "      \"Question\":\"What is my email id?\",\n",
        "      \"SQLQuery\":\"SELECT user_email FROM users WHERE user_id = 1;\",\n",
        "      \"SQLResult\":\"[('jacobmoore@hotmail.com',)]\",\n",
        "      \"Answer\":\"Your email ID is jacobmoore@hotmail.com.\"\n",
        "   },\n",
        "   {\n",
        "      \"Question\":\"When did I open my account?\",\n",
        "      \"SQLQuery\":\"SELECT registration_date FROM users WHERE user_id = 1;\",\n",
        "      \"SQLResult\":\"[('27-01-2020',)]\",\n",
        "      \"Answer\":\"You opened your account on 27-01-2020.\"\n",
        "   },\n",
        "   {\n",
        "      \"Question\":\"What is my account status?\",\n",
        "      \"SQLQuery\":\"SELECT status FROM users WHERE user_id = 1;\",\n",
        "      \"SQLResult\":\"[('Active',)]\",\n",
        "      \"Answer\":\"Your account status is Active.\"\n",
        "   },\n",
        "   {\n",
        "      \"Question\":\"What is my registered phone number?\",\n",
        "      \"SQLQuery\":\"SELECT user_phone FROM users WHERE user_id = 1;\",\n",
        "      \"SQLResult\":\"[('2527317877',)]\",\n",
        "      \"Answer\":\"Your registered phone number is 2527317877.\",\n",
        "   },\n",
        "   {\n",
        "      \"Question\":\"What is my total spending on fuel for user_id = 1?\",\n",
        "      \"SQLQuery\":\"SELECT SUM(transactions.amount) AS total_amount FROM transactions JOIN category ON transactions.category_id = category.category_id JOIN credit_card ON transactions.card_id = credit_card.card_id WHERE category.category_name ILIKE '%fuel%' AND transactions.transaction_type ILIKE '%Debit%' AND credit_card.user_id = 1;\",\n",
        "      \"SQLResult\":\"[(8282.859,)]\",\n",
        "      \"Answer\":\"Your total spending on fuel for completed transactions is ₹8282.86.\"\n",
        "   },\n",
        "   {\n",
        "      \"Question\":\"Find my oldest credit card for user_id = 1.\",\n",
        "      \"SQLQuery\":\"SELECT card_number FROM credit_card WHERE user_id = 1 ORDER BY issue_date ASC LIMIT 1;\",\n",
        "      \"SQLResult\":\"[('7360000000000000.0',)]\",\n",
        "      \"Answer\":\"Your oldest credit card is the one with the number 7360000000000000.\"\n",
        "   },\n",
        "   {\n",
        "      \"Question\":\"List my cards which are going to expire by Sep 2026 for user_id = 2\",\n",
        "      \"SQLQuery\":\"SELECT card_number FROM credit_card WHERE user_id = 2 AND expiry_date <= '2026-09-30';\",\n",
        "      \"SQLResult\":\"[('7860000000000000.0',)]\",\n",
        "      \"Answer\":\"Your card number which is going to expire by September 2026 is 7860000000000000.\"\n",
        "   },\n",
        "   {\n",
        "      \"Question\":\"What is my spending for food and groceries for user_id = 2?\",\n",
        "      \"SQLQuery\":\"SELECT SUM(transactions.amount) AS total_amount FROM transactions JOIN category ON transactions.category_id = category.category_id JOIN credit_card ON transactions.card_id = credit_card.card_id WHERE category.category_name ILIKE '%food%and%groceries%' AND credit_card.user_id = 2 AND transactions.transaction_type ILIKE '%debit%';\",\n",
        "      \"SQLResult\":\"[(6724.62,)]\",\n",
        "      \"Answer\":\"Your total spending for food and groceries is ₹6724.62.\"\n",
        "   },\n",
        "   {\n",
        "      \"Question\":\"List my cards which are expiring in 2024 for user_id = 1.\",\n",
        "      \"SQLQuery\":\"SELECT card_number FROM credit_card WHERE user_id = 1 AND EXTRACT(YEAR FROM expiry_date) = 2024;\",\n",
        "      \"SQLResult\":\"[('5360000000000000.0',)]\",\n",
        "      \"Answer\":\"Your card number which is expiring in 2024 is 5360000000000000.\"\n",
        "   },\n",
        "   {\n",
        "      \"Question\":\"What is my spending on Movies and Entertainment for user_id = 2?\",\n",
        "      \"SQLQuery\":\"SELECT SUM(transactions.amount) AS total_amount FROM transactions JOIN category ON transactions.category_id = category.category_id JOIN credit_card ON transactions.card_id = credit_card.card_id WHERE category.category_name ILIKE '%movies%and%entertainment%' AND credit_card.user_id = 2 AND transactions.transaction_type ILIKE '%debit%';\",\n",
        "      \"SQLResult\":\"[(6335.5806,)]\",\n",
        "      \"Answer\":\"Your total spending on Movies and Entertainment is ₹6335.58.\"\n",
        "   }\n",
        "]"
      ],
      "id": "f8167655-fb4f-4656-a919-9e8cbe62d133"
    },
    {
      "cell_type": "code",
      "execution_count": null,
      "metadata": {
        "id": "6b26f94f-af67-4d94-9b9e-f9ab9f4531c7",
        "outputId": "2651e094-a319-45f7-b04a-5e8462608fec"
      },
      "outputs": [
        {
          "data": {
            "text/plain": [
              "33"
            ]
          },
          "execution_count": 4,
          "metadata": {},
          "output_type": "execute_result"
        }
      ],
      "source": [
        "len(few_shot_examples)"
      ],
      "id": "6b26f94f-af67-4d94-9b9e-f9ab9f4531c7"
    },
    {
      "cell_type": "code",
      "execution_count": null,
      "metadata": {
        "id": "c669bdc8-1736-47c3-9f44-75f410ef35e8"
      },
      "outputs": [],
      "source": [
        "few_shot_examples3 = []\n",
        "for item in few_shot_examples2:\n",
        "    item[\"SQLResult\"] = query_db(item['SQLQuery'])\n",
        "    few_shot_examples3.append(item)"
      ],
      "id": "c669bdc8-1736-47c3-9f44-75f410ef35e8"
    },
    {
      "cell_type": "code",
      "execution_count": null,
      "metadata": {
        "scrolled": true,
        "id": "cedd2c44-edb4-4f28-b389-d7b0e77b581f",
        "outputId": "9065de1c-c85b-43f1-8be4-a3d92da72ef6"
      },
      "outputs": [
        {
          "name": "stdout",
          "output_type": "stream",
          "text": [
            "[{'Question': 'What are my credit card numbers for user_id = 1?', 'SQLQuery': 'SELECT card_number FROM credit_card WHERE user_id = 1;', 'SQLResult': [('5360000000000000.0',), ('4360000000000000.0',), ('7360000000000000.0',)], 'Answer': 'Your credit card numbers are [List of Card Numbers].'}, {'Question': 'What types of credit cards do I hold for user_id = 2?', 'SQLQuery': 'SELECT card_type FROM credit_card WHERE user_id = 2;', 'SQLResult': [('VISA 19 digit',), ('Diners Club / Carte Blanche',), ('VISA 13 digit',)], 'Answer': 'You hold the following types of credit cards: [List of Card Types].'}, {'Question': 'When do my credit cards expire for user_id = 2?', 'SQLQuery': 'SELECT card_number, expiry_date FROM credit_card WHERE user_id = 2;', 'SQLResult': [('6360000000000000.0', datetime.date(2031, 5, 31)), ('7860000000000000.0', datetime.date(2026, 9, 30)), ('4860000000000000.0', datetime.date(2033, 3, 31))], 'Answer': 'Your credit cards expire on the following dates: [List of Expiry Dates].'}, {'Question': 'When were my credit cards issued for user_id = 1?', 'SQLQuery': 'SELECT card_number, issue_date FROM credit_card WHERE user_id = 1;', 'SQLResult': [('5360000000000000.0', datetime.date(2017, 4, 28)), ('4360000000000000.0', datetime.date(2019, 11, 22)), ('7360000000000000.0', datetime.date(2014, 11, 10))], 'Answer': 'Your credit cards were issued on the following dates: [List of Issue Dates].'}, {'Question': 'What is my total credit limit across all cards for user_id = 1?', 'SQLQuery': 'SELECT SUM(total_credit_limit) FROM credit_card WHERE user_id = 1;', 'SQLResult': [(40000.0,)], 'Answer': 'Your total credit limit across all cards is [Sum of Total Credit Limits].'}, {'Question': 'How much do I currently owe on my credit cards for user_id = 2?', 'SQLQuery': 'SELECT card_number, current_outstanding_amount FROM credit_card WHERE user_id = 2;', 'SQLResult': [('6360000000000000.0', 3431.64), ('7860000000000000.0', 66.25), ('4860000000000000.0', 1814.35)], 'Answer': 'You currently owe the following amounts on your credit cards: [List of Outstanding Amounts].'}, {'Question': 'What is the remaining credit limit on my cards for user_id = 1?', 'SQLQuery': 'SELECT card_number, remaining_credit_limit FROM credit_card WHERE user_id = 1;', 'SQLResult': [('5360000000000000.0', 4034.3), ('4360000000000000.0', 10728.85), ('7360000000000000.0', 16458.87)], 'Answer': 'The remaining credit limits on your cards are as follows: [List of Remaining Limits].'}, {'Question': 'What is the minimum amount I need to pay on each card for user_id = 2?', 'SQLQuery': 'SELECT card_number, minimum_amount_due FROM credit_card WHERE user_id = 2;', 'SQLResult': [('6360000000000000.0', 204.0), ('7860000000000000.0', 205.0), ('4860000000000000.0', 206.0)], 'Answer': 'The minimum amounts you need to pay on each card are [List of Minimum Amounts Due].'}, {'Question': 'When is my next statement date for each card card for user_id = 1?', 'SQLQuery': 'SELECT card_number, statement_date FROM credit_card WHERE user_id = 1;', 'SQLResult': [('5360000000000000.0', datetime.date(2023, 12, 20)), ('4360000000000000.0', datetime.date(2023, 12, 21)), ('7360000000000000.0', datetime.date(2023, 12, 22))], 'Answer': 'Your next statement dates for each card are [List of Statement Dates].'}, {'Question': 'By when do I need to pay my credit card bills for user_id = 2?', 'SQLQuery': 'SELECT card_number, amount_due_on FROM credit_card WHERE user_id = 2;', 'SQLResult': [('6360000000000000.0', datetime.date(2023, 12, 13)), ('7860000000000000.0', datetime.date(2023, 12, 14)), ('4860000000000000.0', datetime.date(2023, 12, 15))], 'Answer': 'You need to pay your'}]\n"
          ]
        }
      ],
      "source": [
        "print(few_shot_examples3)"
      ],
      "id": "cedd2c44-edb4-4f28-b389-d7b0e77b581f"
    },
    {
      "cell_type": "code",
      "execution_count": null,
      "metadata": {
        "id": "oyEcedlbF1DS"
      },
      "outputs": [],
      "source": [
        "updated_few_shot_examples = []\n",
        "for example in few_shot_examples3:\n",
        "  if not isinstance(example['SQLResult'], str):\n",
        "    example['SQLResult'] = str(example['SQLResult'])\n",
        "  else:\n",
        "    example['SQLResult'] = example['SQLResult']\n",
        "  updated_few_shot_examples.append(example)\n",
        "\n",
        "# updated_few_shot_examples"
      ],
      "id": "oyEcedlbF1DS"
    },
    {
      "cell_type": "code",
      "execution_count": null,
      "metadata": {
        "id": "bc01d0c2-4895-4cfa-935a-c678ba59a2fd",
        "outputId": "88cb8e38-2d15-41d6-f741-0036c15e5378"
      },
      "outputs": [
        {
          "name": "stdout",
          "output_type": "stream",
          "text": [
            "[{'Question': 'What are my credit card numbers for user_id = 1?', 'SQLQuery': 'SELECT card_number FROM credit_card WHERE user_id = 1;', 'SQLResult': \"[('5360000000000000.0',), ('4360000000000000.0',), ('7360000000000000.0',)]\", 'Answer': 'Your credit card numbers are [List of Card Numbers].'}, {'Question': 'What types of credit cards do I hold for user_id = 2?', 'SQLQuery': 'SELECT card_type FROM credit_card WHERE user_id = 2;', 'SQLResult': \"[('VISA 19 digit',), ('Diners Club / Carte Blanche',), ('VISA 13 digit',)]\", 'Answer': 'You hold the following types of credit cards: [List of Card Types].'}, {'Question': 'When do my credit cards expire for user_id = 2?', 'SQLQuery': 'SELECT card_number, expiry_date FROM credit_card WHERE user_id = 2;', 'SQLResult': \"[('6360000000000000.0', datetime.date(2031, 5, 31)), ('7860000000000000.0', datetime.date(2026, 9, 30)), ('4860000000000000.0', datetime.date(2033, 3, 31))]\", 'Answer': 'Your credit cards expire on the following dates: [List of Expiry Dates].'}, {'Question': 'When were my credit cards issued for user_id = 1?', 'SQLQuery': 'SELECT card_number, issue_date FROM credit_card WHERE user_id = 1;', 'SQLResult': \"[('5360000000000000.0', datetime.date(2017, 4, 28)), ('4360000000000000.0', datetime.date(2019, 11, 22)), ('7360000000000000.0', datetime.date(2014, 11, 10))]\", 'Answer': 'Your credit cards were issued on the following dates: [List of Issue Dates].'}, {'Question': 'What is my total credit limit across all cards for user_id = 1?', 'SQLQuery': 'SELECT SUM(total_credit_limit) FROM credit_card WHERE user_id = 1;', 'SQLResult': '[(40000.0,)]', 'Answer': 'Your total credit limit across all cards is [Sum of Total Credit Limits].'}, {'Question': 'How much do I currently owe on my credit cards for user_id = 2?', 'SQLQuery': 'SELECT card_number, current_outstanding_amount FROM credit_card WHERE user_id = 2;', 'SQLResult': \"[('6360000000000000.0', 3431.64), ('7860000000000000.0', 66.25), ('4860000000000000.0', 1814.35)]\", 'Answer': 'You currently owe the following amounts on your credit cards: [List of Outstanding Amounts].'}, {'Question': 'What is the remaining credit limit on my cards for user_id = 1?', 'SQLQuery': 'SELECT card_number, remaining_credit_limit FROM credit_card WHERE user_id = 1;', 'SQLResult': \"[('5360000000000000.0', 4034.3), ('4360000000000000.0', 10728.85), ('7360000000000000.0', 16458.87)]\", 'Answer': 'The remaining credit limits on your cards are as follows: [List of Remaining Limits].'}, {'Question': 'What is the minimum amount I need to pay on each card for user_id = 2?', 'SQLQuery': 'SELECT card_number, minimum_amount_due FROM credit_card WHERE user_id = 2;', 'SQLResult': \"[('6360000000000000.0', 204.0), ('7860000000000000.0', 205.0), ('4860000000000000.0', 206.0)]\", 'Answer': 'The minimum amounts you need to pay on each card are [List of Minimum Amounts Due].'}, {'Question': 'When is my next statement date for each card card for user_id = 1?', 'SQLQuery': 'SELECT card_number, statement_date FROM credit_card WHERE user_id = 1;', 'SQLResult': \"[('5360000000000000.0', datetime.date(2023, 12, 20)), ('4360000000000000.0', datetime.date(2023, 12, 21)), ('7360000000000000.0', datetime.date(2023, 12, 22))]\", 'Answer': 'Your next statement dates for each card are [List of Statement Dates].'}, {'Question': 'By when do I need to pay my credit card bills for user_id = 2?', 'SQLQuery': 'SELECT card_number, amount_due_on FROM credit_card WHERE user_id = 2;', 'SQLResult': \"[('6360000000000000.0', datetime.date(2023, 12, 13)), ('7860000000000000.0', datetime.date(2023, 12, 14)), ('4860000000000000.0', datetime.date(2023, 12, 15))]\", 'Answer': 'You need to pay your'}]\n"
          ]
        }
      ],
      "source": [
        "print(updated_few_shot_examples)"
      ],
      "id": "bc01d0c2-4895-4cfa-935a-c678ba59a2fd"
    },
    {
      "cell_type": "code",
      "execution_count": null,
      "metadata": {
        "colab": {
          "base_uri": "https://localhost:8080/"
        },
        "id": "PTX6VCboIDCZ",
        "outputId": "128b5d9f-24d1-46e7-93d6-1bb630102d8c"
      },
      "outputs": [
        {
          "data": {
            "text/plain": [
              "8"
            ]
          },
          "execution_count": 18,
          "metadata": {},
          "output_type": "execute_result"
        }
      ],
      "source": [
        "len(updated_few_shot_examples)"
      ],
      "id": "PTX6VCboIDCZ"
    },
    {
      "cell_type": "code",
      "execution_count": null,
      "metadata": {
        "id": "ST9PU3ZTLbaD"
      },
      "outputs": [],
      "source": [
        "to_vectorize = [\" \".join(example.values()) for example in few_shot_examples]"
      ],
      "id": "ST9PU3ZTLbaD"
    },
    {
      "cell_type": "code",
      "execution_count": null,
      "metadata": {
        "id": "d806f39b"
      },
      "outputs": [],
      "source": [
        "from langchain.vectorstores import Chroma\n",
        "vectorstore = Chroma.from_texts(to_vectorize, embeddings, metadatas=updated_few_shot_examples)"
      ],
      "id": "d806f39b"
    },
    {
      "cell_type": "code",
      "execution_count": null,
      "metadata": {
        "id": "f9cc4b0e"
      },
      "outputs": [],
      "source": [
        "from langchain.prompts import SemanticSimilarityExampleSelector\n",
        "\n",
        "example_selector = SemanticSimilarityExampleSelector(\n",
        "    vectorstore=vectorstore,\n",
        "    k=2,\n",
        ")"
      ],
      "id": "f9cc4b0e"
    },
    {
      "cell_type": "code",
      "execution_count": null,
      "metadata": {
        "colab": {
          "base_uri": "https://localhost:8080/"
        },
        "id": "x7nrNHQPgP3P",
        "outputId": "02dbf489-18b1-4795-ade2-f4b2d46ec8e0"
      },
      "outputs": [
        {
          "data": {
            "text/plain": [
              "[{'Answer': 'Your name has been updated to loni',\n",
              "  'Question': 'Can you update my name to loni for user_id = 2',\n",
              "  'SQLQuery': \"UPDATE users SET user_name = 'loni' WHERE user_id = 2;\",\n",
              "  'SQLResult': ''},\n",
              " {'Answer': 'Your email has been updated to loni12b@gmail.com',\n",
              "  'Question': 'Can you update my email id to loni12b@gmail.com for user_id = 1',\n",
              "  'SQLQuery': \"UPDATE users SET user_email = 'loni12b@gmail.com' WHERE user_id = 1;\",\n",
              "  'SQLResult': ''}]"
            ]
          },
          "execution_count": 40,
          "metadata": {},
          "output_type": "execute_result"
        }
      ],
      "source": [
        "example_selector.select_examples({\"Question\": \"Can you update my name to loni for user_id = 2\"})"
      ],
      "id": "x7nrNHQPgP3P"
    },
    {
      "cell_type": "markdown",
      "metadata": {
        "id": "20224496"
      },
      "source": [
        "### Setting up PromptTemplete using input variables"
      ],
      "id": "20224496"
    },
    {
      "cell_type": "code",
      "execution_count": null,
      "metadata": {
        "id": "3337e4a0"
      },
      "outputs": [],
      "source": [
        "from langchain.prompts.prompt import PromptTemplate\n",
        "from langchain.prompts import FewShotPromptTemplate\n",
        "from langchain.chains.sql_database.prompt import POSTGRES_PROMPT, PROMPT_SUFFIX\n",
        "\n",
        "example_prompt = PromptTemplate(\n",
        "    input_variables=[\"Question\", \"SQLQuery\", \"SQLResult\",\"Answer\",],\n",
        "    template=\"\\nQuestion: {Question}\\nSQLQuery: {SQLQuery}\\nSQLResult: {SQLResult}\\nAnswer: {Answer}\",\n",
        ")"
      ],
      "id": "3337e4a0"
    },
    {
      "cell_type": "code",
      "execution_count": null,
      "metadata": {
        "id": "-znkomDUtKo9"
      },
      "outputs": [],
      "source": [
        "few_shot_prompt = FewShotPromptTemplate(\n",
        "    example_selector=example_selector,\n",
        "    example_prompt=example_prompt,\n",
        "    # prefix= prefix,\n",
        "    suffix=PROMPT_SUFFIX,\n",
        "    input_variables=[\"input\", \"table_info\", \"top_k\"], #These variables are used in the prefix and suffix\n",
        ")\n",
        "\n",
        "db_chain = SQLDatabaseChain.from_llm(llm, db, verbose=True, prompt=few_shot_prompt)\n",
        "db_chain_sql = SQLDatabaseChain.from_llm(llm, db, verbose=True, prompt=few_shot_prompt, return_sql=True)"
      ],
      "id": "-znkomDUtKo9"
    },
    {
      "cell_type": "code",
      "execution_count": null,
      "metadata": {
        "id": "guP3gv9qLPeZ",
        "outputId": "d3533047-eeb4-429f-b849-1b37275c3b64"
      },
      "outputs": [
        {
          "name": "stdout",
          "output_type": "stream",
          "text": [
            "how much tax i paid for user_id = 1\n",
            "\n",
            "\n",
            "\u001b[1m> Entering new SQLDatabaseChain chain...\u001b[0m\n",
            "how much tax i paid for user_id = 1\n",
            "SQLQuery:"
          ]
        },
        {
          "name": "stderr",
          "output_type": "stream",
          "text": [
            "/opt/conda/lib/python3.10/site-packages/transformers/pipelines/base.py:1101: UserWarning: You seem to be using the pipelines sequentially on GPU. In order to maximize efficiency please use a dataset\n",
            "  warnings.warn(\n"
          ]
        },
        {
          "name": "stdout",
          "output_type": "stream",
          "text": [
            "\u001b[32;1m\u001b[1;3mSELECT SUM(amount::float::integer) AS total_tax_paid FROM transactions JOIN credit_card ON transactions.card_id = credit_card.card_id WHERE credit_card.user_id = 1 AND transactions.category_id::integer > 4;\u001b[0m\n",
            "SQLResult: \u001b[33;1m\u001b[1;3m[(79103,)]\u001b[0m\n",
            "Answer:"
          ]
        },
        {
          "name": "stderr",
          "output_type": "stream",
          "text": [
            "/opt/conda/lib/python3.10/site-packages/transformers/pipelines/base.py:1101: UserWarning: You seem to be using the pipelines sequentially on GPU. In order to maximize efficiency please use a dataset\n",
            "  warnings.warn(\n"
          ]
        },
        {
          "name": "stdout",
          "output_type": "stream",
          "text": [
            "\u001b[32;1m\u001b[1;3mYou have earned $79,103 in tax today!\u001b[0m\n",
            "\u001b[1m> Finished chain.\u001b[0m\n"
          ]
        },
        {
          "data": {
            "text/plain": [
              "'You have earned $79,103 in tax today!'"
            ]
          },
          "execution_count": 48,
          "metadata": {},
          "output_type": "execute_result"
        }
      ],
      "source": [
        "user_id = 1\n",
        "message = \"how much tax i paid\"\n",
        "message = str(message) + ' ' + 'for user_id = '+ str(user_id)\n",
        "print(message)\n",
        "db_chain.run(query=message, batch_size=1)"
      ],
      "id": "guP3gv9qLPeZ"
    },
    {
      "cell_type": "code",
      "execution_count": null,
      "metadata": {
        "id": "4a80e5e2-60c9-49fc-a4e3-36671555fa20",
        "outputId": "688031a9-5764-416e-aa13-7b2e2134ffb1"
      },
      "outputs": [
        {
          "data": {
            "text/plain": [
              "[{'Question': 'Can you update my email id to loni12b@gmail.com for user_id = 1',\n",
              "  'SQLQuery': \"UPDATE users SET user_email = 'loni12b@gmail.com' WHERE user_id = 1;\",\n",
              "  'SQLResult': '',\n",
              "  'Answer': 'Your email has been updated to loni12b@gmail.com'},\n",
              " {'Question': 'Can you update my name to loni for user_id = 2',\n",
              "  'SQLQuery': \"UPDATE users SET user_name = 'loni' WHERE user_id = 2;\",\n",
              "  'SQLResult': '',\n",
              "  'Answer': 'Your name has been updated to loni'},\n",
              " {'Question': 'How many transactions do i have for user_id = 1?',\n",
              "  'SQLQuery': 'SELECT COUNT(*) AS transaction_count FROM transactions JOIN credit_card ON transactions.card_id = credit_card.card_id WHERE credit_card.user_id = 1;',\n",
              "  'SQLResult': '[(507,)]',\n",
              "  'Answer': 'You have 507 transactions.'},\n",
              " {'Question': 'What is my total credit limit for user_id = 1?',\n",
              "  'SQLQuery': 'SELECT SUM(total_credit_limit) AS total_credit_limit FROM credit_card WHERE user_id = 1;',\n",
              "  'SQLResult': '[(40000.0,)]',\n",
              "  'Answer': 'Your total credit limit is 40000'},\n",
              " {'Question': 'Can I see my last 5 transactions for user_id = 2?',\n",
              "  'SQLQuery': 'SELECT * FROM transactions JOIN credit_card ON transactions.card_id = credit_card.card_id WHERE credit_card.user_id = 2 ORDER BY transaction_date DESC LIMIT 5;',\n",
              "  'SQLResult': \"[(1565, 4, datetime.date(2023, 11, 30), 352.09, 'Evans, Norman and Howe', 4, 'Credit', 'Student language chance scene rock sort building need.', 4, 2, '6360000000000000.0', 'VISA 19 digit', datetime.date(2031, 5, 31), 660, datetime.date(2022, 11, 1), 20000.0, 3431.64, 16568.36, 3431.64, 204.0, datetime.date(2023, 12, 23), datetime.date(2023, 12, 13), 501.0), (1308, 6, datetime.date(2023, 11, 30), 362.46, 'Brown-Bailey', 3, 'Credit', 'Road early may whom.', 6, 2, '4860000000000000.0', 'VISA 13 digit', datetime.date(2033, 3, 31), 744, datetime.date(2021, 6, 16), 5000.0, 1814.35, 3185.65, 1814.35, 206.0, datetime.date(2023, 12, 25), datetime.date(2023, 12, 15), 501.0), (1442, 4, datetime.date(2023, 11, 30), 230.35, 'Jenkins PLC', 6, 'Credit', 'Red president anyone.', 4, 2, '6360000000000000.0', 'VISA 19 digit', datetime.date(2031, 5, 31), 660, datetime.date(2022, 11, 1), 20000.0, 3431.64, 16568.36, 3431.64, 204.0, datetime.date(2023, 12, 23), datetime.date(2023, 12, 13), 501.0), (1189, 5, datetime.date(2023, 11, 30), 8.57, 'Mills Inc', 10, 'Credit', 'Serious career thought on exactly director.', 5, 2, '7860000000000000.0', 'Diners Club / Carte Blanche', datetime.date(2026, 9, 30), 758, datetime.date(2018, 12, 8), 15000.0, 66.25, 14933.75, 66.25, 205.0, datetime.date(2023, 12, 24), datetime.date(2023, 12, 14), 501.0), (1580, 4, datetime.date(2023, 11, 29), 347.8, 'Price, Contreras and Gomez', 6, 'Credit', 'Edge run writer perform between.', 4, 2, '6360000000000000.0', 'VISA 19 digit', datetime.date(2031, 5, 31), 660, datetime.date(2022, 11, 1), 20000.0, 3431.64, 16568.36, 3431.64, 204.0, datetime.date(2023, 12, 23), datetime.date(2023, 12, 13), 501.0)]\",\n",
              "  'Answer': \"Here are your last 5 transactions, [(1565, 4, datetime.date(2023, 11, 30), 352.09, 'Evans, Norman and Howe', 4, 'Credit', 'Student language chance scene rock sort building need.', 4, 2, '6360000000000000.0', 'VISA 19 digit', datetime.date(2031, 5, 31), 660, datetime.date(2022, 11, 1), 20000.0, 3431.64, 16568.36, 3431.64, 204.0, datetime.date(2023, 12, 23), datetime.date(2023, 12, 13), 501.0), (1308, 6, datetime.date(2023, 11, 30), 362.46, 'Brown-Bailey', 3, 'Credit', 'Road early may whom.', 6, 2, '4860000000000000.0', 'VISA 13 digit', datetime.date(2033, 3, 31), 744, datetime.date(2021, 6, 16), 5000.0, 1814.35, 3185.65, 1814.35, 206.0, datetime.date(2023, 12, 25), datetime.date(2023, 12, 15), 501.0), (1442, 4, datetime.date(2023, 11, 30), 230.35, 'Jenkins PLC', 6, 'Credit', 'Red president anyone.', 4, 2, '6360000000000000.0', 'VISA 19 digit', datetime.date(2031, 5, 31), 660, datetime.date(2022, 11, 1), 20000.0, 3431.64, 16568.36, 3431.64, 204.0, datetime.date(2023, 12, 23), datetime.date(2023, 12, 13), 501.0), (1189, 5, datetime.date(2023, 11, 30), 8.57, 'Mills Inc', 10, 'Credit', 'Serious career thought on exactly director.', 5, 2, '7860000000000000.0', 'Diners Club / Carte Blanche', datetime.date(2026, 9, 30), 758, datetime.date(2018, 12, 8), 15000.0, 66.25, 14933.75, 66.25, 205.0, datetime.date(2023, 12, 24), datetime.date(2023, 12, 14), 501.0), (1580, 4, datetime.date(2023, 11, 29), 347.8, 'Price, Contreras and Gomez', 6, 'Credit', 'Edge run writer perform between.', 4, 2, '6360000000000000.0', 'VISA 19 digit', datetime.date(2031, 5, 31), 660, datetime.date(2022, 11, 1), 20000.0, 3431.64, 16568.36, 3431.64, 204.0, datetime.date(2023, 12, 23), datetime.date(2023, 12, 13), 501.0)].\"},\n",
              " {'Question': 'How many transactions do I have in category 2 for user_id = 1?',\n",
              "  'SQLQuery': 'SELECT COUNT(*) AS transaction_count FROM transactions JOIN credit_card ON transactions.card_id = credit_card.card_id WHERE credit_card.user_id = 1 AND transactions.category_id = 2;',\n",
              "  'SQLResult': '[(52,)]',\n",
              "  'Answer': 'You have 52 transactions in category 2.'},\n",
              " {'Question': 'How many transactions do I have in category 4 for user_id = 1?',\n",
              "  'SQLQuery': 'SELECT COUNT(*) AS transaction_count FROM transactions JOIN credit_card ON transactions.card_id = credit_card.card_id WHERE credit_card.user_id = 1 AND transactions.category_id = 4;',\n",
              "  'SQLResult': '[(46,)]',\n",
              "  'Answer': 'You have 46 transactions in category 4.'},\n",
              " {'Question': 'How many transactions do I have in category 5 for user_id = 2?',\n",
              "  'SQLQuery': 'SELECT COUNT(*) AS transaction_count FROM transactions JOIN credit_card ON transactions.card_id = credit_card.card_id WHERE credit_card.user_id = 2 AND transactions.category_id = 5;',\n",
              "  'SQLResult': '[(61,)]',\n",
              "  'Answer': 'You have 61 transactions in category 5.'}]"
            ]
          },
          "execution_count": 29,
          "metadata": {},
          "output_type": "execute_result"
        }
      ],
      "source": [
        "few_shot_examples"
      ],
      "id": "4a80e5e2-60c9-49fc-a4e3-36671555fa20"
    },
    {
      "cell_type": "markdown",
      "metadata": {
        "id": "q0OIHBqR3dOF"
      },
      "source": [
        "# Test"
      ],
      "id": "q0OIHBqR3dOF"
    },
    {
      "cell_type": "code",
      "execution_count": null,
      "metadata": {
        "colab": {
          "base_uri": "https://localhost:8080/"
        },
        "id": "OerFKt-lQlhz",
        "outputId": "4ef8d3e2-836c-4d1b-b7f3-3121cc0dbd36"
      },
      "outputs": [
        {
          "data": {
            "text/plain": [
              "{'Question': 'List all the cards going to expire by sep 2026',\n",
              " 'SQLQuery': \"SELECT CardNumber FROM credit_card WHERE ExpiryDate <= '2026-09-30';\",\n",
              " 'SQLResult': [('5040000000001',),\n",
              "  ('35300000000000000',),\n",
              "  ('52300000000000000',)],\n",
              " 'Answer': '5040000000001, 35300000000000000, 52300000000000000'}"
            ]
          },
          "execution_count": 49,
          "metadata": {},
          "output_type": "execute_result"
        }
      ],
      "source": [
        "# with open('text_sql/few_shot_examples', 'rb') as f:\n",
        "#   examples = pickle.load(f)\n",
        "\n",
        "# examples[0]"
      ],
      "id": "OerFKt-lQlhz"
    },
    {
      "cell_type": "code",
      "execution_count": null,
      "metadata": {
        "id": "h2JT3k6ji8gR"
      },
      "outputs": [],
      "source": [
        "failed_items = []\n",
        "for i, item in enumerate(examples):\n",
        "    que = item['Question']\n",
        "    print(que)\n",
        "    print('----------------------------------')\n",
        "    print(item['Answer'])\n",
        "    print('----------------------------------')\n",
        "    try:\n",
        "      model_output = db_chain.run(que)\n",
        "    except:\n",
        "      failed_items.append(que)\n",
        "      print('\\nModel failed')\n",
        "\n",
        "    print('**********************************')\n",
        "    print('\\n')"
      ],
      "id": "h2JT3k6ji8gR"
    },
    {
      "cell_type": "code",
      "execution_count": null,
      "metadata": {
        "id": "RjZ9DIV3_FjU"
      },
      "outputs": [],
      "source": [
        "def sql_agent(query):\n",
        "  try:\n",
        "    return SQLDatabaseChain.from_llm(llm, db, verbose=True, prompt=few_shot_prompt).run(query)\n",
        "  except:\n",
        "    return SQLDatabaseChain.from_llm(llm, db, verbose=True, prompt=few_shot_prompt, return_sql=True).run(query)"
      ],
      "id": "RjZ9DIV3_FjU"
    },
    {
      "cell_type": "code",
      "execution_count": null,
      "metadata": {
        "colab": {
          "base_uri": "https://localhost:8080/",
          "height": 264
        },
        "id": "aAjxSrpy_GzE",
        "outputId": "3abd6c5e-54f2-4395-d173-b86c852cf792"
      },
      "outputs": [
        {
          "name": "stdout",
          "output_type": "stream",
          "text": [
            "\n",
            "\n",
            "\u001b[1m> Entering new SQLDatabaseChain chain...\u001b[0m\n",
            "what is the category name for category id 5\n",
            "SQLQuery:"
          ]
        },
        {
          "name": "stderr",
          "output_type": "stream",
          "text": [
            "/opt/conda/lib/python3.10/site-packages/transformers/pipelines/base.py:1101: UserWarning: You seem to be using the pipelines sequentially on GPU. In order to maximize efficiency please use a dataset\n",
            "  warnings.warn(\n"
          ]
        },
        {
          "name": "stdout",
          "output_type": "stream",
          "text": [
            "\u001b[32;1m\u001b[1;3mSELECT category_name FROM category WHERE category_id = 5;\u001b[0m\n",
            "SQLResult: \u001b[33;1m\u001b[1;3m[('Loan',)]\u001b[0m\n",
            "Answer:"
          ]
        },
        {
          "name": "stderr",
          "output_type": "stream",
          "text": [
            "/opt/conda/lib/python3.10/site-packages/transformers/pipelines/base.py:1101: UserWarning: You seem to be using the pipelines sequentially on GPU. In order to maximize efficiency please use a dataset\n",
            "  warnings.warn(\n"
          ]
        },
        {
          "name": "stdout",
          "output_type": "stream",
          "text": [
            "\u001b[32;1m\u001b[1;3mLoan\u001b[0m\n",
            "\u001b[1m> Finished chain.\u001b[0m\n"
          ]
        },
        {
          "data": {
            "text/plain": [
              "'Loan'"
            ]
          },
          "execution_count": 95,
          "metadata": {},
          "output_type": "execute_result"
        }
      ],
      "source": [
        "sql_agent(\"what is the category name for category id 5\")"
      ],
      "id": "aAjxSrpy_GzE"
    },
    {
      "cell_type": "markdown",
      "metadata": {
        "id": "CH2xjIpd_vtT"
      },
      "source": [
        "# UI"
      ],
      "id": "CH2xjIpd_vtT"
    },
    {
      "cell_type": "code",
      "execution_count": null,
      "metadata": {
        "colab": {
          "base_uri": "https://localhost:8080/",
          "height": 479
        },
        "id": "Xy0GzIYy_u2U",
        "outputId": "d535b3ec-992d-48c3-9755-ebdb84b13964"
      },
      "outputs": [
        {
          "name": "stdout",
          "output_type": "stream",
          "text": [
            "Running on local URL:  http://127.0.0.1:7860\n",
            "Running on public URL: https://bb1ad65894a47705ef.gradio.live\n",
            "\n",
            "This share link expires in 72 hours. For free permanent hosting and GPU upgrades, run `gradio deploy` from Terminal to deploy to Spaces (https://huggingface.co/spaces)\n"
          ]
        },
        {
          "data": {
            "text/html": [
              "<div><iframe src=\"https://bb1ad65894a47705ef.gradio.live\" width=\"100%\" height=\"500\" allow=\"autoplay; camera; microphone; clipboard-read; clipboard-write;\" frameborder=\"0\" allowfullscreen></iframe></div>"
            ],
            "text/plain": [
              "<IPython.core.display.HTML object>"
            ]
          },
          "metadata": {},
          "output_type": "display_data"
        },
        {
          "name": "stdout",
          "output_type": "stream",
          "text": [
            "\n",
            "\n",
            "\u001b[1m> Entering new SQLDatabaseChain chain...\u001b[0m\n",
            "Can you update my email id to loni12b@gmail.com for user_id = 1\n",
            "SQLQuery:"
          ]
        },
        {
          "name": "stderr",
          "output_type": "stream",
          "text": [
            "/opt/conda/lib/python3.10/site-packages/transformers/pipelines/base.py:1101: UserWarning: You seem to be using the pipelines sequentially on GPU. In order to maximize efficiency please use a dataset\n",
            "  warnings.warn(\n"
          ]
        },
        {
          "name": "stdout",
          "output_type": "stream",
          "text": [
            "\u001b[32;1m\u001b[1;3mSELECT user_id::TEXT || ', '::TEXT || user_name::TEXT || ', '::TEXT || user_email::TEXT AS info FROM users WHERE user_id::TEXT ilike '%1%' ORDER BY length(user_id::TEXT);\u001b[0m\n",
            "SQLResult: \u001b[33;1m\u001b[1;3m[('1, Gabrielle Anderson, loni12b@gmail.com',), ('61, Larry Scott, watsonjennifer@gmail.com',), ('71, Kathryn Landry, cody76@schneider.com',), ('10, Juan Bailey, sandersshelby@barber-allen.com',), ('81, Monica Gilbert, davidkey@holmes.com',), ('91, David Barker, alfred46@yahoo.com',), ('11, Dwayne Rogers, patriciawebster@gmail.com',), ('12, Lisa Roberson, elizabethwalters@burton.info',), ('13, Jessica Barber, ortegalisa@williams-munoz.com',), ('51, Courtney Norton, wilsongregory@yahoo.com',), ('15, Anthony White, harrissarah@yahoo.com',), ('16, Rick Johnson, michele09@graham-baker.net',), ('17, Joseph Garcia, stacey81@clay-perez.org',), ('18, Brenda Mckinney, xkim@gmail.com',), ('19, Shane Walker MD, jmoore@hotmail.com',), ('21, Kevin Lowe, tbrown@fields.com',), ('31, William Charles, darrelldaniel@hotmail.com',), ('41, Zachary Howard, faith87@gmail.com',), ('14, Ashley Reed, henry56@yahoo.com',), ('118, Nathan Glover, penarobert@savage-gonzales.com',), ('119, Christopher Pearson, gonzalezkyle@gmail.com',), ('120, Michael Wagner, vincent73@gmail.com',), ('121, Terry Gray, briangarcia@davis.net',), ('122, Christopher Meyer, james03@yahoo.com',), ('123, Michael Castro, ytucker@mcdonald.biz',), ('124, David Castillo, clarkjerry@barnes-stevens.com',), ('125, Mike Baker, falexander@gmail.com',), ('126, Robert Jones, thomas22@mayer-stevens.com',), ('127, Kyle Kelley, russellmary@yahoo.com',), ('128, Dr. Mary Garcia, oblack@yahoo.com',), ('129, Renee Steele, louismiller@yahoo.com',), ('130, Brian Adams, richardjordan@gmail.com',), ('131, Jocelyn Hart, kimberly33@hotmail.com',), ('132, Ashlee Morton, jillhernandez@ramsey-long.com',), ('133, Joshua Johnston, meganlang@baker-hamilton.info',), ('134, Heather Baker, amber37@marquez-molina.biz',), ('135, Joshua Winters, christopher01@gmail.com',), ('136, Amy Wang, nunezkimberly@yahoo.com',), ('137, Michael Edwards, vincent97@yahoo.com',), ('138, Danielle Simmons, hawkinsallen@zamora.com',), ('139, Lindsey Mcintosh, dennisnicole@webb-spence.net',), ('140, Jeffrey Reed, sanchezfernando@warren-kramer.com',), ('141, Valerie Solomon, ovelazquez@yahoo.com',), ('142, Jesse Berg, elizabeth91@yahoo.com',), ('143, James Massey, arnoldrussell@hotmail.com',), ('144, Kaitlyn Newton, david82@moran.biz',), ('145, Taylor Reynolds, hansonjennifer@moore-martin.com',), ('146, Kristin Becker, lgeorge@west-mora.info',), ('147, Michael Morales, gonzalezkeith@hotmail.com',), ('148, Dr. Joseph Rogers, andersonbonnie@gmail.com',), ('149, Eric Scott, jeremy71@fox-lewis.com',), ('150, Crystal Mcguire, yangjesse@washington-jackson.com',), ('151, Diamond Alexander, piercesean@nguyen.com',), ('152, John Liu, rosejean@holloway.com',), ('153, Jason Kelly, ryan22@yahoo.com',), ('154, Samantha Avery, benderlisa@hotmail.com',), ('155, Bryan Lopez, garrett05@yahoo.com',), ('156, Robert Francis, jonathandavis@williams.com',), ('157, Nathan Santos MD, lisasanchez@gmail.com',), ('158, Justin Wilcox, sjordan@gmail.com',), ('159, Michael Mccoy, lisa14@yahoo.com',), ('160, Danny Diaz, benjamin53@gmail.com',), ('161, Vincent Burton, hector50@yahoo.com',), ('162, Tina Elliott, eshannon@walsh-johnson.com',), ('163, John Lee, ortizheather@greene.com',), ('164, Stacy Rocha, uwilson@reynolds-fisher.com',), ('165, Karen Morales, swatson@evans.biz',), ('166, Bryan Morse, teresa08@guerrero-hayes.com',), ('167, Henry Warren, crystal74@gmail.com',), ('168, Holly Alexander, jwashington@gmail.com',), ('169, Gina Russo, adkinsalicia@gmail.com',), ('170, Angela Morse, kyleross@yahoo.com',), ('171, Bobby Sexton, james58@morrison.net',), ('172, Veronica Cooper, olsondaniel@jones-jackson.com',), ('173, Katie Wagner, michelle55@yahoo.com',), ('174, Jacqueline Howard, amiller@little.net',), ('175, George Arnold, willisapril@anderson.com',), ('176, Christine Miller, jeremymartinez@hotmail.com',), ('177, Antonio Lin, hjuarez@yahoo.com',), ('178, Lauren Gomez, hmorris@hotmail.com',), ('179, Terry Herring, fchan@yahoo.com',), ('180, Stephen Thomas, matthewmartinez@yahoo.com',), ('181, Kevin Brown, samuel35@yahoo.com',), ('182, Nina Walters, cynthia16@flynn.com',), ('183, Bryan Johnson DDS, crystal83@yahoo.com',), ('184, Jackie Spears, kathryn15@martin.com',), ('185, Jane Rodriguez, rebecca57@gmail.com',), ('186, Tammy Johnson, tgarcia@gmail.com',), ('187, Adam Brooks, ronnie59@yahoo.com',), ('188, Mackenzie Davis, melanie61@rangel.com',), ('189, Mason Guzman, nbrown@hotmail.com',), ('190, Michele Smith, wesleystevens@gmail.com',), ('191, Amanda Harris, randy70@hotmail.com',), ('192, Wayne Barrera, lindajordan@yahoo.com',), ('193, Michelle Mcintyre, blakehannah@baker.biz',), ('194, Christine Nunez, laurasalinas@sherman-baker.com',), ('195, Gina Robinson, kevinstewart@lopez.info',), ('196, Michael Jones, jenniferbrewer@hotmail.com',), ('197, Lori Simpson, duncanpatricia@perez.biz',), ('198, Andrea Castillo, medinadestiny@phillips.com',), ('199, Shane Martinez, brycehernandez@peck-ross.net',), ('201, Sophia Jones, cnguyen@yahoo.com',), ('210, Yvonne Carrillo, cheryl16@walker-olson.com',), ('211, Andrew Price, amandaparker@gmail.com',), ('212, Michelle Green, adamgutierrez@graham-osborne.com',), ('213, Karen Smith, mary20@patel.com',), ('214, Alexander Hess, bridgessue@scott-salazar.com',), ('215, Zachary Knight, mgarcia@yahoo.com',), ('216, Allison Roberts, matthewjohnston@hotmail.com',), ('217, Carlos Foster, joshua00@marshall-mcmahon.com',), ('218, Connie Ellis, justin67@hotmail.com',), ('219, Mrs. Teresa Cunningham, padams@archer.org',), ('221, Olivia Martin, kennethdixon@williams.net',), ('231, Mackenzie Sanchez, paulshepherd@gmail.com',), ('241, Amber Shields, suzannelee@hotmail.com',), ('251, Carl Church, ufox@hotmail.com',), ('261, Julie Lynn, tracybailey@bell-duncan.org',), ('271, Kelly Ellison, ccannon@hotmail.com',), ('281, Jennifer Skinner, ian96@yahoo.com',), ('291, Chelsea Rivera, patricia88@gmail.com',), ('301, Ryan Cooper, holly84@yahoo.com',), ('310, Wanda Carter, hutchinsonphillip@gmail.com',), ('311, Maria Rhodes, kylefreeman@yahoo.com',), ('312, James Hall, lynn03@white.org',), ('313, Matthew Garrett, brandon11@davis-henson.com',), ('314, Hannah Beard, edward05@yahoo.com',), ('315, Jamie Cooper, jonathanromero@hotmail.com',), ('316, Danny Pearson, spencecindy@adams-torres.com',), ('317, Brenda Huang, lvalentine@hotmail.com',), ('318, Joyce Mata, denisewolfe@gmail.com',), ('319, Paul Lloyd, boonecindy@smith.org',), ('321, Yvette Clark, jjenkins@gill.info',), ('331, Joshua Robertson, shelby96@young-bartlett.com',), ('341, Jonathan Vaughn, meganjohnston@martin.com',), ('351, William Burnett, udonaldson@gmail.com',), ('361, Kristen Carter, markbrown@yahoo.com',), ('371, Omar Howe, ashley75@mcdonald.net',), ('381, Jessica Wiggins, jesus40@white-vasquez.com',), ('391, Helen Turner, jonowens@cardenas.com',), ('401, Anthony Hawkins, davisrichard@yahoo.com',), ('410, James Gonzalez, samanthamurphy@guerrero.com',), ('411, Amanda Martinez, stephaniegriffin@powers.biz',), ('412, Emily Rogers, aprilfitzgerald@gmail.com',), ('413, Troy Greene, tboyd@hotmail.com',), ('414, James Martinez, fferguson@hotmail.com',), ('415, Christina Davidson, michael54@christian-payne.com',), ('416, Mr. Daniel Cain, david28@davis.net',), ('417, Joel Kim, bridgethart@doyle.biz',), ('418, Katie Peterson, elliswilliam@jenkins.com',), ('419, Brendan Simmons, margaretbright@curtis.com',), ('421, Heather Rice, ugillespie@aguirre-greer.com',), ('431, Richard Caldwell, vjones@braun.biz',), ('441, Robert Sherman, robert63@gmail.com',), ('451, Tracy Phillips, matthew25@yahoo.com',), ('461, Jennifer Rodriguez, ykim@hotmail.com',), ('471, Kimberly Keith, scottmargaret@yahoo.com',), ('481, Tiffany Howard, vincentestrada@jackson.com',), ('491, Mia Baldwin, michelle04@cortez.net',), ('501, Stacy Jones, fieldsbenjamin@diaz-hicks.com',), ('510, Catherine Flores, djohnson@gmail.com',), ('511, Raymond Sanchez, warren72@figueroa.com',), ('512, Eric Mcpherson, bushsamantha@hotmail.com',), ('513, Jennifer Weaver, vasquezmallory@hotmail.com',), ('514, Joseph Huber, smithscott@yahoo.com',), ('515, Allison Montoya, julia06@hotmail.com',), ('516, Renee Dawson, dvaldez@sexton.org',), ('517, Cole Bell, wterry@butler-gibson.com',), ('518, Jennifer Gordon, jenniferadams@gmail.com',), ('519, Timothy Martin, claudiamason@yahoo.com',), ('521, Diana Cole, davidmartinez@gonzalez.com',), ('531, John Hebert, juan33@smith-taylor.com',), ('541, Kathleen Thompson, laurengonzalez@jordan-curry.com',), ('551, James Washington, njones@leon-smith.info',), ('561, Cory Norris, lindamccarthy@gmail.com',), ('571, Mark Walsh, cookcharles@gmail.com',), ('581, Derek Villanueva, laurengilbert@campbell.info',), ('591, Kelly Gilbert, christine49@hotmail.com',), ('601, Jeffery Blankenship, yjames@huber.com',), ('610, Jason Dean, jaclynhammond@hotmail.com',), ('611, David Miller, thompsonsara@hotmail.com',), ('612, Jennifer Scott, thompsondavid@dixon-scott.info',), ('613, Paul Garner, jennifer33@schaefer-young.com',), ('614, Brandy Stout, lneal@harris.net',), ('615, Michael Haynes, georgeyang@yahoo.com',), ('616, Katherine Terry, richard77@doyle.com',), ('617, Craig Ibarra, kristina27@carlson.com',), ('618, William Watson, derek79@smith-perez.com',), ('619, Taylor Parker, james72@rollins.biz',), ('621, George Mason, sara84@hotmail.com',), ('631, Philip Solomon, danielelizabeth@yahoo.com',), ('641, Kristi Peck, jenniferjohnson@yahoo.com',), ('651, Renee Griffith, michael89@mitchell.com',), ('661, Hannah Villa, nancy39@hotmail.com',), ('671, Meghan Morris, walkercynthia@reeves.info',), ('681, Veronica Powers, jenniferturner@hotmail.com',), ('691, Todd Gomez, oking@yahoo.com',), ('701, Michelle Ortiz, michaelmoss@kim-gonzalez.org',), ('710, Steven Escobar, omartinez@galloway-gallagher.biz',), ('711, Beth Robinson, knoxbrittany@smith-sherman.com',), ('712, Joshua Norton, jonesrobert@lewis.com',), ('713, Nicholas Lucas, gfernandez@smith.com',), ('714, Clayton Brown, moseskevin@morris.com',), ('715, Lisa Russell, tammy10@patel.com',), ('716, Isaiah Coleman, nfoster@gonzalez.net',), ('717, Sandy Carroll, melissa99@rivera.info',), ('718, Lisa Burns, edwardmartinez@alvarez.com',), ('719, Erica Page, bradleyward@brooks-thomas.com',), ('721, Robert Soto, steven06@kane.com',), ('731, Brian Walters, scott91@robles.info',), ('741, Shirley Pruitt, karenfisher@cooley.biz',), ('751, Christopher Wright, janetduffy@mcbride.com',), ('761, Ashley Gardner, charlenewilliams@knight-moore.com',), ('771, Joe Price, kimberlyhardy@hotmail.com',), ('781, Jeremy Todd, sara32@sanchez.info',), ('791, Steve Wagner, rhonda39@hotmail.com',), ('801, Kathryn Wood, emontgomery@yahoo.com',), ('810, Pamela Clark, nicholas66@yahoo.com',), ('811, Joseph Cruz, jeffreymiller@fowler.com',), ('812, Natalie Joseph, gina09@thompson.com',), ('813, Samantha Pena, adaniel@mcmahon.org',), ('815, Tiffany Thompson, vglass@bautista.biz',), ('816, Amanda Hoover, marisahardy@smith.com',), ('817, Lauren Guzman, williamhernandez@hotmail.com',), ('818, Kelli Smith, henrydavid@young.com',), ('819, Heather Collins, jacksonmelissa@lyons.net',), ('821, James Bailey, sarah46@gmail.com',), ('831, Briana Prince, matthew45@gmail.com',), ('841, Joseph Thompson, dsmith@hotmail.com',), ('851, Evan Miller, julie90@yahoo.com',), ('861, Austin Ortiz, marygarcia@gmail.com',), ('871, Matthew Cole, ashley32@johnson-ross.com',), ('881, Rachel Sparks, taylorrodney@yahoo.com',), ('891, Kelly Thomas, tanyamcguire@hotmail.com',), ('901, Patricia Gray, wbolton@hutchinson.info',), ('910, Eric Garza, fwashington@gmail.com',), ('911, Melanie Duncan, welchlisa@thomas.com',), ('912, James Stewart, alexandramcguire@johnson-robinson.com',), ('913, Alyssa Escobar, kaylaanderson@carlson.org',), ('914, Jonathan Snyder, brett34@aguilar.org',), ('915, Russell Thompson, stanleychad@williams.com',), ('916, Mason Lambert, anne16@mitchell.com',), ('917, Stephen Whitney, martinezryan@craig.com',), ('918, Jared Fischer, ndouglas@hotmail.com',), ('919, Sarah Deleon, brandi89@hotmail.com',), ('921, John Mosley, hickmanrobert@bates-wagner.com',), ('931, Emily Baker, penabrenda@gmail.com',), ('941, Lindsay Walters, eclay@yahoo.com',), ('951, Joshua Frye, shannon66@berry-mason.com',), ('961, Melissa Harrison, kathybuck@walker-hicks.biz',), ('971, Heather Doyle, goodmanthomas@ellis.net',), ('981, Miss Molly Roberts, janet64@hotmail.com',), ('991, Gary Reyes, pam30@yahoo.com',), ('814, Lisa Wright, coryhernandez@hotmail.com',), ('100, Michael Owen, nancypayne@flores.biz',), ('101, Katherine Watkins, zlee@yahoo.com',), ('102, Tiffany Bond, jacksonmichelle@carter-brown.biz',), ('103, Nicholas Cooper, ronald60@yahoo.com',), ('104, Tyler Smith, jonathan89@daugherty.info',), ('105, Allison Campbell, carolyneverett@jones.com',), ('106, Chelsea Ortiz, jeanne71@hotmail.com',), ('107, Joshua Cole, wintersmichelle@yahoo.com',), ('108, Samantha Soto, phillipboyd@gibson.com',), ('109, Angel Scott, ycox@hotmail.com',), ('110, Brian Smith, kayla78@long-walsh.com',), ('111, Vincent Wu, nguyenashley@yahoo.com',), ('112, Jonathan Smith, sullivankyle@yahoo.com',), ('113, Monique Miller, jeffrey02@hotmail.com',), ('114, Jennifer Figueroa, greerelijah@phillips-griffith.com',), ('115, Kathryn Meyer, whill@gmail.com',), ('116, Darius Howell, zbenjamin@roberts.com',), ('117, Gabriel Salazar, blake08@yahoo.com',), ('1000, Mindy Smith, alexgriffin@gmail.com',)]\u001b[0m\n",
            "Answer:\n",
            "\n",
            "\u001b[1m> Entering new SQLDatabaseChain chain...\u001b[0m\n",
            "Can you update my email id to loni12b@gmail.com for user_id = 1\n",
            "SQLQuery:"
          ]
        },
        {
          "name": "stderr",
          "output_type": "stream",
          "text": [
            "/opt/conda/lib/python3.10/site-packages/transformers/pipelines/base.py:1101: UserWarning: You seem to be using the pipelines sequentially on GPU. In order to maximize efficiency please use a dataset\n",
            "  warnings.warn(\n",
            "/opt/conda/lib/python3.10/site-packages/transformers/pipelines/base.py:1101: UserWarning: You seem to be using the pipelines sequentially on GPU. In order to maximize efficiency please use a dataset\n",
            "  warnings.warn(\n"
          ]
        },
        {
          "name": "stdout",
          "output_type": "stream",
          "text": [
            "\n",
            "\u001b[1m> Finished chain.\u001b[0m\n",
            "Keyboard interruption in main thread... closing server.\n",
            "Killing tunnel 127.0.0.1:7860 <> https://bb1ad65894a47705ef.gradio.live\n"
          ]
        }
      ],
      "source": [
        "def respond(message, user_id, chat_history):\n",
        "    # message = message.replace('i', 'we').replace('my', 'the')\n",
        "    message = str(message) + ' ' + 'for user_id = '+ user_id\n",
        "    sql_output = sql_agent(message)\n",
        "    chat_history.append((message, sql_output))\n",
        "    return \"\", user_id, chat_history\n",
        "\n",
        "with gr.Blocks() as demo:\n",
        "    gr.Markdown(\"Text to SQL agent\")\n",
        "    chat_history = gr.Chatbot(bubble_full_width=False, label=\"Conversations\", show_copy_button=True, layout=\"bubble\", visible=True)\n",
        "    user_id = gr.Textbox(label = \"User Id\", placeholder = \"Enter user id here\")\n",
        "    question = gr.Textbox(label = \"Question\", placeholder = \"Ask your question here\")\n",
        "\n",
        "    clear = gr.ClearButton([question, chat_history, user_id])\n",
        "\n",
        "    question.submit(respond, [question, user_id, chat_history], [question, user_id, chat_history])\n",
        "\n",
        "if __name__ == \"__main__\":\n",
        "    demo.launch(debug=True, share=True)"
      ],
      "id": "Xy0GzIYy_u2U"
    }
  ],
  "metadata": {
    "colab": {
      "collapsed_sections": [
        "F5uh6_AqWPNq"
      ],
      "provenance": [],
      "gpuType": "T4",
      "machine_shape": "hm",
      "include_colab_link": true
    },
    "kernelspec": {
      "display_name": "Python 3",
      "name": "python3"
    },
    "language_info": {
      "codemirror_mode": {
        "name": "ipython",
        "version": 3
      },
      "file_extension": ".py",
      "mimetype": "text/x-python",
      "name": "python",
      "nbconvert_exporter": "python",
      "pygments_lexer": "ipython3",
      "version": "3.10.11"
    },
    "accelerator": "GPU"
  },
  "nbformat": 4,
  "nbformat_minor": 5
}