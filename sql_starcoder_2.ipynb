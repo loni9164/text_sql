{
  "cells": [
    {
      "cell_type": "markdown",
      "metadata": {
        "id": "view-in-github",
        "colab_type": "text"
      },
      "source": [
        "<a href=\"https://colab.research.google.com/github/loni9164/text_sql/blob/main/sql_starcoder_2.ipynb\" target=\"_parent\"><img src=\"https://colab.research.google.com/assets/colab-badge.svg\" alt=\"Open In Colab\"/></a>"
      ]
    },
    {
      "cell_type": "markdown",
      "source": [
        "# Install libraries"
      ],
      "metadata": {
        "id": "NRJ1uVF_CFRs"
      },
      "id": "NRJ1uVF_CFRs"
    },
    {
      "cell_type": "code",
      "source": [
        "!pip install langchain langchain-experimental\n",
        "!pip install -q  langchain\n",
        "!pip install sentence-transformers\n",
        "!pip install chromadb\n",
        "\n",
        "!pip3 install transformers optimum\n",
        "!pip3 install auto-gptq --extra-index-url https://huggingface.github.io/autogptq-index/whl/cu121/  # Use cu117 if on CUDA 11.7\n",
        "!pip install gradio"
      ],
      "metadata": {
        "id": "eXeXOuRSCEC6"
      },
      "id": "eXeXOuRSCEC6",
      "execution_count": null,
      "outputs": []
    },
    {
      "cell_type": "code",
      "source": [
        "!apt-get -qq update\n",
        "!apt-get -qq -y install postgresql\n",
        "!pip install psycopg2-binary"
      ],
      "metadata": {
        "id": "x3yJPAEIZrgD"
      },
      "id": "x3yJPAEIZrgD",
      "execution_count": null,
      "outputs": []
    },
    {
      "cell_type": "markdown",
      "source": [
        "# Imports"
      ],
      "metadata": {
        "id": "q1ISjvxMaeJD"
      },
      "id": "q1ISjvxMaeJD"
    },
    {
      "cell_type": "code",
      "source": [
        "import psycopg2\n",
        "import sqlite3\n",
        "import time\n",
        "import pickle\n",
        "import re\n",
        "\n",
        "# from langchain.llms import CTransformers\n",
        "from langchain import PromptTemplate, LLMChain\n",
        "from langchain.callbacks.manager import CallbackManager\n",
        "from langchain.callbacks.streaming_stdout import StreamingStdOutCallbackHandler\n",
        "from langchain.utilities import SQLDatabase\n",
        "from langchain.prompts import PromptTemplate\n",
        "from langchain_experimental.sql import SQLDatabaseChain"
      ],
      "metadata": {
        "id": "C6Dy4_rpaV81"
      },
      "id": "C6Dy4_rpaV81",
      "execution_count": 1,
      "outputs": []
    },
    {
      "cell_type": "markdown",
      "source": [
        "# Create PostgreSQL"
      ],
      "metadata": {
        "id": "AX8sEAgnolYu"
      },
      "id": "AX8sEAgnolYu"
    },
    {
      "cell_type": "code",
      "source": [
        "!service postgresql start\n",
        "!sudo -u postgres psql -U postgres -c \"ALTER USER postgres PASSWORD '12345';\"\n",
        "!service postgresql restart"
      ],
      "metadata": {
        "id": "mzBZbiL5EFT-",
        "outputId": "b4775888-11e7-4348-a9b3-4d3b93891b1f",
        "colab": {
          "base_uri": "https://localhost:8080/"
        }
      },
      "id": "mzBZbiL5EFT-",
      "execution_count": 2,
      "outputs": [
        {
          "output_type": "stream",
          "name": "stdout",
          "text": [
            " * Starting PostgreSQL 14 database server\n",
            "   ...done.\n",
            "ALTER ROLE\n",
            " * Restarting PostgreSQL 14 database server\n",
            "   ...done.\n"
          ]
        }
      ]
    },
    {
      "cell_type": "code",
      "source": [
        "conn = psycopg2.connect(\n",
        "    host=\"localhost\",\n",
        "    user=\"postgres\",\n",
        "    password=\"12345\",  # Use the correct password here\n",
        "    dbname=\"postgres\"\n",
        ")\n",
        "conn.autocommit = True\n",
        "cursor = conn.cursor()"
      ],
      "metadata": {
        "id": "4eIr03DB02vi"
      },
      "execution_count": 3,
      "outputs": [],
      "id": "4eIr03DB02vi"
    },
    {
      "cell_type": "code",
      "source": [
        "# Creating a new database\n",
        "cursor.execute(\"CREATE DATABASE credit_card_system\")\n",
        "cursor.close()\n",
        "conn.close()"
      ],
      "metadata": {
        "id": "kveFM3obBEaq",
        "outputId": "dbfb3da2-2dca-4d2f-d831-e0ec7bbd86d5",
        "colab": {
          "base_uri": "https://localhost:8080/",
          "height": 227
        }
      },
      "execution_count": 4,
      "outputs": [
        {
          "output_type": "error",
          "ename": "DuplicateDatabase",
          "evalue": "ignored",
          "traceback": [
            "\u001b[0;31m---------------------------------------------------------------------------\u001b[0m",
            "\u001b[0;31mDuplicateDatabase\u001b[0m                         Traceback (most recent call last)",
            "\u001b[0;32m<ipython-input-4-d050cf6469fd>\u001b[0m in \u001b[0;36m<cell line: 2>\u001b[0;34m()\u001b[0m\n\u001b[1;32m      1\u001b[0m \u001b[0;31m# Creating a new database\u001b[0m\u001b[0;34m\u001b[0m\u001b[0;34m\u001b[0m\u001b[0m\n\u001b[0;32m----> 2\u001b[0;31m \u001b[0mcursor\u001b[0m\u001b[0;34m.\u001b[0m\u001b[0mexecute\u001b[0m\u001b[0;34m(\u001b[0m\u001b[0;34m\"CREATE DATABASE credit_card_system\"\u001b[0m\u001b[0;34m)\u001b[0m\u001b[0;34m\u001b[0m\u001b[0;34m\u001b[0m\u001b[0m\n\u001b[0m\u001b[1;32m      3\u001b[0m \u001b[0mcursor\u001b[0m\u001b[0;34m.\u001b[0m\u001b[0mclose\u001b[0m\u001b[0;34m(\u001b[0m\u001b[0;34m)\u001b[0m\u001b[0;34m\u001b[0m\u001b[0;34m\u001b[0m\u001b[0m\n\u001b[1;32m      4\u001b[0m \u001b[0mconn\u001b[0m\u001b[0;34m.\u001b[0m\u001b[0mclose\u001b[0m\u001b[0;34m(\u001b[0m\u001b[0;34m)\u001b[0m\u001b[0;34m\u001b[0m\u001b[0;34m\u001b[0m\u001b[0m\n",
            "\u001b[0;31mDuplicateDatabase\u001b[0m: database \"credit_card_system\" already exists\n"
          ]
        }
      ],
      "id": "kveFM3obBEaq"
    },
    {
      "cell_type": "code",
      "source": [
        "# Connecting to the new database\n",
        "conn = psycopg2.connect(\n",
        "    host=\"localhost\",\n",
        "    user=\"postgres\",\n",
        "    password=\"12345\",\n",
        "    dbname=\"credit_card_system\"\n",
        ")\n",
        "cursor = conn.cursor()"
      ],
      "metadata": {
        "id": "TsE8T1Dt5dvy"
      },
      "execution_count": null,
      "outputs": [],
      "id": "TsE8T1Dt5dvy"
    },
    {
      "cell_type": "code",
      "source": [
        "# SQL statements to create tables\n",
        "create_table_statements = [\n",
        "    \"\"\"\n",
        "    CREATE TABLE branch (\n",
        "        branch_id INTEGER,\n",
        "        branch_name TEXT,\n",
        "        branch_address TEXT,\n",
        "        branch_phone TEXT,\n",
        "        branch_manager TEXT,\n",
        "        branch_email TEXT,\n",
        "        established_date DATE,\n",
        "        number_of_employees INTEGER,\n",
        "        PRIMARY KEY (branch_id)\n",
        "    )\n",
        "    \"\"\",\n",
        "    \"\"\"\n",
        "    CREATE TABLE category (\n",
        "        category_id INTEGER,\n",
        "        category_name TEXT,\n",
        "        PRIMARY KEY (category_id)\n",
        "    )\n",
        "    \"\"\",\n",
        "\n",
        "    \"\"\"\n",
        "    CREATE TABLE users (\n",
        "        user_id INTEGER,\n",
        "        user_name TEXT,\n",
        "        user_email TEXT,\n",
        "        user_address TEXT,\n",
        "        user_phone TEXT,\n",
        "        date_of_birth DATE,\n",
        "        registration_date DATE,\n",
        "        status TEXT,\n",
        "        branch_id INTEGER,\n",
        "        PRIMARY KEY (user_id),\n",
        "        FOREIGN KEY(branch_id) REFERENCES branch (branch_id)\n",
        "    )\n",
        "    \"\"\",\n",
        "\n",
        "    \"\"\"\n",
        "    CREATE TABLE credit_card (\n",
        "        card_id INTEGER,\n",
        "        user_id INTEGER,\n",
        "        card_number TEXT,\n",
        "        card_type TEXT,\n",
        "        expiry_date DATE,\n",
        "        cvv INTEGER,\n",
        "        issue_date DATE,\n",
        "        total_credit_limit REAL,\n",
        "        current_outstanding_amount REAL,\n",
        "        remaining_credit_limit REAL,\n",
        "        total_amount_due REAL,\n",
        "        minimum_amount_due REAL,\n",
        "        statement_date DATE,\n",
        "        amount_due_on DATE,\n",
        "        control_limit REAL,\n",
        "        PRIMARY KEY (card_id),\n",
        "        FOREIGN KEY(user_id) REFERENCES users (user_id)\n",
        "    )\n",
        "    \"\"\",\n",
        "\n",
        "    \"\"\"\n",
        "    CREATE TABLE transactions (\n",
        "        transaction_id INTEGER,\n",
        "        card_id INTEGER,\n",
        "        transaction_date DATE,\n",
        "        amount REAL,\n",
        "        merchant TEXT,\n",
        "        category_id INTEGER,\n",
        "        transaction_type TEXT,\n",
        "        description TEXT,\n",
        "        PRIMARY KEY (transaction_id),\n",
        "        FOREIGN KEY(card_id) REFERENCES credit_card (card_id),\n",
        "        FOREIGN KEY(category_id) REFERENCES category (category_id)\n",
        "    )\n",
        "    \"\"\",\n",
        "\n",
        "    \"\"\"\n",
        "    CREATE TABLE credit_card_financial (\n",
        "        financial_id INTEGER,\n",
        "        card_id INTEGER,\n",
        "        overdue_charges REAL,\n",
        "        loan_amount REAL,\n",
        "        emi_amount REAL,\n",
        "        emi_due_date DATE,\n",
        "        interest_rate REAL,\n",
        "        payment_due_date DATE,\n",
        "        minimum_payment REAL,\n",
        "        PRIMARY KEY (financial_id),\n",
        "        FOREIGN KEY(card_id) REFERENCES credit_card (card_id)\n",
        "    )\n",
        "    \"\"\",\n",
        "\n",
        "    \"\"\"\n",
        "    CREATE TABLE reward (\n",
        "        reward_id INTEGER,\n",
        "        transaction_id INTEGER,\n",
        "        points_earned INTEGER,\n",
        "        points_redeemed INTEGER,\n",
        "        current_balance INTEGER,\n",
        "        PRIMARY KEY (reward_id),\n",
        "        FOREIGN KEY(transaction_id) REFERENCES transactions (transaction_id)\n",
        "    )\n",
        "    \"\"\"\n",
        "]\n",
        "\n",
        "\n",
        "# Execute each CREATE TABLE statement\n",
        "for statement in create_table_statements:\n",
        "    cursor.execute(statement)\n",
        "\n",
        "conn.commit()"
      ],
      "metadata": {
        "id": "I3g5PXi36KxL"
      },
      "execution_count": null,
      "outputs": [],
      "id": "I3g5PXi36KxL"
    },
    {
      "cell_type": "code",
      "source": [
        "import pandas as pd\n",
        "\n",
        "# Function to load data from CSV to a table\n",
        "def load_csv_to_table(csv_file_path, table_name):\n",
        "    data = pd.read_csv(csv_file_path)\n",
        "    for i, row in data.iterrows():\n",
        "        insert_query = \"INSERT INTO {} VALUES %s\".format(table_name)\n",
        "        cursor.execute(insert_query, (tuple(row),))"
      ],
      "metadata": {
        "id": "_cX6NIBf-whM"
      },
      "execution_count": null,
      "outputs": [],
      "id": "_cX6NIBf-whM"
    },
    {
      "cell_type": "code",
      "source": [
        "!git clone https://github.com/loni9164/text_sql.git"
      ],
      "metadata": {
        "id": "_qTV5DSjL93J"
      },
      "id": "_qTV5DSjL93J",
      "execution_count": null,
      "outputs": []
    },
    {
      "cell_type": "code",
      "source": [
        "# Load data from CSV files in the correct order\n",
        "load_csv_to_table('text_sql/csv_files/branch.csv', 'branch')\n",
        "load_csv_to_table('text_sql/csv_files/category.csv', 'category')\n",
        "load_csv_to_table('text_sql/csv_files/users.csv', 'users')\n",
        "load_csv_to_table('text_sql/csv_files/credit_card.csv', 'credit_card')\n",
        "load_csv_to_table('text_sql/csv_files/transactions.csv', 'transactions')\n",
        "load_csv_to_table('text_sql/csv_files/credit_card_financial.csv', 'credit_card_financial')\n",
        "load_csv_to_table('text_sql/csv_files/reward.csv', 'reward')\n",
        "\n",
        "conn.commit()"
      ],
      "metadata": {
        "id": "iBwRZzb__Z7E"
      },
      "execution_count": null,
      "outputs": [],
      "id": "iBwRZzb__Z7E"
    },
    {
      "cell_type": "markdown",
      "source": [
        "# DB connection"
      ],
      "metadata": {
        "id": "A146xBQd2wuU"
      },
      "id": "A146xBQd2wuU"
    },
    {
      "cell_type": "code",
      "source": [
        "# Connecting to the new database\n",
        "conn = psycopg2.connect(\n",
        "    host=\"localhost\",\n",
        "    user=\"postgres\",\n",
        "    password=\"12345\",\n",
        "    dbname=\"credit_card_system\"\n",
        ")"
      ],
      "metadata": {
        "id": "lW-9P3w1fQCW"
      },
      "id": "lW-9P3w1fQCW",
      "execution_count": 5,
      "outputs": []
    },
    {
      "cell_type": "code",
      "source": [
        "def query_db(query):\n",
        "  cursor = conn.cursor()\n",
        "  cursor.execute(\"ROLLBACK\")\n",
        "  cursor.execute(query)\n",
        "  return cursor.fetchall()\n",
        "\n",
        "query_db('SELECT user_id FROM users LIMIT 5;')"
      ],
      "metadata": {
        "id": "d7F4W7e4arQ7",
        "outputId": "ef1ff561-7057-4882-fea3-6f46d05b7fbf",
        "colab": {
          "base_uri": "https://localhost:8080/"
        }
      },
      "id": "d7F4W7e4arQ7",
      "execution_count": 6,
      "outputs": [
        {
          "output_type": "execute_result",
          "data": {
            "text/plain": [
              "[(1,), (2,), (3,), (4,), (5,)]"
            ]
          },
          "metadata": {},
          "execution_count": 6
        }
      ]
    },
    {
      "cell_type": "code",
      "source": [
        "db_user = \"postgres\"\n",
        "db_password = \"12345\"\n",
        "db_host = \"localhost\"\n",
        "db_name = \"credit_card_system\"\n",
        "\n",
        "cursor = conn.cursor()\n",
        "\n",
        "connection_string = f\"postgresql://{db_user}:{db_password}@{db_host}/{db_name}\"\n",
        "db = SQLDatabase.from_uri(connection_string)\n",
        "table_info = db.table_info\n",
        "# print(table_info)"
      ],
      "metadata": {
        "id": "b3e83oZxFXmi"
      },
      "id": "b3e83oZxFXmi",
      "execution_count": 7,
      "outputs": []
    },
    {
      "cell_type": "markdown",
      "source": [
        "# Load model"
      ],
      "metadata": {
        "id": "QONkZ3KV6E7Y"
      },
      "id": "QONkZ3KV6E7Y"
    },
    {
      "cell_type": "code",
      "source": [
        "from transformers import AutoModelForCausalLM, AutoTokenizer, pipeline\n",
        "\n",
        "model_name_or_path = \"TheBloke/sqlcoder2-GPTQ\"\n",
        "# To use a different branch, change revision\n",
        "# For example: revision=\"gptq-4bit-128g-actorder_True\"\n",
        "model = AutoModelForCausalLM.from_pretrained(model_name_or_path,\n",
        "                                             device_map=\"auto\",\n",
        "                                             trust_remote_code=False,\n",
        "                                             revision=\"main\")"
      ],
      "metadata": {
        "id": "GqqCL_bIfhMY"
      },
      "execution_count": 8,
      "outputs": [],
      "id": "GqqCL_bIfhMY"
    },
    {
      "cell_type": "code",
      "source": [
        "from auto_gptq import exllama_set_max_input_length\n",
        "model = exllama_set_max_input_length(model, max_input_length=3000)\n",
        "tokenizer = AutoTokenizer.from_pretrained(model_name_or_path, use_fast=True)"
      ],
      "metadata": {
        "id": "bLqtVomqRXbU"
      },
      "execution_count": 9,
      "outputs": [],
      "id": "bLqtVomqRXbU"
    },
    {
      "cell_type": "code",
      "source": [
        "from transformers import GenerationConfig\n",
        "generation_config = GenerationConfig(\n",
        "    # max_length=1000,  # Adjust as needed\n",
        "    max_new_tokens=512,\n",
        "    do_sample=True,\n",
        "    temperature=0.1,\n",
        "    top_p=0.95,\n",
        "    top_k=40,\n",
        "    repetition_penalty=1.1\n",
        ")"
      ],
      "metadata": {
        "id": "-IHREd-JhWMs"
      },
      "id": "-IHREd-JhWMs",
      "execution_count": 10,
      "outputs": []
    },
    {
      "cell_type": "code",
      "source": [
        "# print(\"\\n\\n*** Generate:\")\n",
        "\n",
        "\n",
        "\n",
        "# Inference can also be done using transformers' pipeline\n",
        "\n",
        "# print(\"*** Pipeline:\")\n",
        "# pipe = pipeline(\n",
        "#     \"text-generation\",\n",
        "#     model=model,\n",
        "#     tokenizer=tokenizer,\n",
        "#     generation_config=generation_config\n",
        "# )\n",
        "\n",
        "\n",
        "# print(pipe(prompt_template)[0]['generated_text'])"
      ],
      "metadata": {
        "id": "ET4yt8B2grMH"
      },
      "execution_count": 11,
      "outputs": [],
      "id": "ET4yt8B2grMH"
    },
    {
      "cell_type": "code",
      "source": [
        "# print(\"\\n\\n*** Generate:\")\n",
        "\n",
        "# input_ids = tokenizer(prompt_template, return_tensors='pt').input_ids.cuda()\n",
        "# output = model.generate(inputs=input_ids, temperature=0, do_sample=True, top_p=0.95, top_k=40, max_new_tokens=512)\n",
        "# print(tokenizer.decode(output[0]))\n",
        "\n",
        "# Inference can also be done using transformers' pipeline\n",
        "\n",
        "# print(\"*** Pipeline:\")\n",
        "pipe = pipeline(\n",
        "    \"text-generation\",\n",
        "    model=model,\n",
        "    tokenizer=tokenizer,\n",
        "    max_new_tokens=512,\n",
        "    do_sample=True,\n",
        "    temperature=0.1,\n",
        "    top_p=0.95,\n",
        "    top_k=40,\n",
        "    repetition_penalty=1.1\n",
        ")\n",
        "\n",
        "# print(pipe(prompt_template)[0]['generated_text'])"
      ],
      "metadata": {
        "id": "CbG4lMTJ_ggL"
      },
      "id": "CbG4lMTJ_ggL",
      "execution_count": 12,
      "outputs": []
    },
    {
      "cell_type": "code",
      "source": [
        "from langchain.llms import HuggingFacePipeline\n",
        "from langchain import PromptTemplate, LLMChain\n",
        "llm = HuggingFacePipeline(pipeline=pipe)"
      ],
      "metadata": {
        "id": "1ILT2fuxsWSy"
      },
      "id": "1ILT2fuxsWSy",
      "execution_count": 13,
      "outputs": []
    },
    {
      "cell_type": "markdown",
      "metadata": {
        "id": "afe780d9"
      },
      "source": [
        "# Few shot learning\n",
        "\n",
        "We will use few shot learning to fix issues we have seen so far"
      ],
      "id": "afe780d9"
    },
    {
      "cell_type": "markdown",
      "metadata": {
        "id": "30f7b3c9"
      },
      "source": [
        "### Creating Semantic Similarity Based example selector\n",
        "\n",
        "- create embedding on the few_shots\n",
        "- Store the embeddings in Chroma DB\n",
        "- Retrieve the the top most Semantically close example from the vector store"
      ],
      "id": "30f7b3c9"
    },
    {
      "cell_type": "code",
      "source": [
        "from langchain.embeddings import HuggingFaceEmbeddings\n",
        "\n",
        "embeddings = HuggingFaceEmbeddings(model_name='BAAI/bge-large-en-v1.5')"
      ],
      "metadata": {
        "id": "yYbj1KXtF7ZR"
      },
      "id": "yYbj1KXtF7ZR",
      "execution_count": 14,
      "outputs": []
    },
    {
      "cell_type": "code",
      "source": [
        "few_shot_examples = [\n",
        "  {'Question': 'What is the total number of active credit cards?',\n",
        "  'SQLQuery': 'SELECT COUNT(DISTINCT card_id) AS number_of_cards FROM credit_card WHERE expiry_date > CURRENT_DATE;',\n",
        "  'SQLResult': '[(6,)]',\n",
        "  'Answer': 'There are six active credit cards in the system'},\n",
        " {'Question': 'Find the total amount spent on fuel by all users.',\n",
        "  'SQLQuery': \"SELECT SUM(transactions.amount::FLOAT) AS total_amount FROM transactions JOIN category ON transactions.category_id = category.category_id WHERE category.category_name ilike '%fuel%' AND transactions.transaction_status ILIKE '%completed%' AND transactions.transaction_type ILIKE '%Debit%';\",\n",
        "  'SQLResult': '[(4508.70002746582,)]',\n",
        "  'Answer': 'Total amount spent on fuel by all users for completed transactions in ₹4508.70'},\n",
        " {'Question': 'Find the user with the oldest credit card.',\n",
        "  'SQLQuery': 'SELECT users.user_name FROM users JOIN credit_card ON users.user_id = credit_card.user_id ORDER BY credit_card.expiry_date ASC LIMIT 1;',\n",
        "  'SQLResult': \"[('Gabrielle Anderson',)]\",\n",
        "  'Answer': 'The user with oldest credit card is Gabrielle Anderson'},\n",
        " {'Question': 'How many rewards were earned for transactions above ₹1000?',\n",
        "  'SQLQuery': 'SELECT COUNT(DISTINCT r.reward_id) AS total_rewards FROM transactions t JOIN reward r ON t.transaction_id = r.transaction_id WHERE t.amount > 1000;',\n",
        "  'SQLResult': '[(None,)]',\n",
        "  'Answer': 'There were no rewards earned for transactions above ₹1000'},\n",
        " {'Question': 'List the top 3 users by total transaction amount.',\n",
        "  'SQLQuery': 'SELECT u.user_name, SUM(t.amount) AS total_amount FROM users u JOIN credit_card c ON u.user_id = c.user_id JOIN transactions t ON c.card_id = t.card_id GROUP BY u.user_name ORDER BY total_amount DESC NULLS LAST LIMIT 3;',\n",
        "  'SQLResult': \"[('Gabrielle Anderson', 128059.26), ('Michael Baldwin', 121319.25)]\",\n",
        "  'Answer': 'Top 3 users by total transaction amount are Gabrielle Anderson (with ₹128059.26) and Michael Baldwin (With ₹121319.25).'},\n",
        "  {'Question': 'List all the cards going to expire by sep 2026',\n",
        "  'SQLQuery': \"SELECT * FROM credit_card WHERE expiry_date <= '2026-09-30';\",\n",
        "  'SQLResult': '''\n",
        "  [('53600000000000000', datetime.date(2029, 4, 30)),\n",
        "   ('22900000000000000', datetime.date(2031, 5, 31)),\n",
        "   ('40900000000006', datetime.date(2033, 3, 31))]\n",
        "   ''',\n",
        "  'Answer': 'Card ids which are going to expire by sep 2026 are 1, 3 and 5'},\n",
        " {'Question': 'what is the total amount spent by user 2 for food and groceries?',\n",
        "  'SQLQuery': \"SELECT SUM(transactions.amount::FLOAT) AS total_amount FROM transactions JOIN category ON transactions.category_id = category.category_id JOIN credit_card ON transactions.card_id = credit_card.card_id JOIN users ON credit_card.user_id = users.user_id WHERE category.category_name ILIKE '%food%and%groceries%' AND users.user_id = 2 AND transactions.transaction_status ILIKE '%Completed%' AND transactions.transaction_type ILIKE '%debit%';\",\n",
        "  'SQLResult': [(1634.1600036621094,)],\n",
        "  'Answer': \"Total amount spent by user 2 for food and groceries is ₹1634.16\"},\n",
        " {'Question': 'How many unique users do we have in transactions',\n",
        "  'SQLQuery': 'SELECT COUNT(DISTINCT user_id) FROM credit_card WHERE card_id IN (SELECT card_id FROM transactions);',\n",
        "  'SQLResult': [(2,)],\n",
        "  'Answer': 'There are two users in transactions'},\n",
        " {'Question': 'What is the total amount lended to the user 1',\n",
        "  'SQLQuery': \"SELECT SUM(loan_amount) AS total_amount_lended FROM credit_card_financial WHERE card_id IN (SELECT card_id FROM credit_card WHERE user_id = 1);\",\n",
        "  'SQLResult': [(27493.361,)],\n",
        "  'Answer': 'Total amount lended to the user1 is ₹27493.36'},\n",
        " {'Question': 'Total reward points earned by user2',\n",
        "  'SQLQuery': \"SELECT SUM(points_earned) AS reward_earned FROM reward WHERE transaction_id IN (SELECT transaction_id FROM transactions WHERE card_id IN (SELECT card_id FROM credit_card WHERE user_id=2));\",\n",
        "  'SQLResult': [(24340,)],\n",
        "  'Answer': 'Total reward points earned by user2 is ₹24340'},\n",
        " {'Question': 'List all branches established after 2010.',\n",
        "  'SQLQuery': 'SELECT * FROM branch WHERE EXTRACT(YEAR FROM established_date) > 2010;',\n",
        "  'SQLResult': '''[(5,\n",
        "  'Branch 5',\n",
        "  '31651 Scott Ranch, East Sydney, HI 99471',\n",
        "  '-9482',\n",
        "  'Hailey Newton',\n",
        "  'lorialexander@stevenson.org',\n",
        "  datetime.date(2012, 3, 2),\n",
        "  16)]''',\n",
        "  'Answer': 'Branch established after 2010 is branch id 5'},\n",
        " {'Question': 'List the user names and total reward points earned by each user.',\n",
        "  'SQLQuery': 'SELECT u.user_name, SUM(r.points_earned) AS total_points_earned FROM users u JOIN credit_card cc ON u.user_id = cc.user_id JOIN transactions t ON cc.card_id = t.card_id JOIN reward r ON t.transaction_id = r.transaction_id GROUP BY u.user_id, u.user_name;',\n",
        "  'SQLResult': [('Michael Baldwin', 24340), ('Gabrielle Anderson', 26762)],\n",
        "  'Answer': 'Rewared earned by Michael Baldwin and Gabrielle Andersoand are ₹24340 and ₹26762 respectively.'},\n",
        " {'Question': 'Find the average balance of credit cards issued by Branch 2.',\n",
        "  'SQLQuery': \"SELECT AVG(cc.current_balance::FLOAT) AS avg_balance FROM credit_card cc JOIN users u ON cc.user_id = u.user_id JOIN branch b ON u.branch_id = b.branch_id WHERE b.branch_name ILIKE '%branch%2%';\",\n",
        "  'SQLResult': [(1770.747817993164,)],\n",
        "  'Answer': 'Average balance of credit cards issued by Branch 2 is ₹1770.74'},\n",
        " {'Question': 'List all users who have a credit card expiring in 2024.',\n",
        "  'SQLQuery': \"SELECT DISTINCT u.user_name FROM users u JOIN credit_card cc ON u.user_id = cc.user_id WHERE EXTRACT(YEAR FROM cc.expiry_date) = 2024;\",\n",
        "  'SQLResult': [('Gabrielle Anderson',)],\n",
        "  'Answer': \"Gabrielle Anderson's credit card is expiring in 2024\"},\n",
        " {'Question': \"Find the total amount spent in 'Movies and Entertainment' category by User 1.\",\n",
        "  'SQLQuery': \"SELECT SUM(transactions.amount::FLOAT) AS total_amount FROM transactions JOIN category ON transactions.category_id = category.category_id JOIN credit_card ON transactions.card_id = credit_card.card_id JOIN users ON credit_card.user_id = users.user_id WHERE category.category_name ILIKE '%movies%and%entertainment%' AND users.user_id = 1 AND transactions.transaction_status ILIKE '%Completed%' AND transactions.transaction_type ILIKE '%debit%' ;\",\n",
        "  'SQLResult': [(1664.789981842041,)],\n",
        "  'Answer': \"Total amount spent in 'Movies and Entertainment' category by User1 is ₹1664.78\"},\n",
        " {'Question': 'What is the total loan amount issued to users of Branch 3?',\n",
        "  'SQLQuery': \"SELECT SUM(ccfi.loan_amount::FLOAT) AS total_loan_amount FROM branch b JOIN users u ON CAST(b.branch_id AS integer) = u.branch_id JOIN credit_card cc ON CAST(u.user_id AS integer) = cc.user_id JOIN credit_card_financial ccfi ON cc.card_id = ccfi.card_id WHERE b.branch_id::TEXT ilike '%2';\",\n",
        "  'SQLResult': [(20251.509757995605,)],\n",
        "  'Answer': 'Total loan amount issued to users from branch2 is ₹20251.50'},\n",
        " {'Question': 'What is the total amount of all transactions completed in the last month?',\n",
        "  'SQLQuery': \"SELECT SUM(amount) AS total_amount_last_month FROM transactions WHERE transaction_date > CURRENT_DATE - INTERVAL '1 month';\",\n",
        "  'SQLResult': [(20251.512,)],\n",
        "  'Answer': 'Total amount of all the transactions completed in the last month is ₹20251.51'}]"
      ],
      "metadata": {
        "id": "8km_aF7UGZgM"
      },
      "id": "8km_aF7UGZgM",
      "execution_count": 15,
      "outputs": []
    },
    {
      "cell_type": "code",
      "source": [
        "len(few_shot_examples)"
      ],
      "metadata": {
        "id": "SFYEGsQyFvHy",
        "outputId": "5b2c80d3-463c-4c88-c22d-d86169ff06e7",
        "colab": {
          "base_uri": "https://localhost:8080/"
        }
      },
      "id": "SFYEGsQyFvHy",
      "execution_count": 16,
      "outputs": [
        {
          "output_type": "execute_result",
          "data": {
            "text/plain": [
              "17"
            ]
          },
          "metadata": {},
          "execution_count": 16
        }
      ]
    },
    {
      "cell_type": "code",
      "source": [
        "updated_few_shot_examples = []\n",
        "for example in few_shot_examples:\n",
        "  if not isinstance(example['SQLResult'], str):\n",
        "    example['SQLResult'] = str(example['SQLResult'])\n",
        "  else:\n",
        "    example['SQLResult'] = example['SQLResult']\n",
        "  updated_few_shot_examples.append(example)\n",
        "\n",
        "# updated_few_shot_examples"
      ],
      "metadata": {
        "id": "oyEcedlbF1DS"
      },
      "id": "oyEcedlbF1DS",
      "execution_count": 17,
      "outputs": []
    },
    {
      "cell_type": "code",
      "source": [
        "len(updated_few_shot_examples)"
      ],
      "metadata": {
        "id": "PTX6VCboIDCZ",
        "outputId": "89258915-1ef5-4d84-86b8-0d35a8b2cd97",
        "colab": {
          "base_uri": "https://localhost:8080/"
        }
      },
      "id": "PTX6VCboIDCZ",
      "execution_count": 18,
      "outputs": [
        {
          "output_type": "execute_result",
          "data": {
            "text/plain": [
              "17"
            ]
          },
          "metadata": {},
          "execution_count": 18
        }
      ]
    },
    {
      "cell_type": "code",
      "source": [
        "to_vectorize = [\" \".join(example.values()) for example in few_shot_examples]"
      ],
      "metadata": {
        "id": "ST9PU3ZTLbaD"
      },
      "id": "ST9PU3ZTLbaD",
      "execution_count": 19,
      "outputs": []
    },
    {
      "cell_type": "code",
      "execution_count": 20,
      "metadata": {
        "id": "d806f39b"
      },
      "outputs": [],
      "source": [
        "from langchain.vectorstores import Chroma\n",
        "vectorstore = Chroma.from_texts(to_vectorize, embeddings, metadatas=updated_few_shot_examples)"
      ],
      "id": "d806f39b"
    },
    {
      "cell_type": "code",
      "execution_count": 21,
      "metadata": {
        "id": "f9cc4b0e"
      },
      "outputs": [],
      "source": [
        "from langchain.prompts import SemanticSimilarityExampleSelector\n",
        "\n",
        "example_selector = SemanticSimilarityExampleSelector(\n",
        "    vectorstore=vectorstore,\n",
        "    k=2,\n",
        ")"
      ],
      "id": "f9cc4b0e"
    },
    {
      "cell_type": "code",
      "source": [
        "example_selector.select_examples({\"Question\": \"what is the total spending for user 1\"})"
      ],
      "metadata": {
        "id": "x7nrNHQPgP3P",
        "outputId": "cdce2de4-b1bb-4250-96a3-d5c38c8cd377",
        "colab": {
          "base_uri": "https://localhost:8080/"
        }
      },
      "id": "x7nrNHQPgP3P",
      "execution_count": 22,
      "outputs": [
        {
          "output_type": "execute_result",
          "data": {
            "text/plain": [
              "[{'Answer': 'Total amount spent by user 2 for food and groceries is ₹1634.16',\n",
              "  'Question': 'what is the total amount spent by user 2 for food and groceries?',\n",
              "  'SQLQuery': \"SELECT SUM(transactions.amount::FLOAT) AS total_amount FROM transactions JOIN category ON transactions.category_id = category.category_id JOIN credit_card ON transactions.card_id = credit_card.card_id JOIN users ON credit_card.user_id = users.user_id WHERE category.category_name ILIKE '%food%and%groceries%' AND users.user_id = 2 AND transactions.transaction_status ILIKE '%Completed%' AND transactions.transaction_type ILIKE '%debit%';\",\n",
              "  'SQLResult': '[(1634.1600036621094,)]'},\n",
              " {'Answer': \"Total amount spent in 'Movies and Entertainment' category by User1 is ₹1664.78\",\n",
              "  'Question': \"Find the total amount spent in 'Movies and Entertainment' category by User 1.\",\n",
              "  'SQLQuery': \"SELECT SUM(transactions.amount::FLOAT) AS total_amount FROM transactions JOIN category ON transactions.category_id = category.category_id JOIN credit_card ON transactions.card_id = credit_card.card_id JOIN users ON credit_card.user_id = users.user_id WHERE category.category_name ILIKE '%movies%and%entertainment%' AND users.user_id = 1 AND transactions.transaction_status ILIKE '%Completed%' AND transactions.transaction_type ILIKE '%debit%' ;\",\n",
              "  'SQLResult': '[(1664.789981842041,)]'}]"
            ]
          },
          "metadata": {},
          "execution_count": 22
        }
      ]
    },
    {
      "cell_type": "markdown",
      "metadata": {
        "id": "20224496"
      },
      "source": [
        "### Setting up PromptTemplete using input variables"
      ],
      "id": "20224496"
    },
    {
      "cell_type": "code",
      "execution_count": 25,
      "metadata": {
        "id": "3337e4a0"
      },
      "outputs": [],
      "source": [
        "from langchain.prompts.prompt import PromptTemplate\n",
        "\n",
        "example_prompt = PromptTemplate(\n",
        "    input_variables=[\"Question\", \"SQLQuery\", \"SQLResult\",\"Answer\",],\n",
        "    template=\"\\nQuestion: {Question}\\nSQLQuery: {SQLQuery}\\nSQLResult: {SQLResult}\\nAnswer: {Answer}\",\n",
        ")"
      ],
      "id": "3337e4a0"
    },
    {
      "cell_type": "code",
      "source": [
        "few_shot_prompt = FewShotPromptTemplate(\n",
        "    example_selector=example_selector,\n",
        "    example_prompt=example_prompt,\n",
        "    # prefix= prefix,\n",
        "    suffix=PROMPT_SUFFIX,\n",
        "    input_variables=[\"input\", \"table_info\", \"top_k\"], #These variables are used in the prefix and suffix\n",
        ")\n",
        "\n",
        "db_chain = SQLDatabaseChain.from_llm(llm, db, verbose=True, prompt=few_shot_prompt)\n",
        "db_chain_sql = SQLDatabaseChain.from_llm(llm, db, verbose=True, prompt=few_shot_prompt, return_sql=True)"
      ],
      "metadata": {
        "id": "-znkomDUtKo9"
      },
      "id": "-znkomDUtKo9",
      "execution_count": 26,
      "outputs": []
    },
    {
      "cell_type": "code",
      "source": [
        "db_chain.run(\"Who user is having more spending user1 or user2\")"
      ],
      "metadata": {
        "id": "guP3gv9qLPeZ",
        "outputId": "ab6b0449-a0ce-4efa-839d-de35fd8a1998",
        "colab": {
          "base_uri": "https://localhost:8080/",
          "height": 194
        }
      },
      "id": "guP3gv9qLPeZ",
      "execution_count": 29,
      "outputs": [
        {
          "output_type": "stream",
          "name": "stdout",
          "text": [
            "\n",
            "\n",
            "\u001b[1m> Entering new SQLDatabaseChain chain...\u001b[0m\n",
            "Who user is having more spending user1 or user2\n",
            "SQLQuery:\u001b[32;1m\u001b[1;3mSELECT users.user_id, SUM(transactions.amount::FLOAT) AS total_amount FROM transactions JOIN category ON transactions.category_id = category.category_id JOIN credit_card ON transactions.card_id = credit_card.card_id JOIN users ON credit_card.user_id = users.user_id GROUP BY users.user_id ORDER BY total_amount DESC LIMIT 1;\u001b[0m\n",
            "SQLResult: \u001b[33;1m\u001b[1;3m[(1, 128059.25991678238)]\u001b[0m\n",
            "Answer:\u001b[32;1m\u001b[1;3mUser whose has maximum spend is Gabrielle Anderson with ₹128059.25\u001b[0m\n",
            "\u001b[1m> Finished chain.\u001b[0m\n"
          ]
        },
        {
          "output_type": "execute_result",
          "data": {
            "text/plain": [
              "'User whose has maximum spend is Gabrielle Anderson with ₹128059.25'"
            ],
            "application/vnd.google.colaboratory.intrinsic+json": {
              "type": "string"
            }
          },
          "metadata": {},
          "execution_count": 29
        }
      ]
    },
    {
      "cell_type": "markdown",
      "metadata": {
        "id": "q0OIHBqR3dOF"
      },
      "source": [
        "# Test"
      ],
      "id": "q0OIHBqR3dOF"
    },
    {
      "cell_type": "code",
      "source": [
        "with open('text_sql/few_shot_examples', 'rb') as f:\n",
        "  examples = pickle.load(f)\n",
        "\n",
        "examples[0]"
      ],
      "metadata": {
        "id": "OerFKt-lQlhz",
        "outputId": "4ef8d3e2-836c-4d1b-b7f3-3121cc0dbd36",
        "colab": {
          "base_uri": "https://localhost:8080/"
        }
      },
      "id": "OerFKt-lQlhz",
      "execution_count": 23,
      "outputs": [
        {
          "output_type": "execute_result",
          "data": {
            "text/plain": [
              "{'Question': 'List all the cards going to expire by sep 2026',\n",
              " 'SQLQuery': \"SELECT CardNumber FROM credit_card WHERE ExpiryDate <= '2026-09-30';\",\n",
              " 'SQLResult': [('5040000000001',),\n",
              "  ('35300000000000000',),\n",
              "  ('52300000000000000',)],\n",
              " 'Answer': '5040000000001, 35300000000000000, 52300000000000000'}"
            ]
          },
          "metadata": {},
          "execution_count": 23
        }
      ]
    },
    {
      "cell_type": "code",
      "source": [
        "failed_items = []\n",
        "for i, item in enumerate(examples):\n",
        "    que = item['Question']\n",
        "    print(que)\n",
        "    print('----------------------------------')\n",
        "    print(item['Answer'])\n",
        "    print('----------------------------------')\n",
        "    try:\n",
        "      model_output = db_chain.run(que)\n",
        "    except:\n",
        "      failed_items.append(que)\n",
        "      print('\\nModel failed')\n",
        "\n",
        "    print('**********************************')\n",
        "    print('\\n')"
      ],
      "metadata": {
        "id": "h2JT3k6ji8gR"
      },
      "id": "h2JT3k6ji8gR",
      "execution_count": null,
      "outputs": []
    },
    {
      "cell_type": "code",
      "source": [
        "def sql_agent(query):\n",
        "  try:\n",
        "    return SQLDatabaseChain.from_llm(llm, db, verbose=True, prompt=few_shot_prompt).run(query)\n",
        "  except:\n",
        "    return SQLDatabaseChain.from_llm(llm, db, verbose=True, prompt=few_shot_prompt, return_sql=True).run(query)"
      ],
      "metadata": {
        "id": "RjZ9DIV3_FjU"
      },
      "id": "RjZ9DIV3_FjU",
      "execution_count": 69,
      "outputs": []
    },
    {
      "cell_type": "code",
      "source": [
        "sql_agent(\"what is the category name for category id 5\")"
      ],
      "metadata": {
        "id": "aAjxSrpy_GzE",
        "outputId": "3abd6c5e-54f2-4395-d173-b86c852cf792",
        "colab": {
          "base_uri": "https://localhost:8080/",
          "height": 264
        }
      },
      "id": "aAjxSrpy_GzE",
      "execution_count": 71,
      "outputs": [
        {
          "output_type": "stream",
          "name": "stdout",
          "text": [
            "\n",
            "\n",
            "\u001b[1m> Entering new SQLDatabaseChain chain...\u001b[0m\n",
            "what is the category name for category id 5\n",
            "SQLQuery:"
          ]
        },
        {
          "output_type": "stream",
          "name": "stderr",
          "text": [
            "/usr/local/lib/python3.10/dist-packages/transformers/pipelines/base.py:1101: UserWarning: You seem to be using the pipelines sequentially on GPU. In order to maximize efficiency please use a dataset\n",
            "  warnings.warn(\n"
          ]
        },
        {
          "output_type": "stream",
          "name": "stdout",
          "text": [
            "\u001b[32;1m\u001b[1;3mSELECT category_name FROM category WHERE category_id = 5;\u001b[0m\n",
            "SQLResult: \u001b[33;1m\u001b[1;3m[('Loan',)]\u001b[0m\n",
            "Answer:"
          ]
        },
        {
          "output_type": "stream",
          "name": "stderr",
          "text": [
            "/usr/local/lib/python3.10/dist-packages/transformers/pipelines/base.py:1101: UserWarning: You seem to be using the pipelines sequentially on GPU. In order to maximize efficiency please use a dataset\n",
            "  warnings.warn(\n"
          ]
        },
        {
          "output_type": "stream",
          "name": "stdout",
          "text": [
            "\u001b[32;1m\u001b[1;3mLoan\u001b[0m\n",
            "\u001b[1m> Finished chain.\u001b[0m\n"
          ]
        },
        {
          "output_type": "execute_result",
          "data": {
            "text/plain": [
              "'Loan'"
            ],
            "application/vnd.google.colaboratory.intrinsic+json": {
              "type": "string"
            }
          },
          "metadata": {},
          "execution_count": 71
        }
      ]
    },
    {
      "cell_type": "markdown",
      "source": [
        "# UI"
      ],
      "metadata": {
        "id": "CH2xjIpd_vtT"
      },
      "id": "CH2xjIpd_vtT"
    },
    {
      "cell_type": "code",
      "source": [
        "import gradio as gr\n",
        "import random\n",
        "import time\n",
        "\n",
        "with gr.Blocks() as demo:\n",
        "    gr.Markdown(\"Text to SQL agent\")\n",
        "    chatbot = gr.Chatbot(bubble_full_width=False, label=\"Conversations\", show_copy_button=True, layout=\"bubble\")\n",
        "    msg = gr.Textbox()\n",
        "    clear = gr.ClearButton([msg, chatbot])\n",
        "\n",
        "    def respond(message, chat_history):\n",
        "        bot_message = sql_agent(message)\n",
        "        chat_history.append((message, bot_message))\n",
        "        return \"\", chat_history\n",
        "\n",
        "    msg.submit(respond, [msg, chatbot], [msg, chatbot])\n",
        "\n",
        "if __name__ == \"__main__\":\n",
        "    demo.launch()"
      ],
      "metadata": {
        "id": "Xy0GzIYy_u2U",
        "outputId": "0ec4bda3-84a5-40ca-ea6c-4a38482ce56a",
        "colab": {
          "base_uri": "https://localhost:8080/",
          "height": 626
        }
      },
      "id": "Xy0GzIYy_u2U",
      "execution_count": 73,
      "outputs": [
        {
          "output_type": "stream",
          "name": "stdout",
          "text": [
            "Setting queue=True in a Colab notebook requires sharing enabled. Setting `share=True` (you can turn this off by setting `share=False` in `launch()` explicitly).\n",
            "\n",
            "Colab notebook detected. To show errors in colab notebook, set debug=True in launch()\n",
            "Running on public URL: https://92922023231a833a12.gradio.live\n",
            "\n",
            "This share link expires in 72 hours. For free permanent hosting and GPU upgrades, run `gradio deploy` from Terminal to deploy to Spaces (https://huggingface.co/spaces)\n"
          ]
        },
        {
          "output_type": "display_data",
          "data": {
            "text/plain": [
              "<IPython.core.display.HTML object>"
            ],
            "text/html": [
              "<div><iframe src=\"https://92922023231a833a12.gradio.live\" width=\"100%\" height=\"500\" allow=\"autoplay; camera; microphone; clipboard-read; clipboard-write;\" frameborder=\"0\" allowfullscreen></iframe></div>"
            ]
          },
          "metadata": {}
        }
      ]
    }
  ],
  "metadata": {
    "colab": {
      "collapsed_sections": [
        "F5uh6_AqWPNq"
      ],
      "provenance": [],
      "gpuType": "A100",
      "machine_shape": "hm",
      "include_colab_link": true
    },
    "kernelspec": {
      "display_name": "Python 3",
      "name": "python3"
    },
    "language_info": {
      "codemirror_mode": {
        "name": "ipython",
        "version": 3
      },
      "file_extension": ".py",
      "mimetype": "text/x-python",
      "name": "python",
      "nbconvert_exporter": "python",
      "pygments_lexer": "ipython3",
      "version": "3.10.11"
    },
    "accelerator": "GPU"
  },
  "nbformat": 4,
  "nbformat_minor": 5
}